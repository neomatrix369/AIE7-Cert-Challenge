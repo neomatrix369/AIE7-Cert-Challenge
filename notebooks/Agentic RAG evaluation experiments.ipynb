{
 "cells": [
  {
   "cell_type": "markdown",
   "metadata": {
    "id": "3_fLDElOVoop"
   },
   "source": [
    "## Task 1:  Dependencies\n"
   ]
  },
  {
   "cell_type": "code",
   "execution_count": 1,
   "metadata": {},
   "outputs": [],
   "source": [
    "import warnings\n",
    "warnings.filterwarnings('ignore')"
   ]
  },
  {
   "cell_type": "code",
   "execution_count": 2,
   "metadata": {},
   "outputs": [
    {
     "data": {
      "text/plain": [
       "True"
      ]
     },
     "execution_count": 2,
     "metadata": {},
     "output_type": "execute_result"
    }
   ],
   "source": [
    "from dotenv import load_dotenv\n",
    "\n",
    "load_dotenv(dotenv_path=\"../.env\")"
   ]
  },
  {
   "cell_type": "code",
   "execution_count": 23,
   "metadata": {},
   "outputs": [],
   "source": [
    "import os\n",
    "import sys\n",
    "import getpass\n",
    "import pandas as pd\n",
    "import copy\n",
    "import time\n",
    "\n",
    "# Add the project root to Python path so we can import from src\n",
    "project_root = os.path.abspath(os.path.join(os.getcwd(), '..'))\n",
    "if project_root not in sys.path:\n",
    "    sys.path.insert(0, project_root)\n",
    "\n",
    "from src.core.core_functions import check_if_env_var_is_set"
   ]
  },
  {
   "cell_type": "code",
   "execution_count": 4,
   "metadata": {
    "colab": {
     "base_uri": "https://localhost:8080/"
    },
    "id": "Jdh8CoVWHRvs",
    "outputId": "3fa78560-393c-4ee5-b871-9886bf0d70f4"
   },
   "outputs": [
    {
     "name": "stderr",
     "output_type": "stream",
     "text": [
      "2025-08-04 23:21:47,965 - src.core.core_functions - INFO - 🔑 OPENAI_API_KEY is present\n",
      "2025-08-04 23:21:47,970 - src.core.core_functions - INFO - 🔑 COHERE_API_KEY is present\n",
      "2025-08-04 23:21:47,977 - src.core.core_functions - INFO - 🔑 TAVILY_API_KEY is present\n"
     ]
    }
   ],
   "source": [
    "check_if_env_var_is_set(\"OPENAI_API_KEY\", \"OpenAI API key\")\n",
    "check_if_env_var_is_set(\"COHERE_API_KEY\", \"Cohere API key\")\n",
    "check_if_env_var_is_set(\"TAVILY_API_KEY\", \"TAVILY API key\")"
   ]
  },
  {
   "cell_type": "code",
   "execution_count": 5,
   "metadata": {},
   "outputs": [],
   "source": [
    "import importlib"
   ]
  },
  {
   "cell_type": "code",
   "execution_count": 6,
   "metadata": {
    "scrolled": true
   },
   "outputs": [
    {
     "name": "stderr",
     "output_type": "stream",
     "text": [
      "2025-08-04 23:21:48,040 - src.core.core_functions - INFO - 🔑 OPENAI_API_KEY is present\n",
      "2025-08-04 23:21:48,045 - src.core.core_functions - INFO - 🔑 COHERE_API_KEY is present\n",
      "/home/AIE7-Cert-Challenge/src/agents/build_graph_agent.py:23: LangChainDeprecationWarning: The class `TavilySearchResults` was deprecated in LangChain 0.3.25 and will be removed in 1.0. An updated version of the class exists in the :class:`~langchain-tavily package and should be used instead. To use it run `pip install -U :class:`~langchain-tavily` and import as `from :class:`~langchain_tavily import TavilySearch``.\n",
      "  tavily_tool = TavilySearchResults(max_results=5)\n"
     ]
    }
   ],
   "source": [
    "import src.core.core_functions\n",
    "importlib.reload(src.core.core_functions)\n",
    "\n",
    "import src.evaluation.evaluation_helpers\n",
    "importlib.reload(src.evaluation.evaluation_helpers)\n",
    "\n",
    "from src.core.core_functions import load_and_prepare_pdf_loan_docs, load_and_prepare_csv_loan_docs\n",
    "from src.evaluation.evaluation_helpers import generate_golden_master\n",
    "from src.agents.build_graph_agent import get_graph_agent"
   ]
  },
  {
   "cell_type": "code",
   "execution_count": 7,
   "metadata": {},
   "outputs": [],
   "source": [
    "import src.evaluation.ragas_metrics\n",
    "importlib.reload(src.evaluation.ragas_metrics)\n",
    "from src.evaluation.ragas_metrics import extract_ragas_metrics"
   ]
  },
  {
   "cell_type": "markdown",
   "metadata": {
    "id": "wujPjGJuoPwg"
   },
   "source": [
    "## Task 2: Environment Variables\n",
    "\n",
    "We'll want to set both our OpenAI API key and our LangSmith environment variables."
   ]
  },
  {
   "cell_type": "code",
   "execution_count": 8,
   "metadata": {
    "colab": {
     "base_uri": "https://localhost:8080/"
    },
    "id": "Nv0glIDyHmRt",
    "outputId": "b69df90a-b4e1-4ddb-9de0-882d98b68ab2"
   },
   "outputs": [
    {
     "name": "stderr",
     "output_type": "stream",
     "text": [
      "2025-08-04 23:22:11,476 - src.core.core_functions - INFO - 🔑 LANGCHAIN_API_KEY is present\n"
     ]
    }
   ],
   "source": [
    "from uuid import uuid4\n",
    "\n",
    "os.environ[\"LANGCHAIN_TRACING_V2\"] = \"true\"\n",
    "os.environ[\"LANGCHAIN_PROJECT\"] = f\"AIE7 - Certification Challenge\"\n",
    "check_if_env_var_is_set(\"LANGCHAIN_API_KEY\", \"LangSmith API Key\")\n",
    "os.environ['DATA_FOLDER'] = '../data'"
   ]
  },
  {
   "cell_type": "code",
   "execution_count": 12,
   "metadata": {},
   "outputs": [
    {
     "name": "stderr",
     "output_type": "stream",
     "text": [
      "2025-08-04 23:24:26,070 - src.core.core_functions - INFO - 🔑 OPENAI_API_KEY is present\n",
      "2025-08-04 23:24:26,072 - src.core.core_functions - INFO - 🔑 COHERE_API_KEY is present\n",
      "2025-08-04 23:24:26,119 - src.core.graph_rag_functions - INFO - 🗄️ Joblib cache location: /app/cache\n",
      "2025-08-04 23:24:26,158 - src.core.graph_rag_functions - INFO - 📚 Starting to load student loan hybrid dataset\n",
      "2025-08-04 23:24:26,159 - src.core.core_functions - INFO - 📁 Current working directory: /home/AIE7-Cert-Challenge/notebooks\n",
      "2025-08-04 23:24:26,161 - src.core.core_functions - INFO - 📄 Loading student loan PDFs from: ../data\n"
     ]
    },
    {
     "name": "stdout",
     "output_type": "stream",
     "text": [
      "________________________________________________________________________________\n",
      "[Memory] Calling src.core.graph_rag_functions.get_vectorstore_after_loading_students_loan_data_into_qdrant...\n",
      "get_vectorstore_after_loading_students_loan_data_into_qdrant()\n"
     ]
    },
    {
     "name": "stderr",
     "output_type": "stream",
     "text": [
      "2025-08-04 23:24:27,423 - src.core.core_functions - INFO - ✅ Loaded 269 PDF documents\n",
      "2025-08-04 23:24:27,425 - src.core.core_functions - INFO - 📁 Current working directory: /home/AIE7-Cert-Challenge/notebooks\n",
      "2025-08-04 23:24:27,428 - src.core.core_functions - INFO - 📊 Loading student loan complaints from: ../data/complaints.csv\n",
      "2025-08-04 23:24:27,800 - src.core.core_functions - INFO - 📋 Original complaint documents count: 825\n",
      "2025-08-04 23:24:27,805 - src.core.core_functions - INFO - ✅ Filtered complaint documents count: 480\n",
      "2025-08-04 23:24:28,055 - src.core.graph_rag_functions - INFO - 📊 Total hybrid dataset documents: 749 (PDFs: 269, Complaints: 480)\n",
      "2025-08-04 23:24:28,056 - src.core.graph_rag_functions - INFO - ✅ Finished loading student loan hybrid dataset\n",
      "2025-08-04 23:24:28,201 - src.core.graph_rag_functions - INFO - text_splitter: <langchain_text_splitters.character.RecursiveCharacterTextSplitter object at 0x7f145c2e4a50>\n",
      "2025-08-04 23:24:28,202 - src.core.graph_rag_functions - INFO - 📄 Split hybrid dataset into 2172 chunks (size=750, overlap=100)\n",
      "2025-08-04 23:24:28,204 - src.core.graph_rag_functions - INFO - 🗃️ Starting Qdrant in-memory database\n",
      "2025-08-04 23:24:28,229 - src.core.graph_rag_functions - INFO - 📦 Creating Qdrant collection 'loan_data'\n",
      "2025-08-04 23:26:39,390 - src.core.graph_rag_functions - INFO - ⬆️ Adding 2172 documents to Qdrant collection\n",
      "2025-08-04 23:27:17,214 - src.core.graph_rag_functions - INFO - ✅ Qdrant vector store ready with hybrid dataset\n",
      "2025-08-04 23:27:18,289 - src.core.graph_rag_functions - INFO - child_splitter: <langchain_text_splitters.character.RecursiveCharacterTextSplitter object at 0x7f144e48e060>\n"
     ]
    },
    {
     "name": "stdout",
     "output_type": "stream",
     "text": [
      "___get_vectorstore_after_loading_students_loan_data_into_qdrant - 172.1s, 2.9min\n"
     ]
    },
    {
     "name": "stderr",
     "output_type": "stream",
     "text": [
      "/home/AIE7-Cert-Challenge/src/core/graph_rag_functions.py:257: LangChainDeprecationWarning: The class `Qdrant` was deprecated in LangChain 0.0.37 and will be removed in 1.0. An updated version of the class exists in the :class:`~langchain-qdrant package and should be used instead. To use it run `pip install -U :class:`~langchain-qdrant` and import as `from :class:`~langchain_qdrant import Qdrant``.\n",
      "  parent_document_vectorstore = Qdrant(\n"
     ]
    }
   ],
   "source": [
    "import src.core.core_functions\n",
    "importlib.reload(src.core.core_functions)\n",
    "\n",
    "import src.agents.build_graph_agent\n",
    "importlib.reload(src.agents.build_graph_agent)\n",
    "\n",
    "import src.agents.llm_tools_for_toolbelt\n",
    "importlib.reload(src.agents.llm_tools_for_toolbelt)\n",
    "\n",
    "from src.agents.build_graph_agent import get_graph_agent\n",
    "from src.agents.llm_tools_for_toolbelt import ask_naive_llm_tool, ask_contextual_compression_llm_tool, ask_multi_query_llm_tool, ask_parent_document_llm_tool"
   ]
  },
  {
   "cell_type": "code",
   "execution_count": null,
   "metadata": {},
   "outputs": [],
   "source": [
    "naive_graph_agent = get_graph_agent([ask_naive_llm_tool])"
   ]
  },
  {
   "cell_type": "code",
   "execution_count": null,
   "metadata": {},
   "outputs": [],
   "source": [
    "import src.evaluation.tool_calls_parser_for_eval\n",
    "importlib.reload(src.evaluation.tool_calls_parser_for_eval)\n",
    "from src.evaluation.tool_calls_parser_for_eval import parse_logs, print_formatted_results, extract_contexts_for_eval, parse_langchain_messages"
   ]
  },
  {
   "cell_type": "code",
   "execution_count": 15,
   "metadata": {
    "colab": {
     "base_uri": "https://localhost:8080/"
    },
    "id": "Qn4n37PQRPII",
    "outputId": "5eeedfae-089d-496e-e71f-071939fa5832",
    "scrolled": true
   },
   "outputs": [
    {
     "name": "stderr",
     "output_type": "stream",
     "text": [
      "2025-08-04 21:02:50,870 - src.agents.build_graph_agent - INFO - 🧠 LLM processing 1 messages\n",
      "2025-08-04 21:02:51,874 - src.agents.build_graph_agent - INFO - 📝 LLM generated response with 0 characters\n",
      "2025-08-04 21:02:51,879 - src.agents.build_graph_agent - INFO - 🔧 Agent requesting 1 tool calls\n",
      "2025-08-04 21:02:51,890 - src.agents.llm_tools_for_toolbelt - INFO - 🔍 [Naive Tool] Processing question: What is the issue with Aidvantage in the borrower's complaint?...\n",
      "2025-08-04 21:02:51,896 - src.core.graph_rag_functions - INFO - 🔍 [Naive] Retrieving docs for: What is the issue with Aidvantage in the borrower's complaint?...\n"
     ]
    },
    {
     "name": "stdout",
     "output_type": "stream",
     "text": [
      "Receiving update from node: 'agent'\n",
      "\n",
      "\n",
      "[AIMessage(content='', additional_kwargs={'tool_calls': [{'id': 'call_fAm5GlelsCEALq8Hb6wAwDAk', 'function': {'arguments': '{\"question\":\"What is the issue with Aidvantage in the borrower\\'s complaint?\"}', 'name': 'ask_naive_llm_tool'}, 'type': 'function'}], 'refusal': None}, response_metadata={'token_usage': {'completion_tokens': 31, 'prompt_tokens': 454, 'total_tokens': 485, 'completion_tokens_details': {'accepted_prediction_tokens': 0, 'audio_tokens': 0, 'reasoning_tokens': 0, 'rejected_prediction_tokens': 0}, 'prompt_tokens_details': {'audio_tokens': 0, 'cached_tokens': 0}}, 'model_name': 'gpt-4.1-nano-2025-04-14', 'system_fingerprint': 'fp_38343a2f8f', 'id': 'chatcmpl-C0wcVZh1gvUXM6NyukQloqgUkGX6v', 'service_tier': 'default', 'finish_reason': 'tool_calls', 'logprobs': None}, id='run--8f90faf9-6645-4451-b9d6-96997cf14bf9-0', tool_calls=[{'name': 'ask_naive_llm_tool', 'args': {'question': \"What is the issue with Aidvantage in the borrower's complaint?\"}, 'id': 'call_fAm5GlelsCEALq8Hb6wAwDAk', 'type': 'tool_call'}], usage_metadata={'input_tokens': 454, 'output_tokens': 31, 'total_tokens': 485, 'input_token_details': {'audio': 0, 'cache_read': 0}, 'output_token_details': {'audio': 0, 'reasoning': 0}})]\n",
      "\n",
      "\n",
      "\n"
     ]
    },
    {
     "name": "stderr",
     "output_type": "stream",
     "text": [
      "2025-08-04 21:02:55,648 - src.core.graph_rag_functions - INFO - 📚 [Naive] Retrieved 5 documents with relevance scores\n",
      "2025-08-04 21:02:55,652 - src.core.graph_rag_functions - INFO - 🤖 [Generate Function] Executing LLM call for question: What is the issue with Aidvantage in the borrower'...\n",
      "2025-08-04 21:02:55,654 - src.core.graph_rag_functions - INFO - 🤖 Generating response using 5 context documents\n"
     ]
    },
    {
     "name": "stdout",
     "output_type": "stream",
     "text": [
      "________________________________________________________________________________\n",
      "[Memory] Calling src.core.graph_rag_functions.invoke_llm...\n",
      "invoke_llm([ HumanMessage(content=\"\\nYou are a helpful assistant who answers questions based on provided context. You must only use the provided context, and cannot use your own knowledge.\\n\\n### Question\\nWhat is the issue with Aidvantage in the borrower's complaint?\\n\\n### Context\\nCustomer Issue: Dealing with your lender or servicer\\nProduct: Student loan\\nComplaint Details: This is my formal complaint against Aidvantage and the U.S. Department of Education regarding their failure to validate an alleged federal student loan debt.\\n\\nDespite multiple disputes and certified mailings, Aidvantage has failed to provide legally sufficient documentation. They submitted a generic master promissory note ( XX...)\n"
     ]
    },
    {
     "name": "stderr",
     "output_type": "stream",
     "text": [
      "2025-08-04 21:02:56,682 - src.core.graph_rag_functions - INFO - ✅ Generated response with 374 characters\n",
      "2025-08-04 21:02:56,685 - src.agents.llm_tools_for_toolbelt - INFO - ✅ [Naive Tool] Generated response with 5 contexts\n",
      "2025-08-04 21:02:56,692 - src.evaluation.tool_calls_parser_for_eval - INFO - === PARSING RESULTS ===\n",
      "2025-08-04 21:02:56,694 - src.evaluation.tool_calls_parser_for_eval - INFO - Tool calls: 0\n",
      "2025-08-04 21:02:56,695 - src.evaluation.tool_calls_parser_for_eval - INFO - Tool results: 1\n",
      "2025-08-04 21:02:56,696 - src.evaluation.tool_calls_parser_for_eval - INFO - Tools used: ['ask_naive_llm_tool']\n",
      "2025-08-04 21:02:56,698 - src.evaluation.tool_calls_parser_for_eval - INFO - === TOOL CALLS ===\n",
      "2025-08-04 21:02:56,699 - src.evaluation.tool_calls_parser_for_eval - INFO - === TOOL RESULTS ===\n",
      "2025-08-04 21:02:56,700 - src.evaluation.tool_calls_parser_for_eval - INFO - 1. ask_naive_llm_tool -> {\\...\n",
      "2025-08-04 21:02:56,701 - src.evaluation.tool_calls_parser_for_eval - INFO - === CONTEXT EXTRACTION DEMO ===\n",
      "2025-08-04 21:02:56,702 - src.evaluation.tool_calls_parser_for_eval - INFO - 📚 Extracted 0 contexts for evaluation\n",
      "2025-08-04 21:02:56,709 - src.agents.build_graph_agent - INFO - 🧠 LLM processing 3 messages\n"
     ]
    },
    {
     "name": "stdout",
     "output_type": "stream",
     "text": [
      "_______________________________________________________invoke_llm - 1.0s, 0.0min\n",
      "Receiving update from node: 'action'\n",
      "Tool Used: ask_naive_llm_tool\n",
      "\n",
      "\n",
      "[ToolMessage(content='{\\'messages\\': [HumanMessage(content=\\'{\\\\n  \"issue\": \"Aidvantage failed to provide legally sufficient documentation to validate the alleged federal student loan debt. They submitted a generic master promissory note with no signature, no IP address, no e-signature audit trail, and no proof of borrower authentication or consent, which does not meet legal standards under the ESIGN Act, FCRA, or the Privacy Act.\"\\\\n}\\', additional_kwargs={}, response_metadata={})], \\'context\\': [Document(metadata={\\'source\\': \\'../data/complaints.csv\\', \\'row\\': 779, \\'Date received\\': \\'05/08/25\\', \\'Product\\': \\'Student loan\\', \\'Sub-product\\': \\'Federal student loan servicing\\', \\'Issue\\': \\'Dealing with your lender or servicer\\', \\'Sub-issue\\': \\'Received bad information about your loan\\', \\'Consumer complaint narrative\\': \\'This is my formal complaint against Aidvantage and the U.S. Department of Education regarding their failure to validate an alleged federal student loan debt.\\\\n\\\\nDespite multiple disputes and certified mailings, Aidvantage has failed to provide legally sufficient documentation. They submitted a generic master promissory note ( XXXX  ) with my name typed in, but no signature, no IP address, no e-signature audit trail, and no proof of borrower authentication or consent. This does not meet legal standards under the ESIGN Act, FCRA ( 15 U.S.C. 1681i, 1681e ( b ) ), or the Privacy Act ( 5 U.S.C. 552a ). \\\\n\\\\nThe payment records they provided are corrupted many fields show # # # # # # # # or Unavailable. There is no complete loan accounting, no deferment documentation, and no evidence that I authorized interest capitalization or balance increases. \\\\n\\\\nAdditionally, Aidvantage has submitted a transaction summary log that claims I signed the XXXX, but again, no actual signature, clickwrap agreement, IP address, or timestamp confirmation was included. They have not verified the debt, transfer of servicing rights, or my consent under FERPA ( 20 U.S.C. 1232g ).\\\\n\\\\nI am attaching a rebuttal letter, the transaction log they provided, and a formal Notice of Intent to Sue. I am also filing complaints with the Office of Inspector General and the Department of Education. If this issue is not resolved immediately, I will proceed with a federal lawsuit for statutory and actual damages under the above laws.\\\\n\\\\nRequested Resolution : - Immediate discharge of the loan due to lack of validation - Written confirmation that Aidvantage can not lawfully service this account- Cessation of all activity on this disputed account\\', \\'Company public response\\': \\'None\\', \\'Company\\': \\'Maximus Federal Services, Inc.\\', \\'State\\': \\'DC\\', \\'ZIP code\\': \\'XXXXX\\', \\'Tags\\': \\'None\\', \\'Consumer consent provided?\\': \\'Consent provided\\', \\'Submitted via\\': \\'Web\\', \\'Date sent to company\\': \\'05/08/25\\', \\'Company response to consumer\\': \\'Closed with explanation\\', \\'Timely response?\\': \\'Yes\\', \\'Consumer disputed?\\': \\'N/A\\', \\'Complaint ID\\': \\'13402718\\', \\'_id\\': \\'45f7ee8d56cf43bc8753d7047e0ef753\\', \\'_collection_name\\': \\'loan_data\\', \\'relevance_score\\': 0.7266530936711403}, page_content=\\'Customer Issue: Dealing with your lender or servicer\\\\nProduct: Student loan\\\\nComplaint Details: This is my formal complaint against Aidvantage and the U.S. Department of Education regarding their failure to validate an alleged federal student loan debt.\\\\n\\\\nDespite multiple disputes and certified mailings, Aidvantage has failed to provide legally sufficient documentation. They submitted a generic master promissory note ( XXXX  ) with my name typed in, but no signature, no IP address, no e-signature audit trail, and no proof of borrower authentication or consent. This does not meet legal standards under the ESIGN Act, FCRA ( 15 U.S.C. 1681i, 1681e ( b ) ), or the Privacy Act ( 5 U.S.C. 552a ).\\'), Document(metadata={\\'source\\': \\'../data/complaints.csv\\', \\'row\\': 657, \\'Date received\\': \\'05/05/25\\', \\'Product\\': \\'Student loan\\', \\'Sub-product\\': \\'Federal student loan servicing\\', \\'Issue\\': \\'Dealing with your lender or servicer\\', \\'Sub-issue\\': \"Don\\'t agree with the fees charged\", \\'Consumer complaint narrative\\': \\'I am a student loan borrower with the servicer Aidvantage. I have been enrolled in the XXXX plan since before the forbearance due to the injunction. However, due to errors on their end, Aidvantage has not placed some of my direct loans into forbearance and interest has still been accruing even though I have been enrolled in the XXXX plan and the interest should have been set to 0 % from the forbearance period. I have attempted to call them to remedy this situation but they have been unresponsive.\\', \\'Company public response\\': \\'None\\', \\'Company\\': \\'Maximus Federal Services, Inc.\\', \\'State\\': \\'CA\\', \\'ZIP code\\': \\'95123\\', \\'Tags\\': \\'None\\', \\'Consumer consent provided?\\': \\'Consent provided\\', \\'Submitted via\\': \\'Web\\', \\'Date sent to company\\': \\'05/05/25\\', \\'Company response to consumer\\': \\'Closed with explanation\\', \\'Timely response?\\': \\'Yes\\', \\'Consumer disputed?\\': \\'N/A\\', \\'Complaint ID\\': \\'13348641\\', \\'_id\\': \\'2e85e2b86cb2449395477cfb68b16cc4\\', \\'_collection_name\\': \\'loan_data\\', \\'relevance_score\\': 0.7132092962131674}, page_content=\\'Customer Issue: Dealing with your lender or servicer\\\\nProduct: Student loan\\\\nComplaint Details: I am a student loan borrower with the servicer Aidvantage. I have been enrolled in the XXXX plan since before the forbearance due to the injunction. However, due to errors on their end, Aidvantage has not placed some of my direct loans into forbearance and interest has still been accruing even though I have been enrolled in the XXXX plan and the interest should have been set to 0 % from the forbearance period. I have attempted to call them to remedy this situation but they have been unresponsive.\\'), Document(metadata={\\'source\\': \\'../data/complaints.csv\\', \\'row\\': 104, \\'Date received\\': \\'04/27/25\\', \\'Product\\': \\'Student loan\\', \\'Sub-product\\': \\'Federal student loan servicing\\', \\'Issue\\': \\'Dealing with your lender or servicer\\', \\'Sub-issue\\': \\'Received bad information about your loan\\', \\'Consumer complaint narrative\\': \\'I am filing this complaint against Aidvantage due to errors in my student loan account. I recently discovered that my sensitive and legally protected records were accessed and potentially shared without my consent. This includes but is not limited to : 1.My academic records and personally identifiable information ( PII ).\\\\n\\\\n2.My Free Application for Federal Student Aid ( FAFSA ) data, including financial aid history and loan information.\\\\n\\\\n3.My IRS tax transcripts, which were obtained and used without proper authorization.\\\\n\\\\nThese actions violate my rights under FERPA ( 20 U.S.C. 1232g ; 34 CFR Part 99 ), which grants me the right to control access to my educational records, as well as Title IV of the Higher Education Act, which governs the use and protection of federal student aid information. Furthermore, unauthorized access to my IRS tax data raises serious concerns regarding potential identity theft, fraud, and violations of federal data security standards.\\', \\'Company public response\\': \\'None\\', \\'Company\\': \\'Maximus Federal Services, Inc.\\', \\'State\\': \\'FL\\', \\'ZIP code\\': \\'33168\\', \\'Tags\\': \\'None\\', \\'Consumer consent provided?\\': \\'Consent provided\\', \\'Submitted via\\': \\'Web\\', \\'Date sent to company\\': \\'04/27/25\\', \\'Company response to consumer\\': \\'Closed with explanation\\', \\'Timely response?\\': \\'Yes\\', \\'Consumer disputed?\\': \\'N/A\\', \\'Complaint ID\\': \\'13206096\\', \\'_id\\': \\'bb896a19d6c449509b464a5b54b9f583\\', \\'_collection_name\\': \\'loan_data\\', \\'relevance_score\\': 0.7071669359272498}, page_content=\\'Customer Issue: Dealing with your lender or servicer\\\\nProduct: Student loan\\\\nComplaint Details: I am filing this complaint against Aidvantage due to errors in my student loan account. I recently discovered that my sensitive and legally protected records were accessed and potentially shared without my consent. This includes but is not limited to : 1.My academic records and personally identifiable information ( PII ).\\\\n\\\\n2.My Free Application for Federal Student Aid ( FAFSA ) data, including financial aid history and loan information.\\\\n\\\\n3.My IRS tax transcripts, which were obtained and used without proper authorization.\\'), Document(metadata={\\'source\\': \\'../data/complaints.csv\\', \\'row\\': 265, \\'Date received\\': \\'03/31/25\\', \\'Product\\': \\'Student loan\\', \\'Sub-product\\': \\'Federal student loan servicing\\', \\'Issue\\': \\'Struggling to repay your loan\\', \\'Sub-issue\\': \\'Problem with your payment plan\\', \\'Consumer complaint narrative\\': \\'Since my student loan payments began with Aidvantage I have been attempting to get moved to an income driven plan. I have provided all documentation, which they have confirmed they received. And any and all other information they would need to switch. It has been a year now since the process began. They have not switched me over, never citing a reason just apologizing for the delay. A month delay is okay, over a year is unacceptable. I have submitted the proper documentation on Student Aid. Gov as well. I first applied XX/XX/year> according to Aidvantage.\\', \\'Company public response\\': \\'None\\', \\'Company\\': \\'Maximus Federal Services, Inc.\\', \\'State\\': \\'NC\\', \\'ZIP code\\': \\'28625\\', \\'Tags\\': \\'None\\', \\'Consumer consent provided?\\': \\'Consent provided\\', \\'Submitted via\\': \\'Web\\', \\'Date sent to company\\': \\'03/31/25\\', \\'Company response to consumer\\': \\'Closed with explanation\\', \\'Timely response?\\': \\'Yes\\', \\'Consumer disputed?\\': \\'N/A\\', \\'Complaint ID\\': \\'12749439\\', \\'_id\\': \\'6735cb82406f4b9a92265e0855c8e42c\\', \\'_collection_name\\': \\'loan_data\\', \\'relevance_score\\': 0.7041738611097376}, page_content=\\'Customer Issue: Struggling to repay your loan\\\\nProduct: Student loan\\\\nComplaint Details: Since my student loan payments began with Aidvantage I have been attempting to get moved to an income driven plan. I have provided all documentation, which they have confirmed they received. And any and all other information they would need to switch. It has been a year now since the process began. They have not switched me over, never citing a reason just apologizing for the delay. A month delay is okay, over a year is unacceptable. I have submitted the proper documentation on Student Aid. Gov as well. I first applied XX/XX/year> according to Aidvantage.\\'), Document(metadata={\\'source\\': \\'../data/complaints.csv\\', \\'row\\': 433, \\'Date received\\': \\'04/02/25\\', \\'Product\\': \\'Student loan\\', \\'Sub-product\\': \\'Federal student loan servicing\\', \\'Issue\\': \\'Dealing with your lender or servicer\\', \\'Sub-issue\\': \\'Trouble with how payments are being handled\\', \\'Consumer complaint narrative\\': \\'BACKGROUND My student loan was transferred to Aidvantage in 2023 and at which time it was in good standing with the previous lender. \\\\nThe loan was set up on automatic payment and therefore never had a need to contact the lender. \\\\nSITUATION When the loan was transferred to Aidvantage, I was not informed via email, physical mail, telephone, or text. \\\\nSince I was not aware that the loan had been transferred and I was not aware I needed to make updates to my payment method. \\\\nThis resulted in my loan going into automatic forbearance the entire time it has been with Aidvantage. \\\\nISSUE Within the last few months there was a change, and the loan went from forbearance to default and resulted in a negative impact to my credit score.\\\\n\\\\nAgain, I was not informed that this loan was delinquent and was not contacted by any creditors or given an opportunity to correct the issue before it was reported to the credit bureau ACTION TAKEN Immediately upon seeing the impact to my credit score, I was able to track down my account with Aidvantage and brought my account current I paid the outstanding balance of {$530.00} I set up a recurring payment plan of {$130.00} to prevent this issue from ever happening again.\\', \\'Company public response\\': \\'None\\', \\'Company\\': \\'Maximus Federal Services, Inc.\\', \\'State\\': \\'CO\\', \\'ZIP code\\': \\'80134\\', \\'Tags\\': \\'None\\', \\'Consumer consent provided?\\': \\'Consent provided\\', \\'Submitted via\\': \\'Web\\', \\'Date sent to company\\': \\'04/02/25\\', \\'Company response to consumer\\': \\'Closed with explanation\\', \\'Timely response?\\': \\'Yes\\', \\'Consumer disputed?\\': \\'N/A\\', \\'Complaint ID\\': \\'12771173\\', \\'_id\\': \\'97806ea4e4394de797ae4940daf2fa23\\', \\'_collection_name\\': \\'loan_data\\', \\'relevance_score\\': 0.7021475281924604}, page_content=\\'Customer Issue: Dealing with your lender or servicer\\\\nProduct: Student loan\\\\nComplaint Details: BACKGROUND My student loan was transferred to Aidvantage in 2023 and at which time it was in good standing with the previous lender. \\\\nThe loan was set up on automatic payment and therefore never had a need to contact the lender. \\\\nSITUATION When the loan was transferred to Aidvantage, I was not informed via email, physical mail, telephone, or text. \\\\nSince I was not aware that the loan had been transferred and I was not aware I needed to make updates to my payment method. \\\\nThis resulted in my loan going into automatic forbearance the entire time it has been with Aidvantage.\\')]}', name='ask_naive_llm_tool', id='26b5fac9-67ae-4d86-9a83-5b719020963f', tool_call_id='call_fAm5GlelsCEALq8Hb6wAwDAk')]\n",
      "\n",
      "\n",
      "\n"
     ]
    },
    {
     "name": "stderr",
     "output_type": "stream",
     "text": [
      "2025-08-04 21:02:58,205 - src.agents.build_graph_agent - INFO - 📝 LLM generated response with 427 characters\n",
      "2025-08-04 21:02:58,211 - src.agents.build_graph_agent - INFO - ✅ Agent conversation complete, no more tool calls needed\n"
     ]
    },
    {
     "name": "stdout",
     "output_type": "stream",
     "text": [
      "Receiving update from node: 'agent'\n",
      "\n",
      "\n",
      "[AIMessage(content=\"The issue with Aidvantage in the borrower's complaint is that they failed to provide legally sufficient documentation to validate the alleged federal student loan debt. Specifically, they submitted a generic master promissory note with no signature, no IP address, no e-signature audit trail, and no proof of borrower authentication or consent, which does not meet legal standards under the ESIGN Act, FCRA, or the Privacy Act.\", additional_kwargs={'refusal': None}, response_metadata={'token_usage': {'completion_tokens': 85, 'prompt_tokens': 3525, 'total_tokens': 3610, 'completion_tokens_details': {'accepted_prediction_tokens': 0, 'audio_tokens': 0, 'reasoning_tokens': 0, 'rejected_prediction_tokens': 0}, 'prompt_tokens_details': {'audio_tokens': 0, 'cached_tokens': 0}}, 'model_name': 'gpt-4.1-nano-2025-04-14', 'system_fingerprint': 'fp_38343a2f8f', 'id': 'chatcmpl-C0wcbndoAzVu6tdQxAjTBWRBOTArp', 'service_tier': 'default', 'finish_reason': 'stop', 'logprobs': None}, id='run--8c6580be-9975-45e7-a325-a4229240a619-0', usage_metadata={'input_tokens': 3525, 'output_tokens': 85, 'total_tokens': 3610, 'input_token_details': {'audio': 0, 'cache_read': 0}, 'output_token_details': {'audio': 0, 'reasoning': 0}})]\n",
      "\n",
      "\n",
      "\n"
     ]
    },
    {
     "name": "stderr",
     "output_type": "stream",
     "text": [
      "2025-08-04 21:49:38,793 - langsmith.client - WARNING - Failed to send compressed multipart ingest: Connection error caused failure to POST https://api.smith.langchain.com/runs/multipart in LangSmith API. Please confirm your internet connection. ConnectionError(MaxRetryError('HTTPSConnectionPool(host=\\'api.smith.langchain.com\\', port=443): Max retries exceeded with url: /runs/multipart (Caused by NameResolutionError(\"<urllib3.connection.HTTPSConnection object at 0x7fa58868fb10>: Failed to resolve \\'api.smith.langchain.com\\' ([Errno -2] Name or service not known)\"))'))\n",
      "Content-Length: 2606\n",
      "API Key: lsv2_********************************************7ftrace=d547d423-6e69-45c4-b309-ba0d342fdd4d,id=d547d423-6e69-45c4-b309-ba0d342fdd4d; trace=d547d423-6e69-45c4-b309-ba0d342fdd4d,id=bf23c9cd-d1e1-4a97-be7b-69b2c0e7b5d1; trace=d547d423-6e69-45c4-b309-ba0d342fdd4d,id=ef834e78-9a86-4dc7-b219-26a46a68c7eb\n",
      "2025-08-04 21:49:48,807 - langsmith.client - WARNING - Failed to send compressed multipart ingest: Connection error caused failure to POST https://api.smith.langchain.com/runs/multipart in LangSmith API. Please confirm your internet connection. ConnectionError(MaxRetryError('HTTPSConnectionPool(host=\\'api.smith.langchain.com\\', port=443): Max retries exceeded with url: /runs/multipart (Caused by NameResolutionError(\"<urllib3.connection.HTTPSConnection object at 0x7fa5885ce990>: Failed to resolve \\'api.smith.langchain.com\\' ([Errno -2] Name or service not known)\"))'))\n",
      "Content-Length: 4436\n",
      "API Key: lsv2_********************************************7ftrace=d547d423-6e69-45c4-b309-ba0d342fdd4d,id=ef834e78-9a86-4dc7-b219-26a46a68c7eb; trace=d547d423-6e69-45c4-b309-ba0d342fdd4d,id=bf23c9cd-d1e1-4a97-be7b-69b2c0e7b5d1; trace=d547d423-6e69-45c4-b309-ba0d342fdd4d,id=d547d423-6e69-45c4-b309-ba0d342fdd4d\n",
      "2025-08-04 21:50:06,202 - langsmith.client - WARNING - Failed to send compressed multipart ingest: Connection error caused failure to POST https://api.smith.langchain.com/runs/multipart in LangSmith API. Please confirm your internet connection. ConnectionError(MaxRetryError('HTTPSConnectionPool(host=\\'api.smith.langchain.com\\', port=443): Max retries exceeded with url: /runs/multipart (Caused by NameResolutionError(\"<urllib3.connection.HTTPSConnection object at 0x7fa5885cf750>: Failed to resolve \\'api.smith.langchain.com\\' ([Errno -2] Name or service not known)\"))'))\n",
      "Content-Length: 2636\n",
      "API Key: lsv2_********************************************7ftrace=6af2dddb-2365-4ab0-8042-012744449a70,id=6af2dddb-2365-4ab0-8042-012744449a70; trace=6af2dddb-2365-4ab0-8042-012744449a70,id=73383476-1e9d-4ca5-9ee7-86d3ff047979; trace=6af2dddb-2365-4ab0-8042-012744449a70,id=63aad361-595a-4d7c-bf60-1cfaf6b8ef62\n",
      "2025-08-04 21:50:15,895 - langsmith.client - WARNING - Failed to send compressed multipart ingest: Connection error caused failure to POST https://api.smith.langchain.com/runs/multipart in LangSmith API. Please confirm your internet connection. ConnectionError(MaxRetryError('HTTPSConnectionPool(host=\\'api.smith.langchain.com\\', port=443): Max retries exceeded with url: /runs/multipart (Caused by NameResolutionError(\"<urllib3.connection.HTTPSConnection object at 0x7fa588381950>: Failed to resolve \\'api.smith.langchain.com\\' ([Errno -2] Name or service not known)\"))'))\n",
      "Content-Length: 4433\n",
      "API Key: lsv2_********************************************7ftrace=6af2dddb-2365-4ab0-8042-012744449a70,id=63aad361-595a-4d7c-bf60-1cfaf6b8ef62; trace=6af2dddb-2365-4ab0-8042-012744449a70,id=73383476-1e9d-4ca5-9ee7-86d3ff047979; trace=6af2dddb-2365-4ab0-8042-012744449a70,id=6af2dddb-2365-4ab0-8042-012744449a70\n",
      "2025-08-04 21:50:51,908 - langsmith.client - WARNING - Failed to send compressed multipart ingest: Connection error caused failure to POST https://api.smith.langchain.com/runs/multipart in LangSmith API. Please confirm your internet connection. ConnectionError(MaxRetryError('HTTPSConnectionPool(host=\\'api.smith.langchain.com\\', port=443): Max retries exceeded with url: /runs/multipart (Caused by NameResolutionError(\"<urllib3.connection.HTTPSConnection object at 0x7fa58868fb10>: Failed to resolve \\'api.smith.langchain.com\\' ([Errno -2] Name or service not known)\"))'))\n",
      "Content-Length: 2623\n",
      "API Key: lsv2_********************************************7ftrace=1b9fa283-8fcc-435b-9cc1-54140e08fa2a,id=1b9fa283-8fcc-435b-9cc1-54140e08fa2a; trace=1b9fa283-8fcc-435b-9cc1-54140e08fa2a,id=c31c6cac-c044-4b24-88e5-1847e4c841c1; trace=1b9fa283-8fcc-435b-9cc1-54140e08fa2a,id=53e13779-53a0-4db3-8845-214031bf305c\n",
      "2025-08-04 21:51:01,530 - langsmith.client - WARNING - Failed to send compressed multipart ingest: Connection error caused failure to POST https://api.smith.langchain.com/runs/multipart in LangSmith API. Please confirm your internet connection. ConnectionError(MaxRetryError('HTTPSConnectionPool(host=\\'api.smith.langchain.com\\', port=443): Max retries exceeded with url: /runs/multipart (Caused by NameResolutionError(\"<urllib3.connection.HTTPSConnection object at 0x7fa5c025ead0>: Failed to resolve \\'api.smith.langchain.com\\' ([Errno -2] Name or service not known)\"))'))\n",
      "Content-Length: 4430\n",
      "API Key: lsv2_********************************************7ftrace=1b9fa283-8fcc-435b-9cc1-54140e08fa2a,id=53e13779-53a0-4db3-8845-214031bf305c; trace=1b9fa283-8fcc-435b-9cc1-54140e08fa2a,id=c31c6cac-c044-4b24-88e5-1847e4c841c1; trace=1b9fa283-8fcc-435b-9cc1-54140e08fa2a,id=1b9fa283-8fcc-435b-9cc1-54140e08fa2a\n"
     ]
    }
   ],
   "source": [
    "from langchain_core.messages import HumanMessage\n",
    "\n",
    "# inputs = {\"messages\" : [HumanMessage(content=\"Who is the current captain of the Winnipeg Jets?\")]}\n",
    "# inputs = {\"messages\" : [HumanMessage(content=\"What concerns does the borrower have regarding Nelnet's communication about their student loan issuer?\")]}\n",
    "inputs = {\"messages\" : [HumanMessage(content=\"What is the issue with Aidvantage in the borrower's complaint?\")]}\n",
    "\n",
    "async for chunk in naive_graph_agent.astream(inputs, stream_mode=\"updates\"):\n",
    "    for node, values in chunk.items():\n",
    "        print(f\"Receiving update from node: '{node}'\")\n",
    "        if node == \"action\":\n",
    "          print(f\"Tool Used: {values['messages'][0].name}\")\n",
    "          print_formatted_results(parse_logs(str(values[\"messages\"])))\n",
    "        print(\"\\n\")\n",
    "        print(values[\"messages\"])\n",
    "        print(\"\\n\\n\")"
   ]
  },
  {
   "cell_type": "code",
   "execution_count": 16,
   "metadata": {
    "scrolled": true
   },
   "outputs": [
    {
     "name": "stderr",
     "output_type": "stream",
     "text": [
      "2025-08-04 21:02:58,234 - src.agents.build_graph_agent - INFO - 🧠 LLM processing 1 messages\n",
      "2025-08-04 21:02:58,903 - src.agents.build_graph_agent - INFO - 📝 LLM generated response with 0 characters\n",
      "2025-08-04 21:02:58,907 - src.agents.build_graph_agent - INFO - 🔧 Agent requesting 1 tool calls\n",
      "2025-08-04 21:02:58,914 - src.agents.llm_tools_for_toolbelt - INFO - 🔍 [Naive Tool] Processing question: What is the issue with Aidvantage in the borrower's complaint?...\n",
      "2025-08-04 21:02:58,918 - src.core.graph_rag_functions - INFO - 🔍 [Naive] Retrieving docs for: What is the issue with Aidvantage in the borrower's complaint?...\n",
      "2025-08-04 21:02:59,366 - src.core.graph_rag_functions - INFO - 📚 [Naive] Retrieved 5 documents with relevance scores\n",
      "2025-08-04 21:02:59,372 - src.core.graph_rag_functions - INFO - 🤖 [Generate Function] Executing LLM call for question: What is the issue with Aidvantage in the borrower'...\n",
      "2025-08-04 21:02:59,375 - src.core.graph_rag_functions - INFO - 🤖 Generating response using 5 context documents\n",
      "2025-08-04 21:02:59,445 - src.core.graph_rag_functions - INFO - ✅ Generated response with 374 characters\n",
      "2025-08-04 21:02:59,469 - src.agents.llm_tools_for_toolbelt - INFO - ✅ [Naive Tool] Generated response with 5 contexts\n",
      "2025-08-04 21:02:59,478 - src.agents.build_graph_agent - INFO - 🧠 LLM processing 3 messages\n",
      "2025-08-04 21:03:00,617 - src.agents.build_graph_agent - INFO - 📝 LLM generated response with 427 characters\n",
      "2025-08-04 21:03:00,620 - src.agents.build_graph_agent - INFO - ✅ Agent conversation complete, no more tool calls needed\n",
      "2025-08-04 21:03:00,630 - src.evaluation.tool_calls_parser_for_eval - INFO - === PARSING RESULTS ===\n",
      "2025-08-04 21:03:00,631 - src.evaluation.tool_calls_parser_for_eval - INFO - Tool calls: 1\n",
      "2025-08-04 21:03:00,633 - src.evaluation.tool_calls_parser_for_eval - INFO - Tool results: 3\n",
      "2025-08-04 21:03:00,634 - src.evaluation.tool_calls_parser_for_eval - INFO - Tools used: [None, 'ask_naive_llm_tool']\n",
      "2025-08-04 21:03:00,635 - src.evaluation.tool_calls_parser_for_eval - INFO - === TOOL CALLS ===\n",
      "2025-08-04 21:03:00,638 - src.evaluation.tool_calls_parser_for_eval - INFO - 1. ask_naive_llm_tool -> {'question': \"What is the issue with Aidvantage in the borrower's complaint?\"}\n",
      "2025-08-04 21:03:00,639 - src.evaluation.tool_calls_parser_for_eval - INFO - === TOOL RESULTS ===\n",
      "2025-08-04 21:03:00,642 - src.evaluation.tool_calls_parser_for_eval - INFO - 1. None -> What is the issue with Aidvantage in the borrower's complaint?...\n",
      "2025-08-04 21:03:00,647 - src.evaluation.tool_calls_parser_for_eval - INFO - 2. ask_naive_llm_tool -> {'messages': [HumanMessage(content='{\\n  \"issue\": \"Aidvantage failed to provide legally sufficient d...\n",
      "2025-08-04 21:03:00,648 - src.evaluation.tool_calls_parser_for_eval - INFO - 3. None -> The issue with Aidvantage in the borrower's complaint is that they failed to provide legally suffici...\n",
      "2025-08-04 21:03:00,650 - src.evaluation.tool_calls_parser_for_eval - INFO - === CONTEXT EXTRACTION DEMO ===\n",
      "2025-08-04 21:03:00,654 - src.evaluation.tool_calls_parser_for_eval - INFO - 📚 Extracted 1 contexts for evaluation\n"
     ]
    },
    {
     "name": "stdout",
     "output_type": "stream",
     "text": [
      "✅ Extracted 5 contexts for evaluation\n",
      "\n",
      "🎯 EVALUATION SAMPLE:\n",
      "Query: What is the issue with Aidvantage in the borrower's complaint?\n",
      "Response: The issue with Aidvantage in the borrower's complaint is that they failed to provide legally sufficient documentation to validate the alleged federal student loan debt. Specifically, they submitted a ...\n",
      "Contexts: 5 extracted\n",
      "Tools: [None, 'ask_naive_llm_tool']\n"
     ]
    }
   ],
   "source": [
    "# inputs = {\"messages\" : [HumanMessage(content='')]}\n",
    "response = naive_graph_agent.invoke(inputs)\n",
    "\n",
    "evaluation_contexts = extract_contexts_for_eval(response[\"messages\"])\n",
    "print(f\"✅ Extracted {len(evaluation_contexts)} contexts for evaluation\")\n",
    "parsed_data = parse_langchain_messages(response[\"messages\"])\n",
    "print_formatted_results(parsed_data)\n",
    "\n",
    "eval_sample = {\n",
    "    \"user_input\": inputs[\"messages\"][0].content,\n",
    "    \"response\": response[\"messages\"][-1].content,  # Final AI response\n",
    "    \"retrieved_contexts\": evaluation_contexts,\n",
    "    \"tools_used\": parsed_data['summary']['tools'],\n",
    "    \"num_contexts\": len(evaluation_contexts)\n",
    "}\n",
    "\n",
    "print(f\"\\n🎯 EVALUATION SAMPLE:\")\n",
    "print(f\"Query: {eval_sample['user_input']}\")\n",
    "print(f\"Response: {eval_sample['response'][:200]}...\")\n",
    "print(f\"Contexts: {eval_sample['num_contexts']} extracted\")\n",
    "print(f\"Tools: {eval_sample['tools_used']}\")"
   ]
  },
  {
   "cell_type": "markdown",
   "metadata": {},
   "source": [
    "### Generate Golden master"
   ]
  },
  {
   "cell_type": "code",
   "execution_count": 14,
   "metadata": {
    "scrolled": true
   },
   "outputs": [
    {
     "name": "stderr",
     "output_type": "stream",
     "text": [
      "2025-08-04 23:28:29,746 - src.core.core_functions - INFO - 📁 Current working directory: /home/AIE7-Cert-Challenge/notebooks\n",
      "2025-08-04 23:28:29,750 - src.core.core_functions - INFO - 📄 Loading student loan PDFs from: ../data\n",
      "2025-08-04 23:28:31,078 - src.core.core_functions - INFO - ✅ Loaded 269 PDF documents\n",
      "2025-08-04 23:28:31,080 - src.core.core_functions - INFO - 📁 Current working directory: /home/AIE7-Cert-Challenge/notebooks\n",
      "2025-08-04 23:28:31,081 - src.core.core_functions - INFO - 📊 Loading student loan complaints from: ../data/complaints.csv\n",
      "2025-08-04 23:28:31,388 - src.core.core_functions - INFO - 📋 Original complaint documents count: 825\n",
      "2025-08-04 23:28:31,393 - src.core.core_functions - INFO - ✅ Filtered complaint documents count: 480\n"
     ]
    },
    {
     "name": "stdout",
     "output_type": "stream",
     "text": [
      "CPU times: user 1.87 s, sys: 18.6 ms, total: 1.88 s\n",
      "Wall time: 1.9 s\n"
     ]
    }
   ],
   "source": [
    "%%time\n",
    "student_loan_pdf_docs_dataset = load_and_prepare_pdf_loan_docs()\n",
    "student_loan_complaint_docs_dataset  = load_and_prepare_csv_loan_docs()\n",
    "student_loan_docs_dataset = student_loan_pdf_docs_dataset + student_loan_complaint_docs_dataset"
   ]
  },
  {
   "cell_type": "code",
   "execution_count": 15,
   "metadata": {},
   "outputs": [
    {
     "name": "stdout",
     "output_type": "stream",
     "text": [
      "CPU times: user 320 ms, sys: 51.5 ms, total: 371 ms\n",
      "Wall time: 369 ms\n"
     ]
    }
   ],
   "source": [
    "%%time\n",
    "golden_master_dataset = generate_golden_master(student_loan_docs_dataset)"
   ]
  },
  {
   "cell_type": "code",
   "execution_count": 16,
   "metadata": {},
   "outputs": [
    {
     "data": {
      "text/html": [
       "<div>\n",
       "<style scoped>\n",
       "    .dataframe tbody tr th:only-of-type {\n",
       "        vertical-align: middle;\n",
       "    }\n",
       "\n",
       "    .dataframe tbody tr th {\n",
       "        vertical-align: top;\n",
       "    }\n",
       "\n",
       "    .dataframe thead th {\n",
       "        text-align: right;\n",
       "    }\n",
       "</style>\n",
       "<table border=\"1\" class=\"dataframe\">\n",
       "  <thead>\n",
       "    <tr style=\"text-align: right;\">\n",
       "      <th></th>\n",
       "      <th>user_input</th>\n",
       "      <th>reference_contexts</th>\n",
       "      <th>reference</th>\n",
       "      <th>synthesizer_name</th>\n",
       "    </tr>\n",
       "  </thead>\n",
       "  <tbody>\n",
       "    <tr>\n",
       "      <th>0</th>\n",
       "      <td>How is the Pell Grant award calculated for stu...</td>\n",
       "      <td>[non-term (includes clock-hour calendars), or ...</td>\n",
       "      <td>For students in subscription-based academic ca...</td>\n",
       "      <td>single_hop_specifc_query_synthesizer</td>\n",
       "    </tr>\n",
       "    <tr>\n",
       "      <th>1</th>\n",
       "      <td>Are veterinary clinical experiences allowed to...</td>\n",
       "      <td>[Inclusion of Clinical Work in a Standard Term...</td>\n",
       "      <td>Yes, veterinary clinical experiences may be in...</td>\n",
       "      <td>single_hop_specifc_query_synthesizer</td>\n",
       "    </tr>\n",
       "    <tr>\n",
       "      <th>2</th>\n",
       "      <td>Whaat are the condishuns under wich a program ...</td>\n",
       "      <td>[Non-Term Characteristics A program that measu...</td>\n",
       "      <td>A program that measures progress in credit-hou...</td>\n",
       "      <td>single_hop_specifc_query_synthesizer</td>\n",
       "    </tr>\n",
       "    <tr>\n",
       "      <th>3</th>\n",
       "      <td>so like if a student gettin Pell Grant in a cl...</td>\n",
       "      <td>[both the credit or clock hours and the weeks ...</td>\n",
       "      <td>if a student in a clock-hour or non-term credi...</td>\n",
       "      <td>single_hop_specifc_query_synthesizer</td>\n",
       "    </tr>\n",
       "    <tr>\n",
       "      <th>4</th>\n",
       "      <td>how do disbursement timing rules for federal s...</td>\n",
       "      <td>[&lt;1-hop&gt;\\n\\nboth the credit or clock hours and...</td>\n",
       "      <td>In clock-hour or non-term credit-hour programs...</td>\n",
       "      <td>multi_hop_abstract_query_synthesizer</td>\n",
       "    </tr>\n",
       "    <tr>\n",
       "      <th>5</th>\n",
       "      <td>What are the differences in disbursement timin...</td>\n",
       "      <td>[&lt;1-hop&gt;\\n\\nboth the credit or clock hours and...</td>\n",
       "      <td>In clock-hour or non-term credit-hour programs...</td>\n",
       "      <td>multi_hop_abstract_query_synthesizer</td>\n",
       "    </tr>\n",
       "    <tr>\n",
       "      <th>6</th>\n",
       "      <td>How does the disbursement timing for federal s...</td>\n",
       "      <td>[&lt;1-hop&gt;\\n\\nboth the credit or clock hours and...</td>\n",
       "      <td>In clock-hour or non-term credit-hour programs...</td>\n",
       "      <td>multi_hop_abstract_query_synthesizer</td>\n",
       "    </tr>\n",
       "    <tr>\n",
       "      <th>7</th>\n",
       "      <td>How does the disbursement timing for federal s...</td>\n",
       "      <td>[&lt;1-hop&gt;\\n\\nboth the credit or clock hours and...</td>\n",
       "      <td>In standard clock-hour or non-term credit-hour...</td>\n",
       "      <td>multi_hop_abstract_query_synthesizer</td>\n",
       "    </tr>\n",
       "    <tr>\n",
       "      <th>8</th>\n",
       "      <td>How do the examples in Appendix A and Appendix...</td>\n",
       "      <td>[&lt;1-hop&gt;\\n\\nboth the credit or clock hours and...</td>\n",
       "      <td>The examples in Appendix A illustrate the prin...</td>\n",
       "      <td>multi_hop_specific_query_synthesizer</td>\n",
       "    </tr>\n",
       "    <tr>\n",
       "      <th>9</th>\n",
       "      <td>Wut are the disbursment timing rules for Title...</td>\n",
       "      <td>[&lt;1-hop&gt;\\n\\nDisbursement Timing in Subscriptio...</td>\n",
       "      <td>For the first two subscription periods in a su...</td>\n",
       "      <td>multi_hop_specific_query_synthesizer</td>\n",
       "    </tr>\n",
       "    <tr>\n",
       "      <th>10</th>\n",
       "      <td>how volume 8 chapter 6 and volume 8 chapter 3 ...</td>\n",
       "      <td>[&lt;1-hop&gt;\\n\\nnon-term (includes clock-hour cale...</td>\n",
       "      <td>volume 8 chapter 6 is mentioned as giving more...</td>\n",
       "      <td>multi_hop_specific_query_synthesizer</td>\n",
       "    </tr>\n",
       "    <tr>\n",
       "      <th>11</th>\n",
       "      <td>How do the requirements for Pell Grant disburs...</td>\n",
       "      <td>[&lt;1-hop&gt;\\n\\nboth the credit or clock hours and...</td>\n",
       "      <td>In clock-hour or non-term credit-hour programs...</td>\n",
       "      <td>multi_hop_specific_query_synthesizer</td>\n",
       "    </tr>\n",
       "  </tbody>\n",
       "</table>\n",
       "</div>"
      ],
      "text/plain": [
       "                                           user_input  \\\n",
       "0   How is the Pell Grant award calculated for stu...   \n",
       "1   Are veterinary clinical experiences allowed to...   \n",
       "2   Whaat are the condishuns under wich a program ...   \n",
       "3   so like if a student gettin Pell Grant in a cl...   \n",
       "4   how do disbursement timing rules for federal s...   \n",
       "5   What are the differences in disbursement timin...   \n",
       "6   How does the disbursement timing for federal s...   \n",
       "7   How does the disbursement timing for federal s...   \n",
       "8   How do the examples in Appendix A and Appendix...   \n",
       "9   Wut are the disbursment timing rules for Title...   \n",
       "10  how volume 8 chapter 6 and volume 8 chapter 3 ...   \n",
       "11  How do the requirements for Pell Grant disburs...   \n",
       "\n",
       "                                   reference_contexts  \\\n",
       "0   [non-term (includes clock-hour calendars), or ...   \n",
       "1   [Inclusion of Clinical Work in a Standard Term...   \n",
       "2   [Non-Term Characteristics A program that measu...   \n",
       "3   [both the credit or clock hours and the weeks ...   \n",
       "4   [<1-hop>\\n\\nboth the credit or clock hours and...   \n",
       "5   [<1-hop>\\n\\nboth the credit or clock hours and...   \n",
       "6   [<1-hop>\\n\\nboth the credit or clock hours and...   \n",
       "7   [<1-hop>\\n\\nboth the credit or clock hours and...   \n",
       "8   [<1-hop>\\n\\nboth the credit or clock hours and...   \n",
       "9   [<1-hop>\\n\\nDisbursement Timing in Subscriptio...   \n",
       "10  [<1-hop>\\n\\nnon-term (includes clock-hour cale...   \n",
       "11  [<1-hop>\\n\\nboth the credit or clock hours and...   \n",
       "\n",
       "                                            reference  \\\n",
       "0   For students in subscription-based academic ca...   \n",
       "1   Yes, veterinary clinical experiences may be in...   \n",
       "2   A program that measures progress in credit-hou...   \n",
       "3   if a student in a clock-hour or non-term credi...   \n",
       "4   In clock-hour or non-term credit-hour programs...   \n",
       "5   In clock-hour or non-term credit-hour programs...   \n",
       "6   In clock-hour or non-term credit-hour programs...   \n",
       "7   In standard clock-hour or non-term credit-hour...   \n",
       "8   The examples in Appendix A illustrate the prin...   \n",
       "9   For the first two subscription periods in a su...   \n",
       "10  volume 8 chapter 6 is mentioned as giving more...   \n",
       "11  In clock-hour or non-term credit-hour programs...   \n",
       "\n",
       "                        synthesizer_name  \n",
       "0   single_hop_specifc_query_synthesizer  \n",
       "1   single_hop_specifc_query_synthesizer  \n",
       "2   single_hop_specifc_query_synthesizer  \n",
       "3   single_hop_specifc_query_synthesizer  \n",
       "4   multi_hop_abstract_query_synthesizer  \n",
       "5   multi_hop_abstract_query_synthesizer  \n",
       "6   multi_hop_abstract_query_synthesizer  \n",
       "7   multi_hop_abstract_query_synthesizer  \n",
       "8   multi_hop_specific_query_synthesizer  \n",
       "9   multi_hop_specific_query_synthesizer  \n",
       "10  multi_hop_specific_query_synthesizer  \n",
       "11  multi_hop_specific_query_synthesizer  "
      ]
     },
     "execution_count": 16,
     "metadata": {},
     "output_type": "execute_result"
    }
   ],
   "source": [
    "golden_master_dataset.to_pandas()"
   ]
  },
  {
   "cell_type": "code",
   "execution_count": 17,
   "metadata": {
    "scrolled": true
   },
   "outputs": [],
   "source": [
    "from tqdm.notebook import tqdm\n",
    "\n",
    "import src.evaluation.evaluation_helpers\n",
    "importlib.reload(src.evaluation.evaluation_helpers)\n",
    "\n",
    "from src.evaluation.evaluation_helpers import generate_responses_for_golden_dataset, display_dataset_with_metadata, run_ragas_evaluation, record_metrics_from_run"
   ]
  },
  {
   "cell_type": "markdown",
   "metadata": {},
   "source": [
    "### Synthetic Data Generation using RAGAS using the Golden master (Naive Retriever)"
   ]
  },
  {
   "cell_type": "code",
   "execution_count": 30,
   "metadata": {
    "scrolled": true
   },
   "outputs": [
    {
     "data": {
      "application/vnd.jupyter.widget-view+json": {
       "model_id": "f4675383d05145abb4a67c20c923adaf",
       "version_major": 2,
       "version_minor": 0
      },
      "text/plain": [
       "  0%|          | 0/12 [00:00<?, ?it/s]"
      ]
     },
     "metadata": {},
     "output_type": "display_data"
    },
    {
     "name": "stderr",
     "output_type": "stream",
     "text": [
      "2025-08-04 21:16:08,129 - src.agents.build_graph_agent - INFO - 🧠 LLM processing 1 messages\n",
      "2025-08-04 21:16:09,113 - src.agents.build_graph_agent - INFO - 📝 LLM generated response with 0 characters\n",
      "2025-08-04 21:16:09,116 - src.agents.build_graph_agent - INFO - 🔧 Agent requesting 1 tool calls\n",
      "2025-08-04 21:16:09,125 - src.tools.tavily_tools - INFO - 🔍 [StudentAid Search] Searching for: Pell Grant award calculation for subscription-based academic calendars\n",
      "2025-08-04 21:16:11,173 - src.tools.tavily_tools - INFO - 📚 [StudentAid Search] Found 3 results\n",
      "2025-08-04 21:16:11,178 - src.agents.build_graph_agent - INFO - 🧠 LLM processing 3 messages\n",
      "2025-08-04 21:16:12,922 - src.agents.build_graph_agent - INFO - 📝 LLM generated response with 611 characters\n",
      "2025-08-04 21:16:12,925 - src.agents.build_graph_agent - INFO - ✅ Agent conversation complete, no more tool calls needed\n",
      "2025-08-04 21:16:12,934 - src.agents.build_graph_agent - INFO - 🧠 LLM processing 1 messages\n",
      "2025-08-04 21:16:13,729 - src.agents.build_graph_agent - INFO - 📝 LLM generated response with 0 characters\n",
      "2025-08-04 21:16:13,733 - src.agents.build_graph_agent - INFO - 🔧 Agent requesting 1 tool calls\n",
      "2025-08-04 21:16:13,741 - src.agents.llm_tools_for_toolbelt - INFO - 🔍 [Naive Tool] Processing question: Are veterinary clinical experiences allowed to be included in standard term periods for financial ai...\n",
      "2025-08-04 21:16:13,747 - src.core.graph_rag_functions - INFO - 🔍 [Naive] Retrieving docs for: Are veterinary clinical experiences allowed to be included in standard term periods for financial ai...\n",
      "2025-08-04 21:16:14,914 - src.core.graph_rag_functions - INFO - 📚 [Naive] Retrieved 5 documents with relevance scores\n",
      "2025-08-04 21:16:14,918 - src.core.graph_rag_functions - INFO - 🤖 [Generate Function] Executing LLM call for question: Are veterinary clinical experiences allowed to be ...\n",
      "2025-08-04 21:16:14,920 - src.core.graph_rag_functions - INFO - 🤖 Generating response using 5 context documents\n"
     ]
    },
    {
     "name": "stdout",
     "output_type": "stream",
     "text": [
      "________________________________________________________________________________\n",
      "[Memory] Calling src.core.graph_rag_functions.invoke_llm...\n",
      "invoke_llm([ HumanMessage(content='\\nYou are a helpful assistant who answers questions based on provided context. You must only use the provided context, and cannot use your own knowledge.\\n\\n### Question\\nAre veterinary clinical experiences allowed to be included in standard term periods for financial aid purposes?\\n\\n### Context\\nInclusion of Clinical Work in a Standard Term\\nPeriods of medical and education program clinical work which is conducted outside the classroom may not be included in\\na standard term, unless all of the following apply:\\nAll students in the program must participate in the practicum or clinical experience, and they must be required to\\ncomplete the practicum or clinical experi...)\n"
     ]
    },
    {
     "name": "stderr",
     "output_type": "stream",
     "text": [
      "2025-08-04 21:16:17,466 - src.core.graph_rag_functions - INFO - ✅ Generated response with 917 characters\n",
      "2025-08-04 21:16:17,469 - src.agents.llm_tools_for_toolbelt - INFO - ✅ [Naive Tool] Generated response with 5 contexts\n",
      "2025-08-04 21:16:17,474 - src.agents.build_graph_agent - INFO - 🧠 LLM processing 3 messages\n"
     ]
    },
    {
     "name": "stdout",
     "output_type": "stream",
     "text": [
      "_______________________________________________________invoke_llm - 2.5s, 0.0min\n"
     ]
    },
    {
     "name": "stderr",
     "output_type": "stream",
     "text": [
      "2025-08-04 21:16:19,580 - src.agents.build_graph_agent - INFO - 📝 LLM generated response with 629 characters\n",
      "2025-08-04 21:16:19,583 - src.agents.build_graph_agent - INFO - ✅ Agent conversation complete, no more tool calls needed\n",
      "2025-08-04 21:16:19,596 - src.agents.build_graph_agent - INFO - 🧠 LLM processing 1 messages\n",
      "2025-08-04 21:16:20,423 - src.agents.build_graph_agent - INFO - 📝 LLM generated response with 0 characters\n",
      "2025-08-04 21:16:20,426 - src.agents.build_graph_agent - INFO - 🔧 Agent requesting 1 tool calls\n",
      "2025-08-04 21:16:20,433 - src.agents.llm_tools_for_toolbelt - INFO - 🔍 [Naive Tool] Processing question: What are the conditions under which a program measuring progress in credit-hours is considered to ha...\n",
      "2025-08-04 21:16:20,506 - src.core.graph_rag_functions - INFO - 🔍 [Naive] Retrieving docs for: What are the conditions under which a program measuring progress in credit-hours is considered to ha...\n",
      "2025-08-04 21:16:20,897 - src.core.graph_rag_functions - INFO - 📚 [Naive] Retrieved 5 documents with relevance scores\n",
      "2025-08-04 21:16:20,900 - src.core.graph_rag_functions - INFO - 🤖 [Generate Function] Executing LLM call for question: What are the conditions under which a program meas...\n",
      "2025-08-04 21:16:20,901 - src.core.graph_rag_functions - INFO - 🤖 Generating response using 5 context documents\n"
     ]
    },
    {
     "name": "stdout",
     "output_type": "stream",
     "text": [
      "________________________________________________________________________________\n",
      "[Memory] Calling src.core.graph_rag_functions.invoke_llm...\n",
      "invoke_llm([ HumanMessage(content='\\nYou are a helpful assistant who answers questions based on provided context. You must only use the provided context, and cannot use your own knowledge.\\n\\n### Question\\nWhat are the conditions under which a program measuring progress in credit-hours is considered to have a non-term calendar?\\n\\n### Context\\nmust include a minimum of nine weeks.\\nSemesters, trimesters, or quarters are also considered to be nonstandard terms if academic progress is not measured in\\nthe manner normally associated with the type of term. For example, if a program is offered in 15-week semesters but\\nmeasures academic progress in quarter credit hours, the semesters would be considered non...)\n"
     ]
    },
    {
     "name": "stderr",
     "output_type": "stream",
     "text": [
      "2025-08-04 21:16:22,968 - src.core.graph_rag_functions - INFO - ✅ Generated response with 992 characters\n",
      "2025-08-04 21:16:22,971 - src.agents.llm_tools_for_toolbelt - INFO - ✅ [Naive Tool] Generated response with 5 contexts\n",
      "2025-08-04 21:16:22,978 - src.agents.build_graph_agent - INFO - 🧠 LLM processing 3 messages\n"
     ]
    },
    {
     "name": "stdout",
     "output_type": "stream",
     "text": [
      "_______________________________________________________invoke_llm - 2.1s, 0.0min\n"
     ]
    },
    {
     "name": "stderr",
     "output_type": "stream",
     "text": [
      "2025-08-04 21:16:25,037 - src.agents.build_graph_agent - INFO - 📝 LLM generated response with 723 characters\n",
      "2025-08-04 21:16:25,040 - src.agents.build_graph_agent - INFO - ✅ Agent conversation complete, no more tool calls needed\n",
      "2025-08-04 21:16:25,052 - src.agents.build_graph_agent - INFO - 🧠 LLM processing 1 messages\n",
      "2025-08-04 21:16:26,569 - src.agents.build_graph_agent - INFO - 📝 LLM generated response with 0 characters\n",
      "2025-08-04 21:16:26,572 - src.agents.build_graph_agent - INFO - 🔧 Agent requesting 1 tool calls\n",
      "2025-08-04 21:16:26,579 - src.agents.llm_tools_for_toolbelt - INFO - 🔍 [Naive Tool] Processing question: If a student receiving a Pell Grant in a clock-hour or non-term credit-hour program finishes more we...\n",
      "2025-08-04 21:16:26,583 - src.core.graph_rag_functions - INFO - 🔍 [Naive] Retrieving docs for: If a student receiving a Pell Grant in a clock-hour or non-term credit-hour program finishes more we...\n",
      "2025-08-04 21:16:26,978 - src.core.graph_rag_functions - INFO - 📚 [Naive] Retrieved 5 documents with relevance scores\n",
      "2025-08-04 21:16:26,983 - src.core.graph_rag_functions - INFO - 🤖 [Generate Function] Executing LLM call for question: If a student receiving a Pell Grant in a clock-hou...\n",
      "2025-08-04 21:16:26,985 - src.core.graph_rag_functions - INFO - 🤖 Generating response using 5 context documents\n"
     ]
    },
    {
     "name": "stdout",
     "output_type": "stream",
     "text": [
      "________________________________________________________________________________\n",
      "[Memory] Calling src.core.graph_rag_functions.invoke_llm...\n",
      "invoke_llm([ HumanMessage(content='\\nYou are a helpful assistant who answers questions based on provided context. You must only use the provided context, and cannot use your own knowledge.\\n\\n### Question\\nIf a student receiving a Pell Grant in a clock-hour or non-term credit-hour program finishes more weeks or hours faster than scheduled, how does that affect their Pell Grant disbursement? Do they get more Pell Grant money or do the payment periods change?\\n\\n### Context\\nboth the credit or clock hours and the weeks of instructional time in a payment period before receiving a disbursement of\\nPell Grant, FSEOG, TEACH Grant or Direct Loan funds for the next payment period. For the Direct Loan Program o...)\n"
     ]
    },
    {
     "name": "stderr",
     "output_type": "stream",
     "text": [
      "2025-08-04 21:16:28,823 - src.core.graph_rag_functions - INFO - ✅ Generated response with 855 characters\n",
      "2025-08-04 21:16:28,825 - src.agents.llm_tools_for_toolbelt - INFO - ✅ [Naive Tool] Generated response with 5 contexts\n",
      "2025-08-04 21:16:28,830 - src.agents.build_graph_agent - INFO - 🧠 LLM processing 3 messages\n"
     ]
    },
    {
     "name": "stdout",
     "output_type": "stream",
     "text": [
      "_______________________________________________________invoke_llm - 1.8s, 0.0min\n"
     ]
    },
    {
     "name": "stderr",
     "output_type": "stream",
     "text": [
      "2025-08-04 21:16:30,345 - src.agents.build_graph_agent - INFO - 📝 LLM generated response with 581 characters\n",
      "2025-08-04 21:16:30,348 - src.agents.build_graph_agent - INFO - ✅ Agent conversation complete, no more tool calls needed\n",
      "2025-08-04 21:16:30,361 - src.agents.build_graph_agent - INFO - 🧠 LLM processing 1 messages\n",
      "2025-08-04 21:16:31,290 - src.agents.build_graph_agent - INFO - 📝 LLM generated response with 0 characters\n",
      "2025-08-04 21:16:31,295 - src.agents.build_graph_agent - INFO - 🔧 Agent requesting 1 tool calls\n",
      "2025-08-04 21:16:31,302 - src.agents.llm_tools_for_toolbelt - INFO - 🔍 [Naive Tool] Processing question: How do disbursement timing rules for federal student aid differ between clock-hour or non-term credi...\n",
      "2025-08-04 21:16:31,306 - src.core.graph_rag_functions - INFO - 🔍 [Naive] Retrieving docs for: How do disbursement timing rules for federal student aid differ between clock-hour or non-term credi...\n",
      "2025-08-04 21:16:34,017 - src.core.graph_rag_functions - INFO - 📚 [Naive] Retrieved 5 documents with relevance scores\n",
      "2025-08-04 21:16:34,022 - src.core.graph_rag_functions - INFO - 🤖 [Generate Function] Executing LLM call for question: How do disbursement timing rules for federal stude...\n",
      "2025-08-04 21:16:34,023 - src.core.graph_rag_functions - INFO - 🤖 Generating response using 5 context documents\n"
     ]
    },
    {
     "name": "stdout",
     "output_type": "stream",
     "text": [
      "________________________________________________________________________________\n",
      "[Memory] Calling src.core.graph_rag_functions.invoke_llm...\n",
      "invoke_llm([ HumanMessage(content='\\nYou are a helpful assistant who answers questions based on provided context. You must only use the provided context, and cannot use your own knowledge.\\n\\n### Question\\nHow do disbursement timing rules for federal student aid differ between clock-hour or non-term credit-hour programs and subscription-based programs, especially regarding when students become eligible for their next disbursement?\\n\\n### Context\\nterm, provided that the student is still making satisfactory academic progress under the school9s policy.\\nDisbursement Timing in Clock-Hour, Non-Term, and Certain Nonstandard Term Programs\\nA student who is enrolled in a credit-hour program without terms or i...)\n"
     ]
    },
    {
     "name": "stderr",
     "output_type": "stream",
     "text": [
      "2025-08-04 21:16:37,691 - src.core.graph_rag_functions - INFO - ✅ Generated response with 1773 characters\n",
      "2025-08-04 21:16:37,693 - src.agents.llm_tools_for_toolbelt - INFO - ✅ [Naive Tool] Generated response with 5 contexts\n",
      "2025-08-04 21:16:37,701 - src.agents.build_graph_agent - INFO - 🧠 LLM processing 3 messages\n"
     ]
    },
    {
     "name": "stdout",
     "output_type": "stream",
     "text": [
      "_______________________________________________________invoke_llm - 3.7s, 0.1min\n"
     ]
    },
    {
     "name": "stderr",
     "output_type": "stream",
     "text": [
      "2025-08-04 21:16:40,949 - src.agents.build_graph_agent - INFO - 📝 LLM generated response with 1763 characters\n",
      "2025-08-04 21:16:40,955 - src.agents.build_graph_agent - INFO - ✅ Agent conversation complete, no more tool calls needed\n",
      "2025-08-04 21:16:40,968 - src.agents.build_graph_agent - INFO - 🧠 LLM processing 1 messages\n",
      "2025-08-04 21:16:41,979 - src.agents.build_graph_agent - INFO - 📝 LLM generated response with 0 characters\n",
      "2025-08-04 21:16:41,983 - src.agents.build_graph_agent - INFO - 🔧 Agent requesting 1 tool calls\n",
      "2025-08-04 21:16:41,991 - src.agents.llm_tools_for_toolbelt - INFO - 🔍 [Naive Tool] Processing question: What are the differences in disbursement timing requirements for federal student aid between clock-h...\n",
      "2025-08-04 21:16:41,995 - src.core.graph_rag_functions - INFO - 🔍 [Naive] Retrieving docs for: What are the differences in disbursement timing requirements for federal student aid between clock-h...\n",
      "2025-08-04 21:16:42,375 - src.core.graph_rag_functions - INFO - 📚 [Naive] Retrieved 5 documents with relevance scores\n",
      "2025-08-04 21:16:42,378 - src.core.graph_rag_functions - INFO - 🤖 [Generate Function] Executing LLM call for question: What are the differences in disbursement timing re...\n",
      "2025-08-04 21:16:42,379 - src.core.graph_rag_functions - INFO - 🤖 Generating response using 5 context documents\n"
     ]
    },
    {
     "name": "stdout",
     "output_type": "stream",
     "text": [
      "________________________________________________________________________________\n",
      "[Memory] Calling src.core.graph_rag_functions.invoke_llm...\n",
      "invoke_llm([ HumanMessage(content='\\nYou are a helpful assistant who answers questions based on provided context. You must only use the provided context, and cannot use your own knowledge.\\n\\n### Question\\nWhat are the differences in disbursement timing requirements for federal student aid between clock-hour or non-term credit-hour programs and subscription-based programs?\\n\\n### Context\\nterm, provided that the student is still making satisfactory academic progress under the school9s policy.\\nDisbursement Timing in Clock-Hour, Non-Term, and Certain Nonstandard Term Programs\\nA student who is enrolled in a credit-hour program without terms or in a clock-hour program must successfully complete\\nNote: We...)\n"
     ]
    },
    {
     "name": "stderr",
     "output_type": "stream",
     "text": [
      "2025-08-04 21:16:45,666 - src.core.graph_rag_functions - INFO - ✅ Generated response with 1040 characters\n",
      "2025-08-04 21:16:45,668 - src.agents.llm_tools_for_toolbelt - INFO - ✅ [Naive Tool] Generated response with 5 contexts\n",
      "2025-08-04 21:16:45,675 - src.agents.build_graph_agent - INFO - 🧠 LLM processing 3 messages\n"
     ]
    },
    {
     "name": "stdout",
     "output_type": "stream",
     "text": [
      "_______________________________________________________invoke_llm - 3.3s, 0.1min\n"
     ]
    },
    {
     "name": "stderr",
     "output_type": "stream",
     "text": [
      "2025-08-04 21:16:48,865 - src.agents.build_graph_agent - INFO - 📝 LLM generated response with 1517 characters\n",
      "2025-08-04 21:16:48,867 - src.agents.build_graph_agent - INFO - ✅ Agent conversation complete, no more tool calls needed\n",
      "2025-08-04 21:16:48,880 - src.agents.build_graph_agent - INFO - 🧠 LLM processing 1 messages\n",
      "2025-08-04 21:16:49,917 - src.agents.build_graph_agent - INFO - 📝 LLM generated response with 0 characters\n",
      "2025-08-04 21:16:49,921 - src.agents.build_graph_agent - INFO - 🔧 Agent requesting 1 tool calls\n",
      "2025-08-04 21:16:49,930 - src.agents.llm_tools_for_toolbelt - INFO - 🔍 [Naive Tool] Processing question: How does the disbursement timing for federal student aid differ between clock-hour or non-term credi...\n",
      "2025-08-04 21:16:49,934 - src.core.graph_rag_functions - INFO - 🔍 [Naive] Retrieving docs for: How does the disbursement timing for federal student aid differ between clock-hour or non-term credi...\n",
      "2025-08-04 21:16:50,267 - src.core.graph_rag_functions - INFO - 📚 [Naive] Retrieved 5 documents with relevance scores\n",
      "2025-08-04 21:16:50,270 - src.core.graph_rag_functions - INFO - 🤖 [Generate Function] Executing LLM call for question: How does the disbursement timing for federal stude...\n",
      "2025-08-04 21:16:50,272 - src.core.graph_rag_functions - INFO - 🤖 Generating response using 5 context documents\n"
     ]
    },
    {
     "name": "stdout",
     "output_type": "stream",
     "text": [
      "________________________________________________________________________________\n",
      "[Memory] Calling src.core.graph_rag_functions.invoke_llm...\n",
      "invoke_llm([ HumanMessage(content='\\nYou are a helpful assistant who answers questions based on provided context. You must only use the provided context, and cannot use your own knowledge.\\n\\n### Question\\nHow does the disbursement timing for federal student aid differ between clock-hour or non-term credit-hour programs and subscription-based programs, particularly regarding the requirements students must meet before receiving subsequent disbursements?\\n\\n### Context\\nterm, provided that the student is still making satisfactory academic progress under the school9s policy.\\nDisbursement Timing in Clock-Hour, Non-Term, and Certain Nonstandard Term Programs\\nA student who is enrolled in a credit-hour prog...)\n"
     ]
    },
    {
     "name": "stderr",
     "output_type": "stream",
     "text": [
      "2025-08-04 21:16:54,219 - src.core.graph_rag_functions - INFO - ✅ Generated response with 1035 characters\n",
      "2025-08-04 21:16:54,223 - src.agents.llm_tools_for_toolbelt - INFO - ✅ [Naive Tool] Generated response with 5 contexts\n",
      "2025-08-04 21:16:54,229 - src.agents.build_graph_agent - INFO - 🧠 LLM processing 3 messages\n"
     ]
    },
    {
     "name": "stdout",
     "output_type": "stream",
     "text": [
      "_______________________________________________________invoke_llm - 3.9s, 0.1min\n"
     ]
    },
    {
     "name": "stderr",
     "output_type": "stream",
     "text": [
      "2025-08-04 21:16:56,897 - src.agents.build_graph_agent - INFO - 📝 LLM generated response with 1242 characters\n",
      "2025-08-04 21:16:56,901 - src.agents.build_graph_agent - INFO - ✅ Agent conversation complete, no more tool calls needed\n",
      "2025-08-04 21:16:56,910 - src.agents.build_graph_agent - INFO - 🧠 LLM processing 1 messages\n",
      "2025-08-04 21:16:57,816 - src.agents.build_graph_agent - INFO - 📝 LLM generated response with 0 characters\n",
      "2025-08-04 21:16:57,819 - src.agents.build_graph_agent - INFO - 🔧 Agent requesting 1 tool calls\n",
      "2025-08-04 21:16:57,827 - src.agents.llm_tools_for_toolbelt - INFO - 🔍 [Naive Tool] Processing question: How does the disbursement timing for federal student aid differ between standard clock-hour or non-t...\n",
      "2025-08-04 21:16:57,832 - src.core.graph_rag_functions - INFO - 🔍 [Naive] Retrieving docs for: How does the disbursement timing for federal student aid differ between standard clock-hour or non-t...\n",
      "2025-08-04 21:16:58,142 - src.core.graph_rag_functions - INFO - 📚 [Naive] Retrieved 5 documents with relevance scores\n",
      "2025-08-04 21:16:58,146 - src.core.graph_rag_functions - INFO - 🤖 [Generate Function] Executing LLM call for question: How does the disbursement timing for federal stude...\n",
      "2025-08-04 21:16:58,147 - src.core.graph_rag_functions - INFO - 🤖 Generating response using 5 context documents\n"
     ]
    },
    {
     "name": "stdout",
     "output_type": "stream",
     "text": [
      "________________________________________________________________________________\n",
      "[Memory] Calling src.core.graph_rag_functions.invoke_llm...\n",
      "invoke_llm([ HumanMessage(content='\\nYou are a helpful assistant who answers questions based on provided context. You must only use the provided context, and cannot use your own knowledge.\\n\\n### Question\\nHow does the disbursement timing for federal student aid differ between standard clock-hour or non-term credit-hour programs and subscription-based programs, particularly regarding the requirements a student must meet before receiving subsequent disbursements?\\n\\n### Context\\nterm, provided that the student is still making satisfactory academic progress under the school9s policy.\\nDisbursement Timing in Clock-Hour, Non-Term, and Certain Nonstandard Term Programs\\nA student who is enrolled in a credit...)\n"
     ]
    },
    {
     "name": "stderr",
     "output_type": "stream",
     "text": [
      "2025-08-04 21:17:01,453 - src.core.graph_rag_functions - INFO - ✅ Generated response with 1116 characters\n",
      "2025-08-04 21:17:01,455 - src.agents.llm_tools_for_toolbelt - INFO - ✅ [Naive Tool] Generated response with 5 contexts\n",
      "2025-08-04 21:17:01,463 - src.agents.build_graph_agent - INFO - 🧠 LLM processing 3 messages\n"
     ]
    },
    {
     "name": "stdout",
     "output_type": "stream",
     "text": [
      "_______________________________________________________invoke_llm - 3.3s, 0.1min\n"
     ]
    },
    {
     "name": "stderr",
     "output_type": "stream",
     "text": [
      "2025-08-04 21:17:03,965 - src.agents.build_graph_agent - INFO - 📝 LLM generated response with 991 characters\n",
      "2025-08-04 21:17:03,968 - src.agents.build_graph_agent - INFO - ✅ Agent conversation complete, no more tool calls needed\n",
      "2025-08-04 21:17:03,978 - src.agents.build_graph_agent - INFO - 🧠 LLM processing 1 messages\n",
      "2025-08-04 21:17:05,372 - src.agents.build_graph_agent - INFO - 📝 LLM generated response with 0 characters\n",
      "2025-08-04 21:17:05,376 - src.agents.build_graph_agent - INFO - 🔧 Agent requesting 2 tool calls\n",
      "2025-08-04 21:17:05,382 - src.agents.llm_tools_for_toolbelt - INFO - 🔍 [Naive Tool] Processing question: How do the examples in Appendix A and Appendix B illustrate the differences in disbursement timing a...\n",
      "2025-08-04 21:17:05,387 - src.tools.tavily_tools - INFO - 🔍 [StudentAid Search] Searching for: disbursement timing for clock-hour or non-term credit-hour programs\n",
      "2025-08-04 21:17:05,395 - src.core.graph_rag_functions - INFO - 🔍 [Naive] Retrieving docs for: How do the examples in Appendix A and Appendix B illustrate the differences in disbursement timing a...\n",
      "2025-08-04 21:17:06,045 - src.core.graph_rag_functions - INFO - 📚 [Naive] Retrieved 5 documents with relevance scores\n",
      "2025-08-04 21:17:06,051 - src.core.graph_rag_functions - INFO - 🤖 [Generate Function] Executing LLM call for question: How do the examples in Appendix A and Appendix B i...\n",
      "2025-08-04 21:17:06,054 - src.core.graph_rag_functions - INFO - 🤖 Generating response using 5 context documents\n"
     ]
    },
    {
     "name": "stdout",
     "output_type": "stream",
     "text": [
      "________________________________________________________________________________\n",
      "[Memory] Calling src.core.graph_rag_functions.invoke_llm...\n",
      "invoke_llm([ HumanMessage(content='\\nYou are a helpful assistant who answers questions based on provided context. You must only use the provided context, and cannot use your own knowledge.\\n\\n### Question\\nHow do the examples in Appendix A and Appendix B illustrate the differences in disbursement timing and eligibility requirements for students in clock-hour or non-term credit-hour programs versus subscription-based programs?\\n\\n### Context\\nPayment Periods for Clock-Hour and Non-Term Programs\\nFor all clock-hour programs and for credit-hour programs that do not have academic terms, payment periods are defined\\nbased on a student9s successful completion of clock or credit hours and weeks of instruction...)\n"
     ]
    },
    {
     "name": "stderr",
     "output_type": "stream",
     "text": [
      "2025-08-04 21:17:07,843 - src.core.graph_rag_functions - INFO - ✅ Generated response with 930 characters\n",
      "2025-08-04 21:17:07,845 - src.agents.llm_tools_for_toolbelt - INFO - ✅ [Naive Tool] Generated response with 5 contexts\n"
     ]
    },
    {
     "name": "stdout",
     "output_type": "stream",
     "text": [
      "_______________________________________________________invoke_llm - 1.8s, 0.0min\n"
     ]
    },
    {
     "name": "stderr",
     "output_type": "stream",
     "text": [
      "2025-08-04 21:17:10,127 - src.tools.tavily_tools - INFO - 📚 [StudentAid Search] Found 3 results\n",
      "2025-08-04 21:17:10,133 - src.agents.build_graph_agent - INFO - 🧠 LLM processing 4 messages\n",
      "2025-08-04 21:17:12,704 - src.agents.build_graph_agent - INFO - 📝 LLM generated response with 1435 characters\n",
      "2025-08-04 21:17:12,708 - src.agents.build_graph_agent - INFO - ✅ Agent conversation complete, no more tool calls needed\n",
      "2025-08-04 21:17:12,720 - src.agents.build_graph_agent - INFO - 🧠 LLM processing 1 messages\n",
      "2025-08-04 21:17:13,973 - src.agents.build_graph_agent - INFO - 📝 LLM generated response with 0 characters\n",
      "2025-08-04 21:17:13,977 - src.agents.build_graph_agent - INFO - 🔧 Agent requesting 2 tool calls\n",
      "2025-08-04 21:17:13,985 - src.tools.tavily_tools - INFO - 🔍 [StudentAid Search] Searching for: disbursement timing rules for Title IV funds in subscription-based programs\n",
      "2025-08-04 21:17:13,989 - src.tools.tavily_tools - INFO - 🔍 [StudentAid Search] Searching for: Volume 8, Chapter 3 guidance for clinical work\n",
      "2025-08-04 21:17:21,422 - src.tools.tavily_tools - INFO - 📚 [StudentAid Search] Found 3 results\n",
      "2025-08-04 21:17:21,424 - src.tools.tavily_tools - INFO - 📚 [StudentAid Search] Found 3 results\n",
      "2025-08-04 21:17:21,431 - src.agents.build_graph_agent - INFO - 🧠 LLM processing 4 messages\n",
      "2025-08-04 21:17:23,945 - src.agents.build_graph_agent - INFO - 📝 LLM generated response with 829 characters\n",
      "2025-08-04 21:17:23,948 - src.agents.build_graph_agent - INFO - ✅ Agent conversation complete, no more tool calls needed\n",
      "2025-08-04 21:17:23,959 - src.agents.build_graph_agent - INFO - 🧠 LLM processing 1 messages\n",
      "2025-08-04 21:17:25,283 - src.agents.build_graph_agent - INFO - 📝 LLM generated response with 0 characters\n",
      "2025-08-04 21:17:25,287 - src.agents.build_graph_agent - INFO - 🔧 Agent requesting 1 tool calls\n",
      "2025-08-04 21:17:25,295 - src.agents.llm_tools_for_toolbelt - INFO - 🔍 [Naive Tool] Processing question: How do Volume 8 Chapter 6 and Volume 8 Chapter 3 discuss nonstandard terms and direct loan rules for...\n",
      "2025-08-04 21:17:25,301 - src.core.graph_rag_functions - INFO - 🔍 [Naive] Retrieving docs for: How do Volume 8 Chapter 6 and Volume 8 Chapter 3 discuss nonstandard terms and direct loan rules for...\n",
      "2025-08-04 21:17:26,441 - src.core.graph_rag_functions - INFO - 📚 [Naive] Retrieved 5 documents with relevance scores\n",
      "2025-08-04 21:17:26,445 - src.core.graph_rag_functions - INFO - 🤖 [Generate Function] Executing LLM call for question: How do Volume 8 Chapter 6 and Volume 8 Chapter 3 d...\n",
      "2025-08-04 21:17:26,447 - src.core.graph_rag_functions - INFO - 🤖 Generating response using 5 context documents\n"
     ]
    },
    {
     "name": "stdout",
     "output_type": "stream",
     "text": [
      "________________________________________________________________________________\n",
      "[Memory] Calling src.core.graph_rag_functions.invoke_llm...\n",
      "invoke_llm([ HumanMessage(content='\\nYou are a helpful assistant who answers questions based on provided context. You must only use the provided context, and cannot use your own knowledge.\\n\\n### Question\\nHow do Volume 8 Chapter 6 and Volume 8 Chapter 3 discuss nonstandard terms and direct loan rules for subscription-based and clinical work programs?\\n\\n### Context\\nnot limited to, allopathic, osteopathic, nursing, veterinary, dentistry, pharmacy, and physical therapy), and student\\nteaching required to obtain a state teaching certificate.\\nSee Volume 8, Chapter 3 for additional guidance on certain exceptions to the normal loan period and disbursement timing\\nrules for Direct Loans when clinical work ...)\n"
     ]
    },
    {
     "name": "stderr",
     "output_type": "stream",
     "text": [
      "2025-08-04 21:17:28,321 - src.core.graph_rag_functions - INFO - ✅ Generated response with 459 characters\n",
      "2025-08-04 21:17:28,324 - src.agents.llm_tools_for_toolbelt - INFO - ✅ [Naive Tool] Generated response with 5 contexts\n",
      "2025-08-04 21:17:28,331 - src.agents.build_graph_agent - INFO - 🧠 LLM processing 3 messages\n"
     ]
    },
    {
     "name": "stdout",
     "output_type": "stream",
     "text": [
      "_______________________________________________________invoke_llm - 1.8s, 0.0min\n"
     ]
    },
    {
     "name": "stderr",
     "output_type": "stream",
     "text": [
      "2025-08-04 21:17:32,001 - src.agents.build_graph_agent - INFO - 📝 LLM generated response with 1642 characters\n",
      "2025-08-04 21:17:32,005 - src.agents.build_graph_agent - INFO - ✅ Agent conversation complete, no more tool calls needed\n",
      "2025-08-04 21:17:32,018 - src.agents.build_graph_agent - INFO - 🧠 LLM processing 1 messages\n",
      "2025-08-04 21:17:36,227 - src.agents.build_graph_agent - INFO - 📝 LLM generated response with 0 characters\n",
      "2025-08-04 21:17:36,231 - src.agents.build_graph_agent - INFO - 🔧 Agent requesting 2 tool calls\n",
      "2025-08-04 21:17:36,240 - src.tools.tavily_tools - INFO - 🔍 [StudentAid Search] Searching for: Pell Grant disbursement requirements for clock-hour or non-term credit-hour programs\n",
      "2025-08-04 21:17:36,246 - src.tools.tavily_tools - INFO - 🔍 [StudentAid Search] Searching for: Pell Grant disbursement requirements for subscription-based academic calendars\n",
      "2025-08-04 21:17:43,387 - src.tools.tavily_tools - INFO - 📚 [StudentAid Search] Found 3 results\n",
      "2025-08-04 21:17:43,640 - src.tools.tavily_tools - INFO - 📚 [StudentAid Search] Found 3 results\n",
      "2025-08-04 21:17:43,645 - src.agents.build_graph_agent - INFO - 🧠 LLM processing 4 messages\n",
      "2025-08-04 21:17:47,632 - src.agents.build_graph_agent - INFO - 📝 LLM generated response with 1746 characters\n",
      "2025-08-04 21:17:47,636 - src.agents.build_graph_agent - INFO - ✅ Agent conversation complete, no more tool calls needed\n"
     ]
    },
    {
     "name": "stdout",
     "output_type": "stream",
     "text": [
      "CPU times: user 5.62 s, sys: 3.89 s, total: 9.51 s\n",
      "Wall time: 1min 39s\n"
     ]
    }
   ],
   "source": [
    "%%time\n",
    "golden_master_dataset = generate_responses_for_golden_dataset(golden_master_dataset, naive_graph_agent)"
   ]
  },
  {
   "cell_type": "code",
   "execution_count": 31,
   "metadata": {
    "scrolled": true
   },
   "outputs": [
    {
     "data": {
      "text/html": [
       "<div>\n",
       "<style scoped>\n",
       "    .dataframe tbody tr th:only-of-type {\n",
       "        vertical-align: middle;\n",
       "    }\n",
       "\n",
       "    .dataframe tbody tr th {\n",
       "        vertical-align: top;\n",
       "    }\n",
       "\n",
       "    .dataframe thead th {\n",
       "        text-align: right;\n",
       "    }\n",
       "</style>\n",
       "<table border=\"1\" class=\"dataframe\">\n",
       "  <thead>\n",
       "    <tr style=\"text-align: right;\">\n",
       "      <th></th>\n",
       "      <th>user_input</th>\n",
       "      <th>retrieved_contexts</th>\n",
       "      <th>reference_contexts</th>\n",
       "      <th>response</th>\n",
       "      <th>reference</th>\n",
       "      <th>synthesizer_name</th>\n",
       "      <th>tools_used</th>\n",
       "      <th>num_contexts</th>\n",
       "    </tr>\n",
       "  </thead>\n",
       "  <tbody>\n",
       "    <tr>\n",
       "      <th>0</th>\n",
       "      <td>How is the Pell Grant award calculated for stu...</td>\n",
       "      <td>[StudentAid.gov Search Results for: Pell Grant...</td>\n",
       "      <td>[non-term (includes clock-hour calendars), or ...</td>\n",
       "      <td>Pell Grant awards are primarily based on finan...</td>\n",
       "      <td>For students in subscription-based academic ca...</td>\n",
       "      <td>single_hop_specifc_query_synthesizer</td>\n",
       "      <td>[None, StudentAid_Federal_Search]</td>\n",
       "      <td>5</td>\n",
       "    </tr>\n",
       "    <tr>\n",
       "      <th>1</th>\n",
       "      <td>Are veterinary clinical experiences allowed to...</td>\n",
       "      <td>[Inclusion of Clinical Work in a Standard Term...</td>\n",
       "      <td>[Inclusion of Clinical Work in a Standard Term...</td>\n",
       "      <td>Yes, veterinary clinical experiences are allow...</td>\n",
       "      <td>Yes, veterinary clinical experiences may be in...</td>\n",
       "      <td>single_hop_specifc_query_synthesizer</td>\n",
       "      <td>[None, ask_naive_llm_tool]</td>\n",
       "      <td>5</td>\n",
       "    </tr>\n",
       "    <tr>\n",
       "      <th>2</th>\n",
       "      <td>Whaat are the condishuns under wich a program ...</td>\n",
       "      <td>[must include a minimum of nine weeks.\\nSemest...</td>\n",
       "      <td>[Non-Term Characteristics A program that measu...</td>\n",
       "      <td>A program measuring progress in credit-hours i...</td>\n",
       "      <td>A program that measures progress in credit-hou...</td>\n",
       "      <td>single_hop_specifc_query_synthesizer</td>\n",
       "      <td>[None, ask_naive_llm_tool]</td>\n",
       "      <td>5</td>\n",
       "    </tr>\n",
       "    <tr>\n",
       "      <th>3</th>\n",
       "      <td>so like if a student gettin Pell Grant in a cl...</td>\n",
       "      <td>[both the credit or clock hours and the weeks ...</td>\n",
       "      <td>[both the credit or clock hours and the weeks ...</td>\n",
       "      <td>Based on the information, if a student receivi...</td>\n",
       "      <td>if a student in a clock-hour or non-term credi...</td>\n",
       "      <td>single_hop_specifc_query_synthesizer</td>\n",
       "      <td>[None, ask_naive_llm_tool]</td>\n",
       "      <td>5</td>\n",
       "    </tr>\n",
       "    <tr>\n",
       "      <th>4</th>\n",
       "      <td>how do disbursement timing rules for federal s...</td>\n",
       "      <td>[term, provided that the student is still maki...</td>\n",
       "      <td>[&lt;1-hop&gt;\\n\\nboth the credit or clock hours and...</td>\n",
       "      <td>The disbursement timing rules for federal stud...</td>\n",
       "      <td>In clock-hour or non-term credit-hour programs...</td>\n",
       "      <td>multi_hop_abstract_query_synthesizer</td>\n",
       "      <td>[None, ask_naive_llm_tool]</td>\n",
       "      <td>5</td>\n",
       "    </tr>\n",
       "    <tr>\n",
       "      <th>5</th>\n",
       "      <td>What are the differences in disbursement timin...</td>\n",
       "      <td>[term, provided that the student is still maki...</td>\n",
       "      <td>[&lt;1-hop&gt;\\n\\nboth the credit or clock hours and...</td>\n",
       "      <td>The disbursement timing requirements for feder...</td>\n",
       "      <td>In clock-hour or non-term credit-hour programs...</td>\n",
       "      <td>multi_hop_abstract_query_synthesizer</td>\n",
       "      <td>[None, ask_naive_llm_tool]</td>\n",
       "      <td>5</td>\n",
       "    </tr>\n",
       "    <tr>\n",
       "      <th>6</th>\n",
       "      <td>How does the disbursement timing for federal s...</td>\n",
       "      <td>[term, provided that the student is still maki...</td>\n",
       "      <td>[&lt;1-hop&gt;\\n\\nboth the credit or clock hours and...</td>\n",
       "      <td>The disbursement timing for federal student ai...</td>\n",
       "      <td>In clock-hour or non-term credit-hour programs...</td>\n",
       "      <td>multi_hop_abstract_query_synthesizer</td>\n",
       "      <td>[None, ask_naive_llm_tool]</td>\n",
       "      <td>5</td>\n",
       "    </tr>\n",
       "    <tr>\n",
       "      <th>7</th>\n",
       "      <td>How does the disbursement timing for federal s...</td>\n",
       "      <td>[term, provided that the student is still maki...</td>\n",
       "      <td>[&lt;1-hop&gt;\\n\\nboth the credit or clock hours and...</td>\n",
       "      <td>In standard clock-hour or non-term credit-hour...</td>\n",
       "      <td>In standard clock-hour or non-term credit-hour...</td>\n",
       "      <td>multi_hop_abstract_query_synthesizer</td>\n",
       "      <td>[None, ask_naive_llm_tool]</td>\n",
       "      <td>5</td>\n",
       "    </tr>\n",
       "    <tr>\n",
       "      <th>8</th>\n",
       "      <td>How do the examples in Appendix A and Appendix...</td>\n",
       "      <td>[Payment Periods for Clock-Hour and Non-Term P...</td>\n",
       "      <td>[&lt;1-hop&gt;\\n\\nboth the credit or clock hours and...</td>\n",
       "      <td>The examples in Appendix A and Appendix B illu...</td>\n",
       "      <td>The examples in Appendix A illustrate the prin...</td>\n",
       "      <td>multi_hop_specific_query_synthesizer</td>\n",
       "      <td>[None, StudentAid_Federal_Search, ask_naive_ll...</td>\n",
       "      <td>10</td>\n",
       "    </tr>\n",
       "    <tr>\n",
       "      <th>9</th>\n",
       "      <td>Wut are the disbursment timing rules for Title...</td>\n",
       "      <td>[StudentAid.gov Search Results for: disburseme...</td>\n",
       "      <td>[&lt;1-hop&gt;\\n\\nDisbursement Timing in Subscriptio...</td>\n",
       "      <td>The disbursement timing rules for Title IV fun...</td>\n",
       "      <td>For the first two subscription periods in a su...</td>\n",
       "      <td>multi_hop_specific_query_synthesizer</td>\n",
       "      <td>[None, StudentAid_Federal_Search]</td>\n",
       "      <td>10</td>\n",
       "    </tr>\n",
       "    <tr>\n",
       "      <th>10</th>\n",
       "      <td>how volume 8 chapter 6 and volume 8 chapter 3 ...</td>\n",
       "      <td>[not limited to, allopathic, osteopathic, nurs...</td>\n",
       "      <td>[&lt;1-hop&gt;\\n\\nnon-term (includes clock-hour cale...</td>\n",
       "      <td>Volume 8 Chapter 6 discusses nonstandard terms...</td>\n",
       "      <td>volume 8 chapter 6 is mentioned as giving more...</td>\n",
       "      <td>multi_hop_specific_query_synthesizer</td>\n",
       "      <td>[None, ask_naive_llm_tool]</td>\n",
       "      <td>5</td>\n",
       "    </tr>\n",
       "    <tr>\n",
       "      <th>11</th>\n",
       "      <td>How do the requirements for Pell Grant disburs...</td>\n",
       "      <td>[StudentAid.gov Search Results for: Pell Grant...</td>\n",
       "      <td>[&lt;1-hop&gt;\\n\\nboth the credit or clock hours and...</td>\n",
       "      <td>The requirements for Pell Grant disbursement a...</td>\n",
       "      <td>In clock-hour or non-term credit-hour programs...</td>\n",
       "      <td>multi_hop_specific_query_synthesizer</td>\n",
       "      <td>[None, StudentAid_Federal_Search]</td>\n",
       "      <td>10</td>\n",
       "    </tr>\n",
       "  </tbody>\n",
       "</table>\n",
       "</div>"
      ],
      "text/plain": [
       "                                           user_input  \\\n",
       "0   How is the Pell Grant award calculated for stu...   \n",
       "1   Are veterinary clinical experiences allowed to...   \n",
       "2   Whaat are the condishuns under wich a program ...   \n",
       "3   so like if a student gettin Pell Grant in a cl...   \n",
       "4   how do disbursement timing rules for federal s...   \n",
       "5   What are the differences in disbursement timin...   \n",
       "6   How does the disbursement timing for federal s...   \n",
       "7   How does the disbursement timing for federal s...   \n",
       "8   How do the examples in Appendix A and Appendix...   \n",
       "9   Wut are the disbursment timing rules for Title...   \n",
       "10  how volume 8 chapter 6 and volume 8 chapter 3 ...   \n",
       "11  How do the requirements for Pell Grant disburs...   \n",
       "\n",
       "                                   retrieved_contexts  \\\n",
       "0   [StudentAid.gov Search Results for: Pell Grant...   \n",
       "1   [Inclusion of Clinical Work in a Standard Term...   \n",
       "2   [must include a minimum of nine weeks.\\nSemest...   \n",
       "3   [both the credit or clock hours and the weeks ...   \n",
       "4   [term, provided that the student is still maki...   \n",
       "5   [term, provided that the student is still maki...   \n",
       "6   [term, provided that the student is still maki...   \n",
       "7   [term, provided that the student is still maki...   \n",
       "8   [Payment Periods for Clock-Hour and Non-Term P...   \n",
       "9   [StudentAid.gov Search Results for: disburseme...   \n",
       "10  [not limited to, allopathic, osteopathic, nurs...   \n",
       "11  [StudentAid.gov Search Results for: Pell Grant...   \n",
       "\n",
       "                                   reference_contexts  \\\n",
       "0   [non-term (includes clock-hour calendars), or ...   \n",
       "1   [Inclusion of Clinical Work in a Standard Term...   \n",
       "2   [Non-Term Characteristics A program that measu...   \n",
       "3   [both the credit or clock hours and the weeks ...   \n",
       "4   [<1-hop>\\n\\nboth the credit or clock hours and...   \n",
       "5   [<1-hop>\\n\\nboth the credit or clock hours and...   \n",
       "6   [<1-hop>\\n\\nboth the credit or clock hours and...   \n",
       "7   [<1-hop>\\n\\nboth the credit or clock hours and...   \n",
       "8   [<1-hop>\\n\\nboth the credit or clock hours and...   \n",
       "9   [<1-hop>\\n\\nDisbursement Timing in Subscriptio...   \n",
       "10  [<1-hop>\\n\\nnon-term (includes clock-hour cale...   \n",
       "11  [<1-hop>\\n\\nboth the credit or clock hours and...   \n",
       "\n",
       "                                             response  \\\n",
       "0   Pell Grant awards are primarily based on finan...   \n",
       "1   Yes, veterinary clinical experiences are allow...   \n",
       "2   A program measuring progress in credit-hours i...   \n",
       "3   Based on the information, if a student receivi...   \n",
       "4   The disbursement timing rules for federal stud...   \n",
       "5   The disbursement timing requirements for feder...   \n",
       "6   The disbursement timing for federal student ai...   \n",
       "7   In standard clock-hour or non-term credit-hour...   \n",
       "8   The examples in Appendix A and Appendix B illu...   \n",
       "9   The disbursement timing rules for Title IV fun...   \n",
       "10  Volume 8 Chapter 6 discusses nonstandard terms...   \n",
       "11  The requirements for Pell Grant disbursement a...   \n",
       "\n",
       "                                            reference  \\\n",
       "0   For students in subscription-based academic ca...   \n",
       "1   Yes, veterinary clinical experiences may be in...   \n",
       "2   A program that measures progress in credit-hou...   \n",
       "3   if a student in a clock-hour or non-term credi...   \n",
       "4   In clock-hour or non-term credit-hour programs...   \n",
       "5   In clock-hour or non-term credit-hour programs...   \n",
       "6   In clock-hour or non-term credit-hour programs...   \n",
       "7   In standard clock-hour or non-term credit-hour...   \n",
       "8   The examples in Appendix A illustrate the prin...   \n",
       "9   For the first two subscription periods in a su...   \n",
       "10  volume 8 chapter 6 is mentioned as giving more...   \n",
       "11  In clock-hour or non-term credit-hour programs...   \n",
       "\n",
       "                        synthesizer_name  \\\n",
       "0   single_hop_specifc_query_synthesizer   \n",
       "1   single_hop_specifc_query_synthesizer   \n",
       "2   single_hop_specifc_query_synthesizer   \n",
       "3   single_hop_specifc_query_synthesizer   \n",
       "4   multi_hop_abstract_query_synthesizer   \n",
       "5   multi_hop_abstract_query_synthesizer   \n",
       "6   multi_hop_abstract_query_synthesizer   \n",
       "7   multi_hop_abstract_query_synthesizer   \n",
       "8   multi_hop_specific_query_synthesizer   \n",
       "9   multi_hop_specific_query_synthesizer   \n",
       "10  multi_hop_specific_query_synthesizer   \n",
       "11  multi_hop_specific_query_synthesizer   \n",
       "\n",
       "                                           tools_used  num_contexts  \n",
       "0                   [None, StudentAid_Federal_Search]             5  \n",
       "1                          [None, ask_naive_llm_tool]             5  \n",
       "2                          [None, ask_naive_llm_tool]             5  \n",
       "3                          [None, ask_naive_llm_tool]             5  \n",
       "4                          [None, ask_naive_llm_tool]             5  \n",
       "5                          [None, ask_naive_llm_tool]             5  \n",
       "6                          [None, ask_naive_llm_tool]             5  \n",
       "7                          [None, ask_naive_llm_tool]             5  \n",
       "8   [None, StudentAid_Federal_Search, ask_naive_ll...            10  \n",
       "9                   [None, StudentAid_Federal_Search]            10  \n",
       "10                         [None, ask_naive_llm_tool]             5  \n",
       "11                  [None, StudentAid_Federal_Search]            10  "
      ]
     },
     "execution_count": 31,
     "metadata": {},
     "output_type": "execute_result"
    }
   ],
   "source": [
    "display_dataset_with_metadata(golden_master_dataset).to_csv('../golden-masters/naive_golden_master_dataset.csv', index=False)\n",
    "display_dataset_with_metadata(golden_master_dataset)"
   ]
  },
  {
   "cell_type": "code",
   "execution_count": 34,
   "metadata": {
    "scrolled": true
   },
   "outputs": [
    {
     "name": "stdout",
     "output_type": "stream",
     "text": [
      "🧪 Running RAGAS evaluation for Naive\n"
     ]
    },
    {
     "data": {
      "application/vnd.jupyter.widget-view+json": {
       "model_id": "31107480a20a41cf874d687eba4bf9f2",
       "version_major": 2,
       "version_minor": 0
      },
      "text/plain": [
       "Evaluating:   0%|          | 0/96 [00:00<?, ?it/s]"
      ]
     },
     "metadata": {},
     "output_type": "display_data"
    },
    {
     "name": "stderr",
     "output_type": "stream",
     "text": [
      "2025-08-04 21:36:07,380 - ragas.executor - ERROR - Exception raised in Job[23]: AttributeError('StringIO' object has no attribute 'statements')\n",
      "2025-08-04 21:43:05,931 - ragas.executor - ERROR - Exception raised in Job[95]: TimeoutError()\n"
     ]
    },
    {
     "name": "stdout",
     "output_type": "stream",
     "text": [
      "✅ Completed  RAGAS evaluation for Naive\n"
     ]
    }
   ],
   "source": [
    "naive_result = run_ragas_evaluation(golden_master_dataset, \"Naive\")"
   ]
  },
  {
   "cell_type": "code",
   "execution_count": 80,
   "metadata": {
    "scrolled": true
   },
   "outputs": [],
   "source": [
    "naive_raw_stats_df = pd.DataFrame([extract_ragas_metrics(naive_result, 'gpt-4.1-mini')])\n",
    "record_metrics_from_run('Naive', naive_raw_stats_df)"
   ]
  },
  {
   "cell_type": "code",
   "execution_count": 81,
   "metadata": {},
   "outputs": [
    {
     "data": {
      "text/html": [
       "<div>\n",
       "<style scoped>\n",
       "    .dataframe tbody tr th:only-of-type {\n",
       "        vertical-align: middle;\n",
       "    }\n",
       "\n",
       "    .dataframe tbody tr th {\n",
       "        vertical-align: top;\n",
       "    }\n",
       "\n",
       "    .dataframe thead th {\n",
       "        text-align: right;\n",
       "    }\n",
       "</style>\n",
       "<table border=\"1\" class=\"dataframe\">\n",
       "  <thead>\n",
       "    <tr style=\"text-align: right;\">\n",
       "      <th></th>\n",
       "      <th>context_recall</th>\n",
       "      <th>faithfulness</th>\n",
       "      <th>factual_correctness</th>\n",
       "      <th>answer_relevancy</th>\n",
       "      <th>context_entity_recall</th>\n",
       "      <th>context_precision</th>\n",
       "      <th>answer_correctness</th>\n",
       "      <th>noise_sensitivity_relevant</th>\n",
       "    </tr>\n",
       "  </thead>\n",
       "  <tbody>\n",
       "    <tr>\n",
       "      <th>0</th>\n",
       "      <td>0.636905</td>\n",
       "      <td>0.904951</td>\n",
       "      <td>0.533333</td>\n",
       "      <td>0.789092</td>\n",
       "      <td>0.255023</td>\n",
       "      <td>0.68922</td>\n",
       "      <td>0.595609</td>\n",
       "      <td>0.170794</td>\n",
       "    </tr>\n",
       "  </tbody>\n",
       "</table>\n",
       "</div>"
      ],
      "text/plain": [
       "   context_recall  faithfulness  factual_correctness  answer_relevancy  \\\n",
       "0        0.636905      0.904951             0.533333          0.789092   \n",
       "\n",
       "   context_entity_recall  context_precision  answer_correctness  \\\n",
       "0               0.255023            0.68922            0.595609   \n",
       "\n",
       "   noise_sensitivity_relevant  \n",
       "0                    0.170794  "
      ]
     },
     "execution_count": 81,
     "metadata": {},
     "output_type": "execute_result"
    }
   ],
   "source": [
    "columns=['context_recall', 'faithfulness', 'factual_correctness', 'answer_relevancy', 'context_entity_recall', \"context_precision\", \n",
    "         \"answer_correctness\", 'noise_sensitivity_relevant']\n",
    "naive_raw_stats_df[columns]"
   ]
  },
  {
   "cell_type": "markdown",
   "metadata": {},
   "source": [
    "### Synthetic Data Generation using RAGAS using the Golden master (Contextual Compression Retriever)"
   ]
  },
  {
   "cell_type": "code",
   "execution_count": 38,
   "metadata": {},
   "outputs": [
    {
     "name": "stderr",
     "output_type": "stream",
     "text": [
      "2025-08-04 21:49:27,048 - src.agents.build_graph_agent - INFO - 🤖 Creating graph agent with 1 additional tools\n",
      "2025-08-04 21:49:27,246 - src.agents.build_graph_agent - INFO - 🔧 Agent toolbelt configured with 5 total tools\n",
      "2025-08-04 21:49:27,249 - src.agents.build_graph_agent - INFO - ✅ Agent graph compiled and ready\n"
     ]
    }
   ],
   "source": [
    "contextual_compression_graph_agent = get_graph_agent([ask_contextual_compression_llm_tool])"
   ]
  },
  {
   "cell_type": "code",
   "execution_count": 42,
   "metadata": {
    "scrolled": true
   },
   "outputs": [
    {
     "data": {
      "application/vnd.jupyter.widget-view+json": {
       "model_id": "8ed9218e41b14a3d860ec3ec5e086e65",
       "version_major": 2,
       "version_minor": 0
      },
      "text/plain": [
       "  0%|          | 0/12 [00:00<?, ?it/s]"
      ]
     },
     "metadata": {},
     "output_type": "display_data"
    },
    {
     "name": "stderr",
     "output_type": "stream",
     "text": [
      "2025-08-04 21:53:20,648 - src.agents.build_graph_agent - INFO - 🧠 LLM processing 1 messages\n",
      "2025-08-04 21:55:21,420 - src.agents.build_graph_agent - INFO - 📝 LLM generated response with 0 characters\n",
      "2025-08-04 21:55:21,425 - src.agents.build_graph_agent - INFO - 🔧 Agent requesting 1 tool calls\n",
      "2025-08-04 21:55:21,439 - src.tools.tavily_tools - INFO - 🔍 [StudentAid Search] Searching for: Pell Grant award calculation for students enrolled in subscription-based academic calendars\n",
      "2025-08-04 21:55:26,909 - src.tools.tavily_tools - INFO - 📚 [StudentAid Search] Found 3 results\n",
      "2025-08-04 21:55:26,916 - src.agents.build_graph_agent - INFO - 🧠 LLM processing 3 messages\n",
      "2025-08-04 21:55:28,567 - src.agents.build_graph_agent - INFO - 📝 LLM generated response with 612 characters\n",
      "2025-08-04 21:55:28,571 - src.agents.build_graph_agent - INFO - ✅ Agent conversation complete, no more tool calls needed\n",
      "2025-08-04 21:55:30,581 - src.agents.build_graph_agent - INFO - 🧠 LLM processing 1 messages\n",
      "2025-08-04 21:55:31,500 - src.agents.build_graph_agent - INFO - 📝 LLM generated response with 0 characters\n",
      "2025-08-04 21:55:31,505 - src.agents.build_graph_agent - INFO - 🔧 Agent requesting 1 tool calls\n",
      "2025-08-04 21:55:31,542 - src.tools.tavily_tools - INFO - 🔍 [StudentAid Search] Searching for: Are veterinary clinical experiences allowed to be included in standard term periods for financial aid purposes?\n",
      "2025-08-04 21:55:37,336 - src.tools.tavily_tools - INFO - 📚 [StudentAid Search] Found 3 results\n",
      "2025-08-04 21:55:37,353 - src.agents.build_graph_agent - INFO - 🧠 LLM processing 3 messages\n",
      "2025-08-04 21:55:38,671 - src.agents.build_graph_agent - INFO - 📝 LLM generated response with 239 characters\n",
      "2025-08-04 21:55:38,675 - src.agents.build_graph_agent - INFO - ✅ Agent conversation complete, no more tool calls needed\n",
      "2025-08-04 21:55:40,687 - src.agents.build_graph_agent - INFO - 🧠 LLM processing 1 messages\n",
      "2025-08-04 21:55:41,288 - src.agents.build_graph_agent - INFO - 📝 LLM generated response with 0 characters\n",
      "2025-08-04 21:55:41,291 - src.agents.build_graph_agent - INFO - 🔧 Agent requesting 1 tool calls\n",
      "2025-08-04 21:55:41,298 - src.tools.tavily_tools - INFO - 🔍 [StudentAid Search] Searching for: program measuring progress in credit-hours non-term calendar\n",
      "2025-08-04 21:55:45,548 - src.tools.tavily_tools - INFO - 📚 [StudentAid Search] Found 3 results\n",
      "2025-08-04 21:55:45,554 - src.agents.build_graph_agent - INFO - 🧠 LLM processing 3 messages\n",
      "2025-08-04 21:55:47,855 - src.agents.build_graph_agent - INFO - 📝 LLM generated response with 685 characters\n",
      "2025-08-04 21:55:47,859 - src.agents.build_graph_agent - INFO - ✅ Agent conversation complete, no more tool calls needed\n",
      "2025-08-04 21:55:49,875 - src.agents.build_graph_agent - INFO - 🧠 LLM processing 1 messages\n",
      "2025-08-04 21:55:50,874 - src.agents.build_graph_agent - INFO - 📝 LLM generated response with 0 characters\n",
      "2025-08-04 21:55:50,877 - src.agents.build_graph_agent - INFO - 🔧 Agent requesting 1 tool calls\n",
      "2025-08-04 21:55:50,888 - src.agents.llm_tools_for_toolbelt - INFO - 🔍 [Contextual Compression Tool] Processing question: If a student receiving a Pell Grant in a clock-hour or non-term credit-hour program finishes more we...\n",
      "2025-08-04 21:55:50,896 - src.core.graph_rag_functions - INFO - 🔍 [Contextual Compression] Retrieving docs for: If a student receiving a Pell Grant in a clock-hour or non-term credit-hour program finishes more we...\n",
      "2025-08-04 21:55:52,722 - src.core.graph_rag_functions - INFO - 📚 [Contextual Compression] Retrieved 3 documents after reranking\n",
      "2025-08-04 21:55:52,726 - src.core.graph_rag_functions - INFO - 🤖 [Generate Function] Executing LLM call for question: If a student receiving a Pell Grant in a clock-hou...\n",
      "2025-08-04 21:55:52,728 - src.core.graph_rag_functions - INFO - 🤖 Generating response using 3 context documents\n"
     ]
    },
    {
     "name": "stdout",
     "output_type": "stream",
     "text": [
      "________________________________________________________________________________\n",
      "[Memory] Calling src.core.graph_rag_functions.invoke_llm...\n",
      "invoke_llm([ HumanMessage(content='\\nYou are a helpful assistant who answers questions based on provided context. You must only use the provided context, and cannot use your own knowledge.\\n\\n### Question\\nIf a student receiving a Pell Grant in a clock-hour or non-term credit-hour program finishes more weeks or hours faster than scheduled, how does that affect their Pell Grant disbursement? Do they get more money, or do the payment periods change?\\n\\n### Context\\nthat are established at the beginning of the program based on the program length (as described earlier in this chapter).\\nThese scheduled payment periods do not change, regardless of a student9s rate of progression through a clock-hour or\\nnon...)\n"
     ]
    },
    {
     "name": "stderr",
     "output_type": "stream",
     "text": [
      "2025-08-04 21:55:55,052 - src.core.graph_rag_functions - INFO - ✅ Generated response with 775 characters\n",
      "2025-08-04 21:55:55,057 - src.agents.llm_tools_for_toolbelt - INFO - ✅ [Contextual Compression Tool] Generated response with 3 reranked contexts\n",
      "2025-08-04 21:55:55,069 - src.agents.build_graph_agent - INFO - 🧠 LLM processing 3 messages\n"
     ]
    },
    {
     "name": "stdout",
     "output_type": "stream",
     "text": [
      "_______________________________________________________invoke_llm - 2.3s, 0.0min\n"
     ]
    },
    {
     "name": "stderr",
     "output_type": "stream",
     "text": [
      "2025-08-04 21:55:56,958 - src.agents.build_graph_agent - INFO - 📝 LLM generated response with 890 characters\n",
      "2025-08-04 21:55:56,963 - src.agents.build_graph_agent - INFO - ✅ Agent conversation complete, no more tool calls needed\n",
      "2025-08-04 21:55:58,978 - src.agents.build_graph_agent - INFO - 🧠 LLM processing 1 messages\n",
      "2025-08-04 21:56:00,381 - src.agents.build_graph_agent - INFO - 📝 LLM generated response with 0 characters\n",
      "2025-08-04 21:56:00,385 - src.agents.build_graph_agent - INFO - 🔧 Agent requesting 2 tool calls\n",
      "2025-08-04 21:56:00,392 - src.tools.tavily_tools - INFO - 🔍 [StudentAid Search] Searching for: disbursement timing rules federal student aid clock-hour vs non-term credit-hour programs\n",
      "2025-08-04 21:56:00,405 - src.tools.tavily_tools - INFO - 🔍 [StudentAid Search] Searching for: disbursement timing rules federal student aid subscription-based programs\n",
      "2025-08-04 21:56:04,023 - src.tools.tavily_tools - INFO - 📚 [StudentAid Search] Found 3 results\n",
      "2025-08-04 21:56:05,468 - src.tools.tavily_tools - INFO - 📚 [StudentAid Search] Found 3 results\n",
      "2025-08-04 21:56:05,475 - src.agents.build_graph_agent - INFO - 🧠 LLM processing 4 messages\n",
      "2025-08-04 21:56:08,826 - src.agents.build_graph_agent - INFO - 📝 LLM generated response with 1526 characters\n",
      "2025-08-04 21:56:08,830 - src.agents.build_graph_agent - INFO - ✅ Agent conversation complete, no more tool calls needed\n",
      "2025-08-04 21:56:10,845 - src.agents.build_graph_agent - INFO - 🧠 LLM processing 1 messages\n",
      "2025-08-04 21:56:11,439 - src.agents.build_graph_agent - INFO - 📝 LLM generated response with 0 characters\n",
      "2025-08-04 21:56:11,442 - src.agents.build_graph_agent - INFO - 🔧 Agent requesting 1 tool calls\n",
      "2025-08-04 21:56:11,448 - src.tools.tavily_tools - INFO - 🔍 [StudentAid Search] Searching for: disbursement timing requirements for federal student aid\n",
      "2025-08-04 21:56:14,743 - src.tools.tavily_tools - INFO - 📚 [StudentAid Search] Found 3 results\n",
      "2025-08-04 21:56:14,750 - src.agents.build_graph_agent - INFO - 🧠 LLM processing 3 messages\n",
      "2025-08-04 21:56:17,695 - src.agents.build_graph_agent - INFO - 📝 LLM generated response with 1121 characters\n",
      "2025-08-04 21:56:17,698 - src.agents.build_graph_agent - INFO - ✅ Agent conversation complete, no more tool calls needed\n",
      "2025-08-04 21:56:19,712 - src.agents.build_graph_agent - INFO - 🧠 LLM processing 1 messages\n",
      "2025-08-04 21:56:20,267 - src.agents.build_graph_agent - INFO - 📝 LLM generated response with 0 characters\n",
      "2025-08-04 21:56:20,270 - src.agents.build_graph_agent - INFO - 🔧 Agent requesting 1 tool calls\n",
      "2025-08-04 21:56:20,277 - src.tools.tavily_tools - INFO - 🔍 [StudentAid Search] Searching for: disbursement timing federal student aid\n",
      "2025-08-04 21:56:23,832 - src.tools.tavily_tools - INFO - 📚 [StudentAid Search] Found 3 results\n",
      "2025-08-04 21:56:23,838 - src.agents.build_graph_agent - INFO - 🧠 LLM processing 3 messages\n",
      "2025-08-04 21:56:24,790 - src.agents.build_graph_agent - INFO - 📝 LLM generated response with 0 characters\n",
      "2025-08-04 21:56:24,794 - src.agents.build_graph_agent - INFO - 🔧 Agent requesting 2 tool calls\n",
      "2025-08-04 21:56:24,805 - src.tools.tavily_tools - INFO - 🔍 [StudentAid Search] Searching for: disbursement timing for subscription-based programs\n",
      "2025-08-04 21:56:24,807 - src.tools.tavily_tools - INFO - 🔍 [StudentAid Search] Searching for: disbursement timing for clock-hour or non-term credit-hour programs\n",
      "2025-08-04 21:56:26,395 - src.tools.tavily_tools - INFO - 📚 [StudentAid Search] Found 3 results\n",
      "2025-08-04 21:56:28,303 - src.tools.tavily_tools - INFO - 📚 [StudentAid Search] Found 3 results\n",
      "2025-08-04 21:56:28,317 - src.agents.build_graph_agent - INFO - 🧠 LLM processing 6 messages\n",
      "2025-08-04 21:56:30,508 - src.agents.build_graph_agent - INFO - 📝 LLM generated response with 1254 characters\n",
      "2025-08-04 21:56:30,515 - src.agents.build_graph_agent - INFO - ✅ Agent conversation complete, no more tool calls needed\n",
      "2025-08-04 21:56:32,532 - src.agents.build_graph_agent - INFO - 🧠 LLM processing 1 messages\n",
      "2025-08-04 21:56:33,056 - src.agents.build_graph_agent - INFO - 📝 LLM generated response with 0 characters\n",
      "2025-08-04 21:56:33,060 - src.agents.build_graph_agent - INFO - 🔧 Agent requesting 1 tool calls\n",
      "2025-08-04 21:56:33,066 - src.tools.tavily_tools - INFO - 🔍 [StudentAid Search] Searching for: disbursement timing federal student aid\n",
      "2025-08-04 21:56:35,195 - src.tools.tavily_tools - INFO - 📚 [StudentAid Search] Found 3 results\n",
      "2025-08-04 21:56:35,201 - src.agents.build_graph_agent - INFO - 🧠 LLM processing 3 messages\n",
      "2025-08-04 21:56:36,127 - src.agents.build_graph_agent - INFO - 📝 LLM generated response with 0 characters\n",
      "2025-08-04 21:56:36,130 - src.agents.build_graph_agent - INFO - 🔧 Agent requesting 1 tool calls\n",
      "2025-08-04 21:56:36,139 - src.tools.tavily_tools - INFO - 🔍 [StudentAid Search] Searching for: disbursement timing for federal student aid programs\n",
      "2025-08-04 21:56:39,521 - src.tools.tavily_tools - INFO - 📚 [StudentAid Search] Found 3 results\n",
      "2025-08-04 21:56:39,528 - src.agents.build_graph_agent - INFO - 🧠 LLM processing 5 messages\n",
      "2025-08-04 21:56:40,436 - src.agents.build_graph_agent - INFO - 📝 LLM generated response with 0 characters\n",
      "2025-08-04 21:56:40,440 - src.agents.build_graph_agent - INFO - 🔧 Agent requesting 1 tool calls\n",
      "2025-08-04 21:56:40,449 - src.tools.tavily_tools - INFO - 🔍 [StudentAid Search] Searching for: disbursement timing for subscription-based federal student aid programs\n",
      "2025-08-04 21:56:43,528 - src.tools.tavily_tools - INFO - 📚 [StudentAid Search] Found 3 results\n",
      "2025-08-04 21:56:43,536 - src.agents.build_graph_agent - INFO - 🧠 LLM processing 7 messages\n",
      "2025-08-04 21:56:47,167 - src.agents.build_graph_agent - INFO - 📝 LLM generated response with 1579 characters\n",
      "2025-08-04 21:56:47,172 - src.agents.build_graph_agent - INFO - ✅ Agent conversation complete, no more tool calls needed\n",
      "2025-08-04 21:56:49,189 - src.agents.build_graph_agent - INFO - 🧠 LLM processing 1 messages\n",
      "2025-08-04 21:56:51,024 - src.agents.build_graph_agent - INFO - 📝 LLM generated response with 0 characters\n",
      "2025-08-04 21:56:51,029 - src.agents.build_graph_agent - INFO - 🔧 Agent requesting 2 tool calls\n",
      "2025-08-04 21:56:51,035 - src.tools.tavily_tools - INFO - 🔍 [StudentAid Search] Searching for: Appendix A and Appendix B disbursement timing and eligibility requirements for clock-hour or non-term credit-hour programs versus subscription-based programs\n",
      "2025-08-04 21:56:51,042 - src.tools.tavily_tools - INFO - 🔍 [Comprehensive Search] Searching for: disbursement timing and eligibility requirements for clock-hour or non-term credit-hour programs versus subscription-based programs (source: both)\n",
      "2025-08-04 21:56:55,558 - src.tools.tavily_tools - INFO - 📚 [Comprehensive Search] Found 5 total results\n",
      "2025-08-04 21:56:55,559 - src.tools.tavily_tools - INFO - 📋 [Comprehensive Search] 4 StudentAid.gov results\n",
      "2025-08-04 21:56:55,563 - src.tools.tavily_tools - INFO - 🏢 [Comprehensive Search] 1 Mohela results\n",
      "2025-08-04 21:56:57,241 - src.tools.tavily_tools - INFO - 📚 [StudentAid Search] Found 3 results\n",
      "2025-08-04 21:56:57,249 - src.agents.build_graph_agent - INFO - 🧠 LLM processing 4 messages\n",
      "2025-08-04 21:56:59,703 - src.agents.build_graph_agent - INFO - 📝 LLM generated response with 1339 characters\n",
      "2025-08-04 21:56:59,707 - src.agents.build_graph_agent - INFO - ✅ Agent conversation complete, no more tool calls needed\n",
      "2025-08-04 21:57:01,719 - src.agents.build_graph_agent - INFO - 🧠 LLM processing 1 messages\n",
      "2025-08-04 21:57:03,907 - src.agents.build_graph_agent - INFO - 📝 LLM generated response with 0 characters\n",
      "2025-08-04 21:57:03,910 - src.agents.build_graph_agent - INFO - 🔧 Agent requesting 2 tool calls\n",
      "2025-08-04 21:57:03,920 - src.tools.tavily_tools - INFO - 🔍 [StudentAid Search] Searching for: disbursement timing rules for Title IV funds in subscription-based programs\n",
      "2025-08-04 21:57:03,928 - src.tools.tavily_tools - INFO - 🔍 [StudentAid Search] Searching for: Volume 8, Chapter 3 guidance for clinical work\n",
      "2025-08-04 21:57:05,768 - src.tools.tavily_tools - INFO - 📚 [StudentAid Search] Found 3 results\n",
      "2025-08-04 21:57:06,002 - src.tools.tavily_tools - INFO - 📚 [StudentAid Search] Found 3 results\n",
      "2025-08-04 21:57:06,008 - src.agents.build_graph_agent - INFO - 🧠 LLM processing 4 messages\n",
      "2025-08-04 21:57:08,455 - src.agents.build_graph_agent - INFO - 📝 LLM generated response with 803 characters\n",
      "2025-08-04 21:57:08,458 - src.agents.build_graph_agent - INFO - ✅ Agent conversation complete, no more tool calls needed\n",
      "2025-08-04 21:57:10,469 - src.agents.build_graph_agent - INFO - 🧠 LLM processing 1 messages\n",
      "2025-08-04 21:57:11,471 - src.agents.build_graph_agent - INFO - 📝 LLM generated response with 0 characters\n",
      "2025-08-04 21:57:11,478 - src.agents.build_graph_agent - INFO - 🔧 Agent requesting 1 tool calls\n",
      "2025-08-04 21:57:11,501 - src.agents.llm_tools_for_toolbelt - INFO - 🔍 [Contextual Compression Tool] Processing question: Summary of volume 8 chapter 6 and volume 8 chapter 3 regarding nonstandard terms and direct loan rul...\n",
      "2025-08-04 21:57:11,521 - src.core.graph_rag_functions - INFO - 🔍 [Contextual Compression] Retrieving docs for: Summary of volume 8 chapter 6 and volume 8 chapter 3 regarding nonstandard terms and direct loan rul...\n",
      "2025-08-04 21:57:13,506 - src.core.graph_rag_functions - INFO - 📚 [Contextual Compression] Retrieved 3 documents after reranking\n",
      "2025-08-04 21:57:13,511 - src.core.graph_rag_functions - INFO - 🤖 [Generate Function] Executing LLM call for question: Summary of volume 8 chapter 6 and volume 8 chapter...\n",
      "2025-08-04 21:57:13,513 - src.core.graph_rag_functions - INFO - 🤖 Generating response using 3 context documents\n"
     ]
    },
    {
     "name": "stdout",
     "output_type": "stream",
     "text": [
      "________________________________________________________________________________\n",
      "[Memory] Calling src.core.graph_rag_functions.invoke_llm...\n",
      "invoke_llm([ HumanMessage(content='\\nYou are a helpful assistant who answers questions based on provided context. You must only use the provided context, and cannot use your own knowledge.\\n\\n### Question\\nSummary of volume 8 chapter 6 and volume 8 chapter 3 regarding nonstandard terms and direct loan rules for subscription-based and clinical work programs.\\n\\n### Context\\nnot limited to, allopathic, osteopathic, nursing, veterinary, dentistry, pharmacy, and physical therapy), and student\\nteaching required to obtain a state teaching certificate.\\nSee Volume 8, Chapter 3 for additional guidance on certain exceptions to the normal loan period and disbursement timing\\nrules for Direct Loans when clinical...)\n"
     ]
    },
    {
     "name": "stderr",
     "output_type": "stream",
     "text": [
      "2025-08-04 21:57:20,135 - src.core.graph_rag_functions - INFO - ✅ Generated response with 1942 characters\n",
      "2025-08-04 21:57:20,137 - src.agents.llm_tools_for_toolbelt - INFO - ✅ [Contextual Compression Tool] Generated response with 3 reranked contexts\n",
      "2025-08-04 21:57:20,142 - src.agents.build_graph_agent - INFO - 🧠 LLM processing 3 messages\n"
     ]
    },
    {
     "name": "stdout",
     "output_type": "stream",
     "text": [
      "_______________________________________________________invoke_llm - 6.6s, 0.1min\n"
     ]
    },
    {
     "name": "stderr",
     "output_type": "stream",
     "text": [
      "2025-08-04 21:57:23,989 - src.agents.build_graph_agent - INFO - 📝 LLM generated response with 1514 characters\n",
      "2025-08-04 21:57:23,994 - src.agents.build_graph_agent - INFO - ✅ Agent conversation complete, no more tool calls needed\n",
      "2025-08-04 21:57:25,987 - src.agents.build_graph_agent - INFO - 🧠 LLM processing 1 messages\n",
      "2025-08-04 21:57:28,325 - src.agents.build_graph_agent - INFO - 📝 LLM generated response with 0 characters\n",
      "2025-08-04 21:57:28,330 - src.agents.build_graph_agent - INFO - 🔧 Agent requesting 2 tool calls\n",
      "2025-08-04 21:57:28,339 - src.tools.tavily_tools - INFO - 🔍 [StudentAid Search] Searching for: Pell Grant disbursement requirements for clock-hour or non-term credit-hour programs\n",
      "2025-08-04 21:57:28,498 - src.tools.tavily_tools - INFO - 🔍 [StudentAid Search] Searching for: Pell Grant disbursement requirements for subscription-based academic calendars\n",
      "2025-08-04 21:57:29,840 - src.tools.tavily_tools - INFO - 📚 [StudentAid Search] Found 3 results\n",
      "2025-08-04 21:57:29,843 - src.tools.tavily_tools - INFO - 📚 [StudentAid Search] Found 3 results\n",
      "2025-08-04 21:57:29,850 - src.agents.build_graph_agent - INFO - 🧠 LLM processing 4 messages\n",
      "2025-08-04 21:57:34,142 - src.agents.build_graph_agent - INFO - 📝 LLM generated response with 1714 characters\n",
      "2025-08-04 21:57:34,146 - src.agents.build_graph_agent - INFO - ✅ Agent conversation complete, no more tool calls needed\n"
     ]
    }
   ],
   "source": [
    "import copy\n",
    "import time\n",
    "cc_golden_master_dataset = copy.deepcopy(golden_master_dataset)\n",
    "cc_golden_master_dataset = generate_responses_for_golden_dataset(cc_golden_master_dataset, contextual_compression_graph_agent, pause_secs_between_each_run=2)"
   ]
  },
  {
   "cell_type": "code",
   "execution_count": 47,
   "metadata": {
    "scrolled": true
   },
   "outputs": [
    {
     "data": {
      "text/html": [
       "<div>\n",
       "<style scoped>\n",
       "    .dataframe tbody tr th:only-of-type {\n",
       "        vertical-align: middle;\n",
       "    }\n",
       "\n",
       "    .dataframe tbody tr th {\n",
       "        vertical-align: top;\n",
       "    }\n",
       "\n",
       "    .dataframe thead th {\n",
       "        text-align: right;\n",
       "    }\n",
       "</style>\n",
       "<table border=\"1\" class=\"dataframe\">\n",
       "  <thead>\n",
       "    <tr style=\"text-align: right;\">\n",
       "      <th></th>\n",
       "      <th>user_input</th>\n",
       "      <th>retrieved_contexts</th>\n",
       "      <th>reference_contexts</th>\n",
       "      <th>response</th>\n",
       "      <th>reference</th>\n",
       "      <th>synthesizer_name</th>\n",
       "      <th>tools_used</th>\n",
       "      <th>num_contexts</th>\n",
       "    </tr>\n",
       "  </thead>\n",
       "  <tbody>\n",
       "    <tr>\n",
       "      <th>0</th>\n",
       "      <td>How is the Pell Grant award calculated for stu...</td>\n",
       "      <td>[StudentAid.gov Search Results for: Pell Grant...</td>\n",
       "      <td>[non-term (includes clock-hour calendars), or ...</td>\n",
       "      <td>The Pell Grant award for students enrolled in ...</td>\n",
       "      <td>For students in subscription-based academic ca...</td>\n",
       "      <td>single_hop_specifc_query_synthesizer</td>\n",
       "      <td>[None, StudentAid_Federal_Search]</td>\n",
       "      <td>5</td>\n",
       "    </tr>\n",
       "    <tr>\n",
       "      <th>1</th>\n",
       "      <td>Are veterinary clinical experiences allowed to...</td>\n",
       "      <td>[StudentAid.gov Search Results for: Are veteri...</td>\n",
       "      <td>[Inclusion of Clinical Work in a Standard Term...</td>\n",
       "      <td>Veterinary clinical experiences are not includ...</td>\n",
       "      <td>Yes, veterinary clinical experiences may be in...</td>\n",
       "      <td>single_hop_specifc_query_synthesizer</td>\n",
       "      <td>[None, StudentAid_Federal_Search]</td>\n",
       "      <td>5</td>\n",
       "    </tr>\n",
       "    <tr>\n",
       "      <th>2</th>\n",
       "      <td>Whaat are the condishuns under wich a program ...</td>\n",
       "      <td>[StudentAid.gov Search Results for: program me...</td>\n",
       "      <td>[Non-Term Characteristics A program that measu...</td>\n",
       "      <td>A program measuring progress in credit-hours i...</td>\n",
       "      <td>A program that measures progress in credit-hou...</td>\n",
       "      <td>single_hop_specifc_query_synthesizer</td>\n",
       "      <td>[None, StudentAid_Federal_Search]</td>\n",
       "      <td>5</td>\n",
       "    </tr>\n",
       "    <tr>\n",
       "      <th>3</th>\n",
       "      <td>so like if a student gettin Pell Grant in a cl...</td>\n",
       "      <td>[that are established at the beginning of the ...</td>\n",
       "      <td>[both the credit or clock hours and the weeks ...</td>\n",
       "      <td>If a student receiving a Pell Grant in a clock...</td>\n",
       "      <td>if a student in a clock-hour or non-term credi...</td>\n",
       "      <td>single_hop_specifc_query_synthesizer</td>\n",
       "      <td>[None, ask_contextual_compression_llm_tool]</td>\n",
       "      <td>3</td>\n",
       "    </tr>\n",
       "    <tr>\n",
       "      <th>4</th>\n",
       "      <td>how do disbursement timing rules for federal s...</td>\n",
       "      <td>[StudentAid.gov Search Results for: disburseme...</td>\n",
       "      <td>[&lt;1-hop&gt;\\n\\nboth the credit or clock hours and...</td>\n",
       "      <td>The disbursement timing rules for federal stud...</td>\n",
       "      <td>In clock-hour or non-term credit-hour programs...</td>\n",
       "      <td>multi_hop_abstract_query_synthesizer</td>\n",
       "      <td>[None, StudentAid_Federal_Search]</td>\n",
       "      <td>10</td>\n",
       "    </tr>\n",
       "    <tr>\n",
       "      <th>5</th>\n",
       "      <td>What are the differences in disbursement timin...</td>\n",
       "      <td>[StudentAid.gov Search Results for: disburseme...</td>\n",
       "      <td>[&lt;1-hop&gt;\\n\\nboth the credit or clock hours and...</td>\n",
       "      <td>The search did not return specific details abo...</td>\n",
       "      <td>In clock-hour or non-term credit-hour programs...</td>\n",
       "      <td>multi_hop_abstract_query_synthesizer</td>\n",
       "      <td>[None, StudentAid_Federal_Search]</td>\n",
       "      <td>5</td>\n",
       "    </tr>\n",
       "    <tr>\n",
       "      <th>6</th>\n",
       "      <td>How does the disbursement timing for federal s...</td>\n",
       "      <td>[StudentAid.gov Search Results for: disburseme...</td>\n",
       "      <td>[&lt;1-hop&gt;\\n\\nboth the credit or clock hours and...</td>\n",
       "      <td>The disbursement timing for federal student ai...</td>\n",
       "      <td>In clock-hour or non-term credit-hour programs...</td>\n",
       "      <td>multi_hop_abstract_query_synthesizer</td>\n",
       "      <td>[None, StudentAid_Federal_Search]</td>\n",
       "      <td>15</td>\n",
       "    </tr>\n",
       "    <tr>\n",
       "      <th>7</th>\n",
       "      <td>How does the disbursement timing for federal s...</td>\n",
       "      <td>[StudentAid.gov Search Results for: disburseme...</td>\n",
       "      <td>[&lt;1-hop&gt;\\n\\nboth the credit or clock hours and...</td>\n",
       "      <td>The disbursement timing for federal student ai...</td>\n",
       "      <td>In standard clock-hour or non-term credit-hour...</td>\n",
       "      <td>multi_hop_abstract_query_synthesizer</td>\n",
       "      <td>[None, StudentAid_Federal_Search]</td>\n",
       "      <td>15</td>\n",
       "    </tr>\n",
       "    <tr>\n",
       "      <th>8</th>\n",
       "      <td>How do the examples in Appendix A and Appendix...</td>\n",
       "      <td>[StudentAid.gov Search Results for: Appendix A...</td>\n",
       "      <td>[&lt;1-hop&gt;\\n\\nboth the credit or clock hours and...</td>\n",
       "      <td>The examples in Appendix A and Appendix B illu...</td>\n",
       "      <td>The examples in Appendix A illustrate the prin...</td>\n",
       "      <td>multi_hop_specific_query_synthesizer</td>\n",
       "      <td>[None, StudentAid_Federal_Search, Student_Loan...</td>\n",
       "      <td>10</td>\n",
       "    </tr>\n",
       "    <tr>\n",
       "      <th>9</th>\n",
       "      <td>Wut are the disbursment timing rules for Title...</td>\n",
       "      <td>[StudentAid.gov Search Results for: disburseme...</td>\n",
       "      <td>[&lt;1-hop&gt;\\n\\nDisbursement Timing in Subscriptio...</td>\n",
       "      <td>The disbursement timing rules for Title IV fun...</td>\n",
       "      <td>For the first two subscription periods in a su...</td>\n",
       "      <td>multi_hop_specific_query_synthesizer</td>\n",
       "      <td>[None, StudentAid_Federal_Search]</td>\n",
       "      <td>10</td>\n",
       "    </tr>\n",
       "    <tr>\n",
       "      <th>10</th>\n",
       "      <td>how volume 8 chapter 6 and volume 8 chapter 3 ...</td>\n",
       "      <td>[not limited to, allopathic, osteopathic, nurs...</td>\n",
       "      <td>[&lt;1-hop&gt;\\n\\nnon-term (includes clock-hour cale...</td>\n",
       "      <td>Volume 8, Chapter 6 discusses nonstandard term...</td>\n",
       "      <td>volume 8 chapter 6 is mentioned as giving more...</td>\n",
       "      <td>multi_hop_specific_query_synthesizer</td>\n",
       "      <td>[None, ask_contextual_compression_llm_tool]</td>\n",
       "      <td>3</td>\n",
       "    </tr>\n",
       "    <tr>\n",
       "      <th>11</th>\n",
       "      <td>How do the requirements for Pell Grant disburs...</td>\n",
       "      <td>[StudentAid.gov Search Results for: Pell Grant...</td>\n",
       "      <td>[&lt;1-hop&gt;\\n\\nboth the credit or clock hours and...</td>\n",
       "      <td>The requirements for Pell Grant disbursement a...</td>\n",
       "      <td>In clock-hour or non-term credit-hour programs...</td>\n",
       "      <td>multi_hop_specific_query_synthesizer</td>\n",
       "      <td>[None, StudentAid_Federal_Search]</td>\n",
       "      <td>10</td>\n",
       "    </tr>\n",
       "  </tbody>\n",
       "</table>\n",
       "</div>"
      ],
      "text/plain": [
       "                                           user_input  \\\n",
       "0   How is the Pell Grant award calculated for stu...   \n",
       "1   Are veterinary clinical experiences allowed to...   \n",
       "2   Whaat are the condishuns under wich a program ...   \n",
       "3   so like if a student gettin Pell Grant in a cl...   \n",
       "4   how do disbursement timing rules for federal s...   \n",
       "5   What are the differences in disbursement timin...   \n",
       "6   How does the disbursement timing for federal s...   \n",
       "7   How does the disbursement timing for federal s...   \n",
       "8   How do the examples in Appendix A and Appendix...   \n",
       "9   Wut are the disbursment timing rules for Title...   \n",
       "10  how volume 8 chapter 6 and volume 8 chapter 3 ...   \n",
       "11  How do the requirements for Pell Grant disburs...   \n",
       "\n",
       "                                   retrieved_contexts  \\\n",
       "0   [StudentAid.gov Search Results for: Pell Grant...   \n",
       "1   [StudentAid.gov Search Results for: Are veteri...   \n",
       "2   [StudentAid.gov Search Results for: program me...   \n",
       "3   [that are established at the beginning of the ...   \n",
       "4   [StudentAid.gov Search Results for: disburseme...   \n",
       "5   [StudentAid.gov Search Results for: disburseme...   \n",
       "6   [StudentAid.gov Search Results for: disburseme...   \n",
       "7   [StudentAid.gov Search Results for: disburseme...   \n",
       "8   [StudentAid.gov Search Results for: Appendix A...   \n",
       "9   [StudentAid.gov Search Results for: disburseme...   \n",
       "10  [not limited to, allopathic, osteopathic, nurs...   \n",
       "11  [StudentAid.gov Search Results for: Pell Grant...   \n",
       "\n",
       "                                   reference_contexts  \\\n",
       "0   [non-term (includes clock-hour calendars), or ...   \n",
       "1   [Inclusion of Clinical Work in a Standard Term...   \n",
       "2   [Non-Term Characteristics A program that measu...   \n",
       "3   [both the credit or clock hours and the weeks ...   \n",
       "4   [<1-hop>\\n\\nboth the credit or clock hours and...   \n",
       "5   [<1-hop>\\n\\nboth the credit or clock hours and...   \n",
       "6   [<1-hop>\\n\\nboth the credit or clock hours and...   \n",
       "7   [<1-hop>\\n\\nboth the credit or clock hours and...   \n",
       "8   [<1-hop>\\n\\nboth the credit or clock hours and...   \n",
       "9   [<1-hop>\\n\\nDisbursement Timing in Subscriptio...   \n",
       "10  [<1-hop>\\n\\nnon-term (includes clock-hour cale...   \n",
       "11  [<1-hop>\\n\\nboth the credit or clock hours and...   \n",
       "\n",
       "                                             response  \\\n",
       "0   The Pell Grant award for students enrolled in ...   \n",
       "1   Veterinary clinical experiences are not includ...   \n",
       "2   A program measuring progress in credit-hours i...   \n",
       "3   If a student receiving a Pell Grant in a clock...   \n",
       "4   The disbursement timing rules for federal stud...   \n",
       "5   The search did not return specific details abo...   \n",
       "6   The disbursement timing for federal student ai...   \n",
       "7   The disbursement timing for federal student ai...   \n",
       "8   The examples in Appendix A and Appendix B illu...   \n",
       "9   The disbursement timing rules for Title IV fun...   \n",
       "10  Volume 8, Chapter 6 discusses nonstandard term...   \n",
       "11  The requirements for Pell Grant disbursement a...   \n",
       "\n",
       "                                            reference  \\\n",
       "0   For students in subscription-based academic ca...   \n",
       "1   Yes, veterinary clinical experiences may be in...   \n",
       "2   A program that measures progress in credit-hou...   \n",
       "3   if a student in a clock-hour or non-term credi...   \n",
       "4   In clock-hour or non-term credit-hour programs...   \n",
       "5   In clock-hour or non-term credit-hour programs...   \n",
       "6   In clock-hour or non-term credit-hour programs...   \n",
       "7   In standard clock-hour or non-term credit-hour...   \n",
       "8   The examples in Appendix A illustrate the prin...   \n",
       "9   For the first two subscription periods in a su...   \n",
       "10  volume 8 chapter 6 is mentioned as giving more...   \n",
       "11  In clock-hour or non-term credit-hour programs...   \n",
       "\n",
       "                        synthesizer_name  \\\n",
       "0   single_hop_specifc_query_synthesizer   \n",
       "1   single_hop_specifc_query_synthesizer   \n",
       "2   single_hop_specifc_query_synthesizer   \n",
       "3   single_hop_specifc_query_synthesizer   \n",
       "4   multi_hop_abstract_query_synthesizer   \n",
       "5   multi_hop_abstract_query_synthesizer   \n",
       "6   multi_hop_abstract_query_synthesizer   \n",
       "7   multi_hop_abstract_query_synthesizer   \n",
       "8   multi_hop_specific_query_synthesizer   \n",
       "9   multi_hop_specific_query_synthesizer   \n",
       "10  multi_hop_specific_query_synthesizer   \n",
       "11  multi_hop_specific_query_synthesizer   \n",
       "\n",
       "                                           tools_used  num_contexts  \n",
       "0                   [None, StudentAid_Federal_Search]             5  \n",
       "1                   [None, StudentAid_Federal_Search]             5  \n",
       "2                   [None, StudentAid_Federal_Search]             5  \n",
       "3         [None, ask_contextual_compression_llm_tool]             3  \n",
       "4                   [None, StudentAid_Federal_Search]            10  \n",
       "5                   [None, StudentAid_Federal_Search]             5  \n",
       "6                   [None, StudentAid_Federal_Search]            15  \n",
       "7                   [None, StudentAid_Federal_Search]            15  \n",
       "8   [None, StudentAid_Federal_Search, Student_Loan...            10  \n",
       "9                   [None, StudentAid_Federal_Search]            10  \n",
       "10        [None, ask_contextual_compression_llm_tool]             3  \n",
       "11                  [None, StudentAid_Federal_Search]            10  "
      ]
     },
     "execution_count": 47,
     "metadata": {},
     "output_type": "execute_result"
    }
   ],
   "source": [
    "display_dataset_with_metadata(cc_golden_master_dataset).to_csv('../golden-masters/cc_golden_master_dataset.csv', index=False)\n",
    "display_dataset_with_metadata(cc_golden_master_dataset)"
   ]
  },
  {
   "cell_type": "code",
   "execution_count": 44,
   "metadata": {
    "scrolled": true
   },
   "outputs": [
    {
     "name": "stdout",
     "output_type": "stream",
     "text": [
      "🧪 Running RAGAS evaluation for Contextual Compression\n"
     ]
    },
    {
     "data": {
      "application/vnd.jupyter.widget-view+json": {
       "model_id": "e3f0a579d9964d91a62c7b268812360a",
       "version_major": 2,
       "version_minor": 0
      },
      "text/plain": [
       "Evaluating:   0%|          | 0/96 [00:00<?, ?it/s]"
      ]
     },
     "metadata": {},
     "output_type": "display_data"
    },
    {
     "name": "stderr",
     "output_type": "stream",
     "text": [
      "2025-08-04 21:59:18,669 - ragas.executor - ERROR - Exception raised in Job[39]: AttributeError('StringIO' object has no attribute 'statements')\n",
      "2025-08-04 22:04:21,020 - ragas.executor - ERROR - Exception raised in Job[55]: TimeoutError()\n",
      "2025-08-04 22:04:35,772 - ragas.executor - ERROR - Exception raised in Job[63]: TimeoutError()\n",
      "2025-08-04 22:05:23,995 - ragas.executor - ERROR - Exception raised in Job[95]: TimeoutError()\n"
     ]
    },
    {
     "name": "stdout",
     "output_type": "stream",
     "text": [
      "✅ Completed  RAGAS evaluation for Contextual Compression\n",
      "CPU times: user 13.5 s, sys: 1.87 s, total: 15.3 s\n",
      "Wall time: 7min 47s\n"
     ]
    }
   ],
   "source": [
    "%%time\n",
    "cc_result = run_ragas_evaluation(cc_golden_master_dataset, \"Contextual Compression\")"
   ]
  },
  {
   "cell_type": "code",
   "execution_count": 76,
   "metadata": {},
   "outputs": [],
   "source": [
    "cc_raw_stats_df = pd.DataFrame([extract_ragas_metrics(cc_result, 'gpt-4.1-mini')])\n",
    "record_metrics_from_run('Contextual Compression', cc_raw_stats_df)"
   ]
  },
  {
   "cell_type": "code",
   "execution_count": 77,
   "metadata": {},
   "outputs": [
    {
     "data": {
      "text/html": [
       "<div>\n",
       "<style scoped>\n",
       "    .dataframe tbody tr th:only-of-type {\n",
       "        vertical-align: middle;\n",
       "    }\n",
       "\n",
       "    .dataframe tbody tr th {\n",
       "        vertical-align: top;\n",
       "    }\n",
       "\n",
       "    .dataframe thead th {\n",
       "        text-align: right;\n",
       "    }\n",
       "</style>\n",
       "<table border=\"1\" class=\"dataframe\">\n",
       "  <thead>\n",
       "    <tr style=\"text-align: right;\">\n",
       "      <th></th>\n",
       "      <th>context_recall</th>\n",
       "      <th>faithfulness</th>\n",
       "      <th>factual_correctness</th>\n",
       "      <th>answer_relevancy</th>\n",
       "      <th>context_entity_recall</th>\n",
       "      <th>context_precision</th>\n",
       "      <th>answer_correctness</th>\n",
       "      <th>noise_sensitivity_relevant</th>\n",
       "    </tr>\n",
       "  </thead>\n",
       "  <tbody>\n",
       "    <tr>\n",
       "      <th>0</th>\n",
       "      <td>0.343254</td>\n",
       "      <td>0.701244</td>\n",
       "      <td>0.41</td>\n",
       "      <td>0.797712</td>\n",
       "      <td>0.213148</td>\n",
       "      <td>0.451951</td>\n",
       "      <td>0.529945</td>\n",
       "      <td>0.286237</td>\n",
       "    </tr>\n",
       "  </tbody>\n",
       "</table>\n",
       "</div>"
      ],
      "text/plain": [
       "   context_recall  faithfulness  factual_correctness  answer_relevancy  \\\n",
       "0        0.343254      0.701244                 0.41          0.797712   \n",
       "\n",
       "   context_entity_recall  context_precision  answer_correctness  \\\n",
       "0               0.213148           0.451951            0.529945   \n",
       "\n",
       "   noise_sensitivity_relevant  \n",
       "0                    0.286237  "
      ]
     },
     "execution_count": 77,
     "metadata": {},
     "output_type": "execute_result"
    }
   ],
   "source": [
    "cc_raw_stats_df[columns]"
   ]
  },
  {
   "cell_type": "markdown",
   "metadata": {},
   "source": [
    "### Synthetic Data Generation using RAGAS using the Golden master (Multi Query Retriver)"
   ]
  },
  {
   "cell_type": "code",
   "execution_count": 48,
   "metadata": {
    "scrolled": true
   },
   "outputs": [
    {
     "name": "stderr",
     "output_type": "stream",
     "text": [
      "2025-08-04 22:07:27,474 - src.agents.build_graph_agent - INFO - 🤖 Creating graph agent with 1 additional tools\n",
      "2025-08-04 22:07:27,622 - src.agents.build_graph_agent - INFO - 🔧 Agent toolbelt configured with 5 total tools\n",
      "2025-08-04 22:07:27,626 - src.agents.build_graph_agent - INFO - ✅ Agent graph compiled and ready\n"
     ]
    }
   ],
   "source": [
    "multi_query_graph_agent = get_graph_agent([ask_multi_query_llm_tool])"
   ]
  },
  {
   "cell_type": "code",
   "execution_count": 49,
   "metadata": {
    "scrolled": true
   },
   "outputs": [
    {
     "data": {
      "application/vnd.jupyter.widget-view+json": {
       "model_id": "2944fdb9c2104e52b0da3ed63ff05d0c",
       "version_major": 2,
       "version_minor": 0
      },
      "text/plain": [
       "  0%|          | 0/12 [00:00<?, ?it/s]"
      ]
     },
     "metadata": {},
     "output_type": "display_data"
    },
    {
     "name": "stderr",
     "output_type": "stream",
     "text": [
      "2025-08-04 22:07:27,750 - src.agents.build_graph_agent - INFO - 🧠 LLM processing 1 messages\n",
      "2025-08-04 22:07:28,748 - src.agents.build_graph_agent - INFO - 📝 LLM generated response with 0 characters\n",
      "2025-08-04 22:07:28,751 - src.agents.build_graph_agent - INFO - 🔧 Agent requesting 1 tool calls\n",
      "2025-08-04 22:07:28,758 - src.tools.tavily_tools - INFO - 🔍 [StudentAid Search] Searching for: Pell Grant award calculation for students enrolled in subscription-based academic calendars\n",
      "2025-08-04 22:07:30,565 - src.tools.tavily_tools - INFO - 📚 [StudentAid Search] Found 3 results\n",
      "2025-08-04 22:07:30,572 - src.agents.build_graph_agent - INFO - 🧠 LLM processing 3 messages\n",
      "2025-08-04 22:07:32,620 - src.agents.build_graph_agent - INFO - 📝 LLM generated response with 576 characters\n",
      "2025-08-04 22:07:32,623 - src.agents.build_graph_agent - INFO - ✅ Agent conversation complete, no more tool calls needed\n",
      "2025-08-04 22:07:32,637 - src.agents.build_graph_agent - INFO - 🧠 LLM processing 1 messages\n",
      "2025-08-04 22:07:33,526 - src.agents.build_graph_agent - INFO - 📝 LLM generated response with 0 characters\n",
      "2025-08-04 22:07:33,530 - src.agents.build_graph_agent - INFO - 🔧 Agent requesting 1 tool calls\n",
      "2025-08-04 22:07:33,538 - src.tools.tavily_tools - INFO - 🔍 [StudentAid Search] Searching for: Are veterinary clinical experiences allowed to be included in standard term periods for financial aid purposes?\n",
      "2025-08-04 22:07:34,936 - src.tools.tavily_tools - INFO - 📚 [StudentAid Search] Found 3 results\n",
      "2025-08-04 22:07:34,943 - src.agents.build_graph_agent - INFO - 🧠 LLM processing 3 messages\n",
      "2025-08-04 22:07:36,251 - src.agents.build_graph_agent - INFO - 📝 LLM generated response with 391 characters\n",
      "2025-08-04 22:07:36,255 - src.agents.build_graph_agent - INFO - ✅ Agent conversation complete, no more tool calls needed\n",
      "2025-08-04 22:07:36,265 - src.agents.build_graph_agent - INFO - 🧠 LLM processing 1 messages\n",
      "2025-08-04 22:07:36,980 - src.agents.build_graph_agent - INFO - 📝 LLM generated response with 0 characters\n",
      "2025-08-04 22:07:36,983 - src.agents.build_graph_agent - INFO - 🔧 Agent requesting 1 tool calls\n",
      "2025-08-04 22:07:36,991 - src.tools.tavily_tools - INFO - 🔍 [StudentAid Search] Searching for: program measuring progress in credit-hours non-term calendar\n",
      "2025-08-04 22:07:38,926 - src.tools.tavily_tools - INFO - 📚 [StudentAid Search] Found 3 results\n",
      "2025-08-04 22:07:38,933 - src.agents.build_graph_agent - INFO - 🧠 LLM processing 3 messages\n",
      "2025-08-04 22:07:41,278 - src.agents.build_graph_agent - INFO - 📝 LLM generated response with 539 characters\n",
      "2025-08-04 22:07:41,283 - src.agents.build_graph_agent - INFO - ✅ Agent conversation complete, no more tool calls needed\n",
      "2025-08-04 22:07:41,296 - src.agents.build_graph_agent - INFO - 🧠 LLM processing 1 messages\n",
      "2025-08-04 22:07:42,757 - src.agents.build_graph_agent - INFO - 📝 LLM generated response with 0 characters\n",
      "2025-08-04 22:07:42,761 - src.agents.build_graph_agent - INFO - 🔧 Agent requesting 1 tool calls\n",
      "2025-08-04 22:07:42,769 - src.agents.llm_tools_for_toolbelt - INFO - 🔍 [Multi-Query Tool] Processing question: If a student receiving a Pell Grant in a clock-hour or non-term credit-hour program finishes more we...\n",
      "2025-08-04 22:07:42,778 - src.core.graph_rag_functions - INFO - 🔍 [Multi-Query] Retrieving docs for: If a student receiving a Pell Grant in a clock-hour or non-term credit-hour program finishes more we...\n",
      "2025-08-04 22:07:47,235 - src.core.graph_rag_functions - INFO - 📚 [Multi-Query] Retrieved 9 documents from expanded queries\n",
      "2025-08-04 22:07:47,240 - src.core.graph_rag_functions - INFO - 🤖 [Generate Function] Executing LLM call for question: If a student receiving a Pell Grant in a clock-hou...\n",
      "2025-08-04 22:07:47,243 - src.core.graph_rag_functions - INFO - 🤖 Generating response using 9 context documents\n"
     ]
    },
    {
     "name": "stdout",
     "output_type": "stream",
     "text": [
      "________________________________________________________________________________\n",
      "[Memory] Calling src.core.graph_rag_functions.invoke_llm...\n",
      "invoke_llm([ HumanMessage(content=\"\\nYou are a helpful assistant who answers questions based on provided context. You must only use the provided context, and cannot use your own knowledge.\\n\\n### Question\\nIf a student receiving a Pell Grant in a clock-hour or non-term credit-hour program finishes more weeks or hours faster than scheduled, how does that affect their Pell Grant disbursement? Do they get more Pell Grant money, or do the payment periods change?\\n\\n### Context\\nAlthough a student9s completion of additional weeks or hours in a payment period has no effect on the scheduled\\npayment periods for purposes of determining Pell Grant and TEACH Grant payment amounts, an undergraduate student\\nwho a...)\n"
     ]
    },
    {
     "name": "stderr",
     "output_type": "stream",
     "text": [
      "2025-08-04 22:07:49,783 - src.core.graph_rag_functions - INFO - ✅ Generated response with 952 characters\n",
      "2025-08-04 22:07:49,786 - src.agents.llm_tools_for_toolbelt - INFO - ✅ [Multi-Query Tool] Generated response with 9 contexts from expanded queries\n",
      "2025-08-04 22:07:49,794 - src.agents.build_graph_agent - INFO - 🧠 LLM processing 3 messages\n"
     ]
    },
    {
     "name": "stdout",
     "output_type": "stream",
     "text": [
      "_______________________________________________________invoke_llm - 2.5s, 0.0min\n"
     ]
    },
    {
     "name": "stderr",
     "output_type": "stream",
     "text": [
      "2025-08-04 22:07:52,045 - src.agents.build_graph_agent - INFO - 📝 LLM generated response with 647 characters\n",
      "2025-08-04 22:07:52,050 - src.agents.build_graph_agent - INFO - ✅ Agent conversation complete, no more tool calls needed\n",
      "2025-08-04 22:07:52,071 - src.agents.build_graph_agent - INFO - 🧠 LLM processing 1 messages\n",
      "2025-08-04 22:07:53,788 - src.agents.build_graph_agent - INFO - 📝 LLM generated response with 0 characters\n",
      "2025-08-04 22:07:53,791 - src.agents.build_graph_agent - INFO - 🔧 Agent requesting 3 tool calls\n",
      "2025-08-04 22:07:53,801 - src.tools.tavily_tools - INFO - 🔍 [StudentAid Search] Searching for: disbursement timing rules federal student aid clock-hour programs\n",
      "2025-08-04 22:07:53,804 - src.tools.tavily_tools - INFO - 🔍 [StudentAid Search] Searching for: disbursement timing rules federal student aid non-term credit-hour programs\n",
      "2025-08-04 22:07:53,805 - src.tools.tavily_tools - INFO - 🔍 [StudentAid Search] Searching for: disbursement timing rules federal student aid subscription-based programs\n",
      "2025-08-04 22:07:55,199 - src.tools.tavily_tools - INFO - 📚 [StudentAid Search] Found 3 results\n",
      "2025-08-04 22:07:58,917 - src.tools.tavily_tools - INFO - 📚 [StudentAid Search] Found 3 results\n",
      "2025-08-04 22:07:59,192 - src.tools.tavily_tools - INFO - 📚 [StudentAid Search] Found 3 results\n",
      "2025-08-04 22:07:59,200 - src.agents.build_graph_agent - INFO - 🧠 LLM processing 5 messages\n",
      "2025-08-04 22:08:02,898 - src.agents.build_graph_agent - INFO - 📝 LLM generated response with 1136 characters\n",
      "2025-08-04 22:08:02,902 - src.agents.build_graph_agent - INFO - ✅ Agent conversation complete, no more tool calls needed\n",
      "2025-08-04 22:08:02,912 - src.agents.build_graph_agent - INFO - 🧠 LLM processing 1 messages\n",
      "2025-08-04 22:08:04,063 - src.agents.build_graph_agent - INFO - 📝 LLM generated response with 0 characters\n",
      "2025-08-04 22:08:04,067 - src.agents.build_graph_agent - INFO - 🔧 Agent requesting 1 tool calls\n",
      "2025-08-04 22:08:04,075 - src.agents.llm_tools_for_toolbelt - INFO - 🔍 [Multi-Query Tool] Processing question: What are the differences in disbursement timing requirements for federal student aid between clock-h...\n",
      "2025-08-04 22:08:04,079 - src.core.graph_rag_functions - INFO - 🔍 [Multi-Query] Retrieving docs for: What are the differences in disbursement timing requirements for federal student aid between clock-h...\n",
      "2025-08-04 22:08:07,197 - src.core.graph_rag_functions - INFO - 📚 [Multi-Query] Retrieved 5 documents from expanded queries\n",
      "2025-08-04 22:08:07,201 - src.core.graph_rag_functions - INFO - 🤖 [Generate Function] Executing LLM call for question: What are the differences in disbursement timing re...\n",
      "2025-08-04 22:08:07,202 - src.core.graph_rag_functions - INFO - 🤖 Generating response using 5 context documents\n",
      "2025-08-04 22:08:07,209 - src.core.graph_rag_functions - INFO - ✅ Generated response with 1040 characters\n",
      "2025-08-04 22:08:07,211 - src.agents.llm_tools_for_toolbelt - INFO - ✅ [Multi-Query Tool] Generated response with 5 contexts from expanded queries\n",
      "2025-08-04 22:08:07,217 - src.agents.build_graph_agent - INFO - 🧠 LLM processing 3 messages\n",
      "2025-08-04 22:08:11,897 - src.agents.build_graph_agent - INFO - 📝 LLM generated response with 1507 characters\n",
      "2025-08-04 22:08:11,901 - src.agents.build_graph_agent - INFO - ✅ Agent conversation complete, no more tool calls needed\n",
      "2025-08-04 22:08:11,913 - src.agents.build_graph_agent - INFO - 🧠 LLM processing 1 messages\n",
      "2025-08-04 22:08:13,959 - src.agents.build_graph_agent - INFO - 📝 LLM generated response with 0 characters\n",
      "2025-08-04 22:08:13,964 - src.agents.build_graph_agent - INFO - 🔧 Agent requesting 2 tool calls\n",
      "2025-08-04 22:08:13,973 - src.tools.tavily_tools - INFO - 🔍 [StudentAid Search] Searching for: disbursement timing federal student aid clock-hour non-term credit-hour programs\n",
      "2025-08-04 22:08:13,974 - src.tools.tavily_tools - INFO - 🔍 [StudentAid Search] Searching for: disbursement timing federal student aid subscription-based programs\n",
      "2025-08-04 22:08:17,154 - src.tools.tavily_tools - INFO - 📚 [StudentAid Search] Found 3 results\n",
      "2025-08-04 22:08:19,453 - src.tools.tavily_tools - INFO - 📚 [StudentAid Search] Found 3 results\n",
      "2025-08-04 22:08:19,458 - src.agents.build_graph_agent - INFO - 🧠 LLM processing 4 messages\n",
      "2025-08-04 22:08:24,889 - src.agents.build_graph_agent - INFO - 📝 LLM generated response with 1669 characters\n",
      "2025-08-04 22:08:24,893 - src.agents.build_graph_agent - INFO - ✅ Agent conversation complete, no more tool calls needed\n",
      "2025-08-04 22:08:24,901 - src.agents.build_graph_agent - INFO - 🧠 LLM processing 1 messages\n",
      "2025-08-04 22:08:26,157 - src.agents.build_graph_agent - INFO - 📝 LLM generated response with 0 characters\n",
      "2025-08-04 22:08:26,161 - src.agents.build_graph_agent - INFO - 🔧 Agent requesting 1 tool calls\n",
      "2025-08-04 22:08:26,167 - src.agents.llm_tools_for_toolbelt - INFO - 🔍 [Multi-Query Tool] Processing question: How does the disbursement timing for federal student aid differ between standard clock-hour or non-t...\n",
      "2025-08-04 22:08:26,171 - src.core.graph_rag_functions - INFO - 🔍 [Multi-Query] Retrieving docs for: How does the disbursement timing for federal student aid differ between standard clock-hour or non-t...\n",
      "2025-08-04 22:08:29,414 - src.core.graph_rag_functions - INFO - 📚 [Multi-Query] Retrieved 7 documents from expanded queries\n",
      "2025-08-04 22:08:29,419 - src.core.graph_rag_functions - INFO - 🤖 [Generate Function] Executing LLM call for question: How does the disbursement timing for federal stude...\n",
      "2025-08-04 22:08:29,421 - src.core.graph_rag_functions - INFO - 🤖 Generating response using 7 context documents\n"
     ]
    },
    {
     "name": "stdout",
     "output_type": "stream",
     "text": [
      "________________________________________________________________________________\n",
      "[Memory] Calling src.core.graph_rag_functions.invoke_llm...\n",
      "invoke_llm([ HumanMessage(content='\\nYou are a helpful assistant who answers questions based on provided context. You must only use the provided context, and cannot use your own knowledge.\\n\\n### Question\\nHow does the disbursement timing for federal student aid differ between standard clock-hour or non-term credit-hour programs and subscription-based programs, particularly regarding the requirements a student must meet before receiving subsequent disbursements?\\n\\n### Context\\nterm, provided that the student is still making satisfactory academic progress under the school9s policy.\\nDisbursement Timing in Clock-Hour, Non-Term, and Certain Nonstandard Term Programs\\nA student who is enrolled in a credit...)\n"
     ]
    },
    {
     "name": "stderr",
     "output_type": "stream",
     "text": [
      "2025-08-04 22:08:33,913 - src.core.graph_rag_functions - INFO - ✅ Generated response with 1802 characters\n",
      "2025-08-04 22:08:33,916 - src.agents.llm_tools_for_toolbelt - INFO - ✅ [Multi-Query Tool] Generated response with 7 contexts from expanded queries\n",
      "2025-08-04 22:08:33,923 - src.agents.build_graph_agent - INFO - 🧠 LLM processing 3 messages\n"
     ]
    },
    {
     "name": "stdout",
     "output_type": "stream",
     "text": [
      "_______________________________________________________invoke_llm - 4.5s, 0.1min\n"
     ]
    },
    {
     "name": "stderr",
     "output_type": "stream",
     "text": [
      "2025-08-04 22:08:39,985 - src.agents.build_graph_agent - INFO - 📝 LLM generated response with 1936 characters\n",
      "2025-08-04 22:08:39,988 - src.agents.build_graph_agent - INFO - ✅ Agent conversation complete, no more tool calls needed\n",
      "2025-08-04 22:08:40,001 - src.agents.build_graph_agent - INFO - 🧠 LLM processing 1 messages\n",
      "2025-08-04 22:08:42,857 - src.agents.build_graph_agent - INFO - 📝 LLM generated response with 0 characters\n",
      "2025-08-04 22:08:42,860 - src.agents.build_graph_agent - INFO - 🔧 Agent requesting 2 tool calls\n",
      "2025-08-04 22:08:42,865 - src.agents.llm_tools_for_toolbelt - INFO - 🔍 [Multi-Query Tool] Processing question: How do the examples in Appendix A and Appendix B illustrate the differences in disbursement timing a...\n",
      "2025-08-04 22:08:42,872 - src.tools.tavily_tools - INFO - 🔍 [StudentAid Search] Searching for: Appendix A and Appendix B disbursement timing and eligibility requirements for clock-hour or non-term credit-hour programs versus subscription-based programs\n",
      "2025-08-04 22:08:42,879 - src.core.graph_rag_functions - INFO - 🔍 [Multi-Query] Retrieving docs for: How do the examples in Appendix A and Appendix B illustrate the differences in disbursement timing a...\n",
      "2025-08-04 22:08:44,317 - src.tools.tavily_tools - INFO - 📚 [StudentAid Search] Found 3 results\n",
      "2025-08-04 22:08:45,594 - src.core.graph_rag_functions - INFO - 📚 [Multi-Query] Retrieved 7 documents from expanded queries\n",
      "2025-08-04 22:08:45,598 - src.core.graph_rag_functions - INFO - 🤖 [Generate Function] Executing LLM call for question: How do the examples in Appendix A and Appendix B i...\n",
      "2025-08-04 22:08:45,599 - src.core.graph_rag_functions - INFO - 🤖 Generating response using 7 context documents\n"
     ]
    },
    {
     "name": "stdout",
     "output_type": "stream",
     "text": [
      "________________________________________________________________________________\n",
      "[Memory] Calling src.core.graph_rag_functions.invoke_llm...\n",
      "invoke_llm([ HumanMessage(content=\"\\nYou are a helpful assistant who answers questions based on provided context. You must only use the provided context, and cannot use your own knowledge.\\n\\n### Question\\nHow do the examples in Appendix A and Appendix B illustrate the differences in disbursement timing and eligibility requirements for students in clock-hour or non-term credit-hour programs versus subscription-based programs?\\n\\n### Context\\nPayment Periods for Clock-Hour and Non-Term Programs\\nFor all clock-hour programs and for credit-hour programs that do not have academic terms, payment periods are defined\\nbased on a student9s successful completion of clock or credit hours and weeks of instruction...)\n"
     ]
    },
    {
     "name": "stderr",
     "output_type": "stream",
     "text": [
      "2025-08-04 22:08:47,626 - src.core.graph_rag_functions - INFO - ✅ Generated response with 1005 characters\n",
      "2025-08-04 22:08:47,630 - src.agents.llm_tools_for_toolbelt - INFO - ✅ [Multi-Query Tool] Generated response with 7 contexts from expanded queries\n",
      "2025-08-04 22:08:47,635 - src.agents.build_graph_agent - INFO - 🧠 LLM processing 4 messages\n"
     ]
    },
    {
     "name": "stdout",
     "output_type": "stream",
     "text": [
      "_______________________________________________________invoke_llm - 2.0s, 0.0min\n"
     ]
    },
    {
     "name": "stderr",
     "output_type": "stream",
     "text": [
      "2025-08-04 22:08:53,244 - src.agents.build_graph_agent - INFO - 📝 LLM generated response with 1659 characters\n",
      "2025-08-04 22:08:53,247 - src.agents.build_graph_agent - INFO - ✅ Agent conversation complete, no more tool calls needed\n",
      "2025-08-04 22:08:53,259 - src.agents.build_graph_agent - INFO - 🧠 LLM processing 1 messages\n",
      "2025-08-04 22:08:54,752 - src.agents.build_graph_agent - INFO - 📝 LLM generated response with 0 characters\n",
      "2025-08-04 22:08:54,755 - src.agents.build_graph_agent - INFO - 🔧 Agent requesting 2 tool calls\n",
      "2025-08-04 22:08:54,765 - src.tools.tavily_tools - INFO - 🔍 [StudentAid Search] Searching for: Volume 8, Chapter 3 guidance for clinical work\n",
      "2025-08-04 22:08:54,770 - src.tools.tavily_tools - INFO - 🔍 [StudentAid Search] Searching for: disbursement timing rules for Title IV funds in subscription-based programs\n",
      "2025-08-04 22:08:56,576 - src.tools.tavily_tools - INFO - 📚 [StudentAid Search] Found 3 results\n",
      "2025-08-04 22:08:57,171 - src.tools.tavily_tools - INFO - 📚 [StudentAid Search] Found 3 results\n",
      "2025-08-04 22:08:57,178 - src.agents.build_graph_agent - INFO - 🧠 LLM processing 4 messages\n",
      "2025-08-04 22:08:59,719 - src.agents.build_graph_agent - INFO - 📝 LLM generated response with 825 characters\n",
      "2025-08-04 22:08:59,723 - src.agents.build_graph_agent - INFO - ✅ Agent conversation complete, no more tool calls needed\n",
      "2025-08-04 22:08:59,730 - src.agents.build_graph_agent - INFO - 🧠 LLM processing 1 messages\n",
      "2025-08-04 22:09:01,599 - src.agents.build_graph_agent - INFO - 📝 LLM generated response with 0 characters\n",
      "2025-08-04 22:09:01,603 - src.agents.build_graph_agent - INFO - 🔧 Agent requesting 2 tool calls\n",
      "2025-08-04 22:09:01,609 - src.tools.tavily_tools - INFO - 🔍 [StudentAid Search] Searching for: Volume 8 Chapter 6 nonstandard terms and direct loan rules for subscription-based and clinical work programs\n",
      "2025-08-04 22:09:01,611 - src.tools.tavily_tools - INFO - 🔍 [StudentAid Search] Searching for: Volume 8 Chapter 3 nonstandard terms and direct loan rules for subscription-based and clinical work programs\n",
      "2025-08-04 22:09:05,148 - src.tools.tavily_tools - INFO - 📚 [StudentAid Search] Found 3 results\n",
      "2025-08-04 22:09:05,989 - src.tools.tavily_tools - INFO - 📚 [StudentAid Search] Found 3 results\n",
      "2025-08-04 22:09:05,994 - src.agents.build_graph_agent - INFO - 🧠 LLM processing 4 messages\n",
      "2025-08-04 22:09:08,654 - src.agents.build_graph_agent - INFO - 📝 LLM generated response with 907 characters\n",
      "2025-08-04 22:09:08,657 - src.agents.build_graph_agent - INFO - ✅ Agent conversation complete, no more tool calls needed\n",
      "2025-08-04 22:09:08,665 - src.agents.build_graph_agent - INFO - 🧠 LLM processing 1 messages\n",
      "2025-08-04 22:09:10,027 - src.agents.build_graph_agent - INFO - 📝 LLM generated response with 0 characters\n",
      "2025-08-04 22:09:10,029 - src.agents.build_graph_agent - INFO - 🔧 Agent requesting 2 tool calls\n",
      "2025-08-04 22:09:10,037 - src.tools.tavily_tools - INFO - 🔍 [StudentAid Search] Searching for: Pell Grant disbursement requirements for clock-hour or non-term credit-hour programs\n",
      "2025-08-04 22:09:10,038 - src.tools.tavily_tools - INFO - 🔍 [StudentAid Search] Searching for: Pell Grant disbursement requirements for subscription-based academic calendars\n",
      "2025-08-04 22:09:11,550 - src.tools.tavily_tools - INFO - 📚 [StudentAid Search] Found 3 results\n",
      "2025-08-04 22:09:12,480 - src.tools.tavily_tools - INFO - 📚 [StudentAid Search] Found 3 results\n",
      "2025-08-04 22:09:12,489 - src.agents.build_graph_agent - INFO - 🧠 LLM processing 4 messages\n",
      "2025-08-04 22:09:17,136 - src.agents.build_graph_agent - INFO - 📝 LLM generated response with 1534 characters\n",
      "2025-08-04 22:09:17,139 - src.agents.build_graph_agent - INFO - ✅ Agent conversation complete, no more tool calls needed\n"
     ]
    }
   ],
   "source": [
    "mq_golden_master_dataset = copy.deepcopy(golden_master_dataset)\n",
    "mq_golden_master_dataset = generate_responses_for_golden_dataset(mq_golden_master_dataset, multi_query_graph_agent)"
   ]
  },
  {
   "cell_type": "code",
   "execution_count": 50,
   "metadata": {
    "scrolled": true
   },
   "outputs": [
    {
     "data": {
      "text/html": [
       "<div>\n",
       "<style scoped>\n",
       "    .dataframe tbody tr th:only-of-type {\n",
       "        vertical-align: middle;\n",
       "    }\n",
       "\n",
       "    .dataframe tbody tr th {\n",
       "        vertical-align: top;\n",
       "    }\n",
       "\n",
       "    .dataframe thead th {\n",
       "        text-align: right;\n",
       "    }\n",
       "</style>\n",
       "<table border=\"1\" class=\"dataframe\">\n",
       "  <thead>\n",
       "    <tr style=\"text-align: right;\">\n",
       "      <th></th>\n",
       "      <th>user_input</th>\n",
       "      <th>retrieved_contexts</th>\n",
       "      <th>reference_contexts</th>\n",
       "      <th>response</th>\n",
       "      <th>reference</th>\n",
       "      <th>synthesizer_name</th>\n",
       "      <th>tools_used</th>\n",
       "      <th>num_contexts</th>\n",
       "    </tr>\n",
       "  </thead>\n",
       "  <tbody>\n",
       "    <tr>\n",
       "      <th>0</th>\n",
       "      <td>How is the Pell Grant award calculated for stu...</td>\n",
       "      <td>[StudentAid.gov Search Results for: Pell Grant...</td>\n",
       "      <td>[non-term (includes clock-hour calendars), or ...</td>\n",
       "      <td>The Pell Grant award for students enrolled in ...</td>\n",
       "      <td>For students in subscription-based academic ca...</td>\n",
       "      <td>single_hop_specifc_query_synthesizer</td>\n",
       "      <td>[None, StudentAid_Federal_Search]</td>\n",
       "      <td>5</td>\n",
       "    </tr>\n",
       "    <tr>\n",
       "      <th>1</th>\n",
       "      <td>Are veterinary clinical experiences allowed to...</td>\n",
       "      <td>[StudentAid.gov Search Results for: Are veteri...</td>\n",
       "      <td>[Inclusion of Clinical Work in a Standard Term...</td>\n",
       "      <td>Veterinary clinical experiences are not includ...</td>\n",
       "      <td>Yes, veterinary clinical experiences may be in...</td>\n",
       "      <td>single_hop_specifc_query_synthesizer</td>\n",
       "      <td>[None, StudentAid_Federal_Search]</td>\n",
       "      <td>5</td>\n",
       "    </tr>\n",
       "    <tr>\n",
       "      <th>2</th>\n",
       "      <td>Whaat are the condishuns under wich a program ...</td>\n",
       "      <td>[StudentAid.gov Search Results for: program me...</td>\n",
       "      <td>[Non-Term Characteristics A program that measu...</td>\n",
       "      <td>A program measuring progress in credit-hours i...</td>\n",
       "      <td>A program that measures progress in credit-hou...</td>\n",
       "      <td>single_hop_specifc_query_synthesizer</td>\n",
       "      <td>[None, StudentAid_Federal_Search]</td>\n",
       "      <td>5</td>\n",
       "    </tr>\n",
       "    <tr>\n",
       "      <th>3</th>\n",
       "      <td>so like if a student gettin Pell Grant in a cl...</td>\n",
       "      <td>[Although a student9s completion of additional...</td>\n",
       "      <td>[both the credit or clock hours and the weeks ...</td>\n",
       "      <td>If a student receiving a Pell Grant in a clock...</td>\n",
       "      <td>if a student in a clock-hour or non-term credi...</td>\n",
       "      <td>single_hop_specifc_query_synthesizer</td>\n",
       "      <td>[None, ask_multi_query_llm_tool]</td>\n",
       "      <td>7</td>\n",
       "    </tr>\n",
       "    <tr>\n",
       "      <th>4</th>\n",
       "      <td>how do disbursement timing rules for federal s...</td>\n",
       "      <td>[StudentAid.gov Search Results for: disburseme...</td>\n",
       "      <td>[&lt;1-hop&gt;\\n\\nboth the credit or clock hours and...</td>\n",
       "      <td>The disbursement timing rules for federal stud...</td>\n",
       "      <td>In clock-hour or non-term credit-hour programs...</td>\n",
       "      <td>multi_hop_abstract_query_synthesizer</td>\n",
       "      <td>[None, StudentAid_Federal_Search]</td>\n",
       "      <td>15</td>\n",
       "    </tr>\n",
       "    <tr>\n",
       "      <th>5</th>\n",
       "      <td>What are the differences in disbursement timin...</td>\n",
       "      <td>[term, provided that the student is still maki...</td>\n",
       "      <td>[&lt;1-hop&gt;\\n\\nboth the credit or clock hours and...</td>\n",
       "      <td>The disbursement timing requirements for feder...</td>\n",
       "      <td>In clock-hour or non-term credit-hour programs...</td>\n",
       "      <td>multi_hop_abstract_query_synthesizer</td>\n",
       "      <td>[None, ask_multi_query_llm_tool]</td>\n",
       "      <td>5</td>\n",
       "    </tr>\n",
       "    <tr>\n",
       "      <th>6</th>\n",
       "      <td>How does the disbursement timing for federal s...</td>\n",
       "      <td>[StudentAid.gov Search Results for: disburseme...</td>\n",
       "      <td>[&lt;1-hop&gt;\\n\\nboth the credit or clock hours and...</td>\n",
       "      <td>The disbursement timing for federal student ai...</td>\n",
       "      <td>In clock-hour or non-term credit-hour programs...</td>\n",
       "      <td>multi_hop_abstract_query_synthesizer</td>\n",
       "      <td>[None, StudentAid_Federal_Search]</td>\n",
       "      <td>10</td>\n",
       "    </tr>\n",
       "    <tr>\n",
       "      <th>7</th>\n",
       "      <td>How does the disbursement timing for federal s...</td>\n",
       "      <td>[term, provided that the student is still maki...</td>\n",
       "      <td>[&lt;1-hop&gt;\\n\\nboth the credit or clock hours and...</td>\n",
       "      <td>The disbursement timing for federal student ai...</td>\n",
       "      <td>In standard clock-hour or non-term credit-hour...</td>\n",
       "      <td>multi_hop_abstract_query_synthesizer</td>\n",
       "      <td>[None, ask_multi_query_llm_tool]</td>\n",
       "      <td>7</td>\n",
       "    </tr>\n",
       "    <tr>\n",
       "      <th>8</th>\n",
       "      <td>How do the examples in Appendix A and Appendix...</td>\n",
       "      <td>[Payment Periods for Clock-Hour and Non-Term P...</td>\n",
       "      <td>[&lt;1-hop&gt;\\n\\nboth the credit or clock hours and...</td>\n",
       "      <td>The examples in Appendix A and Appendix B illu...</td>\n",
       "      <td>The examples in Appendix A illustrate the prin...</td>\n",
       "      <td>multi_hop_specific_query_synthesizer</td>\n",
       "      <td>[None, StudentAid_Federal_Search, ask_multi_qu...</td>\n",
       "      <td>11</td>\n",
       "    </tr>\n",
       "    <tr>\n",
       "      <th>9</th>\n",
       "      <td>Wut are the disbursment timing rules for Title...</td>\n",
       "      <td>[StudentAid.gov Search Results for: disburseme...</td>\n",
       "      <td>[&lt;1-hop&gt;\\n\\nDisbursement Timing in Subscriptio...</td>\n",
       "      <td>The disbursement timing rules for Title IV fun...</td>\n",
       "      <td>For the first two subscription periods in a su...</td>\n",
       "      <td>multi_hop_specific_query_synthesizer</td>\n",
       "      <td>[None, StudentAid_Federal_Search]</td>\n",
       "      <td>10</td>\n",
       "    </tr>\n",
       "    <tr>\n",
       "      <th>10</th>\n",
       "      <td>how volume 8 chapter 6 and volume 8 chapter 3 ...</td>\n",
       "      <td>[StudentAid.gov Search Results for: Volume 8 C...</td>\n",
       "      <td>[&lt;1-hop&gt;\\n\\nnon-term (includes clock-hour cale...</td>\n",
       "      <td>The information from the official federal sour...</td>\n",
       "      <td>volume 8 chapter 6 is mentioned as giving more...</td>\n",
       "      <td>multi_hop_specific_query_synthesizer</td>\n",
       "      <td>[None, StudentAid_Federal_Search]</td>\n",
       "      <td>10</td>\n",
       "    </tr>\n",
       "    <tr>\n",
       "      <th>11</th>\n",
       "      <td>How do the requirements for Pell Grant disburs...</td>\n",
       "      <td>[StudentAid.gov Search Results for: Pell Grant...</td>\n",
       "      <td>[&lt;1-hop&gt;\\n\\nboth the credit or clock hours and...</td>\n",
       "      <td>The requirements for Pell Grant disbursement a...</td>\n",
       "      <td>In clock-hour or non-term credit-hour programs...</td>\n",
       "      <td>multi_hop_specific_query_synthesizer</td>\n",
       "      <td>[None, StudentAid_Federal_Search]</td>\n",
       "      <td>10</td>\n",
       "    </tr>\n",
       "  </tbody>\n",
       "</table>\n",
       "</div>"
      ],
      "text/plain": [
       "                                           user_input  \\\n",
       "0   How is the Pell Grant award calculated for stu...   \n",
       "1   Are veterinary clinical experiences allowed to...   \n",
       "2   Whaat are the condishuns under wich a program ...   \n",
       "3   so like if a student gettin Pell Grant in a cl...   \n",
       "4   how do disbursement timing rules for federal s...   \n",
       "5   What are the differences in disbursement timin...   \n",
       "6   How does the disbursement timing for federal s...   \n",
       "7   How does the disbursement timing for federal s...   \n",
       "8   How do the examples in Appendix A and Appendix...   \n",
       "9   Wut are the disbursment timing rules for Title...   \n",
       "10  how volume 8 chapter 6 and volume 8 chapter 3 ...   \n",
       "11  How do the requirements for Pell Grant disburs...   \n",
       "\n",
       "                                   retrieved_contexts  \\\n",
       "0   [StudentAid.gov Search Results for: Pell Grant...   \n",
       "1   [StudentAid.gov Search Results for: Are veteri...   \n",
       "2   [StudentAid.gov Search Results for: program me...   \n",
       "3   [Although a student9s completion of additional...   \n",
       "4   [StudentAid.gov Search Results for: disburseme...   \n",
       "5   [term, provided that the student is still maki...   \n",
       "6   [StudentAid.gov Search Results for: disburseme...   \n",
       "7   [term, provided that the student is still maki...   \n",
       "8   [Payment Periods for Clock-Hour and Non-Term P...   \n",
       "9   [StudentAid.gov Search Results for: disburseme...   \n",
       "10  [StudentAid.gov Search Results for: Volume 8 C...   \n",
       "11  [StudentAid.gov Search Results for: Pell Grant...   \n",
       "\n",
       "                                   reference_contexts  \\\n",
       "0   [non-term (includes clock-hour calendars), or ...   \n",
       "1   [Inclusion of Clinical Work in a Standard Term...   \n",
       "2   [Non-Term Characteristics A program that measu...   \n",
       "3   [both the credit or clock hours and the weeks ...   \n",
       "4   [<1-hop>\\n\\nboth the credit or clock hours and...   \n",
       "5   [<1-hop>\\n\\nboth the credit or clock hours and...   \n",
       "6   [<1-hop>\\n\\nboth the credit or clock hours and...   \n",
       "7   [<1-hop>\\n\\nboth the credit or clock hours and...   \n",
       "8   [<1-hop>\\n\\nboth the credit or clock hours and...   \n",
       "9   [<1-hop>\\n\\nDisbursement Timing in Subscriptio...   \n",
       "10  [<1-hop>\\n\\nnon-term (includes clock-hour cale...   \n",
       "11  [<1-hop>\\n\\nboth the credit or clock hours and...   \n",
       "\n",
       "                                             response  \\\n",
       "0   The Pell Grant award for students enrolled in ...   \n",
       "1   Veterinary clinical experiences are not includ...   \n",
       "2   A program measuring progress in credit-hours i...   \n",
       "3   If a student receiving a Pell Grant in a clock...   \n",
       "4   The disbursement timing rules for federal stud...   \n",
       "5   The disbursement timing requirements for feder...   \n",
       "6   The disbursement timing for federal student ai...   \n",
       "7   The disbursement timing for federal student ai...   \n",
       "8   The examples in Appendix A and Appendix B illu...   \n",
       "9   The disbursement timing rules for Title IV fun...   \n",
       "10  The information from the official federal sour...   \n",
       "11  The requirements for Pell Grant disbursement a...   \n",
       "\n",
       "                                            reference  \\\n",
       "0   For students in subscription-based academic ca...   \n",
       "1   Yes, veterinary clinical experiences may be in...   \n",
       "2   A program that measures progress in credit-hou...   \n",
       "3   if a student in a clock-hour or non-term credi...   \n",
       "4   In clock-hour or non-term credit-hour programs...   \n",
       "5   In clock-hour or non-term credit-hour programs...   \n",
       "6   In clock-hour or non-term credit-hour programs...   \n",
       "7   In standard clock-hour or non-term credit-hour...   \n",
       "8   The examples in Appendix A illustrate the prin...   \n",
       "9   For the first two subscription periods in a su...   \n",
       "10  volume 8 chapter 6 is mentioned as giving more...   \n",
       "11  In clock-hour or non-term credit-hour programs...   \n",
       "\n",
       "                        synthesizer_name  \\\n",
       "0   single_hop_specifc_query_synthesizer   \n",
       "1   single_hop_specifc_query_synthesizer   \n",
       "2   single_hop_specifc_query_synthesizer   \n",
       "3   single_hop_specifc_query_synthesizer   \n",
       "4   multi_hop_abstract_query_synthesizer   \n",
       "5   multi_hop_abstract_query_synthesizer   \n",
       "6   multi_hop_abstract_query_synthesizer   \n",
       "7   multi_hop_abstract_query_synthesizer   \n",
       "8   multi_hop_specific_query_synthesizer   \n",
       "9   multi_hop_specific_query_synthesizer   \n",
       "10  multi_hop_specific_query_synthesizer   \n",
       "11  multi_hop_specific_query_synthesizer   \n",
       "\n",
       "                                           tools_used  num_contexts  \n",
       "0                   [None, StudentAid_Federal_Search]             5  \n",
       "1                   [None, StudentAid_Federal_Search]             5  \n",
       "2                   [None, StudentAid_Federal_Search]             5  \n",
       "3                    [None, ask_multi_query_llm_tool]             7  \n",
       "4                   [None, StudentAid_Federal_Search]            15  \n",
       "5                    [None, ask_multi_query_llm_tool]             5  \n",
       "6                   [None, StudentAid_Federal_Search]            10  \n",
       "7                    [None, ask_multi_query_llm_tool]             7  \n",
       "8   [None, StudentAid_Federal_Search, ask_multi_qu...            11  \n",
       "9                   [None, StudentAid_Federal_Search]            10  \n",
       "10                  [None, StudentAid_Federal_Search]            10  \n",
       "11                  [None, StudentAid_Federal_Search]            10  "
      ]
     },
     "execution_count": 50,
     "metadata": {},
     "output_type": "execute_result"
    }
   ],
   "source": [
    "display_dataset_with_metadata(mq_golden_master_dataset).to_csv('../golden-masters/mq_golden_master_dataset.csv', index=False)\n",
    "display_dataset_with_metadata(mq_golden_master_dataset)"
   ]
  },
  {
   "cell_type": "code",
   "execution_count": 51,
   "metadata": {},
   "outputs": [
    {
     "name": "stdout",
     "output_type": "stream",
     "text": [
      "🧪 Running RAGAS evaluation for Multi Query\n"
     ]
    },
    {
     "data": {
      "application/vnd.jupyter.widget-view+json": {
       "model_id": "a08019cb4317484dbc525ef1537e3977",
       "version_major": 2,
       "version_minor": 0
      },
      "text/plain": [
       "Evaluating:   0%|          | 0/96 [00:00<?, ?it/s]"
      ]
     },
     "metadata": {},
     "output_type": "display_data"
    },
    {
     "name": "stderr",
     "output_type": "stream",
     "text": [
      "2025-08-04 22:15:41,252 - ragas.executor - ERROR - Exception raised in Job[39]: TimeoutError()\n",
      "2025-08-04 22:17:28,363 - ragas.executor - ERROR - Exception raised in Job[95]: TimeoutError()\n"
     ]
    },
    {
     "name": "stdout",
     "output_type": "stream",
     "text": [
      "✅ Completed  RAGAS evaluation for Multi Query\n",
      "CPU times: user 14.1 s, sys: 2.19 s, total: 16.3 s\n",
      "Wall time: 8min 11s\n"
     ]
    }
   ],
   "source": [
    "%%time\n",
    "mq_result = run_ragas_evaluation(mq_golden_master_dataset, \"Multi Query\")"
   ]
  },
  {
   "cell_type": "code",
   "execution_count": 78,
   "metadata": {},
   "outputs": [],
   "source": [
    "mq_raw_stats_df = pd.DataFrame([extract_ragas_metrics(mq_result, 'gpt-4.1-mini')])\n",
    "record_metrics_from_run('MultiQuery', mq_raw_stats_df)"
   ]
  },
  {
   "cell_type": "code",
   "execution_count": 79,
   "metadata": {},
   "outputs": [
    {
     "data": {
      "text/html": [
       "<div>\n",
       "<style scoped>\n",
       "    .dataframe tbody tr th:only-of-type {\n",
       "        vertical-align: middle;\n",
       "    }\n",
       "\n",
       "    .dataframe tbody tr th {\n",
       "        vertical-align: top;\n",
       "    }\n",
       "\n",
       "    .dataframe thead th {\n",
       "        text-align: right;\n",
       "    }\n",
       "</style>\n",
       "<table border=\"1\" class=\"dataframe\">\n",
       "  <thead>\n",
       "    <tr style=\"text-align: right;\">\n",
       "      <th></th>\n",
       "      <th>context_recall</th>\n",
       "      <th>faithfulness</th>\n",
       "      <th>factual_correctness</th>\n",
       "      <th>answer_relevancy</th>\n",
       "      <th>context_entity_recall</th>\n",
       "      <th>context_precision</th>\n",
       "      <th>answer_correctness</th>\n",
       "      <th>noise_sensitivity_relevant</th>\n",
       "    </tr>\n",
       "  </thead>\n",
       "  <tbody>\n",
       "    <tr>\n",
       "      <th>0</th>\n",
       "      <td>0.500992</td>\n",
       "      <td>0.909593</td>\n",
       "      <td>0.373333</td>\n",
       "      <td>0.957734</td>\n",
       "      <td>0.25745</td>\n",
       "      <td>0.451584</td>\n",
       "      <td>0.522996</td>\n",
       "      <td>0.258004</td>\n",
       "    </tr>\n",
       "  </tbody>\n",
       "</table>\n",
       "</div>"
      ],
      "text/plain": [
       "   context_recall  faithfulness  factual_correctness  answer_relevancy  \\\n",
       "0        0.500992      0.909593             0.373333          0.957734   \n",
       "\n",
       "   context_entity_recall  context_precision  answer_correctness  \\\n",
       "0                0.25745           0.451584            0.522996   \n",
       "\n",
       "   noise_sensitivity_relevant  \n",
       "0                    0.258004  "
      ]
     },
     "execution_count": 79,
     "metadata": {},
     "output_type": "execute_result"
    }
   ],
   "source": [
    "mq_raw_stats_df[columns]"
   ]
  },
  {
   "cell_type": "markdown",
   "metadata": {},
   "source": [
    "### Synthetic Data Generation using RAGAS using the Golden master (Parent Document Retriever)"
   ]
  },
  {
   "cell_type": "code",
   "execution_count": 18,
   "metadata": {},
   "outputs": [
    {
     "name": "stderr",
     "output_type": "stream",
     "text": [
      "2025-08-04 23:28:40,505 - src.agents.build_graph_agent - INFO - 🤖 Creating graph agent with 1 additional tools\n",
      "2025-08-04 23:28:40,612 - src.agents.build_graph_agent - INFO - 🔧 Agent toolbelt configured with 5 total tools\n",
      "2025-08-04 23:28:40,613 - src.agents.build_graph_agent - INFO - ✅ Agent graph compiled and ready\n"
     ]
    }
   ],
   "source": [
    "parent_document_graph_agent = get_graph_agent([ask_parent_document_llm_tool])"
   ]
  },
  {
   "cell_type": "code",
   "execution_count": 24,
   "metadata": {
    "scrolled": true
   },
   "outputs": [
    {
     "data": {
      "application/vnd.jupyter.widget-view+json": {
       "model_id": "7edbae3340da4d9789b9592ac2a9b074",
       "version_major": 2,
       "version_minor": 0
      },
      "text/plain": [
       "  0%|          | 0/12 [00:00<?, ?it/s]"
      ]
     },
     "metadata": {},
     "output_type": "display_data"
    },
    {
     "name": "stderr",
     "output_type": "stream",
     "text": [
      "2025-08-04 23:29:50,352 - src.agents.build_graph_agent - INFO - 🧠 LLM processing 1 messages\n",
      "2025-08-04 23:29:51,068 - src.agents.build_graph_agent - INFO - 📝 LLM generated response with 0 characters\n",
      "2025-08-04 23:29:51,072 - src.agents.build_graph_agent - INFO - 🔧 Agent requesting 1 tool calls\n",
      "2025-08-04 23:29:51,061 - src.agents.llm_tools_for_toolbelt - INFO - 🔍 [Parent Document Tool] Processing question: How is the Pell Grant award calculated for students enrolled in subscription-based academic calendar...\n",
      "2025-08-04 23:29:51,066 - src.core.graph_rag_functions - INFO - 🔍 [Parent Document] Retrieving docs for: How is the Pell Grant award calculated for students enrolled in subscription-based academic calendar...\n",
      "2025-08-04 23:29:51,412 - src.core.graph_rag_functions - INFO - child_docs_with_scores: [(Document(metadata={'producer': 'GPL Ghostscript 10.00.0', 'creator': 'wkhtmltopdf 0.12.6', 'creationdate': \"D:20250418114032Z00'00'\", 'source': '../data/The_Federal_Pell_Grant_Program.pdf', 'file_path': '../data/The_Federal_Pell_Grant_Program.pdf', 'total_pages': 65, 'format': 'PDF 1.7', 'title': '', 'author': '', 'subject': '', 'keywords': '', 'moddate': \"D:20250418114032Z00'00'\", 'trapped': '', 'modDate': \"D:20250418114032Z00'00'\", 'creationDate': \"D:20250418114032Z00'00'\", 'page': 26, 'doc_id': 'acf493b9-4051-4673-9b93-06894c56a46c', '_id': '5a927603a1f74bb28ae196a3f117500c', '_collection_name': 'full_documents'}, page_content='must be prorated based on the number of weeks in the academic calendar to determine the annual Pell Grant\\naward. The annual Pell Grant award is then divided by the number of terms in the fall through spring.\\nScheduled Award: $7,500\\nWeeks in the academic year (fall through spring): 29\\nAnnual award: ($7,500 * 29) ÷ 30 = $7,250\\nDisbursement Schedule\\nFall (14 weeks)\\nSpring (15 weeks)\\nCredit Hours (Enrollment Intensity %)\\n12 (100%)\\n15 (100%)\\nAnnual Pell Award\\n$3,625\\n$3,625'), 0.7472276386394039), (Document(metadata={'producer': 'GPL Ghostscript 10.00.0', 'creator': 'wkhtmltopdf 0.12.6', 'creationdate': \"D:20250418114032Z00'00'\", 'source': '../data/The_Federal_Pell_Grant_Program.pdf', 'file_path': '../data/The_Federal_Pell_Grant_Program.pdf', 'total_pages': 65, 'format': 'PDF 1.7', 'title': '', 'author': '', 'subject': '', 'keywords': '', 'moddate': \"D:20250418114032Z00'00'\", 'trapped': '', 'modDate': \"D:20250418114032Z00'00'\", 'creationDate': \"D:20250418114032Z00'00'\", 'page': 22, 'doc_id': 'dc777d83-4b89-4cb1-837c-13ab9adb5018', '_id': '4647e898f47d4344a5a5964415162333', '_collection_name': 'full_documents'}, page_content='Note: Examples use fictional maximum ($7,500) and minimum ($750) Pell Grant award amounts for\\ndemonstration purposes only. Award amounts in examples in this volume should not be used in packaging Pell\\nGrants for the 2025-26 award year.\\nVolume 7, Chapter 4, Example 1: Traditional Academic Calendar\\nIn Formula 1, the annual award is simply divided by the number of terms in the fall through spring at a school with\\na traditional academic calendar.\\nFull-time definition: 30 weeks of instruction; 12 credits per term\\nScheduled Pell Grant award: $7,500\\nSemester Disbursement Schedule\\nFall\\nSpring\\nCredit Hours (Enrollment Intensity %)\\n12 (100%)\\n15 (100%)\\nAnnual Pell Award\\n$3,750\\n$3,750'), 0.7117056332276984), (Document(metadata={'producer': 'GPL Ghostscript 10.00.0', 'creator': 'wkhtmltopdf 0.12.6', 'creationdate': \"D:20250418114032Z00'00'\", 'source': '../data/The_Federal_Pell_Grant_Program.pdf', 'file_path': '../data/The_Federal_Pell_Grant_Program.pdf', 'total_pages': 65, 'format': 'PDF 1.7', 'title': '', 'author': '', 'subject': '', 'keywords': '', 'moddate': \"D:20250418114032Z00'00'\", 'trapped': '', 'modDate': \"D:20250418114032Z00'00'\", 'creationDate': \"D:20250418114032Z00'00'\", 'page': 7, 'doc_id': '5040416f-6308-4a16-bb31-0ff398e070ad', '_id': '591c750365c24d12b084741898d2ee27', '_collection_name': 'full_documents'}, page_content='Chapter 2\\nCalculating Pell Grants\\nPell Grant Scheduled Awards are based on information provided on the FAFSA form, the presence of a valid Student Aid\\nIndex (SAI) on the student9s FAFSA Submission Summary or ISIR, the academic year structure (see Volume 3, Chapter 1),\\nand the Pell Grant cost of attendance (COA) for a full-time student for a full academic year (see Volume 3, Chapter 2). For\\nterm-based programs, awards for part-time students are adjusted based on a student9s enrollment intensity.\\nScheduled Award, Award Year, and Annual Award\\nThe Scheduled Award is the maximum amount a student can receive during the award year if the student attends full'), 0.7037696896519762), (Document(metadata={'producer': 'GPL Ghostscript 10.00.0', 'creator': 'wkhtmltopdf 0.12.6', 'creationdate': \"D:20250418114032Z00'00'\", 'source': '../data/The_Federal_Pell_Grant_Program.pdf', 'file_path': '../data/The_Federal_Pell_Grant_Program.pdf', 'total_pages': 65, 'format': 'PDF 1.7', 'title': '', 'author': '', 'subject': '', 'keywords': '', 'moddate': \"D:20250418114032Z00'00'\", 'trapped': '', 'modDate': \"D:20250418114032Z00'00'\", 'creationDate': \"D:20250418114032Z00'00'\", 'page': 11, 'doc_id': '6a33894a-c064-4fea-ace8-9a2d827193dd', '_id': '8e718f2fa69c40f59a228671cb23958b', '_collection_name': 'full_documents'}, page_content='nonstandard-term programs if the program does not conform to a traditional academic calendar or meet certain other\\nThe school performs the steps in the Calculated Pell Grant process to determine the student9s Scheduled Award.\\nStep 1: Max Pell ($7,500) - SAI (1,004) = $6,496\\nStep 2: Calculated Pell Grant ($6,496) > Min Pell ($750)\\nStep 3: Round Calculated Pell Grant ($6,496) to the nearest $5 = $6,495\\nStep 4: Rounded Calculated Pell Grant ($6,495) > Pell Grant COA ($6,493)\\nSince the calculated Scheduled Award is greater than the Pell COA, the school determines the student9s\\nScheduled Award must be capped at the COA. The student is eligible for a Scheduled Award of $6,493.\\nVolume 7, Chapter 2, Example 3: Ineligible for Calculated Pell Grant'), 0.6890260575289953), (Document(metadata={'producer': 'GPL Ghostscript 10.00.0', 'creator': 'wkhtmltopdf 0.12.6', 'creationdate': \"D:20250418114032Z00'00'\", 'source': '../data/The_Federal_Pell_Grant_Program.pdf', 'file_path': '../data/The_Federal_Pell_Grant_Program.pdf', 'total_pages': 65, 'format': 'PDF 1.7', 'title': '', 'author': '', 'subject': '', 'keywords': '', 'moddate': \"D:20250418114032Z00'00'\", 'trapped': '', 'modDate': \"D:20250418114032Z00'00'\", 'creationDate': \"D:20250418114032Z00'00'\", 'page': 40, 'doc_id': '707d6c3d-3f83-4255-a4ae-d6e8e1f78b71', '_id': '1e47b46cf6844fa087fe9a4cb096006e', '_collection_name': 'full_documents'}, page_content='Formula 3 for the fall through spring terms.\\nVolume 7, Chapter 5, Example 4: Year-Round Pell at a Semester School with Full-Time Enrollment\\nA student attends a school which provides coursework on a semester calendar, defines full time as 12 credits, and\\nawards Pell using Formula 1. The student9s enrollment begins in the fall semester. The student9s Scheduled Award\\nis $6,005. The student plans to enroll full-time in the fall and spring semesters, so their annual award is equal to\\nthe Scheduled Award. Since the school9s academic calendar consists of two semesters, the school divides the\\nScheduled Award by 2 to determine the student9s payment for the fall and spring terms ($6,005 ÷ 2 = $3,002.50'), 0.6840834662748121)]\n",
      "2025-08-04 23:29:51,519 - src.agents.build_graph_agent - INFO - 🧠 LLM processing 3 messages\n",
      "2025-08-04 23:29:51,991 - src.agents.build_graph_agent - INFO - 📝 LLM generated response with 0 characters\n",
      "2025-08-04 23:29:51,995 - src.agents.build_graph_agent - INFO - 🔧 Agent requesting 1 tool calls\n",
      "2025-08-04 23:29:52,011 - src.tools.tavily_tools - INFO - 🔍 [StudentAid Search] Searching for: Pell Grant award calculation for students enrolled in subscription-based academic calendars\n",
      "2025-08-04 23:29:54,211 - src.tools.tavily_tools - INFO - 📚 [StudentAid Search] Found 3 results\n",
      "2025-08-04 23:29:54,222 - src.agents.build_graph_agent - INFO - 🧠 LLM processing 5 messages\n",
      "2025-08-04 23:29:55,492 - src.agents.build_graph_agent - INFO - 📝 LLM generated response with 552 characters\n",
      "2025-08-04 23:29:55,496 - src.agents.build_graph_agent - INFO - ✅ Agent conversation complete, no more tool calls needed\n",
      "2025-08-04 23:29:55,506 - src.agents.build_graph_agent - INFO - 🧠 LLM processing 1 messages\n",
      "2025-08-04 23:29:55,958 - src.agents.build_graph_agent - INFO - 📝 LLM generated response with 0 characters\n",
      "2025-08-04 23:29:55,961 - src.agents.build_graph_agent - INFO - 🔧 Agent requesting 1 tool calls\n",
      "2025-08-04 23:29:55,972 - src.tools.tavily_tools - INFO - 🔍 [StudentAid Search] Searching for: veterinary clinical experiences inclusion in standard term periods for financial aid\n",
      "2025-08-04 23:30:00,679 - src.tools.tavily_tools - INFO - 📚 [StudentAid Search] Found 3 results\n",
      "2025-08-04 23:30:00,689 - src.agents.build_graph_agent - INFO - 🧠 LLM processing 3 messages\n",
      "2025-08-04 23:30:01,267 - src.agents.build_graph_agent - INFO - 📝 LLM generated response with 296 characters\n",
      "2025-08-04 23:30:01,270 - src.agents.build_graph_agent - INFO - ✅ Agent conversation complete, no more tool calls needed\n",
      "2025-08-04 23:30:01,289 - src.agents.build_graph_agent - INFO - 🧠 LLM processing 1 messages\n",
      "2025-08-04 23:30:01,834 - src.agents.build_graph_agent - INFO - 📝 LLM generated response with 0 characters\n",
      "2025-08-04 23:30:01,837 - src.agents.build_graph_agent - INFO - 🔧 Agent requesting 1 tool calls\n",
      "2025-08-04 23:30:01,848 - src.tools.tavily_tools - INFO - 🔍 [StudentAid Search] Searching for: program measuring progress in credit-hours non-term calendar conditions\n",
      "2025-08-04 23:30:06,208 - src.tools.tavily_tools - INFO - 📚 [StudentAid Search] Found 3 results\n",
      "2025-08-04 23:30:06,214 - src.agents.build_graph_agent - INFO - 🧠 LLM processing 3 messages\n",
      "2025-08-04 23:30:07,632 - src.agents.build_graph_agent - INFO - 📝 LLM generated response with 839 characters\n",
      "2025-08-04 23:30:07,636 - src.agents.build_graph_agent - INFO - ✅ Agent conversation complete, no more tool calls needed\n",
      "2025-08-04 23:30:07,653 - src.agents.build_graph_agent - INFO - 🧠 LLM processing 1 messages\n",
      "2025-08-04 23:30:08,453 - src.agents.build_graph_agent - INFO - 📝 LLM generated response with 0 characters\n",
      "2025-08-04 23:30:08,457 - src.agents.build_graph_agent - INFO - 🔧 Agent requesting 2 tool calls\n",
      "2025-08-04 23:30:08,473 - src.tools.tavily_tools - INFO - 🔍 [StudentAid Search] Searching for: Pell Grant disbursement for clock-hour or non-term credit-hour programs when student finishes early\n",
      "2025-08-04 23:30:08,480 - src.tools.tavily_tools - INFO - 🔍 [StudentAid Search] Searching for: Pell Grant payment periods and disbursement rules\n",
      "2025-08-04 23:30:11,733 - src.tools.tavily_tools - INFO - 📚 [StudentAid Search] Found 3 results\n",
      "2025-08-04 23:30:11,864 - src.tools.tavily_tools - INFO - 📚 [StudentAid Search] Found 3 results\n",
      "2025-08-04 23:30:11,871 - src.agents.build_graph_agent - INFO - 🧠 LLM processing 4 messages\n",
      "2025-08-04 23:30:13,515 - src.agents.build_graph_agent - INFO - 📝 LLM generated response with 945 characters\n",
      "2025-08-04 23:30:13,519 - src.agents.build_graph_agent - INFO - ✅ Agent conversation complete, no more tool calls needed\n",
      "2025-08-04 23:30:13,539 - src.agents.build_graph_agent - INFO - 🧠 LLM processing 1 messages\n",
      "2025-08-04 23:30:14,154 - src.agents.build_graph_agent - INFO - 📝 LLM generated response with 0 characters\n",
      "2025-08-04 23:30:14,156 - src.agents.build_graph_agent - INFO - 🔧 Agent requesting 1 tool calls\n",
      "2025-08-04 23:30:14,167 - src.tools.tavily_tools - INFO - 🔍 [StudentAid Search] Searching for: disbursement timing rules federal student aid clock-hour non-term credit-hour programs subscription-based programs\n",
      "2025-08-04 23:30:18,238 - src.tools.tavily_tools - INFO - 📚 [StudentAid Search] Found 3 results\n",
      "2025-08-04 23:30:18,245 - src.agents.build_graph_agent - INFO - 🧠 LLM processing 3 messages\n",
      "2025-08-04 23:30:20,273 - src.agents.build_graph_agent - INFO - 📝 LLM generated response with 1495 characters\n",
      "2025-08-04 23:30:20,278 - src.agents.build_graph_agent - INFO - ✅ Agent conversation complete, no more tool calls needed\n",
      "2025-08-04 23:30:20,299 - src.agents.build_graph_agent - INFO - 🧠 LLM processing 1 messages\n",
      "2025-08-04 23:30:21,022 - src.agents.build_graph_agent - INFO - 📝 LLM generated response with 0 characters\n",
      "2025-08-04 23:30:21,026 - src.agents.build_graph_agent - INFO - 🔧 Agent requesting 1 tool calls\n",
      "2025-08-04 23:30:21,044 - src.tools.tavily_tools - INFO - 🔍 [StudentAid Search] Searching for: disbursement timing requirements federal student aid\n",
      "2025-08-04 23:30:23,842 - src.tools.tavily_tools - INFO - 📚 [StudentAid Search] Found 3 results\n",
      "2025-08-04 23:30:23,849 - src.agents.build_graph_agent - INFO - 🧠 LLM processing 3 messages\n",
      "2025-08-04 23:30:24,624 - src.agents.build_graph_agent - INFO - 📝 LLM generated response with 0 characters\n",
      "2025-08-04 23:30:24,628 - src.agents.build_graph_agent - INFO - 🔧 Agent requesting 1 tool calls\n",
      "2025-08-04 23:30:24,643 - src.tools.tavily_tools - INFO - 🔍 [StudentAid Search] Searching for: disbursement timing requirements for clock-hour or non-term credit-hour programs vs subscription-based programs\n",
      "2025-08-04 23:30:30,822 - src.tools.tavily_tools - INFO - 📚 [StudentAid Search] Found 3 results\n",
      "2025-08-04 23:30:30,828 - src.agents.build_graph_agent - INFO - 🧠 LLM processing 5 messages\n",
      "2025-08-04 23:30:32,218 - src.agents.build_graph_agent - INFO - 📝 LLM generated response with 926 characters\n",
      "2025-08-04 23:30:32,221 - src.agents.build_graph_agent - INFO - ✅ Agent conversation complete, no more tool calls needed\n",
      "2025-08-04 23:30:32,239 - src.agents.build_graph_agent - INFO - 🧠 LLM processing 1 messages\n",
      "2025-08-04 23:30:32,714 - src.agents.build_graph_agent - INFO - 📝 LLM generated response with 0 characters\n",
      "2025-08-04 23:30:32,718 - src.agents.build_graph_agent - INFO - 🔧 Agent requesting 1 tool calls\n",
      "2025-08-04 23:30:32,731 - src.tools.tavily_tools - INFO - 🔍 [StudentAid Search] Searching for: disbursement timing federal student aid\n",
      "2025-08-04 23:30:34,669 - src.tools.tavily_tools - INFO - 📚 [StudentAid Search] Found 3 results\n",
      "2025-08-04 23:30:34,678 - src.agents.build_graph_agent - INFO - 🧠 LLM processing 3 messages\n",
      "2025-08-04 23:30:35,656 - src.agents.build_graph_agent - INFO - 📝 LLM generated response with 0 characters\n",
      "2025-08-04 23:30:35,660 - src.agents.build_graph_agent - INFO - 🔧 Agent requesting 2 tool calls\n",
      "2025-08-04 23:30:35,685 - src.tools.tavily_tools - INFO - 🔍 [StudentAid Search] Searching for: disbursement timing for clock-hour or non-term credit-hour programs\n",
      "2025-08-04 23:30:35,695 - src.tools.tavily_tools - INFO - 🔍 [StudentAid Search] Searching for: disbursement timing for subscription-based programs\n",
      "2025-08-04 23:30:37,837 - src.tools.tavily_tools - INFO - 📚 [StudentAid Search] Found 3 results\n",
      "2025-08-04 23:30:37,994 - src.tools.tavily_tools - INFO - 📚 [StudentAid Search] Found 3 results\n",
      "2025-08-04 23:30:38,000 - src.agents.build_graph_agent - INFO - 🧠 LLM processing 6 messages\n",
      "2025-08-04 23:30:39,520 - src.agents.build_graph_agent - INFO - 📝 LLM generated response with 872 characters\n",
      "2025-08-04 23:30:39,522 - src.agents.build_graph_agent - INFO - ✅ Agent conversation complete, no more tool calls needed\n",
      "2025-08-04 23:30:39,536 - src.agents.build_graph_agent - INFO - 🧠 LLM processing 1 messages\n",
      "2025-08-04 23:30:40,123 - src.agents.build_graph_agent - INFO - 📝 LLM generated response with 0 characters\n",
      "2025-08-04 23:30:40,125 - src.agents.build_graph_agent - INFO - 🔧 Agent requesting 1 tool calls\n",
      "2025-08-04 23:30:40,144 - src.tools.tavily_tools - INFO - 🔍 [StudentAid Search] Searching for: disbursement timing federal student aid\n",
      "2025-08-04 23:30:41,538 - src.tools.tavily_tools - INFO - 📚 [StudentAid Search] Found 3 results\n",
      "2025-08-04 23:30:41,551 - src.agents.build_graph_agent - INFO - 🧠 LLM processing 3 messages\n",
      "2025-08-04 23:30:42,373 - src.agents.build_graph_agent - INFO - 📝 LLM generated response with 0 characters\n",
      "2025-08-04 23:30:42,376 - src.agents.build_graph_agent - INFO - 🔧 Agent requesting 2 tool calls\n",
      "2025-08-04 23:30:42,393 - src.tools.tavily_tools - INFO - 🔍 [StudentAid Search] Searching for: disbursement timing for subscription-based programs\n",
      "2025-08-04 23:30:42,396 - src.tools.tavily_tools - INFO - 🔍 [StudentAid Search] Searching for: disbursement timing for standard clock-hour or non-term credit-hour programs\n",
      "2025-08-04 23:30:44,640 - src.tools.tavily_tools - INFO - 📚 [StudentAid Search] Found 3 results\n",
      "2025-08-04 23:30:48,305 - src.tools.tavily_tools - INFO - 📚 [StudentAid Search] Found 3 results\n",
      "2025-08-04 23:30:48,314 - src.agents.build_graph_agent - INFO - 🧠 LLM processing 6 messages\n",
      "2025-08-04 23:30:50,381 - src.agents.build_graph_agent - INFO - 📝 LLM generated response with 999 characters\n",
      "2025-08-04 23:30:50,385 - src.agents.build_graph_agent - INFO - ✅ Agent conversation complete, no more tool calls needed\n",
      "2025-08-04 23:30:50,406 - src.agents.build_graph_agent - INFO - 🧠 LLM processing 1 messages\n",
      "2025-08-04 23:30:51,292 - src.agents.build_graph_agent - INFO - 📝 LLM generated response with 0 characters\n",
      "2025-08-04 23:30:51,295 - src.agents.build_graph_agent - INFO - 🔧 Agent requesting 1 tool calls\n",
      "2025-08-04 23:30:51,313 - src.agents.llm_tools_for_toolbelt - INFO - 🔍 [Parent Document Tool] Processing question: How do the examples in Appendix A and Appendix B illustrate the differences in disbursement timing a...\n",
      "2025-08-04 23:30:51,320 - src.core.graph_rag_functions - INFO - 🔍 [Parent Document] Retrieving docs for: How do the examples in Appendix A and Appendix B illustrate the differences in disbursement timing a...\n",
      "2025-08-04 23:30:51,866 - src.core.graph_rag_functions - INFO - child_docs_with_scores: [(Document(metadata={'producer': 'GPL Ghostscript 10.00.0', 'creator': 'wkhtmltopdf 0.12.6', 'creationdate': \"D:20250418120630Z00'00'\", 'source': '../data/Academic_Calenders_Cost_of_Attendance_and_Packaging.pdf', 'file_path': '../data/Academic_Calenders_Cost_of_Attendance_and_Packaging.pdf', 'total_pages': 57, 'format': 'PDF 1.7', 'title': '', 'author': '', 'subject': '', 'keywords': '', 'moddate': \"D:20250418120630Z00'00'\", 'trapped': '', 'modDate': \"D:20250418120630Z00'00'\", 'creationDate': \"D:20250418120630Z00'00'\", 'page': 10, 'doc_id': 'b4ce4109-2d03-44b3-9e80-7b30a36b2f07', '_id': 'c12126474090417f8e429f37991472a1', '_collection_name': 'full_documents'}, page_content='Payment Periods for Clock-Hour and Non-Term Programs\\nFor all clock-hour programs and for credit-hour programs that do not have academic terms, payment periods are defined\\nbased on a student9s successful completion of clock or credit hours and weeks of instructional time, as described below.\\nAs noted earlier, these same payment period requirements also apply when disbursing Direct Loans to students enrolled\\nin programs with nonstandard terms that are not substantially equal in length.\\nA student successfully completes clock or credit hours if the school considers the student to have passed the coursework\\nassociated with those hours.\\nClock-Hour and Non-Term Program Payment Periods for Programs One Academic Year or Less in Length'), 0.7159448603743459), (Document(metadata={'producer': 'GPL Ghostscript 10.00.0', 'creator': 'wkhtmltopdf 0.12.6', 'creationdate': \"D:20250418120630Z00'00'\", 'source': '../data/Academic_Calenders_Cost_of_Attendance_and_Packaging.pdf', 'file_path': '../data/Academic_Calenders_Cost_of_Attendance_and_Packaging.pdf', 'total_pages': 57, 'format': 'PDF 1.7', 'title': '', 'author': '', 'subject': '', 'keywords': '', 'moddate': \"D:20250418120630Z00'00'\", 'trapped': '', 'modDate': \"D:20250418120630Z00'00'\", 'creationDate': \"D:20250418120630Z00'00'\", 'page': 15, 'doc_id': 'eac8c6f8-5dc0-4040-bbab-db3b389c3cb0', '_id': 'a885099bf3ce458b8c476db460fea190', '_collection_name': 'full_documents'}, page_content='term, provided that the student is still making satisfactory academic progress under the school9s policy.\\nDisbursement Timing in Clock-Hour, Non-Term, and Certain Nonstandard Term Programs\\nA student who is enrolled in a credit-hour program without terms or in a clock-hour program must successfully complete\\nNote: We do not cover the requirements for reporting disbursements through the Common Origination and\\nDisbursement (COD) System or the rules for making early disbursements, late disbursements, or retroactive\\npayments in this section. For guidance on those topics, refer to Volume 4, Chapter 2. We also do not cover certain\\ndisbursement requirements that are specific to the Title IV grant programs or the Direct Loan Program. For'), 0.700539500516119), (Document(metadata={'producer': 'GPL Ghostscript 10.00.0', 'creator': 'wkhtmltopdf 0.12.6', 'creationdate': \"D:20250418120630Z00'00'\", 'source': '../data/Academic_Calenders_Cost_of_Attendance_and_Packaging.pdf', 'file_path': '../data/Academic_Calenders_Cost_of_Attendance_and_Packaging.pdf', 'total_pages': 57, 'format': 'PDF 1.7', 'title': '', 'author': '', 'subject': '', 'keywords': '', 'moddate': \"D:20250418120630Z00'00'\", 'trapped': '', 'modDate': \"D:20250418120630Z00'00'\", 'creationDate': \"D:20250418120630Z00'00'\", 'page': 21, 'doc_id': '4167d05b-4338-479f-8b63-897daaf2058c', '_id': 'f73e9dfd497e4cecb42c03d6a46d45c4', '_collection_name': 'full_documents'}, page_content='Programs\\nAs we explained under <Disbursement timing in subscription-based programs= earlier in this chapter, there is no\\nrequirement for a student to have completed a specified amount of coursework before receiving a disbursement of Title IV\\nfunds for the first two subscription periods (terms) in a subscription-based program. However, to receive a disbursement\\nfor the third subscription period and for each subsequent subscription period in the program, a student must have\\ncompleted a cumulative number of credit hours equal to the total number of hours for which the student was enrolled in\\nall previously attended subscription periods in the program, excluding the number of hours for which the student was'), 0.6976868146501951), (Document(metadata={'producer': 'GPL Ghostscript 10.00.0', 'creator': 'wkhtmltopdf 0.12.6', 'creationdate': \"D:20250418120630Z00'00'\", 'source': '../data/Academic_Calenders_Cost_of_Attendance_and_Packaging.pdf', 'file_path': '../data/Academic_Calenders_Cost_of_Attendance_and_Packaging.pdf', 'total_pages': 57, 'format': 'PDF 1.7', 'title': '', 'author': '', 'subject': '', 'keywords': '', 'moddate': \"D:20250418120630Z00'00'\", 'trapped': '', 'modDate': \"D:20250418120630Z00'00'\", 'creationDate': \"D:20250418120630Z00'00'\", 'page': 13, 'doc_id': 'f0f6b6ae-dcb4-4087-bb90-7f89add6fdaa', '_id': '029e1277607946bf8f29389cbf8a03f2', '_collection_name': 'full_documents'}, page_content='Payment Periods for Clock-Hour Programs With Terms\\nAlthough some schools offer clock-hour programs that are divided into terms for institutional purposes, for Title IV\\npurposes all clock-hour programs are considered to be non-term programs. Therefore, the payment periods for clock-hour\\nprograms that a school divides into terms are determined in the same way as described above under <Payment Periods\\nfor Clock-Hour and Non-Term Programs.= Because a student enrolled in such a program must successfully complete all the\\nclock hours in the payment period before the next payment period begins, the payment period starting dates may not\\ncoincide with the starting dates of the terms in the program.'), 0.6900563748896003), (Document(metadata={'producer': 'GPL Ghostscript 10.00.0', 'creator': 'wkhtmltopdf 0.12.6', 'creationdate': \"D:20250418120630Z00'00'\", 'source': '../data/Academic_Calenders_Cost_of_Attendance_and_Packaging.pdf', 'file_path': '../data/Academic_Calenders_Cost_of_Attendance_and_Packaging.pdf', 'total_pages': 57, 'format': 'PDF 1.7', 'title': '', 'author': '', 'subject': '', 'keywords': '', 'moddate': \"D:20250418120630Z00'00'\", 'trapped': '', 'modDate': \"D:20250418120630Z00'00'\", 'creationDate': \"D:20250418120630Z00'00'\", 'page': 23, 'doc_id': '87ab2e3f-7879-4cc9-a06a-4aa0747bb000', '_id': 'c7e5d97e934c46298b9a69a039485ba5', '_collection_name': 'full_documents'}, page_content='(= hours enrolled in subscription period 1)\\nCredit hours associated with term: 6\\nCumulative hours required to receive disbursement: 24 (=\\ntotal hours enrolled in subscription periods 1 & 2)\\nThe student changes to the half-time version of the program in the second academic year. However, because the course\\ncompletion requirements to receive a disbursement for a subscription period are cumulative across multiple versions of\\nthe same program (full-time, half-time, etc.), the counting of the hours required for disbursement does not start over\\nwhen a student changes to a different version of a program.\\nAs in Example 1, the student must have completed a cumulative total of 12 credit hours (the number of hours enrolled in'), 0.6896462659698047)]\n",
      "2025-08-04 23:30:51,900 - src.agents.build_graph_agent - INFO - 🧠 LLM processing 3 messages\n",
      "2025-08-04 23:30:52,615 - src.agents.build_graph_agent - INFO - 📝 LLM generated response with 0 characters\n",
      "2025-08-04 23:30:52,617 - src.agents.build_graph_agent - INFO - 🔧 Agent requesting 1 tool calls\n",
      "2025-08-04 23:30:52,623 - src.agents.llm_tools_for_toolbelt - INFO - 🔍 [Parent Document Tool] Processing question: How do the examples in Appendix A and Appendix B illustrate the differences in disbursement timing a...\n",
      "2025-08-04 23:30:52,634 - src.core.graph_rag_functions - INFO - 🔍 [Parent Document] Retrieving docs for: How do the examples in Appendix A and Appendix B illustrate the differences in disbursement timing a...\n",
      "2025-08-04 23:30:52,891 - src.core.graph_rag_functions - INFO - child_docs_with_scores: [(Document(metadata={'producer': 'GPL Ghostscript 10.00.0', 'creator': 'wkhtmltopdf 0.12.6', 'creationdate': \"D:20250418120630Z00'00'\", 'source': '../data/Academic_Calenders_Cost_of_Attendance_and_Packaging.pdf', 'file_path': '../data/Academic_Calenders_Cost_of_Attendance_and_Packaging.pdf', 'total_pages': 57, 'format': 'PDF 1.7', 'title': '', 'author': '', 'subject': '', 'keywords': '', 'moddate': \"D:20250418120630Z00'00'\", 'trapped': '', 'modDate': \"D:20250418120630Z00'00'\", 'creationDate': \"D:20250418120630Z00'00'\", 'page': 10, 'doc_id': 'b4ce4109-2d03-44b3-9e80-7b30a36b2f07', '_id': 'c12126474090417f8e429f37991472a1', '_collection_name': 'full_documents'}, page_content='Payment Periods for Clock-Hour and Non-Term Programs\\nFor all clock-hour programs and for credit-hour programs that do not have academic terms, payment periods are defined\\nbased on a student9s successful completion of clock or credit hours and weeks of instructional time, as described below.\\nAs noted earlier, these same payment period requirements also apply when disbursing Direct Loans to students enrolled\\nin programs with nonstandard terms that are not substantially equal in length.\\nA student successfully completes clock or credit hours if the school considers the student to have passed the coursework\\nassociated with those hours.\\nClock-Hour and Non-Term Program Payment Periods for Programs One Academic Year or Less in Length'), 0.7159448603743459), (Document(metadata={'producer': 'GPL Ghostscript 10.00.0', 'creator': 'wkhtmltopdf 0.12.6', 'creationdate': \"D:20250418120630Z00'00'\", 'source': '../data/Academic_Calenders_Cost_of_Attendance_and_Packaging.pdf', 'file_path': '../data/Academic_Calenders_Cost_of_Attendance_and_Packaging.pdf', 'total_pages': 57, 'format': 'PDF 1.7', 'title': '', 'author': '', 'subject': '', 'keywords': '', 'moddate': \"D:20250418120630Z00'00'\", 'trapped': '', 'modDate': \"D:20250418120630Z00'00'\", 'creationDate': \"D:20250418120630Z00'00'\", 'page': 15, 'doc_id': 'eac8c6f8-5dc0-4040-bbab-db3b389c3cb0', '_id': 'a885099bf3ce458b8c476db460fea190', '_collection_name': 'full_documents'}, page_content='term, provided that the student is still making satisfactory academic progress under the school9s policy.\\nDisbursement Timing in Clock-Hour, Non-Term, and Certain Nonstandard Term Programs\\nA student who is enrolled in a credit-hour program without terms or in a clock-hour program must successfully complete\\nNote: We do not cover the requirements for reporting disbursements through the Common Origination and\\nDisbursement (COD) System or the rules for making early disbursements, late disbursements, or retroactive\\npayments in this section. For guidance on those topics, refer to Volume 4, Chapter 2. We also do not cover certain\\ndisbursement requirements that are specific to the Title IV grant programs or the Direct Loan Program. For'), 0.700539500516119), (Document(metadata={'producer': 'GPL Ghostscript 10.00.0', 'creator': 'wkhtmltopdf 0.12.6', 'creationdate': \"D:20250418120630Z00'00'\", 'source': '../data/Academic_Calenders_Cost_of_Attendance_and_Packaging.pdf', 'file_path': '../data/Academic_Calenders_Cost_of_Attendance_and_Packaging.pdf', 'total_pages': 57, 'format': 'PDF 1.7', 'title': '', 'author': '', 'subject': '', 'keywords': '', 'moddate': \"D:20250418120630Z00'00'\", 'trapped': '', 'modDate': \"D:20250418120630Z00'00'\", 'creationDate': \"D:20250418120630Z00'00'\", 'page': 21, 'doc_id': '4167d05b-4338-479f-8b63-897daaf2058c', '_id': 'f73e9dfd497e4cecb42c03d6a46d45c4', '_collection_name': 'full_documents'}, page_content='Programs\\nAs we explained under <Disbursement timing in subscription-based programs= earlier in this chapter, there is no\\nrequirement for a student to have completed a specified amount of coursework before receiving a disbursement of Title IV\\nfunds for the first two subscription periods (terms) in a subscription-based program. However, to receive a disbursement\\nfor the third subscription period and for each subsequent subscription period in the program, a student must have\\ncompleted a cumulative number of credit hours equal to the total number of hours for which the student was enrolled in\\nall previously attended subscription periods in the program, excluding the number of hours for which the student was'), 0.6976868146501951), (Document(metadata={'producer': 'GPL Ghostscript 10.00.0', 'creator': 'wkhtmltopdf 0.12.6', 'creationdate': \"D:20250418120630Z00'00'\", 'source': '../data/Academic_Calenders_Cost_of_Attendance_and_Packaging.pdf', 'file_path': '../data/Academic_Calenders_Cost_of_Attendance_and_Packaging.pdf', 'total_pages': 57, 'format': 'PDF 1.7', 'title': '', 'author': '', 'subject': '', 'keywords': '', 'moddate': \"D:20250418120630Z00'00'\", 'trapped': '', 'modDate': \"D:20250418120630Z00'00'\", 'creationDate': \"D:20250418120630Z00'00'\", 'page': 13, 'doc_id': 'f0f6b6ae-dcb4-4087-bb90-7f89add6fdaa', '_id': '029e1277607946bf8f29389cbf8a03f2', '_collection_name': 'full_documents'}, page_content='Payment Periods for Clock-Hour Programs With Terms\\nAlthough some schools offer clock-hour programs that are divided into terms for institutional purposes, for Title IV\\npurposes all clock-hour programs are considered to be non-term programs. Therefore, the payment periods for clock-hour\\nprograms that a school divides into terms are determined in the same way as described above under <Payment Periods\\nfor Clock-Hour and Non-Term Programs.= Because a student enrolled in such a program must successfully complete all the\\nclock hours in the payment period before the next payment period begins, the payment period starting dates may not\\ncoincide with the starting dates of the terms in the program.'), 0.6900563748896003), (Document(metadata={'producer': 'GPL Ghostscript 10.00.0', 'creator': 'wkhtmltopdf 0.12.6', 'creationdate': \"D:20250418120630Z00'00'\", 'source': '../data/Academic_Calenders_Cost_of_Attendance_and_Packaging.pdf', 'file_path': '../data/Academic_Calenders_Cost_of_Attendance_and_Packaging.pdf', 'total_pages': 57, 'format': 'PDF 1.7', 'title': '', 'author': '', 'subject': '', 'keywords': '', 'moddate': \"D:20250418120630Z00'00'\", 'trapped': '', 'modDate': \"D:20250418120630Z00'00'\", 'creationDate': \"D:20250418120630Z00'00'\", 'page': 23, 'doc_id': '87ab2e3f-7879-4cc9-a06a-4aa0747bb000', '_id': 'c7e5d97e934c46298b9a69a039485ba5', '_collection_name': 'full_documents'}, page_content='(= hours enrolled in subscription period 1)\\nCredit hours associated with term: 6\\nCumulative hours required to receive disbursement: 24 (=\\ntotal hours enrolled in subscription periods 1 & 2)\\nThe student changes to the half-time version of the program in the second academic year. However, because the course\\ncompletion requirements to receive a disbursement for a subscription period are cumulative across multiple versions of\\nthe same program (full-time, half-time, etc.), the counting of the hours required for disbursement does not start over\\nwhen a student changes to a different version of a program.\\nAs in Example 1, the student must have completed a cumulative total of 12 credit hours (the number of hours enrolled in'), 0.6896462659698047)]\n",
      "2025-08-04 23:30:52,948 - src.agents.build_graph_agent - INFO - 🧠 LLM processing 5 messages\n",
      "2025-08-04 23:30:53,969 - src.agents.build_graph_agent - INFO - 📝 LLM generated response with 128 characters\n",
      "2025-08-04 23:30:53,972 - src.agents.build_graph_agent - INFO - 🔧 Agent requesting 1 tool calls\n",
      "2025-08-04 23:30:53,993 - src.agents.llm_tools_for_toolbelt - INFO - 🔍 [Parent Document Tool] Processing question: How do the examples in Appendix A and Appendix B illustrate the differences in disbursement timing a...\n",
      "2025-08-04 23:30:54,001 - src.core.graph_rag_functions - INFO - 🔍 [Parent Document] Retrieving docs for: How do the examples in Appendix A and Appendix B illustrate the differences in disbursement timing a...\n",
      "2025-08-04 23:30:54,246 - src.core.graph_rag_functions - INFO - child_docs_with_scores: [(Document(metadata={'producer': 'GPL Ghostscript 10.00.0', 'creator': 'wkhtmltopdf 0.12.6', 'creationdate': \"D:20250418120630Z00'00'\", 'source': '../data/Academic_Calenders_Cost_of_Attendance_and_Packaging.pdf', 'file_path': '../data/Academic_Calenders_Cost_of_Attendance_and_Packaging.pdf', 'total_pages': 57, 'format': 'PDF 1.7', 'title': '', 'author': '', 'subject': '', 'keywords': '', 'moddate': \"D:20250418120630Z00'00'\", 'trapped': '', 'modDate': \"D:20250418120630Z00'00'\", 'creationDate': \"D:20250418120630Z00'00'\", 'page': 10, 'doc_id': 'b4ce4109-2d03-44b3-9e80-7b30a36b2f07', '_id': 'c12126474090417f8e429f37991472a1', '_collection_name': 'full_documents'}, page_content='Payment Periods for Clock-Hour and Non-Term Programs\\nFor all clock-hour programs and for credit-hour programs that do not have academic terms, payment periods are defined\\nbased on a student9s successful completion of clock or credit hours and weeks of instructional time, as described below.\\nAs noted earlier, these same payment period requirements also apply when disbursing Direct Loans to students enrolled\\nin programs with nonstandard terms that are not substantially equal in length.\\nA student successfully completes clock or credit hours if the school considers the student to have passed the coursework\\nassociated with those hours.\\nClock-Hour and Non-Term Program Payment Periods for Programs One Academic Year or Less in Length'), 0.7159565038850679), (Document(metadata={'producer': 'GPL Ghostscript 10.00.0', 'creator': 'wkhtmltopdf 0.12.6', 'creationdate': \"D:20250418120630Z00'00'\", 'source': '../data/Academic_Calenders_Cost_of_Attendance_and_Packaging.pdf', 'file_path': '../data/Academic_Calenders_Cost_of_Attendance_and_Packaging.pdf', 'total_pages': 57, 'format': 'PDF 1.7', 'title': '', 'author': '', 'subject': '', 'keywords': '', 'moddate': \"D:20250418120630Z00'00'\", 'trapped': '', 'modDate': \"D:20250418120630Z00'00'\", 'creationDate': \"D:20250418120630Z00'00'\", 'page': 15, 'doc_id': 'eac8c6f8-5dc0-4040-bbab-db3b389c3cb0', '_id': 'a885099bf3ce458b8c476db460fea190', '_collection_name': 'full_documents'}, page_content='term, provided that the student is still making satisfactory academic progress under the school9s policy.\\nDisbursement Timing in Clock-Hour, Non-Term, and Certain Nonstandard Term Programs\\nA student who is enrolled in a credit-hour program without terms or in a clock-hour program must successfully complete\\nNote: We do not cover the requirements for reporting disbursements through the Common Origination and\\nDisbursement (COD) System or the rules for making early disbursements, late disbursements, or retroactive\\npayments in this section. For guidance on those topics, refer to Volume 4, Chapter 2. We also do not cover certain\\ndisbursement requirements that are specific to the Title IV grant programs or the Direct Loan Program. For'), 0.7005407741548583), (Document(metadata={'producer': 'GPL Ghostscript 10.00.0', 'creator': 'wkhtmltopdf 0.12.6', 'creationdate': \"D:20250418120630Z00'00'\", 'source': '../data/Academic_Calenders_Cost_of_Attendance_and_Packaging.pdf', 'file_path': '../data/Academic_Calenders_Cost_of_Attendance_and_Packaging.pdf', 'total_pages': 57, 'format': 'PDF 1.7', 'title': '', 'author': '', 'subject': '', 'keywords': '', 'moddate': \"D:20250418120630Z00'00'\", 'trapped': '', 'modDate': \"D:20250418120630Z00'00'\", 'creationDate': \"D:20250418120630Z00'00'\", 'page': 21, 'doc_id': '4167d05b-4338-479f-8b63-897daaf2058c', '_id': 'f73e9dfd497e4cecb42c03d6a46d45c4', '_collection_name': 'full_documents'}, page_content='Programs\\nAs we explained under <Disbursement timing in subscription-based programs= earlier in this chapter, there is no\\nrequirement for a student to have completed a specified amount of coursework before receiving a disbursement of Title IV\\nfunds for the first two subscription periods (terms) in a subscription-based program. However, to receive a disbursement\\nfor the third subscription period and for each subsequent subscription period in the program, a student must have\\ncompleted a cumulative number of credit hours equal to the total number of hours for which the student was enrolled in\\nall previously attended subscription periods in the program, excluding the number of hours for which the student was'), 0.6976979742894099), (Document(metadata={'producer': 'GPL Ghostscript 10.00.0', 'creator': 'wkhtmltopdf 0.12.6', 'creationdate': \"D:20250418120630Z00'00'\", 'source': '../data/Academic_Calenders_Cost_of_Attendance_and_Packaging.pdf', 'file_path': '../data/Academic_Calenders_Cost_of_Attendance_and_Packaging.pdf', 'total_pages': 57, 'format': 'PDF 1.7', 'title': '', 'author': '', 'subject': '', 'keywords': '', 'moddate': \"D:20250418120630Z00'00'\", 'trapped': '', 'modDate': \"D:20250418120630Z00'00'\", 'creationDate': \"D:20250418120630Z00'00'\", 'page': 13, 'doc_id': 'f0f6b6ae-dcb4-4087-bb90-7f89add6fdaa', '_id': '029e1277607946bf8f29389cbf8a03f2', '_collection_name': 'full_documents'}, page_content='Payment Periods for Clock-Hour Programs With Terms\\nAlthough some schools offer clock-hour programs that are divided into terms for institutional purposes, for Title IV\\npurposes all clock-hour programs are considered to be non-term programs. Therefore, the payment periods for clock-hour\\nprograms that a school divides into terms are determined in the same way as described above under <Payment Periods\\nfor Clock-Hour and Non-Term Programs.= Because a student enrolled in such a program must successfully complete all the\\nclock hours in the payment period before the next payment period begins, the payment period starting dates may not\\ncoincide with the starting dates of the terms in the program.'), 0.6900813747948273), (Document(metadata={'producer': 'GPL Ghostscript 10.00.0', 'creator': 'wkhtmltopdf 0.12.6', 'creationdate': \"D:20250418120630Z00'00'\", 'source': '../data/Academic_Calenders_Cost_of_Attendance_and_Packaging.pdf', 'file_path': '../data/Academic_Calenders_Cost_of_Attendance_and_Packaging.pdf', 'total_pages': 57, 'format': 'PDF 1.7', 'title': '', 'author': '', 'subject': '', 'keywords': '', 'moddate': \"D:20250418120630Z00'00'\", 'trapped': '', 'modDate': \"D:20250418120630Z00'00'\", 'creationDate': \"D:20250418120630Z00'00'\", 'page': 23, 'doc_id': '87ab2e3f-7879-4cc9-a06a-4aa0747bb000', '_id': 'c7e5d97e934c46298b9a69a039485ba5', '_collection_name': 'full_documents'}, page_content='(= hours enrolled in subscription period 1)\\nCredit hours associated with term: 6\\nCumulative hours required to receive disbursement: 24 (=\\ntotal hours enrolled in subscription periods 1 & 2)\\nThe student changes to the half-time version of the program in the second academic year. However, because the course\\ncompletion requirements to receive a disbursement for a subscription period are cumulative across multiple versions of\\nthe same program (full-time, half-time, etc.), the counting of the hours required for disbursement does not start over\\nwhen a student changes to a different version of a program.\\nAs in Example 1, the student must have completed a cumulative total of 12 credit hours (the number of hours enrolled in'), 0.6896620918935723)]\n",
      "2025-08-04 23:30:54,272 - src.agents.build_graph_agent - INFO - 🧠 LLM processing 7 messages\n",
      "2025-08-04 23:30:56,581 - src.agents.build_graph_agent - INFO - 📝 LLM generated response with 1292 characters\n",
      "2025-08-04 23:30:56,586 - src.agents.build_graph_agent - INFO - ✅ Agent conversation complete, no more tool calls needed\n",
      "2025-08-04 23:30:56,606 - src.agents.build_graph_agent - INFO - 🧠 LLM processing 1 messages\n",
      "2025-08-04 23:30:57,845 - src.agents.build_graph_agent - INFO - 📝 LLM generated response with 0 characters\n",
      "2025-08-04 23:30:57,849 - src.agents.build_graph_agent - INFO - 🔧 Agent requesting 2 tool calls\n",
      "2025-08-04 23:30:57,867 - src.agents.llm_tools_for_toolbelt - INFO - 🔍 [Parent Document Tool] Processing question: How does Volume 8, Chapter 3 provide guidance for clinical work in standard terms?...\n",
      "2025-08-04 23:30:57,875 - src.agents.llm_tools_for_toolbelt - INFO - 🔍 [Parent Document Tool] Processing question: What are the disbursement timing rules for Title IV funds in subscription-based programs?...\n",
      "2025-08-04 23:30:57,878 - src.core.graph_rag_functions - INFO - 🔍 [Parent Document] Retrieving docs for: How does Volume 8, Chapter 3 provide guidance for clinical work in standard terms?...\n",
      "2025-08-04 23:30:57,896 - src.core.graph_rag_functions - INFO - 🔍 [Parent Document] Retrieving docs for: What are the disbursement timing rules for Title IV funds in subscription-based programs?...\n",
      "2025-08-04 23:30:58,155 - src.core.graph_rag_functions - INFO - child_docs_with_scores: [(Document(metadata={'producer': 'GPL Ghostscript 10.00.0', 'creator': 'wkhtmltopdf 0.12.6', 'creationdate': \"D:20250418120630Z00'00'\", 'source': '../data/Academic_Calenders_Cost_of_Attendance_and_Packaging.pdf', 'file_path': '../data/Academic_Calenders_Cost_of_Attendance_and_Packaging.pdf', 'total_pages': 57, 'format': 'PDF 1.7', 'title': '', 'author': '', 'subject': '', 'keywords': '', 'moddate': \"D:20250418120630Z00'00'\", 'trapped': '', 'modDate': \"D:20250418120630Z00'00'\", 'creationDate': \"D:20250418120630Z00'00'\", 'page': 8, 'doc_id': '664b2154-02c8-4579-a944-447ddc7e9142', '_id': '8024d35b1ca346238cdd401af7fb7c8c', '_collection_name': 'full_documents'}, page_content='Inclusion of Clinical Work in a Standard Term\\nPeriods of medical and education program clinical work which is conducted outside the classroom may not be included in\\na standard term, unless all of the following apply:\\nAll students in the program must participate in the practicum or clinical experience, and they must be required to\\ncomplete the practicum or clinical experience as a condition for applying for licensure or authorization to practice the\\noccupation they intend to pursue;\\nThe school has little or no control over the length or starting and ending dates of the practicum or clinical\\nexperience. This may be due to constraints imposed by outside licensing bodies or the need to accommodate'), 0.5282402123008101), (Document(metadata={'producer': 'GPL Ghostscript 10.00.0', 'creator': 'wkhtmltopdf 0.12.6', 'creationdate': \"D:20250605165703Z00'00'\", 'source': '../data/The_Direct_Loan_Program.pdf', 'file_path': '../data/The_Direct_Loan_Program.pdf', 'total_pages': 71, 'format': 'PDF 1.7', 'title': '', 'author': '', 'subject': '', 'keywords': '', 'moddate': \"D:20250605165703Z00'00'\", 'trapped': '', 'modDate': \"D:20250605165703Z00'00'\", 'creationDate': \"D:20250605165703Z00'00'\", 'page': 28, 'doc_id': '015382d1-f8a9-4dc4-b127-d29b6b767269', '_id': '14c5188a5bfa4fe2aa83c53f8a329bf1', '_collection_name': 'full_documents'}, page_content='discussed earlier in this chapter. We discuss these exceptions below.\\nIf clinical work meets the criteria described in Volume 3 to be included in a standard term or SE9W nonstandard\\nterm, the school must associate the clinical work with the term during which the majority of the clinical work occurs.\\nIf a student receives a Direct Loan for a term that includes clinical work and the clinical work begins before the\\nstarting date of the term with which the clinical work is associated, the loan period start date is the beginning date of\\nthe clinical work (rather than the starting date of the term, as would normally be the case).\\nFor example, if a school originates a Direct Loan for a Scheduled Academic Year (SAY) consisting of fall and spring'), 0.49184182542870136), (Document(metadata={'producer': 'GPL Ghostscript 10.00.0', 'creator': 'wkhtmltopdf 0.12.6', 'creationdate': \"D:20250605165703Z00'00'\", 'source': '../data/The_Direct_Loan_Program.pdf', 'file_path': '../data/The_Direct_Loan_Program.pdf', 'total_pages': 71, 'format': 'PDF 1.7', 'title': '', 'author': '', 'subject': '', 'keywords': '', 'moddate': \"D:20250605165703Z00'00'\", 'trapped': '', 'modDate': \"D:20250605165703Z00'00'\", 'creationDate': \"D:20250605165703Z00'00'\", 'page': 28, 'doc_id': '015382d1-f8a9-4dc4-b127-d29b6b767269', '_id': '568f9202ee7f44cd973cc361ad0650ea', '_collection_name': 'full_documents'}, page_content='nonstandard terms, and explains that standard terms or nonstandard terms that are substantially equal and at least nine\\nweeks in length (<SE9W= nonstandard terms) may not include periods of clinical work, such as medical and education\\nprogram work which is conducted outside the classroom, unless certain requirements are met (see <Inclusion of Clinical\\nWork in a Standard Term=). If a standard term or SE9W nonstandard term contains clinical work that meets all the criteria\\nto be included in the term, this may result in certain exceptions to the normal loan period and disbursement rules as\\ndiscussed earlier in this chapter. We discuss these exceptions below.'), 0.46316416297564356), (Document(metadata={'producer': 'GPL Ghostscript 10.00.0', 'creator': 'wkhtmltopdf 0.12.6', 'creationdate': \"D:20250418120630Z00'00'\", 'source': '../data/Academic_Calenders_Cost_of_Attendance_and_Packaging.pdf', 'file_path': '../data/Academic_Calenders_Cost_of_Attendance_and_Packaging.pdf', 'total_pages': 57, 'format': 'PDF 1.7', 'title': '', 'author': '', 'subject': '', 'keywords': '', 'moddate': \"D:20250418120630Z00'00'\", 'trapped': '', 'modDate': \"D:20250418120630Z00'00'\", 'creationDate': \"D:20250418120630Z00'00'\", 'page': 8, 'doc_id': '664b2154-02c8-4579-a944-447ddc7e9142', '_id': '0899c164301f496880e13d07e0709def', '_collection_name': 'full_documents'}, page_content='not limited to, allopathic, osteopathic, nursing, veterinary, dentistry, pharmacy, and physical therapy), and student\\nteaching required to obtain a state teaching certificate.\\nSee Volume 8, Chapter 3 for additional guidance on certain exceptions to the normal loan period and disbursement timing\\nrules for Direct Loans when clinical work that meets the criteria described above is included in a standard term.\\nNonstandard Terms\\nGenerally, nonstandard terms are terms that are not semesters, trimesters, or quarters. For example, a 5-week term or a\\n23-week term would be considered a nonstandard term because no standard term can be fewer than nine weeks or'), 0.4511810507550994), (Document(metadata={'producer': 'GPL Ghostscript 10.00.0', 'creator': 'wkhtmltopdf 0.12.6', 'creationdate': \"D:20250418120630Z00'00'\", 'source': '../data/Academic_Calenders_Cost_of_Attendance_and_Packaging.pdf', 'file_path': '../data/Academic_Calenders_Cost_of_Attendance_and_Packaging.pdf', 'total_pages': 57, 'format': 'PDF 1.7', 'title': '', 'author': '', 'subject': '', 'keywords': '', 'moddate': \"D:20250418120630Z00'00'\", 'trapped': '', 'modDate': \"D:20250418120630Z00'00'\", 'creationDate': \"D:20250418120630Z00'00'\", 'page': 8, 'doc_id': '664b2154-02c8-4579-a944-447ddc7e9142', '_id': 'b4e94040d6da440bbed0de40eed31b52', '_collection_name': 'full_documents'}, page_content='schedules of entities with which students are being placed (e.g., school districts or hospitals); and\\nCredit hours associated with the practicum or clinical experience must be associated with the term in which most of\\nthe training occurs, even if the starting and ending dates do not exactly align with the term dates and/or overlap with\\nanother term.\\nIf the clinical work meets all the above criteria, terms which include such clinical work are not required to be considered\\nnonstandard, nor are such programs required to be considered non-term, even if the clinical work overlaps another term.\\nThis flexibility is limited to required clinical periods associated with standard term programs in medicine (including, but'), 0.43095842271861107)]\n",
      "2025-08-04 23:30:58,293 - src.core.graph_rag_functions - INFO - child_docs_with_scores: [(Document(metadata={'producer': 'GPL Ghostscript 10.00.0', 'creator': 'wkhtmltopdf 0.12.6', 'creationdate': \"D:20250418120630Z00'00'\", 'source': '../data/Academic_Calenders_Cost_of_Attendance_and_Packaging.pdf', 'file_path': '../data/Academic_Calenders_Cost_of_Attendance_and_Packaging.pdf', 'total_pages': 57, 'format': 'PDF 1.7', 'title': '', 'author': '', 'subject': '', 'keywords': '', 'moddate': \"D:20250418120630Z00'00'\", 'trapped': '', 'modDate': \"D:20250418120630Z00'00'\", 'creationDate': \"D:20250418120630Z00'00'\", 'page': 21, 'doc_id': '4167d05b-4338-479f-8b63-897daaf2058c', '_id': 'f73e9dfd497e4cecb42c03d6a46d45c4', '_collection_name': 'full_documents'}, page_content='Programs\\nAs we explained under <Disbursement timing in subscription-based programs= earlier in this chapter, there is no\\nrequirement for a student to have completed a specified amount of coursework before receiving a disbursement of Title IV\\nfunds for the first two subscription periods (terms) in a subscription-based program. However, to receive a disbursement\\nfor the third subscription period and for each subsequent subscription period in the program, a student must have\\ncompleted a cumulative number of credit hours equal to the total number of hours for which the student was enrolled in\\nall previously attended subscription periods in the program, excluding the number of hours for which the student was'), 0.7441208758529896), (Document(metadata={'producer': 'GPL Ghostscript 10.00.0', 'creator': 'wkhtmltopdf 0.12.6', 'creationdate': \"D:20250418120630Z00'00'\", 'source': '../data/Academic_Calenders_Cost_of_Attendance_and_Packaging.pdf', 'file_path': '../data/Academic_Calenders_Cost_of_Attendance_and_Packaging.pdf', 'total_pages': 57, 'format': 'PDF 1.7', 'title': '', 'author': '', 'subject': '', 'keywords': '', 'moddate': \"D:20250418120630Z00'00'\", 'trapped': '', 'modDate': \"D:20250418120630Z00'00'\", 'creationDate': \"D:20250418120630Z00'00'\", 'page': 21, 'doc_id': '4167d05b-4338-479f-8b63-897daaf2058c', '_id': 'c15d5737607f4d78a6a6e5976d128ceb', '_collection_name': 'full_documents'}, page_content='progresses through a subscription-based program, the number of hours associated with each term are added to the\\ncumulative total needed for the student to receive a disbursement.\\nFor the first two terms in a subscription-based program, a school can make a disbursement of Title IV funds up to 10 days\\nbefore the beginning of the subscription period. Beginning with the third subscription period, early disbursement 10 days\\nbefore the beginning of the term is allowed only if at that point the student has completed the required number of credit\\nhours to receive a disbursement for the term. Otherwise, the school cannot make a disbursement until the student has\\nmet the coursework completion requirement.'), 0.7403286872664004), (Document(metadata={'producer': 'GPL Ghostscript 10.00.0', 'creator': 'wkhtmltopdf 0.12.6', 'creationdate': \"D:20250418120630Z00'00'\", 'source': '../data/Academic_Calenders_Cost_of_Attendance_and_Packaging.pdf', 'file_path': '../data/Academic_Calenders_Cost_of_Attendance_and_Packaging.pdf', 'total_pages': 57, 'format': 'PDF 1.7', 'title': '', 'author': '', 'subject': '', 'keywords': '', 'moddate': \"D:20250418120630Z00'00'\", 'trapped': '', 'modDate': \"D:20250418120630Z00'00'\", 'creationDate': \"D:20250418120630Z00'00'\", 'page': 15, 'doc_id': 'eac8c6f8-5dc0-4040-bbab-db3b389c3cb0', '_id': 'e56138984a4442398b569d342d6ba3aa', '_collection_name': 'full_documents'}, page_content='making late disbursements or retroactive payments for completed payment periods (as discussed in Volume 4, Chapter\\n2), you must disburse the Title IV funds during the payment period to which they apply.\\nDisbursement Timing in Term-Based Programs Using Credit Hours (Except Subscription-Based Programs)\\nAs noted earlier in the chapter, for the Pell Grant, TEACH Grant, and FSEOG programs the payment period is the academic\\nterm for a student enrolled in a credit-hour program that uses any type of academic term (standard or nonstandard). For\\nthe Direct Loan Program, the payment period is the academic term only if the program uses standard terms or uses'), 0.7104247778145472), (Document(metadata={'producer': 'GPL Ghostscript 10.00.0', 'creator': 'wkhtmltopdf 0.12.6', 'creationdate': \"D:20250418120630Z00'00'\", 'source': '../data/Academic_Calenders_Cost_of_Attendance_and_Packaging.pdf', 'file_path': '../data/Academic_Calenders_Cost_of_Attendance_and_Packaging.pdf', 'total_pages': 57, 'format': 'PDF 1.7', 'title': '', 'author': '', 'subject': '', 'keywords': '', 'moddate': \"D:20250418120630Z00'00'\", 'trapped': '', 'modDate': \"D:20250418120630Z00'00'\", 'creationDate': \"D:20250418120630Z00'00'\", 'page': 25, 'doc_id': '5bd51331-5a31-457b-8b01-a1d6db3d98ae', '_id': '274b7d0908c24010bf0590d4f8653465', '_collection_name': 'full_documents'}, page_content='For the first two subscription periods of the program, there is no coursework completion requirement for the student to\\nreceive a disbursement of Title IV funds. Disbursements are made at the beginning of each subscription period.\\nTo receive a disbursement for the third subscription period and for each subsequent subscription period in the program,\\nthe student must have completed a cumulative number of credit hours equal to the total number of hours for which the\\nstudent was enrolled in all previously attended subscription periods in the program, excluding the number of hours for\\nwhich the student was enrolled in the most recently attended subscription period.'), 0.6941415326482197), (Document(metadata={'producer': 'GPL Ghostscript 10.00.0', 'creator': 'wkhtmltopdf 0.12.6', 'creationdate': \"D:20250418120630Z00'00'\", 'source': '../data/Academic_Calenders_Cost_of_Attendance_and_Packaging.pdf', 'file_path': '../data/Academic_Calenders_Cost_of_Attendance_and_Packaging.pdf', 'total_pages': 57, 'format': 'PDF 1.7', 'title': '', 'author': '', 'subject': '', 'keywords': '', 'moddate': \"D:20250418120630Z00'00'\", 'trapped': '', 'modDate': \"D:20250418120630Z00'00'\", 'creationDate': \"D:20250418120630Z00'00'\", 'page': 16, 'doc_id': 'a4fdb394-7c48-49fa-89ef-2ee64bac0deb', '_id': '2453474da9684003a45ac27d369c7ddc', '_collection_name': 'full_documents'}, page_content='requirement for the student to have completed a certain amount of coursework before receiving a disbursement of Title IV\\nfunds (the same as in any other term-based program using credit hours). However, to receive a disbursement of Title IV\\naid for each subsequent subscription period in the program, the student must have completed a cumulative number of\\ncredit hours equal to the total of the number of hours for which the student was enrolled in all previously attended\\nsubscription periods in the program, excluding the number of hours for which the student was enrolled in the most\\nrecently attended subscription period. For more detailed guidance on the disbursement rules for subscription-based'), 0.6929655489860042)]\n",
      "2025-08-04 23:30:58,373 - src.agents.build_graph_agent - INFO - 🧠 LLM processing 4 messages\n",
      "2025-08-04 23:30:59,601 - src.agents.build_graph_agent - INFO - 📝 LLM generated response with 142 characters\n",
      "2025-08-04 23:30:59,605 - src.agents.build_graph_agent - INFO - 🔧 Agent requesting 2 tool calls\n",
      "2025-08-04 23:30:59,621 - src.agents.llm_tools_for_toolbelt - INFO - 🔍 [Parent Document Tool] Processing question: What are the disbursement timing rules for Title IV funds in subscription-based programs?...\n",
      "2025-08-04 23:30:59,636 - src.agents.llm_tools_for_toolbelt - INFO - 🔍 [Parent Document Tool] Processing question: How does Volume 8, Chapter 3 provide guidance for clinical work in standard terms?...\n",
      "2025-08-04 23:30:59,646 - src.core.graph_rag_functions - INFO - 🔍 [Parent Document] Retrieving docs for: What are the disbursement timing rules for Title IV funds in subscription-based programs?...\n",
      "2025-08-04 23:30:59,656 - src.core.graph_rag_functions - INFO - 🔍 [Parent Document] Retrieving docs for: How does Volume 8, Chapter 3 provide guidance for clinical work in standard terms?...\n",
      "2025-08-04 23:31:00,030 - src.core.graph_rag_functions - INFO - child_docs_with_scores: [(Document(metadata={'producer': 'GPL Ghostscript 10.00.0', 'creator': 'wkhtmltopdf 0.12.6', 'creationdate': \"D:20250418120630Z00'00'\", 'source': '../data/Academic_Calenders_Cost_of_Attendance_and_Packaging.pdf', 'file_path': '../data/Academic_Calenders_Cost_of_Attendance_and_Packaging.pdf', 'total_pages': 57, 'format': 'PDF 1.7', 'title': '', 'author': '', 'subject': '', 'keywords': '', 'moddate': \"D:20250418120630Z00'00'\", 'trapped': '', 'modDate': \"D:20250418120630Z00'00'\", 'creationDate': \"D:20250418120630Z00'00'\", 'page': 8, 'doc_id': '664b2154-02c8-4579-a944-447ddc7e9142', '_id': '8024d35b1ca346238cdd401af7fb7c8c', '_collection_name': 'full_documents'}, page_content='Inclusion of Clinical Work in a Standard Term\\nPeriods of medical and education program clinical work which is conducted outside the classroom may not be included in\\na standard term, unless all of the following apply:\\nAll students in the program must participate in the practicum or clinical experience, and they must be required to\\ncomplete the practicum or clinical experience as a condition for applying for licensure or authorization to practice the\\noccupation they intend to pursue;\\nThe school has little or no control over the length or starting and ending dates of the practicum or clinical\\nexperience. This may be due to constraints imposed by outside licensing bodies or the need to accommodate'), 0.5282402123008101), (Document(metadata={'producer': 'GPL Ghostscript 10.00.0', 'creator': 'wkhtmltopdf 0.12.6', 'creationdate': \"D:20250605165703Z00'00'\", 'source': '../data/The_Direct_Loan_Program.pdf', 'file_path': '../data/The_Direct_Loan_Program.pdf', 'total_pages': 71, 'format': 'PDF 1.7', 'title': '', 'author': '', 'subject': '', 'keywords': '', 'moddate': \"D:20250605165703Z00'00'\", 'trapped': '', 'modDate': \"D:20250605165703Z00'00'\", 'creationDate': \"D:20250605165703Z00'00'\", 'page': 28, 'doc_id': '015382d1-f8a9-4dc4-b127-d29b6b767269', '_id': '14c5188a5bfa4fe2aa83c53f8a329bf1', '_collection_name': 'full_documents'}, page_content='discussed earlier in this chapter. We discuss these exceptions below.\\nIf clinical work meets the criteria described in Volume 3 to be included in a standard term or SE9W nonstandard\\nterm, the school must associate the clinical work with the term during which the majority of the clinical work occurs.\\nIf a student receives a Direct Loan for a term that includes clinical work and the clinical work begins before the\\nstarting date of the term with which the clinical work is associated, the loan period start date is the beginning date of\\nthe clinical work (rather than the starting date of the term, as would normally be the case).\\nFor example, if a school originates a Direct Loan for a Scheduled Academic Year (SAY) consisting of fall and spring'), 0.49184182542870136), (Document(metadata={'producer': 'GPL Ghostscript 10.00.0', 'creator': 'wkhtmltopdf 0.12.6', 'creationdate': \"D:20250605165703Z00'00'\", 'source': '../data/The_Direct_Loan_Program.pdf', 'file_path': '../data/The_Direct_Loan_Program.pdf', 'total_pages': 71, 'format': 'PDF 1.7', 'title': '', 'author': '', 'subject': '', 'keywords': '', 'moddate': \"D:20250605165703Z00'00'\", 'trapped': '', 'modDate': \"D:20250605165703Z00'00'\", 'creationDate': \"D:20250605165703Z00'00'\", 'page': 28, 'doc_id': '015382d1-f8a9-4dc4-b127-d29b6b767269', '_id': '568f9202ee7f44cd973cc361ad0650ea', '_collection_name': 'full_documents'}, page_content='nonstandard terms, and explains that standard terms or nonstandard terms that are substantially equal and at least nine\\nweeks in length (<SE9W= nonstandard terms) may not include periods of clinical work, such as medical and education\\nprogram work which is conducted outside the classroom, unless certain requirements are met (see <Inclusion of Clinical\\nWork in a Standard Term=). If a standard term or SE9W nonstandard term contains clinical work that meets all the criteria\\nto be included in the term, this may result in certain exceptions to the normal loan period and disbursement rules as\\ndiscussed earlier in this chapter. We discuss these exceptions below.'), 0.46316416297564356), (Document(metadata={'producer': 'GPL Ghostscript 10.00.0', 'creator': 'wkhtmltopdf 0.12.6', 'creationdate': \"D:20250418120630Z00'00'\", 'source': '../data/Academic_Calenders_Cost_of_Attendance_and_Packaging.pdf', 'file_path': '../data/Academic_Calenders_Cost_of_Attendance_and_Packaging.pdf', 'total_pages': 57, 'format': 'PDF 1.7', 'title': '', 'author': '', 'subject': '', 'keywords': '', 'moddate': \"D:20250418120630Z00'00'\", 'trapped': '', 'modDate': \"D:20250418120630Z00'00'\", 'creationDate': \"D:20250418120630Z00'00'\", 'page': 8, 'doc_id': '664b2154-02c8-4579-a944-447ddc7e9142', '_id': '0899c164301f496880e13d07e0709def', '_collection_name': 'full_documents'}, page_content='not limited to, allopathic, osteopathic, nursing, veterinary, dentistry, pharmacy, and physical therapy), and student\\nteaching required to obtain a state teaching certificate.\\nSee Volume 8, Chapter 3 for additional guidance on certain exceptions to the normal loan period and disbursement timing\\nrules for Direct Loans when clinical work that meets the criteria described above is included in a standard term.\\nNonstandard Terms\\nGenerally, nonstandard terms are terms that are not semesters, trimesters, or quarters. For example, a 5-week term or a\\n23-week term would be considered a nonstandard term because no standard term can be fewer than nine weeks or'), 0.4511810507550994), (Document(metadata={'producer': 'GPL Ghostscript 10.00.0', 'creator': 'wkhtmltopdf 0.12.6', 'creationdate': \"D:20250418120630Z00'00'\", 'source': '../data/Academic_Calenders_Cost_of_Attendance_and_Packaging.pdf', 'file_path': '../data/Academic_Calenders_Cost_of_Attendance_and_Packaging.pdf', 'total_pages': 57, 'format': 'PDF 1.7', 'title': '', 'author': '', 'subject': '', 'keywords': '', 'moddate': \"D:20250418120630Z00'00'\", 'trapped': '', 'modDate': \"D:20250418120630Z00'00'\", 'creationDate': \"D:20250418120630Z00'00'\", 'page': 8, 'doc_id': '664b2154-02c8-4579-a944-447ddc7e9142', '_id': 'b4e94040d6da440bbed0de40eed31b52', '_collection_name': 'full_documents'}, page_content='schedules of entities with which students are being placed (e.g., school districts or hospitals); and\\nCredit hours associated with the practicum or clinical experience must be associated with the term in which most of\\nthe training occurs, even if the starting and ending dates do not exactly align with the term dates and/or overlap with\\nanother term.\\nIf the clinical work meets all the above criteria, terms which include such clinical work are not required to be considered\\nnonstandard, nor are such programs required to be considered non-term, even if the clinical work overlaps another term.\\nThis flexibility is limited to required clinical periods associated with standard term programs in medicine (including, but'), 0.43095842271861107)]\n",
      "2025-08-04 23:31:00,284 - src.core.graph_rag_functions - INFO - child_docs_with_scores: [(Document(metadata={'producer': 'GPL Ghostscript 10.00.0', 'creator': 'wkhtmltopdf 0.12.6', 'creationdate': \"D:20250418120630Z00'00'\", 'source': '../data/Academic_Calenders_Cost_of_Attendance_and_Packaging.pdf', 'file_path': '../data/Academic_Calenders_Cost_of_Attendance_and_Packaging.pdf', 'total_pages': 57, 'format': 'PDF 1.7', 'title': '', 'author': '', 'subject': '', 'keywords': '', 'moddate': \"D:20250418120630Z00'00'\", 'trapped': '', 'modDate': \"D:20250418120630Z00'00'\", 'creationDate': \"D:20250418120630Z00'00'\", 'page': 21, 'doc_id': '4167d05b-4338-479f-8b63-897daaf2058c', '_id': 'f73e9dfd497e4cecb42c03d6a46d45c4', '_collection_name': 'full_documents'}, page_content='Programs\\nAs we explained under <Disbursement timing in subscription-based programs= earlier in this chapter, there is no\\nrequirement for a student to have completed a specified amount of coursework before receiving a disbursement of Title IV\\nfunds for the first two subscription periods (terms) in a subscription-based program. However, to receive a disbursement\\nfor the third subscription period and for each subsequent subscription period in the program, a student must have\\ncompleted a cumulative number of credit hours equal to the total number of hours for which the student was enrolled in\\nall previously attended subscription periods in the program, excluding the number of hours for which the student was'), 0.7441208758529896), (Document(metadata={'producer': 'GPL Ghostscript 10.00.0', 'creator': 'wkhtmltopdf 0.12.6', 'creationdate': \"D:20250418120630Z00'00'\", 'source': '../data/Academic_Calenders_Cost_of_Attendance_and_Packaging.pdf', 'file_path': '../data/Academic_Calenders_Cost_of_Attendance_and_Packaging.pdf', 'total_pages': 57, 'format': 'PDF 1.7', 'title': '', 'author': '', 'subject': '', 'keywords': '', 'moddate': \"D:20250418120630Z00'00'\", 'trapped': '', 'modDate': \"D:20250418120630Z00'00'\", 'creationDate': \"D:20250418120630Z00'00'\", 'page': 21, 'doc_id': '4167d05b-4338-479f-8b63-897daaf2058c', '_id': 'c15d5737607f4d78a6a6e5976d128ceb', '_collection_name': 'full_documents'}, page_content='progresses through a subscription-based program, the number of hours associated with each term are added to the\\ncumulative total needed for the student to receive a disbursement.\\nFor the first two terms in a subscription-based program, a school can make a disbursement of Title IV funds up to 10 days\\nbefore the beginning of the subscription period. Beginning with the third subscription period, early disbursement 10 days\\nbefore the beginning of the term is allowed only if at that point the student has completed the required number of credit\\nhours to receive a disbursement for the term. Otherwise, the school cannot make a disbursement until the student has\\nmet the coursework completion requirement.'), 0.7403286872664004), (Document(metadata={'producer': 'GPL Ghostscript 10.00.0', 'creator': 'wkhtmltopdf 0.12.6', 'creationdate': \"D:20250418120630Z00'00'\", 'source': '../data/Academic_Calenders_Cost_of_Attendance_and_Packaging.pdf', 'file_path': '../data/Academic_Calenders_Cost_of_Attendance_and_Packaging.pdf', 'total_pages': 57, 'format': 'PDF 1.7', 'title': '', 'author': '', 'subject': '', 'keywords': '', 'moddate': \"D:20250418120630Z00'00'\", 'trapped': '', 'modDate': \"D:20250418120630Z00'00'\", 'creationDate': \"D:20250418120630Z00'00'\", 'page': 15, 'doc_id': 'eac8c6f8-5dc0-4040-bbab-db3b389c3cb0', '_id': 'e56138984a4442398b569d342d6ba3aa', '_collection_name': 'full_documents'}, page_content='making late disbursements or retroactive payments for completed payment periods (as discussed in Volume 4, Chapter\\n2), you must disburse the Title IV funds during the payment period to which they apply.\\nDisbursement Timing in Term-Based Programs Using Credit Hours (Except Subscription-Based Programs)\\nAs noted earlier in the chapter, for the Pell Grant, TEACH Grant, and FSEOG programs the payment period is the academic\\nterm for a student enrolled in a credit-hour program that uses any type of academic term (standard or nonstandard). For\\nthe Direct Loan Program, the payment period is the academic term only if the program uses standard terms or uses'), 0.7104247778145472), (Document(metadata={'producer': 'GPL Ghostscript 10.00.0', 'creator': 'wkhtmltopdf 0.12.6', 'creationdate': \"D:20250418120630Z00'00'\", 'source': '../data/Academic_Calenders_Cost_of_Attendance_and_Packaging.pdf', 'file_path': '../data/Academic_Calenders_Cost_of_Attendance_and_Packaging.pdf', 'total_pages': 57, 'format': 'PDF 1.7', 'title': '', 'author': '', 'subject': '', 'keywords': '', 'moddate': \"D:20250418120630Z00'00'\", 'trapped': '', 'modDate': \"D:20250418120630Z00'00'\", 'creationDate': \"D:20250418120630Z00'00'\", 'page': 25, 'doc_id': '5bd51331-5a31-457b-8b01-a1d6db3d98ae', '_id': '274b7d0908c24010bf0590d4f8653465', '_collection_name': 'full_documents'}, page_content='For the first two subscription periods of the program, there is no coursework completion requirement for the student to\\nreceive a disbursement of Title IV funds. Disbursements are made at the beginning of each subscription period.\\nTo receive a disbursement for the third subscription period and for each subsequent subscription period in the program,\\nthe student must have completed a cumulative number of credit hours equal to the total number of hours for which the\\nstudent was enrolled in all previously attended subscription periods in the program, excluding the number of hours for\\nwhich the student was enrolled in the most recently attended subscription period.'), 0.6941415326482197), (Document(metadata={'producer': 'GPL Ghostscript 10.00.0', 'creator': 'wkhtmltopdf 0.12.6', 'creationdate': \"D:20250418120630Z00'00'\", 'source': '../data/Academic_Calenders_Cost_of_Attendance_and_Packaging.pdf', 'file_path': '../data/Academic_Calenders_Cost_of_Attendance_and_Packaging.pdf', 'total_pages': 57, 'format': 'PDF 1.7', 'title': '', 'author': '', 'subject': '', 'keywords': '', 'moddate': \"D:20250418120630Z00'00'\", 'trapped': '', 'modDate': \"D:20250418120630Z00'00'\", 'creationDate': \"D:20250418120630Z00'00'\", 'page': 16, 'doc_id': 'a4fdb394-7c48-49fa-89ef-2ee64bac0deb', '_id': '2453474da9684003a45ac27d369c7ddc', '_collection_name': 'full_documents'}, page_content='requirement for the student to have completed a certain amount of coursework before receiving a disbursement of Title IV\\nfunds (the same as in any other term-based program using credit hours). However, to receive a disbursement of Title IV\\naid for each subsequent subscription period in the program, the student must have completed a cumulative number of\\ncredit hours equal to the total of the number of hours for which the student was enrolled in all previously attended\\nsubscription periods in the program, excluding the number of hours for which the student was enrolled in the most\\nrecently attended subscription period. For more detailed guidance on the disbursement rules for subscription-based'), 0.6929655489860042)]\n",
      "2025-08-04 23:31:00,415 - src.agents.build_graph_agent - INFO - 🧠 LLM processing 7 messages\n",
      "2025-08-04 23:31:03,520 - src.agents.build_graph_agent - INFO - 📝 LLM generated response with 1950 characters\n",
      "2025-08-04 23:31:03,524 - src.agents.build_graph_agent - INFO - ✅ Agent conversation complete, no more tool calls needed\n",
      "2025-08-04 23:31:03,567 - src.agents.build_graph_agent - INFO - 🧠 LLM processing 1 messages\n",
      "2025-08-04 23:31:04,589 - src.agents.build_graph_agent - INFO - 📝 LLM generated response with 0 characters\n",
      "2025-08-04 23:31:04,595 - src.agents.build_graph_agent - INFO - 🔧 Agent requesting 2 tool calls\n",
      "2025-08-04 23:31:04,606 - src.agents.llm_tools_for_toolbelt - INFO - 🔍 [Parent Document Tool] Processing question: What does volume 8 chapter 6 say about nonstandard terms and direct loan rules for subscription-base...\n",
      "2025-08-04 23:31:04,612 - src.agents.llm_tools_for_toolbelt - INFO - 🔍 [Parent Document Tool] Processing question: What does volume 8 chapter 3 say about nonstandard terms and direct loan rules for subscription-base...\n",
      "2025-08-04 23:31:04,620 - src.core.graph_rag_functions - INFO - 🔍 [Parent Document] Retrieving docs for: What does volume 8 chapter 6 say about nonstandard terms and direct loan rules for subscription-base...\n",
      "2025-08-04 23:31:04,630 - src.core.graph_rag_functions - INFO - 🔍 [Parent Document] Retrieving docs for: What does volume 8 chapter 3 say about nonstandard terms and direct loan rules for subscription-base...\n",
      "2025-08-04 23:31:04,920 - src.core.graph_rag_functions - INFO - child_docs_with_scores: [(Document(metadata={'producer': 'GPL Ghostscript 10.00.0', 'creator': 'wkhtmltopdf 0.12.6', 'creationdate': \"D:20250418120630Z00'00'\", 'source': '../data/Academic_Calenders_Cost_of_Attendance_and_Packaging.pdf', 'file_path': '../data/Academic_Calenders_Cost_of_Attendance_and_Packaging.pdf', 'total_pages': 57, 'format': 'PDF 1.7', 'title': '', 'author': '', 'subject': '', 'keywords': '', 'moddate': \"D:20250418120630Z00'00'\", 'trapped': '', 'modDate': \"D:20250418120630Z00'00'\", 'creationDate': \"D:20250418120630Z00'00'\", 'page': 8, 'doc_id': '664b2154-02c8-4579-a944-447ddc7e9142', '_id': '0899c164301f496880e13d07e0709def', '_collection_name': 'full_documents'}, page_content='not limited to, allopathic, osteopathic, nursing, veterinary, dentistry, pharmacy, and physical therapy), and student\\nteaching required to obtain a state teaching certificate.\\nSee Volume 8, Chapter 3 for additional guidance on certain exceptions to the normal loan period and disbursement timing\\nrules for Direct Loans when clinical work that meets the criteria described above is included in a standard term.\\nNonstandard Terms\\nGenerally, nonstandard terms are terms that are not semesters, trimesters, or quarters. For example, a 5-week term or a\\n23-week term would be considered a nonstandard term because no standard term can be fewer than nine weeks or'), 0.6640902424129937), (Document(metadata={'producer': 'GPL Ghostscript 10.00.0', 'creator': 'wkhtmltopdf 0.12.6', 'creationdate': \"D:20250605165703Z00'00'\", 'source': '../data/The_Direct_Loan_Program.pdf', 'file_path': '../data/The_Direct_Loan_Program.pdf', 'total_pages': 71, 'format': 'PDF 1.7', 'title': '', 'author': '', 'subject': '', 'keywords': '', 'moddate': \"D:20250605165703Z00'00'\", 'trapped': '', 'modDate': \"D:20250605165703Z00'00'\", 'creationDate': \"D:20250605165703Z00'00'\", 'page': 24, 'doc_id': '2bf2c46b-d101-4b9d-80d9-f96f4214b61e', '_id': '835e90b484524cc19f3d96a4d1213477', '_collection_name': 'full_documents'}, page_content='limits, substantially equal nonstandard terms that contain fewer than nine weeks are treated the same as nonstandard\\nterms that are not substantially equal. This means that if a program has substantially equal nonstandard terms that are\\nless than nine weeks in length, you must make a Direct Loan disbursement each term (the same as would be the case if\\nthe program were offered in standard terms), but the minimum loan period and the type of academic year used to\\nmonitor Direct Loan annual loan limits must be determined in accordance with the rules that apply to non-term programs.\\nFor detailed information on standard term, nonstandard term, and non-term programs, see Volume 1, Chapter 1.'), 0.654594434908446), (Document(metadata={'producer': 'GPL Ghostscript 10.00.0', 'creator': 'wkhtmltopdf 0.12.6', 'creationdate': \"D:20250605165703Z00'00'\", 'source': '../data/The_Direct_Loan_Program.pdf', 'file_path': '../data/The_Direct_Loan_Program.pdf', 'total_pages': 71, 'format': 'PDF 1.7', 'title': '', 'author': '', 'subject': '', 'keywords': '', 'moddate': \"D:20250605165703Z00'00'\", 'trapped': '', 'modDate': \"D:20250605165703Z00'00'\", 'creationDate': \"D:20250605165703Z00'00'\", 'page': 23, 'doc_id': '1c97f25e-65aa-4d9f-8b78-30e7722f0d50', '_id': '29207b7fbd914ac7a6b844f1693389e0', '_collection_name': 'full_documents'}, page_content='whether a program is term-based (including subscription-based programs; see Volume 3, Chapter 1) with either standard\\nor nonstandard terms, or is a non-term program (all clock-hour programs are treated as non-term programs), and in the\\ncase of a term-based program with nonstandard terms, depending on the type of nonstandard term, as described below.\\nNonstandard terms may be one of the following types:\\n1. \\nNonstandard terms that are substantially equal (no term in the academic year differs in length from any\\nother term by more than two weeks), and each of the terms is at least nine weeks in length.\\nSE9W\\nPeriod of Enrollment (Loan Period) Definition\\n34 CFR 685.102(b)'), 0.6521185278864918), (Document(metadata={'producer': 'GPL Ghostscript 10.00.0', 'creator': 'wkhtmltopdf 0.12.6', 'creationdate': \"D:20250418120630Z00'00'\", 'source': '../data/Academic_Calenders_Cost_of_Attendance_and_Packaging.pdf', 'file_path': '../data/Academic_Calenders_Cost_of_Attendance_and_Packaging.pdf', 'total_pages': 57, 'format': 'PDF 1.7', 'title': '', 'author': '', 'subject': '', 'keywords': '', 'moddate': \"D:20250418120630Z00'00'\", 'trapped': '', 'modDate': \"D:20250418120630Z00'00'\", 'creationDate': \"D:20250418120630Z00'00'\", 'page': 4, 'doc_id': '724f11e5-6cb3-4965-8439-ed16ee7cc378', '_id': 'ccd81773b5994d5abe2e1a1e94c32856', '_collection_name': 'full_documents'}, page_content='periods for programs using standard terms or substantially equal nonstandard terms= later in this chapter). Substantially\\nequal nonstandard terms may be of any length, but if they are not at least nine weeks in length, the program must use\\nBBAY 3 for purposes of monitoring Direct Loan annual loan limit progression (see Volume 8, Chapter 6 for more\\ninformation on BBAY 3). Nonstandard terms that are not substantially equal in length are not permissible in a\\nsubscription-based academic calendar.\\nThe term \"subscription period\" is synonymous with \"term\" and \"payment period\" (payment periods are covered later in\\nthis chapter). Except for the fact that classes are not required to start and end within a term, the rules and requirements'), 0.6494101751937496), (Document(metadata={'producer': 'GPL Ghostscript 10.00.0', 'creator': 'wkhtmltopdf 0.12.6', 'creationdate': \"D:20250418120630Z00'00'\", 'source': '../data/Academic_Calenders_Cost_of_Attendance_and_Packaging.pdf', 'file_path': '../data/Academic_Calenders_Cost_of_Attendance_and_Packaging.pdf', 'total_pages': 57, 'format': 'PDF 1.7', 'title': '', 'author': '', 'subject': '', 'keywords': '', 'moddate': \"D:20250418120630Z00'00'\", 'trapped': '', 'modDate': \"D:20250418120630Z00'00'\", 'creationDate': \"D:20250418120630Z00'00'\", 'page': 4, 'doc_id': '724f11e5-6cb3-4965-8439-ed16ee7cc378', '_id': '1183fe540e1f4f28a01277a430566e23', '_collection_name': 'full_documents'}, page_content='for term-based programs that are not subscription-based also apply to subscription-based programs. These requirements\\ninclude:\\nminimum and maximum term length restrictions for standard terms (see the discussion in the next section of this\\nchapter);\\nrequirements for determining full-time enrollment (see Volume 1, Chapter 1);\\nuse of a Scheduled Academic Year (SAY), BBAY 1, BBAY 2, or BBAY 3 for monitoring Direct Loan annual loan limit\\nprogression (see Volume 8, Chapter 6); and\\nuse of Pell Grant formulas 1, 2, or 3 to calculate Pell Grant awards (see Volume 7, Chapter 4).\\nWhether an academic calendar is standard term, nonstandard term, non-term, or subscription-based has implications for'), 0.6346217857640435)]\n",
      "2025-08-04 23:31:05,454 - src.core.graph_rag_functions - INFO - child_docs_with_scores: [(Document(metadata={'producer': 'GPL Ghostscript 10.00.0', 'creator': 'wkhtmltopdf 0.12.6', 'creationdate': \"D:20250418120630Z00'00'\", 'source': '../data/Academic_Calenders_Cost_of_Attendance_and_Packaging.pdf', 'file_path': '../data/Academic_Calenders_Cost_of_Attendance_and_Packaging.pdf', 'total_pages': 57, 'format': 'PDF 1.7', 'title': '', 'author': '', 'subject': '', 'keywords': '', 'moddate': \"D:20250418120630Z00'00'\", 'trapped': '', 'modDate': \"D:20250418120630Z00'00'\", 'creationDate': \"D:20250418120630Z00'00'\", 'page': 8, 'doc_id': '664b2154-02c8-4579-a944-447ddc7e9142', '_id': '0899c164301f496880e13d07e0709def', '_collection_name': 'full_documents'}, page_content='not limited to, allopathic, osteopathic, nursing, veterinary, dentistry, pharmacy, and physical therapy), and student\\nteaching required to obtain a state teaching certificate.\\nSee Volume 8, Chapter 3 for additional guidance on certain exceptions to the normal loan period and disbursement timing\\nrules for Direct Loans when clinical work that meets the criteria described above is included in a standard term.\\nNonstandard Terms\\nGenerally, nonstandard terms are terms that are not semesters, trimesters, or quarters. For example, a 5-week term or a\\n23-week term would be considered a nonstandard term because no standard term can be fewer than nine weeks or'), 0.664938774358645), (Document(metadata={'producer': 'GPL Ghostscript 10.00.0', 'creator': 'wkhtmltopdf 0.12.6', 'creationdate': \"D:20250605165703Z00'00'\", 'source': '../data/The_Direct_Loan_Program.pdf', 'file_path': '../data/The_Direct_Loan_Program.pdf', 'total_pages': 71, 'format': 'PDF 1.7', 'title': '', 'author': '', 'subject': '', 'keywords': '', 'moddate': \"D:20250605165703Z00'00'\", 'trapped': '', 'modDate': \"D:20250605165703Z00'00'\", 'creationDate': \"D:20250605165703Z00'00'\", 'page': 24, 'doc_id': '2bf2c46b-d101-4b9d-80d9-f96f4214b61e', '_id': '835e90b484524cc19f3d96a4d1213477', '_collection_name': 'full_documents'}, page_content='limits, substantially equal nonstandard terms that contain fewer than nine weeks are treated the same as nonstandard\\nterms that are not substantially equal. This means that if a program has substantially equal nonstandard terms that are\\nless than nine weeks in length, you must make a Direct Loan disbursement each term (the same as would be the case if\\nthe program were offered in standard terms), but the minimum loan period and the type of academic year used to\\nmonitor Direct Loan annual loan limits must be determined in accordance with the rules that apply to non-term programs.\\nFor detailed information on standard term, nonstandard term, and non-term programs, see Volume 1, Chapter 1.'), 0.6554412409333924), (Document(metadata={'producer': 'GPL Ghostscript 10.00.0', 'creator': 'wkhtmltopdf 0.12.6', 'creationdate': \"D:20250605165703Z00'00'\", 'source': '../data/The_Direct_Loan_Program.pdf', 'file_path': '../data/The_Direct_Loan_Program.pdf', 'total_pages': 71, 'format': 'PDF 1.7', 'title': '', 'author': '', 'subject': '', 'keywords': '', 'moddate': \"D:20250605165703Z00'00'\", 'trapped': '', 'modDate': \"D:20250605165703Z00'00'\", 'creationDate': \"D:20250605165703Z00'00'\", 'page': 23, 'doc_id': '1c97f25e-65aa-4d9f-8b78-30e7722f0d50', '_id': '29207b7fbd914ac7a6b844f1693389e0', '_collection_name': 'full_documents'}, page_content='whether a program is term-based (including subscription-based programs; see Volume 3, Chapter 1) with either standard\\nor nonstandard terms, or is a non-term program (all clock-hour programs are treated as non-term programs), and in the\\ncase of a term-based program with nonstandard terms, depending on the type of nonstandard term, as described below.\\nNonstandard terms may be one of the following types:\\n1. \\nNonstandard terms that are substantially equal (no term in the academic year differs in length from any\\nother term by more than two weeks), and each of the terms is at least nine weeks in length.\\nSE9W\\nPeriod of Enrollment (Loan Period) Definition\\n34 CFR 685.102(b)'), 0.6539498773068729), (Document(metadata={'producer': 'GPL Ghostscript 10.00.0', 'creator': 'wkhtmltopdf 0.12.6', 'creationdate': \"D:20250418120630Z00'00'\", 'source': '../data/Academic_Calenders_Cost_of_Attendance_and_Packaging.pdf', 'file_path': '../data/Academic_Calenders_Cost_of_Attendance_and_Packaging.pdf', 'total_pages': 57, 'format': 'PDF 1.7', 'title': '', 'author': '', 'subject': '', 'keywords': '', 'moddate': \"D:20250418120630Z00'00'\", 'trapped': '', 'modDate': \"D:20250418120630Z00'00'\", 'creationDate': \"D:20250418120630Z00'00'\", 'page': 4, 'doc_id': '724f11e5-6cb3-4965-8439-ed16ee7cc378', '_id': 'ccd81773b5994d5abe2e1a1e94c32856', '_collection_name': 'full_documents'}, page_content='periods for programs using standard terms or substantially equal nonstandard terms= later in this chapter). Substantially\\nequal nonstandard terms may be of any length, but if they are not at least nine weeks in length, the program must use\\nBBAY 3 for purposes of monitoring Direct Loan annual loan limit progression (see Volume 8, Chapter 6 for more\\ninformation on BBAY 3). Nonstandard terms that are not substantially equal in length are not permissible in a\\nsubscription-based academic calendar.\\nThe term \"subscription period\" is synonymous with \"term\" and \"payment period\" (payment periods are covered later in\\nthis chapter). Except for the fact that classes are not required to start and end within a term, the rules and requirements'), 0.6477452757942221), (Document(metadata={'producer': 'GPL Ghostscript 10.00.0', 'creator': 'wkhtmltopdf 0.12.6', 'creationdate': \"D:20250605165703Z00'00'\", 'source': '../data/The_Direct_Loan_Program.pdf', 'file_path': '../data/The_Direct_Loan_Program.pdf', 'total_pages': 71, 'format': 'PDF 1.7', 'title': '', 'author': '', 'subject': '', 'keywords': '', 'moddate': \"D:20250605165703Z00'00'\", 'trapped': '', 'modDate': \"D:20250605165703Z00'00'\", 'creationDate': \"D:20250605165703Z00'00'\", 'page': 28, 'doc_id': '015382d1-f8a9-4dc4-b127-d29b6b767269', '_id': '568f9202ee7f44cd973cc361ad0650ea', '_collection_name': 'full_documents'}, page_content='nonstandard terms, and explains that standard terms or nonstandard terms that are substantially equal and at least nine\\nweeks in length (<SE9W= nonstandard terms) may not include periods of clinical work, such as medical and education\\nprogram work which is conducted outside the classroom, unless certain requirements are met (see <Inclusion of Clinical\\nWork in a Standard Term=). If a standard term or SE9W nonstandard term contains clinical work that meets all the criteria\\nto be included in the term, this may result in certain exceptions to the normal loan period and disbursement rules as\\ndiscussed earlier in this chapter. We discuss these exceptions below.'), 0.640103201350694)]\n",
      "2025-08-04 23:31:05,543 - src.agents.build_graph_agent - INFO - 🧠 LLM processing 4 messages\n",
      "2025-08-04 23:31:07,420 - src.agents.build_graph_agent - INFO - 📝 LLM generated response with 267 characters\n",
      "2025-08-04 23:31:07,449 - src.agents.build_graph_agent - INFO - 🔧 Agent requesting 2 tool calls\n",
      "2025-08-04 23:31:07,476 - src.agents.llm_tools_for_toolbelt - INFO - 🔍 [Parent Document Tool] Processing question: What does volume 8 chapter 6 say about nonstandard terms and direct loan rules for subscription-base...\n",
      "2025-08-04 23:31:07,491 - src.agents.llm_tools_for_toolbelt - INFO - 🔍 [Parent Document Tool] Processing question: What does volume 8 chapter 3 say about nonstandard terms and direct loan rules for subscription-base...\n",
      "2025-08-04 23:31:07,502 - src.core.graph_rag_functions - INFO - 🔍 [Parent Document] Retrieving docs for: What does volume 8 chapter 6 say about nonstandard terms and direct loan rules for subscription-base...\n",
      "2025-08-04 23:31:07,513 - src.core.graph_rag_functions - INFO - 🔍 [Parent Document] Retrieving docs for: What does volume 8 chapter 3 say about nonstandard terms and direct loan rules for subscription-base...\n",
      "2025-08-04 23:31:08,787 - src.core.graph_rag_functions - INFO - child_docs_with_scores: [(Document(metadata={'producer': 'GPL Ghostscript 10.00.0', 'creator': 'wkhtmltopdf 0.12.6', 'creationdate': \"D:20250418120630Z00'00'\", 'source': '../data/Academic_Calenders_Cost_of_Attendance_and_Packaging.pdf', 'file_path': '../data/Academic_Calenders_Cost_of_Attendance_and_Packaging.pdf', 'total_pages': 57, 'format': 'PDF 1.7', 'title': '', 'author': '', 'subject': '', 'keywords': '', 'moddate': \"D:20250418120630Z00'00'\", 'trapped': '', 'modDate': \"D:20250418120630Z00'00'\", 'creationDate': \"D:20250418120630Z00'00'\", 'page': 8, 'doc_id': '664b2154-02c8-4579-a944-447ddc7e9142', '_id': '0899c164301f496880e13d07e0709def', '_collection_name': 'full_documents'}, page_content='not limited to, allopathic, osteopathic, nursing, veterinary, dentistry, pharmacy, and physical therapy), and student\\nteaching required to obtain a state teaching certificate.\\nSee Volume 8, Chapter 3 for additional guidance on certain exceptions to the normal loan period and disbursement timing\\nrules for Direct Loans when clinical work that meets the criteria described above is included in a standard term.\\nNonstandard Terms\\nGenerally, nonstandard terms are terms that are not semesters, trimesters, or quarters. For example, a 5-week term or a\\n23-week term would be considered a nonstandard term because no standard term can be fewer than nine weeks or'), 0.6649799663339101), (Document(metadata={'producer': 'GPL Ghostscript 10.00.0', 'creator': 'wkhtmltopdf 0.12.6', 'creationdate': \"D:20250605165703Z00'00'\", 'source': '../data/The_Direct_Loan_Program.pdf', 'file_path': '../data/The_Direct_Loan_Program.pdf', 'total_pages': 71, 'format': 'PDF 1.7', 'title': '', 'author': '', 'subject': '', 'keywords': '', 'moddate': \"D:20250605165703Z00'00'\", 'trapped': '', 'modDate': \"D:20250605165703Z00'00'\", 'creationDate': \"D:20250605165703Z00'00'\", 'page': 24, 'doc_id': '2bf2c46b-d101-4b9d-80d9-f96f4214b61e', '_id': '835e90b484524cc19f3d96a4d1213477', '_collection_name': 'full_documents'}, page_content='limits, substantially equal nonstandard terms that contain fewer than nine weeks are treated the same as nonstandard\\nterms that are not substantially equal. This means that if a program has substantially equal nonstandard terms that are\\nless than nine weeks in length, you must make a Direct Loan disbursement each term (the same as would be the case if\\nthe program were offered in standard terms), but the minimum loan period and the type of academic year used to\\nmonitor Direct Loan annual loan limits must be determined in accordance with the rules that apply to non-term programs.\\nFor detailed information on standard term, nonstandard term, and non-term programs, see Volume 1, Chapter 1.'), 0.6554930076969533), (Document(metadata={'producer': 'GPL Ghostscript 10.00.0', 'creator': 'wkhtmltopdf 0.12.6', 'creationdate': \"D:20250605165703Z00'00'\", 'source': '../data/The_Direct_Loan_Program.pdf', 'file_path': '../data/The_Direct_Loan_Program.pdf', 'total_pages': 71, 'format': 'PDF 1.7', 'title': '', 'author': '', 'subject': '', 'keywords': '', 'moddate': \"D:20250605165703Z00'00'\", 'trapped': '', 'modDate': \"D:20250605165703Z00'00'\", 'creationDate': \"D:20250605165703Z00'00'\", 'page': 23, 'doc_id': '1c97f25e-65aa-4d9f-8b78-30e7722f0d50', '_id': '29207b7fbd914ac7a6b844f1693389e0', '_collection_name': 'full_documents'}, page_content='whether a program is term-based (including subscription-based programs; see Volume 3, Chapter 1) with either standard\\nor nonstandard terms, or is a non-term program (all clock-hour programs are treated as non-term programs), and in the\\ncase of a term-based program with nonstandard terms, depending on the type of nonstandard term, as described below.\\nNonstandard terms may be one of the following types:\\n1. \\nNonstandard terms that are substantially equal (no term in the academic year differs in length from any\\nother term by more than two weeks), and each of the terms is at least nine weeks in length.\\nSE9W\\nPeriod of Enrollment (Loan Period) Definition\\n34 CFR 685.102(b)'), 0.6539659211245659), (Document(metadata={'producer': 'GPL Ghostscript 10.00.0', 'creator': 'wkhtmltopdf 0.12.6', 'creationdate': \"D:20250418120630Z00'00'\", 'source': '../data/Academic_Calenders_Cost_of_Attendance_and_Packaging.pdf', 'file_path': '../data/Academic_Calenders_Cost_of_Attendance_and_Packaging.pdf', 'total_pages': 57, 'format': 'PDF 1.7', 'title': '', 'author': '', 'subject': '', 'keywords': '', 'moddate': \"D:20250418120630Z00'00'\", 'trapped': '', 'modDate': \"D:20250418120630Z00'00'\", 'creationDate': \"D:20250418120630Z00'00'\", 'page': 4, 'doc_id': '724f11e5-6cb3-4965-8439-ed16ee7cc378', '_id': 'ccd81773b5994d5abe2e1a1e94c32856', '_collection_name': 'full_documents'}, page_content='periods for programs using standard terms or substantially equal nonstandard terms= later in this chapter). Substantially\\nequal nonstandard terms may be of any length, but if they are not at least nine weeks in length, the program must use\\nBBAY 3 for purposes of monitoring Direct Loan annual loan limit progression (see Volume 8, Chapter 6 for more\\ninformation on BBAY 3). Nonstandard terms that are not substantially equal in length are not permissible in a\\nsubscription-based academic calendar.\\nThe term \"subscription period\" is synonymous with \"term\" and \"payment period\" (payment periods are covered later in\\nthis chapter). Except for the fact that classes are not required to start and end within a term, the rules and requirements'), 0.647754770834096), (Document(metadata={'producer': 'GPL Ghostscript 10.00.0', 'creator': 'wkhtmltopdf 0.12.6', 'creationdate': \"D:20250605165703Z00'00'\", 'source': '../data/The_Direct_Loan_Program.pdf', 'file_path': '../data/The_Direct_Loan_Program.pdf', 'total_pages': 71, 'format': 'PDF 1.7', 'title': '', 'author': '', 'subject': '', 'keywords': '', 'moddate': \"D:20250605165703Z00'00'\", 'trapped': '', 'modDate': \"D:20250605165703Z00'00'\", 'creationDate': \"D:20250605165703Z00'00'\", 'page': 28, 'doc_id': '015382d1-f8a9-4dc4-b127-d29b6b767269', '_id': '568f9202ee7f44cd973cc361ad0650ea', '_collection_name': 'full_documents'}, page_content='nonstandard terms, and explains that standard terms or nonstandard terms that are substantially equal and at least nine\\nweeks in length (<SE9W= nonstandard terms) may not include periods of clinical work, such as medical and education\\nprogram work which is conducted outside the classroom, unless certain requirements are met (see <Inclusion of Clinical\\nWork in a Standard Term=). If a standard term or SE9W nonstandard term contains clinical work that meets all the criteria\\nto be included in the term, this may result in certain exceptions to the normal loan period and disbursement rules as\\ndiscussed earlier in this chapter. We discuss these exceptions below.'), 0.6401373210538059)]\n",
      "2025-08-04 23:31:09,835 - src.core.graph_rag_functions - INFO - child_docs_with_scores: [(Document(metadata={'producer': 'GPL Ghostscript 10.00.0', 'creator': 'wkhtmltopdf 0.12.6', 'creationdate': \"D:20250418120630Z00'00'\", 'source': '../data/Academic_Calenders_Cost_of_Attendance_and_Packaging.pdf', 'file_path': '../data/Academic_Calenders_Cost_of_Attendance_and_Packaging.pdf', 'total_pages': 57, 'format': 'PDF 1.7', 'title': '', 'author': '', 'subject': '', 'keywords': '', 'moddate': \"D:20250418120630Z00'00'\", 'trapped': '', 'modDate': \"D:20250418120630Z00'00'\", 'creationDate': \"D:20250418120630Z00'00'\", 'page': 8, 'doc_id': '664b2154-02c8-4579-a944-447ddc7e9142', '_id': '0899c164301f496880e13d07e0709def', '_collection_name': 'full_documents'}, page_content='not limited to, allopathic, osteopathic, nursing, veterinary, dentistry, pharmacy, and physical therapy), and student\\nteaching required to obtain a state teaching certificate.\\nSee Volume 8, Chapter 3 for additional guidance on certain exceptions to the normal loan period and disbursement timing\\nrules for Direct Loans when clinical work that meets the criteria described above is included in a standard term.\\nNonstandard Terms\\nGenerally, nonstandard terms are terms that are not semesters, trimesters, or quarters. For example, a 5-week term or a\\n23-week term would be considered a nonstandard term because no standard term can be fewer than nine weeks or'), 0.6640902424129937), (Document(metadata={'producer': 'GPL Ghostscript 10.00.0', 'creator': 'wkhtmltopdf 0.12.6', 'creationdate': \"D:20250605165703Z00'00'\", 'source': '../data/The_Direct_Loan_Program.pdf', 'file_path': '../data/The_Direct_Loan_Program.pdf', 'total_pages': 71, 'format': 'PDF 1.7', 'title': '', 'author': '', 'subject': '', 'keywords': '', 'moddate': \"D:20250605165703Z00'00'\", 'trapped': '', 'modDate': \"D:20250605165703Z00'00'\", 'creationDate': \"D:20250605165703Z00'00'\", 'page': 24, 'doc_id': '2bf2c46b-d101-4b9d-80d9-f96f4214b61e', '_id': '835e90b484524cc19f3d96a4d1213477', '_collection_name': 'full_documents'}, page_content='limits, substantially equal nonstandard terms that contain fewer than nine weeks are treated the same as nonstandard\\nterms that are not substantially equal. This means that if a program has substantially equal nonstandard terms that are\\nless than nine weeks in length, you must make a Direct Loan disbursement each term (the same as would be the case if\\nthe program were offered in standard terms), but the minimum loan period and the type of academic year used to\\nmonitor Direct Loan annual loan limits must be determined in accordance with the rules that apply to non-term programs.\\nFor detailed information on standard term, nonstandard term, and non-term programs, see Volume 1, Chapter 1.'), 0.654594434908446), (Document(metadata={'producer': 'GPL Ghostscript 10.00.0', 'creator': 'wkhtmltopdf 0.12.6', 'creationdate': \"D:20250605165703Z00'00'\", 'source': '../data/The_Direct_Loan_Program.pdf', 'file_path': '../data/The_Direct_Loan_Program.pdf', 'total_pages': 71, 'format': 'PDF 1.7', 'title': '', 'author': '', 'subject': '', 'keywords': '', 'moddate': \"D:20250605165703Z00'00'\", 'trapped': '', 'modDate': \"D:20250605165703Z00'00'\", 'creationDate': \"D:20250605165703Z00'00'\", 'page': 23, 'doc_id': '1c97f25e-65aa-4d9f-8b78-30e7722f0d50', '_id': '29207b7fbd914ac7a6b844f1693389e0', '_collection_name': 'full_documents'}, page_content='whether a program is term-based (including subscription-based programs; see Volume 3, Chapter 1) with either standard\\nor nonstandard terms, or is a non-term program (all clock-hour programs are treated as non-term programs), and in the\\ncase of a term-based program with nonstandard terms, depending on the type of nonstandard term, as described below.\\nNonstandard terms may be one of the following types:\\n1. \\nNonstandard terms that are substantially equal (no term in the academic year differs in length from any\\nother term by more than two weeks), and each of the terms is at least nine weeks in length.\\nSE9W\\nPeriod of Enrollment (Loan Period) Definition\\n34 CFR 685.102(b)'), 0.6521185278864918), (Document(metadata={'producer': 'GPL Ghostscript 10.00.0', 'creator': 'wkhtmltopdf 0.12.6', 'creationdate': \"D:20250418120630Z00'00'\", 'source': '../data/Academic_Calenders_Cost_of_Attendance_and_Packaging.pdf', 'file_path': '../data/Academic_Calenders_Cost_of_Attendance_and_Packaging.pdf', 'total_pages': 57, 'format': 'PDF 1.7', 'title': '', 'author': '', 'subject': '', 'keywords': '', 'moddate': \"D:20250418120630Z00'00'\", 'trapped': '', 'modDate': \"D:20250418120630Z00'00'\", 'creationDate': \"D:20250418120630Z00'00'\", 'page': 4, 'doc_id': '724f11e5-6cb3-4965-8439-ed16ee7cc378', '_id': 'ccd81773b5994d5abe2e1a1e94c32856', '_collection_name': 'full_documents'}, page_content='periods for programs using standard terms or substantially equal nonstandard terms= later in this chapter). Substantially\\nequal nonstandard terms may be of any length, but if they are not at least nine weeks in length, the program must use\\nBBAY 3 for purposes of monitoring Direct Loan annual loan limit progression (see Volume 8, Chapter 6 for more\\ninformation on BBAY 3). Nonstandard terms that are not substantially equal in length are not permissible in a\\nsubscription-based academic calendar.\\nThe term \"subscription period\" is synonymous with \"term\" and \"payment period\" (payment periods are covered later in\\nthis chapter). Except for the fact that classes are not required to start and end within a term, the rules and requirements'), 0.6494101751937496), (Document(metadata={'producer': 'GPL Ghostscript 10.00.0', 'creator': 'wkhtmltopdf 0.12.6', 'creationdate': \"D:20250418120630Z00'00'\", 'source': '../data/Academic_Calenders_Cost_of_Attendance_and_Packaging.pdf', 'file_path': '../data/Academic_Calenders_Cost_of_Attendance_and_Packaging.pdf', 'total_pages': 57, 'format': 'PDF 1.7', 'title': '', 'author': '', 'subject': '', 'keywords': '', 'moddate': \"D:20250418120630Z00'00'\", 'trapped': '', 'modDate': \"D:20250418120630Z00'00'\", 'creationDate': \"D:20250418120630Z00'00'\", 'page': 4, 'doc_id': '724f11e5-6cb3-4965-8439-ed16ee7cc378', '_id': '1183fe540e1f4f28a01277a430566e23', '_collection_name': 'full_documents'}, page_content='for term-based programs that are not subscription-based also apply to subscription-based programs. These requirements\\ninclude:\\nminimum and maximum term length restrictions for standard terms (see the discussion in the next section of this\\nchapter);\\nrequirements for determining full-time enrollment (see Volume 1, Chapter 1);\\nuse of a Scheduled Academic Year (SAY), BBAY 1, BBAY 2, or BBAY 3 for monitoring Direct Loan annual loan limit\\nprogression (see Volume 8, Chapter 6); and\\nuse of Pell Grant formulas 1, 2, or 3 to calculate Pell Grant awards (see Volume 7, Chapter 4).\\nWhether an academic calendar is standard term, nonstandard term, non-term, or subscription-based has implications for'), 0.6346217857640435)]\n",
      "2025-08-04 23:31:09,887 - src.agents.build_graph_agent - INFO - 🧠 LLM processing 7 messages\n",
      "2025-08-04 23:31:10,572 - src.agents.build_graph_agent - INFO - 📝 LLM generated response with 269 characters\n",
      "2025-08-04 23:31:10,578 - src.agents.build_graph_agent - INFO - ✅ Agent conversation complete, no more tool calls needed\n",
      "2025-08-04 23:31:10,601 - src.agents.build_graph_agent - INFO - 🧠 LLM processing 1 messages\n",
      "2025-08-04 23:31:11,565 - src.agents.build_graph_agent - INFO - 📝 LLM generated response with 0 characters\n",
      "2025-08-04 23:31:11,568 - src.agents.build_graph_agent - INFO - 🔧 Agent requesting 2 tool calls\n",
      "2025-08-04 23:31:11,578 - src.tools.tavily_tools - INFO - 🔍 [StudentAid Search] Searching for: Pell Grant disbursement requirements for subscription-based academic calendars\n",
      "2025-08-04 23:31:11,580 - src.tools.tavily_tools - INFO - 🔍 [StudentAid Search] Searching for: Pell Grant disbursement requirements for clock-hour or non-term credit-hour programs\n",
      "2025-08-04 23:31:17,959 - src.tools.tavily_tools - INFO - 📚 [StudentAid Search] Found 3 results\n",
      "2025-08-04 23:31:20,102 - src.tools.tavily_tools - INFO - 📚 [StudentAid Search] Found 3 results\n",
      "2025-08-04 23:31:20,110 - src.agents.build_graph_agent - INFO - 🧠 LLM processing 4 messages\n",
      "2025-08-04 23:31:23,308 - src.agents.build_graph_agent - INFO - 📝 LLM generated response with 2141 characters\n",
      "2025-08-04 23:31:23,311 - src.agents.build_graph_agent - INFO - ✅ Agent conversation complete, no more tool calls needed\n"
     ]
    },
    {
     "name": "stdout",
     "output_type": "stream",
     "text": [
      "CPU times: user 6.31 s, sys: 2.34 s, total: 8.65 s\n",
      "Wall time: 1min 34s\n"
     ]
    }
   ],
   "source": [
    "%%time\n",
    "pd_golden_master_dataset = copy.deepcopy(golden_master_dataset)\n",
    "pd_golden_master_dataset = generate_responses_for_golden_dataset(pd_golden_master_dataset, parent_document_graph_agent)"
   ]
  },
  {
   "cell_type": "code",
   "execution_count": 25,
   "metadata": {
    "scrolled": true
   },
   "outputs": [
    {
     "data": {
      "text/html": [
       "<div>\n",
       "<style scoped>\n",
       "    .dataframe tbody tr th:only-of-type {\n",
       "        vertical-align: middle;\n",
       "    }\n",
       "\n",
       "    .dataframe tbody tr th {\n",
       "        vertical-align: top;\n",
       "    }\n",
       "\n",
       "    .dataframe thead th {\n",
       "        text-align: right;\n",
       "    }\n",
       "</style>\n",
       "<table border=\"1\" class=\"dataframe\">\n",
       "  <thead>\n",
       "    <tr style=\"text-align: right;\">\n",
       "      <th></th>\n",
       "      <th>user_input</th>\n",
       "      <th>retrieved_contexts</th>\n",
       "      <th>reference_contexts</th>\n",
       "      <th>response</th>\n",
       "      <th>reference</th>\n",
       "      <th>synthesizer_name</th>\n",
       "      <th>tools_used</th>\n",
       "      <th>num_contexts</th>\n",
       "    </tr>\n",
       "  </thead>\n",
       "  <tbody>\n",
       "    <tr>\n",
       "      <th>0</th>\n",
       "      <td>How is the Pell Grant award calculated for stu...</td>\n",
       "      <td>[StudentAid.gov Search Results for: Pell Grant...</td>\n",
       "      <td>[non-term (includes clock-hour calendars), or ...</td>\n",
       "      <td>The Pell Grant award for students enrolled in ...</td>\n",
       "      <td>For students in subscription-based academic ca...</td>\n",
       "      <td>single_hop_specifc_query_synthesizer</td>\n",
       "      <td>[StudentAid_Federal_Search, ask_parent_documen...</td>\n",
       "      <td>5</td>\n",
       "    </tr>\n",
       "    <tr>\n",
       "      <th>1</th>\n",
       "      <td>Are veterinary clinical experiences allowed to...</td>\n",
       "      <td>[StudentAid.gov Search Results for: veterinary...</td>\n",
       "      <td>[Inclusion of Clinical Work in a Standard Term...</td>\n",
       "      <td>Based on the information from StudentAid.gov, ...</td>\n",
       "      <td>Yes, veterinary clinical experiences may be in...</td>\n",
       "      <td>single_hop_specifc_query_synthesizer</td>\n",
       "      <td>[StudentAid_Federal_Search]</td>\n",
       "      <td>5</td>\n",
       "    </tr>\n",
       "    <tr>\n",
       "      <th>2</th>\n",
       "      <td>Whaat are the condishuns under wich a program ...</td>\n",
       "      <td>[StudentAid.gov Search Results for: program me...</td>\n",
       "      <td>[Non-Term Characteristics A program that measu...</td>\n",
       "      <td>A program measuring progress in credit-hours i...</td>\n",
       "      <td>A program that measures progress in credit-hou...</td>\n",
       "      <td>single_hop_specifc_query_synthesizer</td>\n",
       "      <td>[StudentAid_Federal_Search]</td>\n",
       "      <td>5</td>\n",
       "    </tr>\n",
       "    <tr>\n",
       "      <th>3</th>\n",
       "      <td>so like if a student gettin Pell Grant in a cl...</td>\n",
       "      <td>[StudentAid.gov Search Results for: Pell Grant...</td>\n",
       "      <td>[both the credit or clock hours and the weeks ...</td>\n",
       "      <td>If a student in a clock-hour or non-term credi...</td>\n",
       "      <td>if a student in a clock-hour or non-term credi...</td>\n",
       "      <td>single_hop_specifc_query_synthesizer</td>\n",
       "      <td>[StudentAid_Federal_Search]</td>\n",
       "      <td>10</td>\n",
       "    </tr>\n",
       "    <tr>\n",
       "      <th>4</th>\n",
       "      <td>how do disbursement timing rules for federal s...</td>\n",
       "      <td>[StudentAid.gov Search Results for: disburseme...</td>\n",
       "      <td>[&lt;1-hop&gt;\\n\\nboth the credit or clock hours and...</td>\n",
       "      <td>The disbursement timing rules for federal stud...</td>\n",
       "      <td>In clock-hour or non-term credit-hour programs...</td>\n",
       "      <td>multi_hop_abstract_query_synthesizer</td>\n",
       "      <td>[StudentAid_Federal_Search]</td>\n",
       "      <td>5</td>\n",
       "    </tr>\n",
       "    <tr>\n",
       "      <th>5</th>\n",
       "      <td>What are the differences in disbursement timin...</td>\n",
       "      <td>[StudentAid.gov Search Results for: disburseme...</td>\n",
       "      <td>[&lt;1-hop&gt;\\n\\nboth the credit or clock hours and...</td>\n",
       "      <td>The disbursement timing requirements for feder...</td>\n",
       "      <td>In clock-hour or non-term credit-hour programs...</td>\n",
       "      <td>multi_hop_abstract_query_synthesizer</td>\n",
       "      <td>[StudentAid_Federal_Search]</td>\n",
       "      <td>10</td>\n",
       "    </tr>\n",
       "    <tr>\n",
       "      <th>6</th>\n",
       "      <td>How does the disbursement timing for federal s...</td>\n",
       "      <td>[StudentAid.gov Search Results for: disburseme...</td>\n",
       "      <td>[&lt;1-hop&gt;\\n\\nboth the credit or clock hours and...</td>\n",
       "      <td>For clock-hour or non-term credit-hour program...</td>\n",
       "      <td>In clock-hour or non-term credit-hour programs...</td>\n",
       "      <td>multi_hop_abstract_query_synthesizer</td>\n",
       "      <td>[StudentAid_Federal_Search]</td>\n",
       "      <td>15</td>\n",
       "    </tr>\n",
       "    <tr>\n",
       "      <th>7</th>\n",
       "      <td>How does the disbursement timing for federal s...</td>\n",
       "      <td>[StudentAid.gov Search Results for: disburseme...</td>\n",
       "      <td>[&lt;1-hop&gt;\\n\\nboth the credit or clock hours and...</td>\n",
       "      <td>For standard clock-hour or non-term credit-hou...</td>\n",
       "      <td>In standard clock-hour or non-term credit-hour...</td>\n",
       "      <td>multi_hop_abstract_query_synthesizer</td>\n",
       "      <td>[StudentAid_Federal_Search]</td>\n",
       "      <td>15</td>\n",
       "    </tr>\n",
       "    <tr>\n",
       "      <th>8</th>\n",
       "      <td>How do the examples in Appendix A and Appendix...</td>\n",
       "      <td>[]</td>\n",
       "      <td>[&lt;1-hop&gt;\\n\\nboth the credit or clock hours and...</td>\n",
       "      <td>It appears there is a technical issue with ret...</td>\n",
       "      <td>The examples in Appendix A illustrate the prin...</td>\n",
       "      <td>multi_hop_specific_query_synthesizer</td>\n",
       "      <td>[ask_parent_document_llm_tool]</td>\n",
       "      <td>0</td>\n",
       "    </tr>\n",
       "    <tr>\n",
       "      <th>9</th>\n",
       "      <td>Wut are the disbursment timing rules for Title...</td>\n",
       "      <td>[]</td>\n",
       "      <td>[&lt;1-hop&gt;\\n\\nDisbursement Timing in Subscriptio...</td>\n",
       "      <td>It seems there is a technical issue with retri...</td>\n",
       "      <td>For the first two subscription periods in a su...</td>\n",
       "      <td>multi_hop_specific_query_synthesizer</td>\n",
       "      <td>[ask_parent_document_llm_tool]</td>\n",
       "      <td>0</td>\n",
       "    </tr>\n",
       "    <tr>\n",
       "      <th>10</th>\n",
       "      <td>how volume 8 chapter 6 and volume 8 chapter 3 ...</td>\n",
       "      <td>[]</td>\n",
       "      <td>[&lt;1-hop&gt;\\n\\nnon-term (includes clock-hour cale...</td>\n",
       "      <td>It appears there is a technical issue preventi...</td>\n",
       "      <td>volume 8 chapter 6 is mentioned as giving more...</td>\n",
       "      <td>multi_hop_specific_query_synthesizer</td>\n",
       "      <td>[ask_parent_document_llm_tool]</td>\n",
       "      <td>0</td>\n",
       "    </tr>\n",
       "    <tr>\n",
       "      <th>11</th>\n",
       "      <td>How do the requirements for Pell Grant disburs...</td>\n",
       "      <td>[StudentAid.gov Search Results for: Pell Grant...</td>\n",
       "      <td>[&lt;1-hop&gt;\\n\\nboth the credit or clock hours and...</td>\n",
       "      <td>The requirements for Pell Grant disbursement a...</td>\n",
       "      <td>In clock-hour or non-term credit-hour programs...</td>\n",
       "      <td>multi_hop_specific_query_synthesizer</td>\n",
       "      <td>[StudentAid_Federal_Search]</td>\n",
       "      <td>10</td>\n",
       "    </tr>\n",
       "  </tbody>\n",
       "</table>\n",
       "</div>"
      ],
      "text/plain": [
       "                                           user_input  \\\n",
       "0   How is the Pell Grant award calculated for stu...   \n",
       "1   Are veterinary clinical experiences allowed to...   \n",
       "2   Whaat are the condishuns under wich a program ...   \n",
       "3   so like if a student gettin Pell Grant in a cl...   \n",
       "4   how do disbursement timing rules for federal s...   \n",
       "5   What are the differences in disbursement timin...   \n",
       "6   How does the disbursement timing for federal s...   \n",
       "7   How does the disbursement timing for federal s...   \n",
       "8   How do the examples in Appendix A and Appendix...   \n",
       "9   Wut are the disbursment timing rules for Title...   \n",
       "10  how volume 8 chapter 6 and volume 8 chapter 3 ...   \n",
       "11  How do the requirements for Pell Grant disburs...   \n",
       "\n",
       "                                   retrieved_contexts  \\\n",
       "0   [StudentAid.gov Search Results for: Pell Grant...   \n",
       "1   [StudentAid.gov Search Results for: veterinary...   \n",
       "2   [StudentAid.gov Search Results for: program me...   \n",
       "3   [StudentAid.gov Search Results for: Pell Grant...   \n",
       "4   [StudentAid.gov Search Results for: disburseme...   \n",
       "5   [StudentAid.gov Search Results for: disburseme...   \n",
       "6   [StudentAid.gov Search Results for: disburseme...   \n",
       "7   [StudentAid.gov Search Results for: disburseme...   \n",
       "8                                                  []   \n",
       "9                                                  []   \n",
       "10                                                 []   \n",
       "11  [StudentAid.gov Search Results for: Pell Grant...   \n",
       "\n",
       "                                   reference_contexts  \\\n",
       "0   [non-term (includes clock-hour calendars), or ...   \n",
       "1   [Inclusion of Clinical Work in a Standard Term...   \n",
       "2   [Non-Term Characteristics A program that measu...   \n",
       "3   [both the credit or clock hours and the weeks ...   \n",
       "4   [<1-hop>\\n\\nboth the credit or clock hours and...   \n",
       "5   [<1-hop>\\n\\nboth the credit or clock hours and...   \n",
       "6   [<1-hop>\\n\\nboth the credit or clock hours and...   \n",
       "7   [<1-hop>\\n\\nboth the credit or clock hours and...   \n",
       "8   [<1-hop>\\n\\nboth the credit or clock hours and...   \n",
       "9   [<1-hop>\\n\\nDisbursement Timing in Subscriptio...   \n",
       "10  [<1-hop>\\n\\nnon-term (includes clock-hour cale...   \n",
       "11  [<1-hop>\\n\\nboth the credit or clock hours and...   \n",
       "\n",
       "                                             response  \\\n",
       "0   The Pell Grant award for students enrolled in ...   \n",
       "1   Based on the information from StudentAid.gov, ...   \n",
       "2   A program measuring progress in credit-hours i...   \n",
       "3   If a student in a clock-hour or non-term credi...   \n",
       "4   The disbursement timing rules for federal stud...   \n",
       "5   The disbursement timing requirements for feder...   \n",
       "6   For clock-hour or non-term credit-hour program...   \n",
       "7   For standard clock-hour or non-term credit-hou...   \n",
       "8   It appears there is a technical issue with ret...   \n",
       "9   It seems there is a technical issue with retri...   \n",
       "10  It appears there is a technical issue preventi...   \n",
       "11  The requirements for Pell Grant disbursement a...   \n",
       "\n",
       "                                            reference  \\\n",
       "0   For students in subscription-based academic ca...   \n",
       "1   Yes, veterinary clinical experiences may be in...   \n",
       "2   A program that measures progress in credit-hou...   \n",
       "3   if a student in a clock-hour or non-term credi...   \n",
       "4   In clock-hour or non-term credit-hour programs...   \n",
       "5   In clock-hour or non-term credit-hour programs...   \n",
       "6   In clock-hour or non-term credit-hour programs...   \n",
       "7   In standard clock-hour or non-term credit-hour...   \n",
       "8   The examples in Appendix A illustrate the prin...   \n",
       "9   For the first two subscription periods in a su...   \n",
       "10  volume 8 chapter 6 is mentioned as giving more...   \n",
       "11  In clock-hour or non-term credit-hour programs...   \n",
       "\n",
       "                        synthesizer_name  \\\n",
       "0   single_hop_specifc_query_synthesizer   \n",
       "1   single_hop_specifc_query_synthesizer   \n",
       "2   single_hop_specifc_query_synthesizer   \n",
       "3   single_hop_specifc_query_synthesizer   \n",
       "4   multi_hop_abstract_query_synthesizer   \n",
       "5   multi_hop_abstract_query_synthesizer   \n",
       "6   multi_hop_abstract_query_synthesizer   \n",
       "7   multi_hop_abstract_query_synthesizer   \n",
       "8   multi_hop_specific_query_synthesizer   \n",
       "9   multi_hop_specific_query_synthesizer   \n",
       "10  multi_hop_specific_query_synthesizer   \n",
       "11  multi_hop_specific_query_synthesizer   \n",
       "\n",
       "                                           tools_used  num_contexts  \n",
       "0   [StudentAid_Federal_Search, ask_parent_documen...             5  \n",
       "1                         [StudentAid_Federal_Search]             5  \n",
       "2                         [StudentAid_Federal_Search]             5  \n",
       "3                         [StudentAid_Federal_Search]            10  \n",
       "4                         [StudentAid_Federal_Search]             5  \n",
       "5                         [StudentAid_Federal_Search]            10  \n",
       "6                         [StudentAid_Federal_Search]            15  \n",
       "7                         [StudentAid_Federal_Search]            15  \n",
       "8                      [ask_parent_document_llm_tool]             0  \n",
       "9                      [ask_parent_document_llm_tool]             0  \n",
       "10                     [ask_parent_document_llm_tool]             0  \n",
       "11                        [StudentAid_Federal_Search]            10  "
      ]
     },
     "execution_count": 25,
     "metadata": {},
     "output_type": "execute_result"
    }
   ],
   "source": [
    "display_dataset_with_metadata(pd_golden_master_dataset).to_csv('../golden-masters/pd_golden_master_dataset.csv', index=False)\n",
    "display_dataset_with_metadata(pd_golden_master_dataset)"
   ]
  },
  {
   "cell_type": "code",
   "execution_count": null,
   "metadata": {
    "scrolled": true
   },
   "outputs": [
    {
     "name": "stdout",
     "output_type": "stream",
     "text": [
      "🧪 Running RAGAS evaluation for Parent Document\n"
     ]
    },
    {
     "data": {
      "application/vnd.jupyter.widget-view+json": {
       "model_id": "c6d7123d481e4367bce8f6f5dc145d8c",
       "version_major": 2,
       "version_minor": 0
      },
      "text/plain": [
       "Evaluating:   0%|          | 0/96 [00:00<?, ?it/s]"
      ]
     },
     "metadata": {},
     "output_type": "display_data"
    },
    {
     "name": "stderr",
     "output_type": "stream",
     "text": [
      "2025-08-04 23:33:00,940 - ragas.executor - ERROR - Exception raised in Job[71]: ValueError(zero-size array to reduction operation maximum which has no identity)\n",
      "2025-08-04 23:33:18,406 - ragas.executor - ERROR - Exception raised in Job[87]: ValueError(zero-size array to reduction operation maximum which has no identity)\n",
      "2025-08-04 23:33:38,670 - ragas.executor - ERROR - Exception raised in Job[79]: ValueError(zero-size array to reduction operation maximum which has no identity)\n"
     ]
    }
   ],
   "source": [
    "%%time\n",
    "pd_result = run_ragas_evaluation(pd_golden_master_dataset, \"Parent Document\")"
   ]
  },
  {
   "cell_type": "code",
   "execution_count": null,
   "metadata": {},
   "outputs": [],
   "source": [
    "pd_raw_stats_df = pd.DataFrame([extract_ragas_metrics(pd_result, 'gpt-4.1-mini')])\n",
    "record_metrics_from_run('Parent Document', pd_raw_stats_df)"
   ]
  },
  {
   "cell_type": "code",
   "execution_count": null,
   "metadata": {},
   "outputs": [],
   "source": [
    "pd_raw_stats_df[columns]"
   ]
  },
  {
   "cell_type": "code",
   "execution_count": null,
   "metadata": {
    "scrolled": true
   },
   "outputs": [],
   "source": [
    "collected_df = pd.read_csv('../metrics/ragas-evaluation-metrics.csv')\n",
    "collected_df.tail()"
   ]
  },
  {
   "cell_type": "code",
   "execution_count": null,
   "metadata": {
    "scrolled": true
   },
   "outputs": [],
   "source": [
    "import importlib\n",
    "import src.visualization.visualize_retriever_performance\n",
    "importlib.reload(src.visualization.visualize_retriever_performance)"
   ]
  },
  {
   "cell_type": "code",
   "execution_count": null,
   "metadata": {},
   "outputs": [],
   "source": []
  }
 ],
 "metadata": {
  "colab": {
   "provenance": []
  },
  "kernelspec": {
   "display_name": "Python 3 (ipykernel)",
   "language": "python",
   "name": "python3"
  },
  "language_info": {
   "codemirror_mode": {
    "name": "ipython",
    "version": 3
   },
   "file_extension": ".py",
   "mimetype": "text/x-python",
   "name": "python",
   "nbconvert_exporter": "python",
   "pygments_lexer": "ipython3",
   "version": "3.13.5"
  }
 },
 "nbformat": 4,
 "nbformat_minor": 4
}
