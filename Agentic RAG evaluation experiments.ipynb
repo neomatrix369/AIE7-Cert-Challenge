{
 "cells": [
  {
   "cell_type": "markdown",
   "metadata": {
    "id": "3_fLDElOVoop"
   },
   "source": [
    "## Task 1:  Dependencies\n"
   ]
  },
  {
   "cell_type": "code",
   "execution_count": 1,
   "metadata": {},
   "outputs": [
    {
     "data": {
      "text/plain": [
       "True"
      ]
     },
     "execution_count": 1,
     "metadata": {},
     "output_type": "execute_result"
    }
   ],
   "source": [
    "from dotenv import load_dotenv\n",
    "\n",
    "load_dotenv(dotenv_path=\".env\")"
   ]
  },
  {
   "cell_type": "code",
   "execution_count": 2,
   "metadata": {},
   "outputs": [],
   "source": [
    "def check_if_env_var_is_set(env_var_name: str, human_readable_string: str = \"API Key\"):\n",
    "    api_key = os.getenv(env_var_name)\n",
    "  \n",
    "    if api_key:\n",
    "       print(f\"{env_var_name} is present\")\n",
    "    else:\n",
    "      print(f\"{env_var_name} is NOT present, paste key at the prompt:\")\n",
    "      os.environ[env_var_name] = getpass.getpass(f\"Please enter your {human_readable_string}: \")"
   ]
  },
  {
   "cell_type": "markdown",
   "metadata": {
    "id": "wujPjGJuoPwg"
   },
   "source": [
    "## Task 2: Environment Variables\n",
    "\n",
    "We'll want to set both our OpenAI API key and our LangSmith environment variables."
   ]
  },
  {
   "cell_type": "code",
   "execution_count": 3,
   "metadata": {
    "colab": {
     "base_uri": "https://localhost:8080/"
    },
    "id": "Jdh8CoVWHRvs",
    "outputId": "3fa78560-393c-4ee5-b871-9886bf0d70f4"
   },
   "outputs": [
    {
     "name": "stdout",
     "output_type": "stream",
     "text": [
      "OPENAI_API_KEY is present\n",
      "COHERE_API_KEY is present\n",
      "TAVILY_API_KEY is present\n"
     ]
    }
   ],
   "source": [
    "import os\n",
    "import getpass\n",
    "\n",
    "check_if_env_var_is_set(\"OPENAI_API_KEY\", \"OpenAI API key\")\n",
    "check_if_env_var_is_set(\"COHERE_API_KEY\", \"Cohere API key\")\n",
    "check_if_env_var_is_set(\"TAVILY_API_KEY\", \"TAVILY API key\")"
   ]
  },
  {
   "cell_type": "code",
   "execution_count": 4,
   "metadata": {
    "colab": {
     "base_uri": "https://localhost:8080/"
    },
    "id": "Nv0glIDyHmRt",
    "outputId": "b69df90a-b4e1-4ddb-9de0-882d98b68ab2"
   },
   "outputs": [
    {
     "name": "stdout",
     "output_type": "stream",
     "text": [
      "LANGCHAIN_API_KEY is present\n"
     ]
    }
   ],
   "source": [
    "from uuid import uuid4\n",
    "\n",
    "os.environ[\"LANGCHAIN_TRACING_V2\"] = \"true\"\n",
    "os.environ[\"LANGCHAIN_PROJECT\"] = f\"AIE7 - Certification Challenge\"\n",
    "check_if_env_var_is_set(\"LANGCHAIN_API_KEY\", \"LangSmith API Key\")"
   ]
  },
  {
   "cell_type": "code",
   "execution_count": 170,
   "metadata": {},
   "outputs": [
    {
     "ename": "TypeError",
     "evalue": "TextSplitter.__init__() got an unexpected keyword argument 'overlap'",
     "output_type": "error",
     "traceback": [
      "\u001b[31m---------------------------------------------------------------------------\u001b[39m",
      "\u001b[31mTypeError\u001b[39m                                 Traceback (most recent call last)",
      "\u001b[36mCell\u001b[39m\u001b[36m \u001b[39m\u001b[32mIn[170]\u001b[39m\u001b[32m, line 3\u001b[39m\n\u001b[32m      1\u001b[39m \u001b[38;5;28;01mimport\u001b[39;00m\u001b[38;5;250m \u001b[39m\u001b[34;01mimportlib\u001b[39;00m\n\u001b[32m      2\u001b[39m \u001b[38;5;28;01mimport\u001b[39;00m\u001b[38;5;250m \u001b[39m\u001b[34;01mgraph_rag_functions\u001b[39;00m\n\u001b[32m----> \u001b[39m\u001b[32m3\u001b[39m \u001b[43mimportlib\u001b[49m\u001b[43m.\u001b[49m\u001b[43mreload\u001b[49m\u001b[43m(\u001b[49m\u001b[43mgraph_rag_functions\u001b[49m\u001b[43m)\u001b[49m\n\u001b[32m      4\u001b[39m \u001b[38;5;28;01mfrom\u001b[39;00m\u001b[38;5;250m \u001b[39m\u001b[34;01mgraph_rag_functions\u001b[39;00m\u001b[38;5;250m \u001b[39m\u001b[38;5;28;01mimport\u001b[39;00m naive_graph, contextual_compression_graph, multi_query_graph, parent_document_graph\n\u001b[32m      6\u001b[39m \u001b[38;5;28;01mfrom\u001b[39;00m\u001b[38;5;250m \u001b[39m\u001b[34;01mlangchain_core\u001b[39;00m\u001b[34;01m.\u001b[39;00m\u001b[34;01mtools\u001b[39;00m\u001b[38;5;250m \u001b[39m\u001b[38;5;28;01mimport\u001b[39;00m tool\n",
      "\u001b[36mFile \u001b[39m\u001b[32m~/.pyenv/versions/3.13.5/lib/python3.13/importlib/__init__.py:129\u001b[39m, in \u001b[36mreload\u001b[39m\u001b[34m(module)\u001b[39m\n\u001b[32m    127\u001b[39m \u001b[38;5;28;01mif\u001b[39;00m spec \u001b[38;5;129;01mis\u001b[39;00m \u001b[38;5;28;01mNone\u001b[39;00m:\n\u001b[32m    128\u001b[39m     \u001b[38;5;28;01mraise\u001b[39;00m \u001b[38;5;167;01mModuleNotFoundError\u001b[39;00m(\u001b[33mf\u001b[39m\u001b[33m\"\u001b[39m\u001b[33mspec not found for the module \u001b[39m\u001b[38;5;132;01m{\u001b[39;00mname\u001b[38;5;132;01m!r}\u001b[39;00m\u001b[33m\"\u001b[39m, name=name)\n\u001b[32m--> \u001b[39m\u001b[32m129\u001b[39m \u001b[43m_bootstrap\u001b[49m\u001b[43m.\u001b[49m\u001b[43m_exec\u001b[49m\u001b[43m(\u001b[49m\u001b[43mspec\u001b[49m\u001b[43m,\u001b[49m\u001b[43m \u001b[49m\u001b[43mmodule\u001b[49m\u001b[43m)\u001b[49m\n\u001b[32m    130\u001b[39m \u001b[38;5;66;03m# The module may have replaced itself in sys.modules!\u001b[39;00m\n\u001b[32m    131\u001b[39m \u001b[38;5;28;01mreturn\u001b[39;00m sys.modules[name]\n",
      "\u001b[36mFile \u001b[39m\u001b[32m<frozen importlib._bootstrap>:866\u001b[39m, in \u001b[36m_exec\u001b[39m\u001b[34m(spec, module)\u001b[39m\n",
      "\u001b[36mFile \u001b[39m\u001b[32m<frozen importlib._bootstrap_external>:1026\u001b[39m, in \u001b[36mexec_module\u001b[39m\u001b[34m(self, module)\u001b[39m\n",
      "\u001b[36mFile \u001b[39m\u001b[32m<frozen importlib._bootstrap>:488\u001b[39m, in \u001b[36m_call_with_frames_removed\u001b[39m\u001b[34m(f, *args, **kwds)\u001b[39m\n",
      "\u001b[36mFile \u001b[39m\u001b[32m/home/AIE7-Cert-Challenge/graph_rag_functions.py:175\u001b[39m\n\u001b[32m    172\u001b[39m \u001b[38;5;28;01mfrom\u001b[39;00m\u001b[38;5;250m \u001b[39m\u001b[34;01mlangchain\u001b[39;00m\u001b[34;01m.\u001b[39;00m\u001b[34;01mstorage\u001b[39;00m\u001b[38;5;250m \u001b[39m\u001b[38;5;28;01mimport\u001b[39;00m InMemoryStore\n\u001b[32m    174\u001b[39m parent_docs = student_loan_docs_dataset.copy()\n\u001b[32m--> \u001b[39m\u001b[32m175\u001b[39m child_splitter = \u001b[43mRecursiveCharacterTextSplitter\u001b[49m\u001b[43m(\u001b[49m\u001b[43mchunk_size\u001b[49m\u001b[43m=\u001b[49m\u001b[32;43m512\u001b[39;49m\u001b[43m,\u001b[49m\u001b[43m \u001b[49m\u001b[43moverlap\u001b[49m\u001b[43m=\u001b[49m\u001b[32;43m50\u001b[39;49m\u001b[43m)\u001b[49m\n\u001b[32m    177\u001b[39m vectorstore.client.create_collection(\n\u001b[32m    178\u001b[39m     collection_name=\u001b[33m\"\u001b[39m\u001b[33mfull_documents\u001b[39m\u001b[33m\"\u001b[39m,\n\u001b[32m    179\u001b[39m     vectors_config=models.VectorParams(size=\u001b[32m1536\u001b[39m, distance=models.Distance.COSINE),\n\u001b[32m    180\u001b[39m )\n\u001b[32m    182\u001b[39m parent_document_vectorstore = Qdrant(\n\u001b[32m    183\u001b[39m     client=vectorstore.client,  \u001b[38;5;66;03m# ✅ Reuse existing client\u001b[39;00m\n\u001b[32m    184\u001b[39m     embeddings=small_embeddings,  \u001b[38;5;66;03m# ✅ Reuse embeddings\u001b[39;00m\n\u001b[32m    185\u001b[39m     collection_name=\u001b[33m\"\u001b[39m\u001b[33mfull_documents\u001b[39m\u001b[33m\"\u001b[39m,\n\u001b[32m    186\u001b[39m )\n",
      "\u001b[36mFile \u001b[39m\u001b[32m/home/AIE7-Cert-Challenge/.venv/lib/python3.13/site-packages/langchain_text_splitters/character.py:94\u001b[39m, in \u001b[36mRecursiveCharacterTextSplitter.__init__\u001b[39m\u001b[34m(self, separators, keep_separator, is_separator_regex, **kwargs)\u001b[39m\n\u001b[32m     86\u001b[39m \u001b[38;5;28;01mdef\u001b[39;00m\u001b[38;5;250m \u001b[39m\u001b[34m__init__\u001b[39m(\n\u001b[32m     87\u001b[39m     \u001b[38;5;28mself\u001b[39m,\n\u001b[32m     88\u001b[39m     separators: Optional[\u001b[38;5;28mlist\u001b[39m[\u001b[38;5;28mstr\u001b[39m]] = \u001b[38;5;28;01mNone\u001b[39;00m,\n\u001b[32m   (...)\u001b[39m\u001b[32m     91\u001b[39m     **kwargs: Any,\n\u001b[32m     92\u001b[39m ) -> \u001b[38;5;28;01mNone\u001b[39;00m:\n\u001b[32m     93\u001b[39m \u001b[38;5;250m    \u001b[39m\u001b[33;03m\"\"\"Create a new TextSplitter.\"\"\"\u001b[39;00m\n\u001b[32m---> \u001b[39m\u001b[32m94\u001b[39m     \u001b[38;5;28;43msuper\u001b[39;49m\u001b[43m(\u001b[49m\u001b[43m)\u001b[49m\u001b[43m.\u001b[49m\u001b[34;43m__init__\u001b[39;49m\u001b[43m(\u001b[49m\u001b[43mkeep_separator\u001b[49m\u001b[43m=\u001b[49m\u001b[43mkeep_separator\u001b[49m\u001b[43m,\u001b[49m\u001b[43m \u001b[49m\u001b[43m*\u001b[49m\u001b[43m*\u001b[49m\u001b[43mkwargs\u001b[49m\u001b[43m)\u001b[49m\n\u001b[32m     95\u001b[39m     \u001b[38;5;28mself\u001b[39m._separators = separators \u001b[38;5;129;01mor\u001b[39;00m [\u001b[33m\"\u001b[39m\u001b[38;5;130;01m\\n\u001b[39;00m\u001b[38;5;130;01m\\n\u001b[39;00m\u001b[33m\"\u001b[39m, \u001b[33m\"\u001b[39m\u001b[38;5;130;01m\\n\u001b[39;00m\u001b[33m\"\u001b[39m, \u001b[33m\"\u001b[39m\u001b[33m \u001b[39m\u001b[33m\"\u001b[39m, \u001b[33m\"\u001b[39m\u001b[33m\"\u001b[39m]\n\u001b[32m     96\u001b[39m     \u001b[38;5;28mself\u001b[39m._is_separator_regex = is_separator_regex\n",
      "\u001b[31mTypeError\u001b[39m: TextSplitter.__init__() got an unexpected keyword argument 'overlap'"
     ]
    }
   ],
   "source": [
    "import importlib\n",
    "import graph_rag_functions\n",
    "importlib.reload(graph_rag_functions)\n",
    "from graph_rag_functions import naive_graph, contextual_compression_graph, multi_query_graph, parent_document_graph\n",
    "\n",
    "from langchain_core.tools import tool"
   ]
  },
  {
   "cell_type": "code",
   "execution_count": 7,
   "metadata": {},
   "outputs": [],
   "source": [
    "@tool\n",
    "def ask_naive_llm_tool(question: str):\n",
    "    \"\"\"Ask this model questions about Student loans, so that we can retrieve documents from the vector store to use as context for the queries\"\"\"\n",
    "    response = naive_graph.invoke({\"question\": question})\n",
    "    return {\n",
    "        \"messages\": [HumanMessage(content=response[\"response\"])],\n",
    "        \"context\": response[\"context\"]\n",
    "    }"
   ]
  },
  {
   "cell_type": "code",
   "execution_count": 101,
   "metadata": {
    "id": "91flJWtZLUrl"
   },
   "outputs": [],
   "source": [
    "tavily_tool = TavilySearchResults(max_results=5)\n",
    "\n",
    "class AgentState(TypedDict):\n",
    "    messages: Annotated[list, add_messages]\n",
    "\n",
    "model = ChatOpenAI(\n",
    "    model=\"gpt-4.1-nano\",\n",
    "    temperature=0,  # Lower temperature for more consistent outputs\n",
    "    request_timeout=120,  # Longer timeout for complex operations\n",
    ")\n",
    "\n",
    "def call_model(state):\n",
    "    messages = state[\"messages\"]\n",
    "    response = model.invoke(messages)\n",
    "    return {\"messages\": [response]}\n",
    "\n",
    "def should_continue(state):\n",
    "    last_message = state[\"messages\"][-1]\n",
    "\n",
    "    if last_message.tool_calls:\n",
    "        return \"action\"\n",
    "\n",
    "    return END\n",
    "\n",
    "tool_belt = [\n",
    "    ask_naive_llm_tool,\n",
    "    tavily_tool,\n",
    "    Tool(\n",
    "        name=\"StudentAid_Federal_Search\",\n",
    "        description=\"Search ONLY StudentAid.gov for official federal information: FAFSA applications, federal loan forgiveness programs, federal repayment plans, eligibility requirements\",\n",
    "        func=tavily_studentaid_search,\n",
    "    ),\n",
    "    Tool(\n",
    "        name=\"Mohela_Servicer_Search\",\n",
    "        description=\"Search ONLY Mohela loan servicer for account-specific help: making payments, login issues, servicer-specific repayment options, customer service contacts\",\n",
    "        func=tavily_mohela_search,\n",
    "    ),\n",
    "    Tool(\n",
    "        name=\"Student_Loan_Comparison_Search\",\n",
    "        description=\"Compare information across BOTH federal sources and Mohela when user needs comprehensive view or comparison of student loan options\",\n",
    "        func=tavily_student_loan_search,\n",
    "    ),\n",
    "]\n",
    "\n",
    "model = model.bind_tools(tool_belt)\n",
    "tool_node = ToolNode(tool_belt)\n",
    "\n",
    "uncompiled_graph = StateGraph(AgentState)\n",
    "\n",
    "uncompiled_graph.add_node(\"agent\", call_model)\n",
    "uncompiled_graph.add_node(\"action\", tool_node)\n",
    "\n",
    "uncompiled_graph.set_entry_point(\"agent\")\n",
    "uncompiled_graph.add_conditional_edges(\"agent\", should_continue)\n",
    "\n",
    "uncompiled_graph.add_edge(\"action\", \"agent\")\n",
    "\n",
    "naive_agent_graph = uncompiled_graph.compile()"
   ]
  },
  {
   "cell_type": "code",
   "execution_count": 107,
   "metadata": {},
   "outputs": [],
   "source": [
    "import tool_calls_parser_for_eval\n",
    "importlib.reload(tool_calls_parser_for_eval)\n",
    "from tool_calls_parser_for_eval import parse_logs, print_formatted_results, extract_contexts_for_eval, parse_langchain_messages"
   ]
  },
  {
   "cell_type": "code",
   "execution_count": 102,
   "metadata": {
    "colab": {
     "base_uri": "https://localhost:8080/"
    },
    "id": "Qn4n37PQRPII",
    "outputId": "5eeedfae-089d-496e-e71f-071939fa5832",
    "scrolled": true
   },
   "outputs": [
    {
     "name": "stdout",
     "output_type": "stream",
     "text": [
      "Receiving update from node: 'agent'\n",
      "\n",
      "\n",
      "[AIMessage(content='', additional_kwargs={'tool_calls': [{'id': 'call_zLq7722PMjYqQBtai84xwbon', 'function': {'arguments': '{\"__arg1\":\"Aidvantage borrower complaint\"}', 'name': 'StudentAid_Federal_Search'}, 'type': 'function'}], 'refusal': None}, response_metadata={'token_usage': {'completion_tokens': 23, 'prompt_tokens': 285, 'total_tokens': 308, 'completion_tokens_details': {'accepted_prediction_tokens': 0, 'audio_tokens': 0, 'reasoning_tokens': 0, 'rejected_prediction_tokens': 0}, 'prompt_tokens_details': {'audio_tokens': 0, 'cached_tokens': 0}}, 'model_name': 'gpt-4.1-nano-2025-04-14', 'system_fingerprint': 'fp_38343a2f8f', 'id': 'chatcmpl-BzvcgGVSP3lcjySeKLCXz7b3Jr94S', 'service_tier': 'default', 'finish_reason': 'tool_calls', 'logprobs': None}, id='run--93899c1b-1d01-4b59-82a9-d741bbebbde7-0', tool_calls=[{'name': 'StudentAid_Federal_Search', 'args': {'__arg1': 'Aidvantage borrower complaint'}, 'id': 'call_zLq7722PMjYqQBtai84xwbon', 'type': 'tool_call'}], usage_metadata={'input_tokens': 285, 'output_tokens': 23, 'total_tokens': 308, 'input_token_details': {'audio': 0, 'cache_read': 0}, 'output_token_details': {'audio': 0, 'reasoning': 0}})]\n",
      "\n",
      "\n",
      "\n",
      "Receiving update from node: 'action'\n",
      "Tool Used: StudentAid_Federal_Search\n",
      "=== PARSING RESULTS ===\n",
      "Tool calls: 0\n",
      "Tool results: 1\n",
      "Tools used: ['StudentAid_Federal_Search']\n",
      "\n",
      "=== TOOL CALLS ===\n",
      "\n",
      "=== TOOL RESULTS ===\n",
      "1. StudentAid_Federal_Search -> StudentAid.gov Search Results for: Aidvantage borrower complaint  Summary: Aidvantage handles federa...\n",
      "\n",
      "=== CONTEXT EXTRACTION DEMO ===\n",
      "Extracted 3 contexts for evaluation:\n",
      "1. StudentAid.gov Search Results for: Aidvantage borrower complaint...\n",
      "2. Summary: Aidvantage handles federal student loans and offers a complaint submission option. Complaints can be filed through the Help Center on their w...\n",
      "3. Official Fe......\n",
      "\n",
      "\n",
      "[ToolMessage(content=\"StudentAid.gov Search Results for: Aidvantage borrower complaint\\n\\nSummary: Aidvantage handles federal student loans and offers a complaint submission option. Complaints can be filed through the Help Center on their website. Aidvantage is a private company managing federal loan services.\\n\\nOfficial Federal Information:\\n1. Aidvantage\\n   Aidvantage is an official student loan servicer of Federal Student Aid, assisting borrowers with their pre-defaulted loans. While your loan is serviced by Aidvantage, it will not be subject to forced ...\\n   URL: https://aidvantage.studentaid.gov/\\n\\n2. Contact us - Aidvantage - Federal Student Aid\\n   Federal Student Aid (FSA) is your federal loan provider. FSA uses servicers (private companies) like Aidvantage to manage billing, questions, and payments, and to help you enroll in the best repayment...\\n   URL: https://aidvantage.studentaid.gov/contact-us\\n\\n3. So Your Loan Was Transferred—What's Next?\\n   | Loan Servicer | Website |\\n| --- | --- |\\n| Edfinancial | edfinancial.StudentAid.gov |\\n| MOHELA | mohela.StudentAid.gov |\\n| Aidvantage | aidvantage.StudentAid.gov |\\n| Nelnet | nelnet.StudentAid.gov |\\n...\\n   URL: https://studentaid.gov/articles/your-loan-was-transferred-whats-next/\\n\\n\", name='StudentAid_Federal_Search', id='bc33dcd6-e6e5-4479-b666-36ddd1ec82ef', tool_call_id='call_zLq7722PMjYqQBtai84xwbon')]\n",
      "\n",
      "\n",
      "\n",
      "Receiving update from node: 'agent'\n",
      "\n",
      "\n",
      "[AIMessage(content=\"The issue with Aidvantage in the borrower's complaint is not explicitly detailed in the search results. However, Aidvantage is identified as an official student loan servicer that manages federal student loans. Complaints can be submitted through their Help Center, but specific issues raised by borrowers are not provided in the available information. If you have more details about the complaint, I can help further.\", additional_kwargs={'refusal': None}, response_metadata={'token_usage': {'completion_tokens': 79, 'prompt_tokens': 608, 'total_tokens': 687, 'completion_tokens_details': {'accepted_prediction_tokens': 0, 'audio_tokens': 0, 'reasoning_tokens': 0, 'rejected_prediction_tokens': 0}, 'prompt_tokens_details': {'audio_tokens': 0, 'cached_tokens': 0}}, 'model_name': 'gpt-4.1-nano-2025-04-14', 'system_fingerprint': 'fp_38343a2f8f', 'id': 'chatcmpl-BzvcirYJ2rI6bKE9z4HDTbHmwm5sI', 'service_tier': 'default', 'finish_reason': 'stop', 'logprobs': None}, id='run--048a6a1b-4a2c-40b7-8c5d-7096eb20f01f-0', usage_metadata={'input_tokens': 608, 'output_tokens': 79, 'total_tokens': 687, 'input_token_details': {'audio': 0, 'cache_read': 0}, 'output_token_details': {'audio': 0, 'reasoning': 0}})]\n",
      "\n",
      "\n",
      "\n"
     ]
    }
   ],
   "source": [
    "from langchain_core.messages import HumanMessage\n",
    "\n",
    "# inputs = {\"messages\" : [HumanMessage(content=\"Who is the current captain of the Winnipeg Jets?\")]}\n",
    "# inputs = {\"messages\" : [HumanMessage(content=\"What concerns does the borrower have regarding Nelnet's communication about their student loan issuer?\")]}\n",
    "inputs = {\"messages\" : [HumanMessage(content=\"What is the issue with Aidvantage in the borrower's complaint?\")]}\n",
    "\n",
    "async for chunk in naive_agent_graph.astream(inputs, stream_mode=\"updates\"):\n",
    "    for node, values in chunk.items():\n",
    "        print(f\"Receiving update from node: '{node}'\")\n",
    "        if node == \"action\":\n",
    "          print(f\"Tool Used: {values['messages'][0].name}\")\n",
    "          print_formatted_results(parse_logs(str(values[\"messages\"])))\n",
    "        print(\"\\n\")\n",
    "        print(values[\"messages\"])\n",
    "        print(\"\\n\\n\")"
   ]
  },
  {
   "cell_type": "code",
   "execution_count": 104,
   "metadata": {},
   "outputs": [
    {
     "name": "stdout",
     "output_type": "stream",
     "text": [
      "✅ Extracted 5 contexts for evaluation\n",
      "=== PARSING RESULTS ===\n",
      "Tool calls: 1\n",
      "Tool results: 3\n",
      "Tools used: [None, 'StudentAid_Federal_Search']\n",
      "\n",
      "=== TOOL CALLS ===\n",
      "1. StudentAid_Federal_Search -> {'__arg1': 'Aidvantage borrower complaint'}\n",
      "\n",
      "=== TOOL RESULTS ===\n",
      "1. None -> What is the issue with Aidvantage in the borrower's complaint?...\n",
      "2. StudentAid_Federal_Search -> StudentAid.gov Search Results for: Aidvantage borrower complaint  Summary: Aidvantage handles federa...\n",
      "3. None -> The issue with Aidvantage in the borrower's complaint is not explicitly detailed in the search resul...\n",
      "\n",
      "=== CONTEXT EXTRACTION DEMO ===\n",
      "Extracted 5 contexts for evaluation:\n",
      "1. StudentAid.gov Search Results for: Aidvantage borrower complaint...\n",
      "2. Summary: Aidvantage handles federal student loans and offers a complaint submission option. Complaints can be filed through the Help Center on their w...\n",
      "3. Official Federal Information:\n",
      "1. Aidvantage\n",
      "   Aidvantage is an official student loan servicer of Federal Student Aid, assisting borrowers with their ...\n",
      "\n",
      "🎯 EVALUATION SAMPLE:\n",
      "Query: What is the issue with Aidvantage in the borrower's complaint?\n",
      "Response: The issue with Aidvantage in the borrower's complaint is not explicitly detailed in the search results. However, Aidvantage is identified as an official student loan servicer that manages federal stud...\n",
      "Contexts: 5 extracted\n",
      "Tools: [None, 'StudentAid_Federal_Search']\n"
     ]
    }
   ],
   "source": [
    "# inputs = {\"messages\" : [HumanMessage(content='')]}\n",
    "response = naive_agent_graph.invoke(inputs)\n",
    "\n",
    "evaluation_contexts = extract_contexts_for_eval(response[\"messages\"])\n",
    "print(f\"✅ Extracted {len(evaluation_contexts)} contexts for evaluation\")\n",
    "parsed_data = parse_langchain_messages(response[\"messages\"])\n",
    "print_formatted_results(parsed_data)\n",
    "\n",
    "eval_sample = {\n",
    "    \"user_input\": inputs[\"messages\"][0].content,\n",
    "    \"response\": response[\"messages\"][-1].content,  # Final AI response\n",
    "    \"retrieved_contexts\": evaluation_contexts,\n",
    "    \"tools_used\": parsed_data['summary']['tools'],\n",
    "    \"num_contexts\": len(evaluation_contexts)\n",
    "}\n",
    "\n",
    "print(f\"\\n🎯 EVALUATION SAMPLE:\")\n",
    "print(f\"Query: {eval_sample['user_input']}\")\n",
    "print(f\"Response: {eval_sample['response'][:200]}...\")\n",
    "print(f\"Contexts: {eval_sample['num_contexts']} extracted\")\n",
    "print(f\"Tools: {eval_sample['tools_used']}\")"
   ]
  },
  {
   "cell_type": "markdown",
   "metadata": {},
   "source": [
    "### Generate Golden master"
   ]
  },
  {
   "cell_type": "code",
   "execution_count": 51,
   "metadata": {},
   "outputs": [
    {
     "name": "stdout",
     "output_type": "stream",
     "text": [
      "OPENAI_API_KEY is present\n",
      "COHERE_API_KEY is present\n"
     ]
    }
   ],
   "source": [
    "import importlib\n",
    "import core_functions\n",
    "importlib.reload(core_functions)\n",
    "\n",
    "from core_functions import load_and_prepare_pdf_loan_docs, generate_golden_master"
   ]
  },
  {
   "cell_type": "code",
   "execution_count": 52,
   "metadata": {
    "scrolled": true
   },
   "outputs": [
    {
     "name": "stdout",
     "output_type": "stream",
     "text": [
      "CPU times: user 1.01 s, sys: 0 ns, total: 1.01 s\n",
      "Wall time: 1.03 s\n"
     ]
    }
   ],
   "source": [
    "%%time\n",
    "student_loan_docs_dataset = load_and_prepare_pdf_loan_docs()"
   ]
  },
  {
   "cell_type": "code",
   "execution_count": 53,
   "metadata": {},
   "outputs": [
    {
     "name": "stdout",
     "output_type": "stream",
     "text": [
      "CPU times: user 195 ms, sys: 10.1 ms, total: 206 ms\n",
      "Wall time: 226 ms\n"
     ]
    }
   ],
   "source": [
    "%%time\n",
    "golden_master_dataset = generate_golden_master(student_loan_docs_dataset)"
   ]
  },
  {
   "cell_type": "code",
   "execution_count": 54,
   "metadata": {},
   "outputs": [
    {
     "data": {
      "text/html": [
       "<div>\n",
       "<style scoped>\n",
       "    .dataframe tbody tr th:only-of-type {\n",
       "        vertical-align: middle;\n",
       "    }\n",
       "\n",
       "    .dataframe tbody tr th {\n",
       "        vertical-align: top;\n",
       "    }\n",
       "\n",
       "    .dataframe thead th {\n",
       "        text-align: right;\n",
       "    }\n",
       "</style>\n",
       "<table border=\"1\" class=\"dataframe\">\n",
       "  <thead>\n",
       "    <tr style=\"text-align: right;\">\n",
       "      <th></th>\n",
       "      <th>user_input</th>\n",
       "      <th>reference_contexts</th>\n",
       "      <th>reference</th>\n",
       "      <th>synthesizer_name</th>\n",
       "    </tr>\n",
       "  </thead>\n",
       "  <tbody>\n",
       "    <tr>\n",
       "      <th>0</th>\n",
       "      <td>How does the structure of an academic calendar...</td>\n",
       "      <td>[non-term (includes clock-hour calendars), or ...</td>\n",
       "      <td>The structure of an academic calendar—whether ...</td>\n",
       "      <td>single_hop_specifc_query_synthesizer</td>\n",
       "    </tr>\n",
       "    <tr>\n",
       "      <th>1</th>\n",
       "      <td>medicine program clinical work, it gotta be in...</td>\n",
       "      <td>[Inclusion of Clinical Work in a Standard Term...</td>\n",
       "      <td>If the clinical work in a medicine program mee...</td>\n",
       "      <td>single_hop_specifc_query_synthesizer</td>\n",
       "    </tr>\n",
       "    <tr>\n",
       "      <th>2</th>\n",
       "      <td>Wen do Title IV program disbursements need to ...</td>\n",
       "      <td>[Non-Term Characteristics A program that measu...</td>\n",
       "      <td>Title IV program disbursements, except for Fed...</td>\n",
       "      <td>single_hop_specifc_query_synthesizer</td>\n",
       "    </tr>\n",
       "    <tr>\n",
       "      <th>3</th>\n",
       "      <td>so like if a student gettin a TEACH Grant in a...</td>\n",
       "      <td>[both the credit or clock hours and the weeks ...</td>\n",
       "      <td>if a student gettin a TEACH Grant in a clock-h...</td>\n",
       "      <td>single_hop_specifc_query_synthesizer</td>\n",
       "    </tr>\n",
       "    <tr>\n",
       "      <th>4</th>\n",
       "      <td>How does the disbursement timing for federal s...</td>\n",
       "      <td>[&lt;1-hop&gt;\\n\\nboth the credit or clock hours and...</td>\n",
       "      <td>In clock-hour or non-term credit-hour programs...</td>\n",
       "      <td>multi_hop_abstract_query_synthesizer</td>\n",
       "    </tr>\n",
       "    <tr>\n",
       "      <th>5</th>\n",
       "      <td>How do the disbursement timing requirements fo...</td>\n",
       "      <td>[&lt;1-hop&gt;\\n\\nboth the credit or clock hours and...</td>\n",
       "      <td>In clock-hour or non-term credit-hour programs...</td>\n",
       "      <td>multi_hop_abstract_query_synthesizer</td>\n",
       "    </tr>\n",
       "    <tr>\n",
       "      <th>6</th>\n",
       "      <td>If a practicum or clinical experience is requi...</td>\n",
       "      <td>[&lt;1-hop&gt;\\n\\nInclusion of Clinical Work in a St...</td>\n",
       "      <td>A practicum or clinical experience required fo...</td>\n",
       "      <td>multi_hop_abstract_query_synthesizer</td>\n",
       "    </tr>\n",
       "    <tr>\n",
       "      <th>7</th>\n",
       "      <td>How do the disbursement timing requirements fo...</td>\n",
       "      <td>[&lt;1-hop&gt;\\n\\nboth the credit or clock hours and...</td>\n",
       "      <td>In clock-hour or non-term credit-hour programs...</td>\n",
       "      <td>multi_hop_abstract_query_synthesizer</td>\n",
       "    </tr>\n",
       "    <tr>\n",
       "      <th>8</th>\n",
       "      <td>Acccording to Volume 8, Chapter 3, how does th...</td>\n",
       "      <td>[&lt;1-hop&gt;\\n\\nInclusion of Clinical Work in a St...</td>\n",
       "      <td>Volume 8, Chapter 3 explains that clinical wor...</td>\n",
       "      <td>multi_hop_specific_query_synthesizer</td>\n",
       "    </tr>\n",
       "    <tr>\n",
       "      <th>9</th>\n",
       "      <td>how do appendix a and appendix b help schools ...</td>\n",
       "      <td>[&lt;1-hop&gt;\\n\\nboth the credit or clock hours and...</td>\n",
       "      <td>appendix a gives examples that illustrate the ...</td>\n",
       "      <td>multi_hop_specific_query_synthesizer</td>\n",
       "    </tr>\n",
       "    <tr>\n",
       "      <th>10</th>\n",
       "      <td>How does the structure of non-term and subscri...</td>\n",
       "      <td>[&lt;1-hop&gt;\\n\\nboth the credit or clock hours and...</td>\n",
       "      <td>The structure of non-term and subscription-bas...</td>\n",
       "      <td>multi_hop_specific_query_synthesizer</td>\n",
       "    </tr>\n",
       "    <tr>\n",
       "      <th>11</th>\n",
       "      <td>According to Volume 8, Chapter 6 and Volume 8,...</td>\n",
       "      <td>[&lt;1-hop&gt;\\n\\nDisbursement Timing in Subscriptio...</td>\n",
       "      <td>In subscription-based programs, as described i...</td>\n",
       "      <td>multi_hop_specific_query_synthesizer</td>\n",
       "    </tr>\n",
       "  </tbody>\n",
       "</table>\n",
       "</div>"
      ],
      "text/plain": [
       "                                           user_input  \\\n",
       "0   How does the structure of an academic calendar...   \n",
       "1   medicine program clinical work, it gotta be in...   \n",
       "2   Wen do Title IV program disbursements need to ...   \n",
       "3   so like if a student gettin a TEACH Grant in a...   \n",
       "4   How does the disbursement timing for federal s...   \n",
       "5   How do the disbursement timing requirements fo...   \n",
       "6   If a practicum or clinical experience is requi...   \n",
       "7   How do the disbursement timing requirements fo...   \n",
       "8   Acccording to Volume 8, Chapter 3, how does th...   \n",
       "9   how do appendix a and appendix b help schools ...   \n",
       "10  How does the structure of non-term and subscri...   \n",
       "11  According to Volume 8, Chapter 6 and Volume 8,...   \n",
       "\n",
       "                                   reference_contexts  \\\n",
       "0   [non-term (includes clock-hour calendars), or ...   \n",
       "1   [Inclusion of Clinical Work in a Standard Term...   \n",
       "2   [Non-Term Characteristics A program that measu...   \n",
       "3   [both the credit or clock hours and the weeks ...   \n",
       "4   [<1-hop>\\n\\nboth the credit or clock hours and...   \n",
       "5   [<1-hop>\\n\\nboth the credit or clock hours and...   \n",
       "6   [<1-hop>\\n\\nInclusion of Clinical Work in a St...   \n",
       "7   [<1-hop>\\n\\nboth the credit or clock hours and...   \n",
       "8   [<1-hop>\\n\\nInclusion of Clinical Work in a St...   \n",
       "9   [<1-hop>\\n\\nboth the credit or clock hours and...   \n",
       "10  [<1-hop>\\n\\nboth the credit or clock hours and...   \n",
       "11  [<1-hop>\\n\\nDisbursement Timing in Subscriptio...   \n",
       "\n",
       "                                            reference  \\\n",
       "0   The structure of an academic calendar—whether ...   \n",
       "1   If the clinical work in a medicine program mee...   \n",
       "2   Title IV program disbursements, except for Fed...   \n",
       "3   if a student gettin a TEACH Grant in a clock-h...   \n",
       "4   In clock-hour or non-term credit-hour programs...   \n",
       "5   In clock-hour or non-term credit-hour programs...   \n",
       "6   A practicum or clinical experience required fo...   \n",
       "7   In clock-hour or non-term credit-hour programs...   \n",
       "8   Volume 8, Chapter 3 explains that clinical wor...   \n",
       "9   appendix a gives examples that illustrate the ...   \n",
       "10  The structure of non-term and subscription-bas...   \n",
       "11  In subscription-based programs, as described i...   \n",
       "\n",
       "                        synthesizer_name  \n",
       "0   single_hop_specifc_query_synthesizer  \n",
       "1   single_hop_specifc_query_synthesizer  \n",
       "2   single_hop_specifc_query_synthesizer  \n",
       "3   single_hop_specifc_query_synthesizer  \n",
       "4   multi_hop_abstract_query_synthesizer  \n",
       "5   multi_hop_abstract_query_synthesizer  \n",
       "6   multi_hop_abstract_query_synthesizer  \n",
       "7   multi_hop_abstract_query_synthesizer  \n",
       "8   multi_hop_specific_query_synthesizer  \n",
       "9   multi_hop_specific_query_synthesizer  \n",
       "10  multi_hop_specific_query_synthesizer  \n",
       "11  multi_hop_specific_query_synthesizer  "
      ]
     },
     "execution_count": 54,
     "metadata": {},
     "output_type": "execute_result"
    }
   ],
   "source": [
    "golden_master_dataset.to_pandas()"
   ]
  },
  {
   "cell_type": "code",
   "execution_count": 55,
   "metadata": {},
   "outputs": [],
   "source": [
    "from ragas import EvaluationDataset\n",
    "\n",
    "from ragas import evaluate\n",
    "from ragas.llms import LangchainLLMWrapper\n",
    "from ragas.cost import get_token_usage_for_openai\n",
    "\n",
    "from ragas.metrics import LLMContextRecall, Faithfulness, FactualCorrectness, ResponseRelevancy, ContextEntityRecall, NoiseSensitivity\n",
    "from ragas import evaluate, RunConfig\n",
    "from ragas_metrics import extract_ragas_metrics"
   ]
  },
  {
   "cell_type": "markdown",
   "metadata": {},
   "source": [
    "### Synthetic Data Generation using RAGAS using the Golden master (Naive Retriever)"
   ]
  },
  {
   "cell_type": "code",
   "execution_count": 108,
   "metadata": {
    "scrolled": true
   },
   "outputs": [
    {
     "data": {
      "application/vnd.jupyter.widget-view+json": {
       "model_id": "dd5fad183b3d4344b808af7dbb1d06c6",
       "version_major": 2,
       "version_minor": 0
      },
      "text/plain": [
       "  0%|          | 0/12 [00:00<?, ?it/s]"
      ]
     },
     "metadata": {},
     "output_type": "display_data"
    },
    {
     "name": "stdout",
     "output_type": "stream",
     "text": [
      "CPU times: user 3.68 s, sys: 330 ms, total: 4 s\n",
      "Wall time: 3min 19s\n"
     ]
    }
   ],
   "source": [
    "%%time\n",
    "from tqdm.notebook import tqdm\n",
    "for test_row in tqdm(golden_master_dataset):\n",
    "    inputs = {\"messages\" : [HumanMessage(content=test_row.eval_sample.user_input)]}\n",
    "    response = naive_agent_graph.invoke(inputs)\n",
    "\n",
    "    evaluation_contexts = extract_contexts_for_eval(response[\"messages\"])\n",
    "    eval_sample = {\n",
    "        \"user_input\": inputs[\"messages\"][0].content,\n",
    "        \"response\": response[\"messages\"][-1].content,  # Final AI response\n",
    "        \"retrieved_contexts\": evaluation_contexts,\n",
    "        \"tools_used\": parsed_data['summary']['tools'],\n",
    "        \"num_contexts\": len(evaluation_contexts)\n",
    "    }\n",
    "    test_row.eval_sample.response = eval_sample[\"response\"]\n",
    "    test_row.eval_sample.retrieved_contexts = eval_sample[\"retrieved_contexts\"]"
   ]
  },
  {
   "cell_type": "code",
   "execution_count": 109,
   "metadata": {
    "scrolled": true
   },
   "outputs": [
    {
     "data": {
      "text/html": [
       "<div>\n",
       "<style scoped>\n",
       "    .dataframe tbody tr th:only-of-type {\n",
       "        vertical-align: middle;\n",
       "    }\n",
       "\n",
       "    .dataframe tbody tr th {\n",
       "        vertical-align: top;\n",
       "    }\n",
       "\n",
       "    .dataframe thead th {\n",
       "        text-align: right;\n",
       "    }\n",
       "</style>\n",
       "<table border=\"1\" class=\"dataframe\">\n",
       "  <thead>\n",
       "    <tr style=\"text-align: right;\">\n",
       "      <th></th>\n",
       "      <th>user_input</th>\n",
       "      <th>retrieved_contexts</th>\n",
       "      <th>reference_contexts</th>\n",
       "      <th>response</th>\n",
       "      <th>reference</th>\n",
       "      <th>synthesizer_name</th>\n",
       "    </tr>\n",
       "  </thead>\n",
       "  <tbody>\n",
       "    <tr>\n",
       "      <th>0</th>\n",
       "      <td>How does the structure of an academic calendar...</td>\n",
       "      <td>[]</td>\n",
       "      <td>[non-term (includes clock-hour calendars), or ...</td>\n",
       "      <td>The structure of an academic calendar can sign...</td>\n",
       "      <td>The structure of an academic calendar—whether ...</td>\n",
       "      <td>single_hop_specifc_query_synthesizer</td>\n",
       "    </tr>\n",
       "    <tr>\n",
       "      <th>1</th>\n",
       "      <td>medicine program clinical work, it gotta be in...</td>\n",
       "      <td>[]</td>\n",
       "      <td>[Inclusion of Clinical Work in a Standard Term...</td>\n",
       "      <td>Could you please clarify your question a bit m...</td>\n",
       "      <td>If the clinical work in a medicine program mee...</td>\n",
       "      <td>single_hop_specifc_query_synthesizer</td>\n",
       "    </tr>\n",
       "    <tr>\n",
       "      <th>2</th>\n",
       "      <td>Wen do Title IV program disbursements need to ...</td>\n",
       "      <td>[StudentAid.gov Search Results for: disburseme...</td>\n",
       "      <td>[Non-Term Characteristics A program that measu...</td>\n",
       "      <td>Title IV program disbursements for non-term pr...</td>\n",
       "      <td>Title IV program disbursements, except for Fed...</td>\n",
       "      <td>single_hop_specifc_query_synthesizer</td>\n",
       "    </tr>\n",
       "    <tr>\n",
       "      <th>3</th>\n",
       "      <td>so like if a student gettin a TEACH Grant in a...</td>\n",
       "      <td>[StudentAid.gov Search Results for: TEACH Gran...</td>\n",
       "      <td>[both the credit or clock hours and the weeks ...</td>\n",
       "      <td>The disbursement of TEACH Grant funds for cloc...</td>\n",
       "      <td>if a student gettin a TEACH Grant in a clock-h...</td>\n",
       "      <td>single_hop_specifc_query_synthesizer</td>\n",
       "    </tr>\n",
       "    <tr>\n",
       "      <th>4</th>\n",
       "      <td>How does the disbursement timing for federal s...</td>\n",
       "      <td>[StudentAid.gov Search Results for: disburseme...</td>\n",
       "      <td>[&lt;1-hop&gt;\\n\\nboth the credit or clock hours and...</td>\n",
       "      <td>The disbursement timing for federal student ai...</td>\n",
       "      <td>In clock-hour or non-term credit-hour programs...</td>\n",
       "      <td>multi_hop_abstract_query_synthesizer</td>\n",
       "    </tr>\n",
       "    <tr>\n",
       "      <th>5</th>\n",
       "      <td>How do the disbursement timing requirements fo...</td>\n",
       "      <td>[StudentAid.gov Search Results for: disburseme...</td>\n",
       "      <td>[&lt;1-hop&gt;\\n\\nboth the credit or clock hours and...</td>\n",
       "      <td>The disbursement timing requirements for feder...</td>\n",
       "      <td>In clock-hour or non-term credit-hour programs...</td>\n",
       "      <td>multi_hop_abstract_query_synthesizer</td>\n",
       "    </tr>\n",
       "    <tr>\n",
       "      <th>6</th>\n",
       "      <td>If a practicum or clinical experience is requi...</td>\n",
       "      <td>[StudentAid.gov Search Results for: practicum ...</td>\n",
       "      <td>[&lt;1-hop&gt;\\n\\nInclusion of Clinical Work in a St...</td>\n",
       "      <td>Based on the information from StudentAid.gov, ...</td>\n",
       "      <td>A practicum or clinical experience required fo...</td>\n",
       "      <td>multi_hop_abstract_query_synthesizer</td>\n",
       "    </tr>\n",
       "    <tr>\n",
       "      <th>7</th>\n",
       "      <td>How do the disbursement timing requirements fo...</td>\n",
       "      <td>[StudentAid.gov Search Results for: disburseme...</td>\n",
       "      <td>[&lt;1-hop&gt;\\n\\nboth the credit or clock hours and...</td>\n",
       "      <td>The disbursement timing requirements for feder...</td>\n",
       "      <td>In clock-hour or non-term credit-hour programs...</td>\n",
       "      <td>multi_hop_abstract_query_synthesizer</td>\n",
       "    </tr>\n",
       "    <tr>\n",
       "      <th>8</th>\n",
       "      <td>Acccording to Volume 8, Chapter 3, how does th...</td>\n",
       "      <td>[According to Volume 8, Chapter 3, the inclusi...</td>\n",
       "      <td>[&lt;1-hop&gt;\\n\\nInclusion of Clinical Work in a St...</td>\n",
       "      <td>According to Volume 8, Chapter 3, the inclusio...</td>\n",
       "      <td>Volume 8, Chapter 3 explains that clinical wor...</td>\n",
       "      <td>multi_hop_specific_query_synthesizer</td>\n",
       "    </tr>\n",
       "    <tr>\n",
       "      <th>9</th>\n",
       "      <td>how do appendix a and appendix b help schools ...</td>\n",
       "      <td>[StudentAid.gov Search Results for: Appendix A...</td>\n",
       "      <td>[&lt;1-hop&gt;\\n\\nboth the credit or clock hours and...</td>\n",
       "      <td>Appendix A and Appendix B of the federal stude...</td>\n",
       "      <td>appendix a gives examples that illustrate the ...</td>\n",
       "      <td>multi_hop_specific_query_synthesizer</td>\n",
       "    </tr>\n",
       "    <tr>\n",
       "      <th>10</th>\n",
       "      <td>How does the structure of non-term and subscri...</td>\n",
       "      <td>[The structure of non-term and subscription-ba...</td>\n",
       "      <td>[&lt;1-hop&gt;\\n\\nboth the credit or clock hours and...</td>\n",
       "      <td>The structure of non-term and subscription-bas...</td>\n",
       "      <td>The structure of non-term and subscription-bas...</td>\n",
       "      <td>multi_hop_specific_query_synthesizer</td>\n",
       "    </tr>\n",
       "    <tr>\n",
       "      <th>11</th>\n",
       "      <td>According to Volume 8, Chapter 6 and Volume 8,...</td>\n",
       "      <td>[In subscription-based programs, the requireme...</td>\n",
       "      <td>[&lt;1-hop&gt;\\n\\nDisbursement Timing in Subscriptio...</td>\n",
       "      <td>In subscription-based programs, the requiremen...</td>\n",
       "      <td>In subscription-based programs, as described i...</td>\n",
       "      <td>multi_hop_specific_query_synthesizer</td>\n",
       "    </tr>\n",
       "  </tbody>\n",
       "</table>\n",
       "</div>"
      ],
      "text/plain": [
       "                                           user_input  \\\n",
       "0   How does the structure of an academic calendar...   \n",
       "1   medicine program clinical work, it gotta be in...   \n",
       "2   Wen do Title IV program disbursements need to ...   \n",
       "3   so like if a student gettin a TEACH Grant in a...   \n",
       "4   How does the disbursement timing for federal s...   \n",
       "5   How do the disbursement timing requirements fo...   \n",
       "6   If a practicum or clinical experience is requi...   \n",
       "7   How do the disbursement timing requirements fo...   \n",
       "8   Acccording to Volume 8, Chapter 3, how does th...   \n",
       "9   how do appendix a and appendix b help schools ...   \n",
       "10  How does the structure of non-term and subscri...   \n",
       "11  According to Volume 8, Chapter 6 and Volume 8,...   \n",
       "\n",
       "                                   retrieved_contexts  \\\n",
       "0                                                  []   \n",
       "1                                                  []   \n",
       "2   [StudentAid.gov Search Results for: disburseme...   \n",
       "3   [StudentAid.gov Search Results for: TEACH Gran...   \n",
       "4   [StudentAid.gov Search Results for: disburseme...   \n",
       "5   [StudentAid.gov Search Results for: disburseme...   \n",
       "6   [StudentAid.gov Search Results for: practicum ...   \n",
       "7   [StudentAid.gov Search Results for: disburseme...   \n",
       "8   [According to Volume 8, Chapter 3, the inclusi...   \n",
       "9   [StudentAid.gov Search Results for: Appendix A...   \n",
       "10  [The structure of non-term and subscription-ba...   \n",
       "11  [In subscription-based programs, the requireme...   \n",
       "\n",
       "                                   reference_contexts  \\\n",
       "0   [non-term (includes clock-hour calendars), or ...   \n",
       "1   [Inclusion of Clinical Work in a Standard Term...   \n",
       "2   [Non-Term Characteristics A program that measu...   \n",
       "3   [both the credit or clock hours and the weeks ...   \n",
       "4   [<1-hop>\\n\\nboth the credit or clock hours and...   \n",
       "5   [<1-hop>\\n\\nboth the credit or clock hours and...   \n",
       "6   [<1-hop>\\n\\nInclusion of Clinical Work in a St...   \n",
       "7   [<1-hop>\\n\\nboth the credit or clock hours and...   \n",
       "8   [<1-hop>\\n\\nInclusion of Clinical Work in a St...   \n",
       "9   [<1-hop>\\n\\nboth the credit or clock hours and...   \n",
       "10  [<1-hop>\\n\\nboth the credit or clock hours and...   \n",
       "11  [<1-hop>\\n\\nDisbursement Timing in Subscriptio...   \n",
       "\n",
       "                                             response  \\\n",
       "0   The structure of an academic calendar can sign...   \n",
       "1   Could you please clarify your question a bit m...   \n",
       "2   Title IV program disbursements for non-term pr...   \n",
       "3   The disbursement of TEACH Grant funds for cloc...   \n",
       "4   The disbursement timing for federal student ai...   \n",
       "5   The disbursement timing requirements for feder...   \n",
       "6   Based on the information from StudentAid.gov, ...   \n",
       "7   The disbursement timing requirements for feder...   \n",
       "8   According to Volume 8, Chapter 3, the inclusio...   \n",
       "9   Appendix A and Appendix B of the federal stude...   \n",
       "10  The structure of non-term and subscription-bas...   \n",
       "11  In subscription-based programs, the requiremen...   \n",
       "\n",
       "                                            reference  \\\n",
       "0   The structure of an academic calendar—whether ...   \n",
       "1   If the clinical work in a medicine program mee...   \n",
       "2   Title IV program disbursements, except for Fed...   \n",
       "3   if a student gettin a TEACH Grant in a clock-h...   \n",
       "4   In clock-hour or non-term credit-hour programs...   \n",
       "5   In clock-hour or non-term credit-hour programs...   \n",
       "6   A practicum or clinical experience required fo...   \n",
       "7   In clock-hour or non-term credit-hour programs...   \n",
       "8   Volume 8, Chapter 3 explains that clinical wor...   \n",
       "9   appendix a gives examples that illustrate the ...   \n",
       "10  The structure of non-term and subscription-bas...   \n",
       "11  In subscription-based programs, as described i...   \n",
       "\n",
       "                        synthesizer_name  \n",
       "0   single_hop_specifc_query_synthesizer  \n",
       "1   single_hop_specifc_query_synthesizer  \n",
       "2   single_hop_specifc_query_synthesizer  \n",
       "3   single_hop_specifc_query_synthesizer  \n",
       "4   multi_hop_abstract_query_synthesizer  \n",
       "5   multi_hop_abstract_query_synthesizer  \n",
       "6   multi_hop_abstract_query_synthesizer  \n",
       "7   multi_hop_abstract_query_synthesizer  \n",
       "8   multi_hop_specific_query_synthesizer  \n",
       "9   multi_hop_specific_query_synthesizer  \n",
       "10  multi_hop_specific_query_synthesizer  \n",
       "11  multi_hop_specific_query_synthesizer  "
      ]
     },
     "execution_count": 109,
     "metadata": {},
     "output_type": "execute_result"
    }
   ],
   "source": [
    "golden_master_dataset.to_pandas().to_csv('golden-masters/naive_golden_master_dataset.csv', index=False)\n",
    "golden_master_dataset.to_pandas()"
   ]
  },
  {
   "cell_type": "code",
   "execution_count": 94,
   "metadata": {},
   "outputs": [],
   "source": [
    "# golden_master_dataset.to_pandas()[10:11]['retrieved_contexts'].values[0]"
   ]
  },
  {
   "cell_type": "code",
   "execution_count": 58,
   "metadata": {},
   "outputs": [],
   "source": [
    "from langchain_openai import OpenAIEmbeddings\n",
    "\n",
    "embeddings = OpenAIEmbeddings(model=\"text-embedding-3-small\")"
   ]
  },
  {
   "cell_type": "code",
   "execution_count": 110,
   "metadata": {},
   "outputs": [
    {
     "data": {
      "application/vnd.jupyter.widget-view+json": {
       "model_id": "627f31af594b4601a9b7190ae2211f59",
       "version_major": 2,
       "version_minor": 0
      },
      "text/plain": [
       "Evaluating:   0%|          | 0/72 [00:00<?, ?it/s]"
      ]
     },
     "metadata": {},
     "output_type": "display_data"
    },
    {
     "name": "stderr",
     "output_type": "stream",
     "text": [
      "Exception raised in Job[11]: ValueError(zero-size array to reduction operation maximum which has no identity)\n",
      "Exception raised in Job[5]: ValueError(zero-size array to reduction operation maximum which has no identity)\n",
      "Exception raised in Job[29]: TimeoutError()\n",
      "Exception raised in Job[35]: TimeoutError()\n",
      "Exception raised in Job[47]: TimeoutError()\n",
      "Exception raised in Job[59]: TimeoutError()\n",
      "Exception raised in Job[65]: TimeoutError()\n"
     ]
    },
    {
     "name": "stdout",
     "output_type": "stream",
     "text": [
      "CPU times: user 13.3 s, sys: 1.82 s, total: 15.1 s\n",
      "Wall time: 7min 13s\n"
     ]
    }
   ],
   "source": [
    "%%time\n",
    "evaluation_dataset = EvaluationDataset.from_pandas(golden_master_dataset.to_pandas())\n",
    "\n",
    "evaluator_llm = LangchainLLMWrapper(\n",
    "    ChatOpenAI(\n",
    "        model=\"gpt-4.1-mini\",\n",
    "        temperature=0, # Lower temperature for more consistent outputs\n",
    "        request_timeout=120   # Longer timeout for complex operations\n",
    "    )\n",
    ")\n",
    "\n",
    "custom_run_config = RunConfig(timeout=360)\n",
    "\n",
    "result = evaluate(\n",
    "    dataset=evaluation_dataset,\n",
    "    metrics=[LLMContextRecall(), Faithfulness(), FactualCorrectness(), ResponseRelevancy(), \n",
    "             ContextEntityRecall(), NoiseSensitivity()],\n",
    "    llm=evaluator_llm,\n",
    "    token_usage_parser=get_token_usage_for_openai,\n",
    "    run_config=custom_run_config\n",
    ")"
   ]
  },
  {
   "cell_type": "code",
   "execution_count": 132,
   "metadata": {},
   "outputs": [],
   "source": [
    "import pandas as pd\n",
    "naive_raw_stats_df = pd.DataFrame([extract_ragas_metrics(result, 'gpt-4.1-mini')])\n",
    "record_metrics_from_run('Naive', naive_raw_stats_df)"
   ]
  },
  {
   "cell_type": "code",
   "execution_count": 143,
   "metadata": {},
   "outputs": [],
   "source": [
    "import os\n",
    "from datetime import datetime\n",
    "def record_metrics_from_run(retriever_name, dataframe: pd.DataFrame):\n",
    "    new_dataframe = dataframe.copy()\n",
    "    columns=['context_recall', 'faithfulness', 'factual_correctness', 'answer_relevancy', 'context_entity_recall', 'noise_sensitivity_relevant']\n",
    "    metrics_filename = 'ragas-evaluation-metrics.csv'\n",
    "    dataset_df = pd.DataFrame()\n",
    "    if os.path.exists(metrics_filename):\n",
    "        dataset_df = pd.read_csv(metrics_filename)\n",
    "    new_dataframe['datetime'] = datetime.now().strftime('%Y-%m-%d %T')\n",
    "    new_dataframe['retriever'] = retriever_name\n",
    "    new_dataframe = new_dataframe[['datetime', 'retriever'] + columns]\n",
    "    dataset_df = pd.concat([dataset_df, new_dataframe])\n",
    "\n",
    "    dataset_df.to_csv(metrics_filename, index=False)"
   ]
  },
  {
   "cell_type": "markdown",
   "metadata": {},
   "source": [
    "### Synthetic Data Generation using RAGAS using the Golden master (Contextual Compression Retriever)"
   ]
  },
  {
   "cell_type": "code",
   "execution_count": 134,
   "metadata": {},
   "outputs": [],
   "source": [
    "@tool\n",
    "def ask_contextual_compression_llm_tool(question: str):\n",
    "    \"\"\"Ask this model questions about Student loans, so that we can retrieve documents from the vector store to use as context for the queries\"\"\"\n",
    "    response = contextual_compression_graph.invoke({\"question\": question})\n",
    "    return {\n",
    "        \"messages\": [HumanMessage(content=response[\"response\"])],\n",
    "        \"context\": response[\"context\"]\n",
    "    }\n",
    "model = ChatOpenAI(\n",
    "    model=\"gpt-4.1-nano\",\n",
    "    temperature=0,  # Lower temperature for more consistent outputs\n",
    "    request_timeout=120,  # Longer timeout for complex operations\n",
    ")\n",
    "\n",
    "def call_model(state):\n",
    "    messages = state[\"messages\"]\n",
    "    response = model.invoke(messages)\n",
    "    return {\"messages\": [response]}\n",
    "\n",
    "\n",
    "def should_continue(state):\n",
    "    last_message = state[\"messages\"][-1]\n",
    "\n",
    "    if last_message.tool_calls:\n",
    "        return \"action\"\n",
    "\n",
    "    return END\n",
    "\n",
    "tool_belt = [\n",
    "    ask_contextual_compression_llm_tool,\n",
    "    tavily_tool,\n",
    "    Tool(\n",
    "        name=\"StudentAid_Federal_Search\",\n",
    "        description=\"Search ONLY StudentAid.gov for official federal information: FAFSA applications, federal loan forgiveness programs, federal repayment plans, eligibility requirements\",\n",
    "        func=tavily_studentaid_search,\n",
    "    ),\n",
    "    Tool(\n",
    "        name=\"Mohela_Servicer_Search\",\n",
    "        description=\"Search ONLY Mohela loan servicer for account-specific help: making payments, login issues, servicer-specific repayment options, customer service contacts\",\n",
    "        func=tavily_mohela_search,\n",
    "    ),\n",
    "    Tool(\n",
    "        name=\"Student_Loan_Comparison_Search\",\n",
    "        description=\"Compare information across BOTH federal sources and Mohela when user needs comprehensive view or comparison of student loan options\",\n",
    "        func=tavily_student_loan_search,\n",
    "    ),\n",
    "]\n",
    "\n",
    "model = model.bind_tools(tool_belt)\n",
    "tool_node = ToolNode(tool_belt)\n",
    "\n",
    "uncompiled_graph = StateGraph(AgentState)\n",
    "\n",
    "uncompiled_graph.add_node(\"agent\", call_model)\n",
    "uncompiled_graph.add_node(\"action\", tool_node)\n",
    "\n",
    "uncompiled_graph.set_entry_point(\"agent\")\n",
    "uncompiled_graph.add_conditional_edges(\"agent\", should_continue)\n",
    "\n",
    "uncompiled_graph.add_edge(\"action\", \"agent\")\n",
    "\n",
    "contextual_compression_agent_graph = uncompiled_graph.compile()"
   ]
  },
  {
   "cell_type": "code",
   "execution_count": 135,
   "metadata": {},
   "outputs": [],
   "source": [
    "import copy\n",
    "import time\n",
    "cc_golden_master_dataset = copy.deepcopy(golden_master_dataset)"
   ]
  },
  {
   "cell_type": "code",
   "execution_count": 136,
   "metadata": {},
   "outputs": [],
   "source": [
    "# inputs = {\"messages\" : [HumanMessage(content=\"What concerns does the borrower have regarding Nelnet's communication about their student loan issuer?\")]}\n",
    "# response = simple_agent_graph.invoke(inputs)\n",
    "# response"
   ]
  },
  {
   "cell_type": "code",
   "execution_count": 137,
   "metadata": {},
   "outputs": [],
   "source": [
    "# inputs = {\"messages\" : [HumanMessage(content=\"What concerns does the borrower have regarding Nelnet's communication about their student loan issuer?\")]}\n",
    "# response = contextual_compression_agent_graph.invoke(inputs)\n",
    "# response"
   ]
  },
  {
   "cell_type": "code",
   "execution_count": 138,
   "metadata": {},
   "outputs": [
    {
     "data": {
      "application/vnd.jupyter.widget-view+json": {
       "model_id": "e002f6801e724ec59b875e500880c9be",
       "version_major": 2,
       "version_minor": 0
      },
      "text/plain": [
       "  0%|          | 0/12 [00:00<?, ?it/s]"
      ]
     },
     "metadata": {},
     "output_type": "display_data"
    },
    {
     "name": "stdout",
     "output_type": "stream",
     "text": [
      "CPU times: user 3.3 s, sys: 350 ms, total: 3.65 s\n",
      "Wall time: 1min 58s\n"
     ]
    }
   ],
   "source": [
    "%%time\n",
    "from tqdm.notebook import tqdm\n",
    "for test_row in tqdm(cc_golden_master_dataset):\n",
    "    inputs = {\"messages\" : [HumanMessage(content=test_row.eval_sample.user_input)]}\n",
    "    response = contextual_compression_agent_graph.invoke(inputs)\n",
    "\n",
    "    evaluation_contexts = extract_contexts_for_eval(response[\"messages\"])\n",
    "    eval_sample = {\n",
    "        \"user_input\": inputs[\"messages\"][0].content,\n",
    "        \"response\": response[\"messages\"][-1].content,  # Final AI response\n",
    "        \"retrieved_contexts\": evaluation_contexts,\n",
    "        \"tools_used\": parsed_data['summary']['tools'],\n",
    "        \"num_contexts\": len(evaluation_contexts)\n",
    "    }\n",
    "    test_row.eval_sample.response = eval_sample[\"response\"]\n",
    "    test_row.eval_sample.retrieved_contexts = eval_sample[\"retrieved_contexts\"]\n",
    "    time.sleep(2)"
   ]
  },
  {
   "cell_type": "code",
   "execution_count": 139,
   "metadata": {},
   "outputs": [
    {
     "data": {
      "text/html": [
       "<div>\n",
       "<style scoped>\n",
       "    .dataframe tbody tr th:only-of-type {\n",
       "        vertical-align: middle;\n",
       "    }\n",
       "\n",
       "    .dataframe tbody tr th {\n",
       "        vertical-align: top;\n",
       "    }\n",
       "\n",
       "    .dataframe thead th {\n",
       "        text-align: right;\n",
       "    }\n",
       "</style>\n",
       "<table border=\"1\" class=\"dataframe\">\n",
       "  <thead>\n",
       "    <tr style=\"text-align: right;\">\n",
       "      <th></th>\n",
       "      <th>user_input</th>\n",
       "      <th>retrieved_contexts</th>\n",
       "      <th>reference_contexts</th>\n",
       "      <th>response</th>\n",
       "      <th>reference</th>\n",
       "      <th>synthesizer_name</th>\n",
       "    </tr>\n",
       "  </thead>\n",
       "  <tbody>\n",
       "    <tr>\n",
       "      <th>0</th>\n",
       "      <td>How does the structure of an academic calendar...</td>\n",
       "      <td>[]</td>\n",
       "      <td>[non-term (includes clock-hour calendars), or ...</td>\n",
       "      <td>The structure of an academic calendar can sign...</td>\n",
       "      <td>The structure of an academic calendar—whether ...</td>\n",
       "      <td>single_hop_specifc_query_synthesizer</td>\n",
       "    </tr>\n",
       "    <tr>\n",
       "      <th>1</th>\n",
       "      <td>medicine program clinical work, it gotta be in...</td>\n",
       "      <td>[]</td>\n",
       "      <td>[Inclusion of Clinical Work in a Standard Term...</td>\n",
       "      <td>In the context of a medicine program, clinical...</td>\n",
       "      <td>If the clinical work in a medicine program mee...</td>\n",
       "      <td>single_hop_specifc_query_synthesizer</td>\n",
       "    </tr>\n",
       "    <tr>\n",
       "      <th>2</th>\n",
       "      <td>Wen do Title IV program disbursements need to ...</td>\n",
       "      <td>[StudentAid.gov Search Results for: disburseme...</td>\n",
       "      <td>[Non-Term Characteristics A program that measu...</td>\n",
       "      <td>Title IV program disbursements for non-term pr...</td>\n",
       "      <td>Title IV program disbursements, except for Fed...</td>\n",
       "      <td>single_hop_specifc_query_synthesizer</td>\n",
       "    </tr>\n",
       "    <tr>\n",
       "      <th>3</th>\n",
       "      <td>so like if a student gettin a TEACH Grant in a...</td>\n",
       "      <td>[StudentAid.gov Search Results for: TEACH Gran...</td>\n",
       "      <td>[both the credit or clock hours and the weeks ...</td>\n",
       "      <td>The disbursement of TEACH Grant funds for cloc...</td>\n",
       "      <td>if a student gettin a TEACH Grant in a clock-h...</td>\n",
       "      <td>single_hop_specifc_query_synthesizer</td>\n",
       "    </tr>\n",
       "    <tr>\n",
       "      <th>4</th>\n",
       "      <td>How does the disbursement timing for federal s...</td>\n",
       "      <td>[StudentAid.gov Search Results for: disburseme...</td>\n",
       "      <td>[&lt;1-hop&gt;\\n\\nboth the credit or clock hours and...</td>\n",
       "      <td>The disbursement timing for federal student ai...</td>\n",
       "      <td>In clock-hour or non-term credit-hour programs...</td>\n",
       "      <td>multi_hop_abstract_query_synthesizer</td>\n",
       "    </tr>\n",
       "    <tr>\n",
       "      <th>5</th>\n",
       "      <td>How do the disbursement timing requirements fo...</td>\n",
       "      <td>[StudentAid.gov Search Results for: disburseme...</td>\n",
       "      <td>[&lt;1-hop&gt;\\n\\nboth the credit or clock hours and...</td>\n",
       "      <td>The disbursement timing requirements for feder...</td>\n",
       "      <td>In clock-hour or non-term credit-hour programs...</td>\n",
       "      <td>multi_hop_abstract_query_synthesizer</td>\n",
       "    </tr>\n",
       "    <tr>\n",
       "      <th>6</th>\n",
       "      <td>If a practicum or clinical experience is requi...</td>\n",
       "      <td>[StudentAid.gov Search Results for: practicum ...</td>\n",
       "      <td>[&lt;1-hop&gt;\\n\\nInclusion of Clinical Work in a St...</td>\n",
       "      <td>Based on the information from StudentAid.gov, ...</td>\n",
       "      <td>A practicum or clinical experience required fo...</td>\n",
       "      <td>multi_hop_abstract_query_synthesizer</td>\n",
       "    </tr>\n",
       "    <tr>\n",
       "      <th>7</th>\n",
       "      <td>How do the disbursement timing requirements fo...</td>\n",
       "      <td>[StudentAid.gov Search Results for: disburseme...</td>\n",
       "      <td>[&lt;1-hop&gt;\\n\\nboth the credit or clock hours and...</td>\n",
       "      <td>The disbursement timing requirements for feder...</td>\n",
       "      <td>In clock-hour or non-term credit-hour programs...</td>\n",
       "      <td>multi_hop_abstract_query_synthesizer</td>\n",
       "    </tr>\n",
       "    <tr>\n",
       "      <th>8</th>\n",
       "      <td>Acccording to Volume 8, Chapter 3, how does th...</td>\n",
       "      <td>[The inclusion of clinical work in standard te...</td>\n",
       "      <td>[&lt;1-hop&gt;\\n\\nInclusion of Clinical Work in a St...</td>\n",
       "      <td>According to Volume 8, Chapter 3, the inclusio...</td>\n",
       "      <td>Volume 8, Chapter 3 explains that clinical wor...</td>\n",
       "      <td>multi_hop_specific_query_synthesizer</td>\n",
       "    </tr>\n",
       "    <tr>\n",
       "      <th>9</th>\n",
       "      <td>how do appendix a and appendix b help schools ...</td>\n",
       "      <td>[StudentAid.gov Search Results for: Appendix A...</td>\n",
       "      <td>[&lt;1-hop&gt;\\n\\nboth the credit or clock hours and...</td>\n",
       "      <td>Appendix A and Appendix B provide guidance on ...</td>\n",
       "      <td>appendix a gives examples that illustrate the ...</td>\n",
       "      <td>multi_hop_specific_query_synthesizer</td>\n",
       "    </tr>\n",
       "    <tr>\n",
       "      <th>10</th>\n",
       "      <td>How does the structure of non-term and subscri...</td>\n",
       "      <td>[The structure of non-term and subscription-ba...</td>\n",
       "      <td>[&lt;1-hop&gt;\\n\\nboth the credit or clock hours and...</td>\n",
       "      <td>The structure of non-term and subscription-bas...</td>\n",
       "      <td>The structure of non-term and subscription-bas...</td>\n",
       "      <td>multi_hop_specific_query_synthesizer</td>\n",
       "    </tr>\n",
       "    <tr>\n",
       "      <th>11</th>\n",
       "      <td>According to Volume 8, Chapter 6 and Volume 8,...</td>\n",
       "      <td>[In subscription-based programs, the requireme...</td>\n",
       "      <td>[&lt;1-hop&gt;\\n\\nDisbursement Timing in Subscriptio...</td>\n",
       "      <td>In subscription-based programs, the disburseme...</td>\n",
       "      <td>In subscription-based programs, as described i...</td>\n",
       "      <td>multi_hop_specific_query_synthesizer</td>\n",
       "    </tr>\n",
       "  </tbody>\n",
       "</table>\n",
       "</div>"
      ],
      "text/plain": [
       "                                           user_input  \\\n",
       "0   How does the structure of an academic calendar...   \n",
       "1   medicine program clinical work, it gotta be in...   \n",
       "2   Wen do Title IV program disbursements need to ...   \n",
       "3   so like if a student gettin a TEACH Grant in a...   \n",
       "4   How does the disbursement timing for federal s...   \n",
       "5   How do the disbursement timing requirements fo...   \n",
       "6   If a practicum or clinical experience is requi...   \n",
       "7   How do the disbursement timing requirements fo...   \n",
       "8   Acccording to Volume 8, Chapter 3, how does th...   \n",
       "9   how do appendix a and appendix b help schools ...   \n",
       "10  How does the structure of non-term and subscri...   \n",
       "11  According to Volume 8, Chapter 6 and Volume 8,...   \n",
       "\n",
       "                                   retrieved_contexts  \\\n",
       "0                                                  []   \n",
       "1                                                  []   \n",
       "2   [StudentAid.gov Search Results for: disburseme...   \n",
       "3   [StudentAid.gov Search Results for: TEACH Gran...   \n",
       "4   [StudentAid.gov Search Results for: disburseme...   \n",
       "5   [StudentAid.gov Search Results for: disburseme...   \n",
       "6   [StudentAid.gov Search Results for: practicum ...   \n",
       "7   [StudentAid.gov Search Results for: disburseme...   \n",
       "8   [The inclusion of clinical work in standard te...   \n",
       "9   [StudentAid.gov Search Results for: Appendix A...   \n",
       "10  [The structure of non-term and subscription-ba...   \n",
       "11  [In subscription-based programs, the requireme...   \n",
       "\n",
       "                                   reference_contexts  \\\n",
       "0   [non-term (includes clock-hour calendars), or ...   \n",
       "1   [Inclusion of Clinical Work in a Standard Term...   \n",
       "2   [Non-Term Characteristics A program that measu...   \n",
       "3   [both the credit or clock hours and the weeks ...   \n",
       "4   [<1-hop>\\n\\nboth the credit or clock hours and...   \n",
       "5   [<1-hop>\\n\\nboth the credit or clock hours and...   \n",
       "6   [<1-hop>\\n\\nInclusion of Clinical Work in a St...   \n",
       "7   [<1-hop>\\n\\nboth the credit or clock hours and...   \n",
       "8   [<1-hop>\\n\\nInclusion of Clinical Work in a St...   \n",
       "9   [<1-hop>\\n\\nboth the credit or clock hours and...   \n",
       "10  [<1-hop>\\n\\nboth the credit or clock hours and...   \n",
       "11  [<1-hop>\\n\\nDisbursement Timing in Subscriptio...   \n",
       "\n",
       "                                             response  \\\n",
       "0   The structure of an academic calendar can sign...   \n",
       "1   In the context of a medicine program, clinical...   \n",
       "2   Title IV program disbursements for non-term pr...   \n",
       "3   The disbursement of TEACH Grant funds for cloc...   \n",
       "4   The disbursement timing for federal student ai...   \n",
       "5   The disbursement timing requirements for feder...   \n",
       "6   Based on the information from StudentAid.gov, ...   \n",
       "7   The disbursement timing requirements for feder...   \n",
       "8   According to Volume 8, Chapter 3, the inclusio...   \n",
       "9   Appendix A and Appendix B provide guidance on ...   \n",
       "10  The structure of non-term and subscription-bas...   \n",
       "11  In subscription-based programs, the disburseme...   \n",
       "\n",
       "                                            reference  \\\n",
       "0   The structure of an academic calendar—whether ...   \n",
       "1   If the clinical work in a medicine program mee...   \n",
       "2   Title IV program disbursements, except for Fed...   \n",
       "3   if a student gettin a TEACH Grant in a clock-h...   \n",
       "4   In clock-hour or non-term credit-hour programs...   \n",
       "5   In clock-hour or non-term credit-hour programs...   \n",
       "6   A practicum or clinical experience required fo...   \n",
       "7   In clock-hour or non-term credit-hour programs...   \n",
       "8   Volume 8, Chapter 3 explains that clinical wor...   \n",
       "9   appendix a gives examples that illustrate the ...   \n",
       "10  The structure of non-term and subscription-bas...   \n",
       "11  In subscription-based programs, as described i...   \n",
       "\n",
       "                        synthesizer_name  \n",
       "0   single_hop_specifc_query_synthesizer  \n",
       "1   single_hop_specifc_query_synthesizer  \n",
       "2   single_hop_specifc_query_synthesizer  \n",
       "3   single_hop_specifc_query_synthesizer  \n",
       "4   multi_hop_abstract_query_synthesizer  \n",
       "5   multi_hop_abstract_query_synthesizer  \n",
       "6   multi_hop_abstract_query_synthesizer  \n",
       "7   multi_hop_abstract_query_synthesizer  \n",
       "8   multi_hop_specific_query_synthesizer  \n",
       "9   multi_hop_specific_query_synthesizer  \n",
       "10  multi_hop_specific_query_synthesizer  \n",
       "11  multi_hop_specific_query_synthesizer  "
      ]
     },
     "execution_count": 139,
     "metadata": {},
     "output_type": "execute_result"
    }
   ],
   "source": [
    "cc_golden_master_dataset.to_pandas().to_csv('golden-masters/cc_golden_master_dataset.csv', index=False)\n",
    "cc_golden_master_dataset.to_pandas()"
   ]
  },
  {
   "cell_type": "code",
   "execution_count": 140,
   "metadata": {},
   "outputs": [],
   "source": [
    "from langchain_openai import OpenAIEmbeddings\n",
    "\n",
    "embeddings = OpenAIEmbeddings(model=\"text-embedding-3-small\")"
   ]
  },
  {
   "cell_type": "code",
   "execution_count": 141,
   "metadata": {
    "scrolled": true
   },
   "outputs": [
    {
     "data": {
      "application/vnd.jupyter.widget-view+json": {
       "model_id": "6c5c79f49237424cbfcbbbe448cb1e69",
       "version_major": 2,
       "version_minor": 0
      },
      "text/plain": [
       "Evaluating:   0%|          | 0/72 [00:00<?, ?it/s]"
      ]
     },
     "metadata": {},
     "output_type": "display_data"
    },
    {
     "name": "stderr",
     "output_type": "stream",
     "text": [
      "Exception raised in Job[11]: ValueError(zero-size array to reduction operation maximum which has no identity)\n",
      "Exception raised in Job[5]: ValueError(zero-size array to reduction operation maximum which has no identity)\n",
      "Exception raised in Job[35]: TimeoutError()\n",
      "Exception raised in Job[47]: TimeoutError()\n"
     ]
    },
    {
     "name": "stdout",
     "output_type": "stream",
     "text": [
      "CPU times: user 14 s, sys: 1.67 s, total: 15.7 s\n",
      "Wall time: 6min 44s\n"
     ]
    }
   ],
   "source": [
    "%%time\n",
    "cc_evaluation_dataset = EvaluationDataset.from_pandas(cc_golden_master_dataset.to_pandas())\n",
    "\n",
    "evaluator_llm = LangchainLLMWrapper(\n",
    "    ChatOpenAI(\n",
    "        model=\"gpt-4.1-mini\",\n",
    "        temperature=0, # Lower temperature for more consistent outputs\n",
    "        request_timeout=120   # Longer timeout for complex operations\n",
    "    )\n",
    ")\n",
    "\n",
    "custom_run_config = RunConfig(timeout=360)\n",
    "\n",
    "cc_result = evaluate(\n",
    "    dataset=cc_evaluation_dataset,\n",
    "    metrics=[LLMContextRecall(), Faithfulness(), FactualCorrectness(), ResponseRelevancy(), \n",
    "             ContextEntityRecall(), NoiseSensitivity()],\n",
    "    llm=evaluator_llm,\n",
    "    token_usage_parser=get_token_usage_for_openai,\n",
    "    run_config=custom_run_config\n",
    ")"
   ]
  },
  {
   "cell_type": "code",
   "execution_count": 144,
   "metadata": {},
   "outputs": [],
   "source": [
    "cc_raw_stats_df = pd.DataFrame([extract_ragas_metrics(cc_result, 'gpt-4.1-mini')])\n",
    "record_metrics_from_run('Contextual Compression', cc_raw_stats_df)"
   ]
  },
  {
   "cell_type": "markdown",
   "metadata": {},
   "source": [
    "### Synthetic Data Generation using RAGAS using the Golden master (Multi Query Retriver)"
   ]
  },
  {
   "cell_type": "code",
   "execution_count": 148,
   "metadata": {},
   "outputs": [],
   "source": [
    "@tool\n",
    "def ask_multi_query_llm_tool(question: str):\n",
    "    \"\"\"Ask this model questions about Student loans, so that we can retrieve documents from the vector store to use as context for the queries\"\"\"\n",
    "    response = multi_query_graph.invoke({\"question\": question})\n",
    "    return {\n",
    "        \"messages\": [HumanMessage(content=response[\"response\"])],\n",
    "        \"context\": response[\"context\"]\n",
    "    }"
   ]
  },
  {
   "cell_type": "code",
   "execution_count": 149,
   "metadata": {},
   "outputs": [],
   "source": [
    "import copy\n",
    "import time\n",
    "mq_golden_master_dataset = copy.deepcopy(golden_master_dataset)"
   ]
  },
  {
   "cell_type": "code",
   "execution_count": 150,
   "metadata": {
    "scrolled": true
   },
   "outputs": [
    {
     "data": {
      "application/vnd.jupyter.widget-view+json": {
       "model_id": "5604d9f955c04d2bb4343653fd9fe026",
       "version_major": 2,
       "version_minor": 0
      },
      "text/plain": [
       "  0%|          | 0/12 [00:00<?, ?it/s]"
      ]
     },
     "metadata": {},
     "output_type": "display_data"
    },
    {
     "name": "stdout",
     "output_type": "stream",
     "text": [
      "CPU times: user 2.64 s, sys: 367 ms, total: 3.01 s\n",
      "Wall time: 3min 56s\n"
     ]
    }
   ],
   "source": [
    "%%time\n",
    "from tqdm.notebook import tqdm\n",
    "for test_row in tqdm(mq_golden_master_dataset):\n",
    "    inputs = {\"messages\" : [HumanMessage(content=test_row.eval_sample.user_input)]}\n",
    "    response = multi_query_agent_graph.invoke(inputs)\n",
    "\n",
    "    evaluation_contexts = extract_contexts_for_eval(response[\"messages\"])\n",
    "    eval_sample = {\n",
    "        \"user_input\": inputs[\"messages\"][0].content,\n",
    "        \"response\": response[\"messages\"][-1].content,  # Final AI response\n",
    "        \"retrieved_contexts\": evaluation_contexts,\n",
    "        \"tools_used\": parsed_data['summary']['tools'],\n",
    "        \"num_contexts\": len(evaluation_contexts)\n",
    "    }\n",
    "    test_row.eval_sample.response = eval_sample[\"response\"]\n",
    "    test_row.eval_sample.retrieved_contexts = eval_sample[\"retrieved_contexts\"]\n",
    "    time.sleep(2)"
   ]
  },
  {
   "cell_type": "code",
   "execution_count": 151,
   "metadata": {
    "scrolled": true
   },
   "outputs": [
    {
     "data": {
      "text/html": [
       "<div>\n",
       "<style scoped>\n",
       "    .dataframe tbody tr th:only-of-type {\n",
       "        vertical-align: middle;\n",
       "    }\n",
       "\n",
       "    .dataframe tbody tr th {\n",
       "        vertical-align: top;\n",
       "    }\n",
       "\n",
       "    .dataframe thead th {\n",
       "        text-align: right;\n",
       "    }\n",
       "</style>\n",
       "<table border=\"1\" class=\"dataframe\">\n",
       "  <thead>\n",
       "    <tr style=\"text-align: right;\">\n",
       "      <th></th>\n",
       "      <th>user_input</th>\n",
       "      <th>retrieved_contexts</th>\n",
       "      <th>reference_contexts</th>\n",
       "      <th>response</th>\n",
       "      <th>reference</th>\n",
       "      <th>synthesizer_name</th>\n",
       "    </tr>\n",
       "  </thead>\n",
       "  <tbody>\n",
       "    <tr>\n",
       "      <th>0</th>\n",
       "      <td>How does the structure of an academic calendar...</td>\n",
       "      <td>[]</td>\n",
       "      <td>[non-term (includes clock-hour calendars), or ...</td>\n",
       "      <td>It appears there is a technical issue with the...</td>\n",
       "      <td>The structure of an academic calendar—whether ...</td>\n",
       "      <td>single_hop_specifc_query_synthesizer</td>\n",
       "    </tr>\n",
       "    <tr>\n",
       "      <th>1</th>\n",
       "      <td>medicine program clinical work, it gotta be in...</td>\n",
       "      <td>[]</td>\n",
       "      <td>[Inclusion of Clinical Work in a Standard Term...</td>\n",
       "      <td>Could you please clarify your question a bit? ...</td>\n",
       "      <td>If the clinical work in a medicine program mee...</td>\n",
       "      <td>single_hop_specifc_query_synthesizer</td>\n",
       "    </tr>\n",
       "    <tr>\n",
       "      <th>2</th>\n",
       "      <td>Wen do Title IV program disbursements need to ...</td>\n",
       "      <td>[StudentAid.gov Search Results for: disburseme...</td>\n",
       "      <td>[Non-Term Characteristics A program that measu...</td>\n",
       "      <td>Disbursements for Title IV programs are genera...</td>\n",
       "      <td>Title IV program disbursements, except for Fed...</td>\n",
       "      <td>single_hop_specifc_query_synthesizer</td>\n",
       "    </tr>\n",
       "    <tr>\n",
       "      <th>3</th>\n",
       "      <td>so like if a student gettin a TEACH Grant in a...</td>\n",
       "      <td>[StudentAid.gov Search Results for: TEACH Gran...</td>\n",
       "      <td>[both the credit or clock hours and the weeks ...</td>\n",
       "      <td>The disbursement of TEACH Grant funds for cloc...</td>\n",
       "      <td>if a student gettin a TEACH Grant in a clock-h...</td>\n",
       "      <td>single_hop_specifc_query_synthesizer</td>\n",
       "    </tr>\n",
       "    <tr>\n",
       "      <th>4</th>\n",
       "      <td>How does the disbursement timing for federal s...</td>\n",
       "      <td>[StudentAid.gov Search Results for: disburseme...</td>\n",
       "      <td>[&lt;1-hop&gt;\\n\\nboth the credit or clock hours and...</td>\n",
       "      <td>The disbursement timing for federal student ai...</td>\n",
       "      <td>In clock-hour or non-term credit-hour programs...</td>\n",
       "      <td>multi_hop_abstract_query_synthesizer</td>\n",
       "    </tr>\n",
       "    <tr>\n",
       "      <th>5</th>\n",
       "      <td>How do the disbursement timing requirements fo...</td>\n",
       "      <td>[StudentAid.gov Search Results for: disburseme...</td>\n",
       "      <td>[&lt;1-hop&gt;\\n\\nboth the credit or clock hours and...</td>\n",
       "      <td>The disbursement timing requirements for feder...</td>\n",
       "      <td>In clock-hour or non-term credit-hour programs...</td>\n",
       "      <td>multi_hop_abstract_query_synthesizer</td>\n",
       "    </tr>\n",
       "    <tr>\n",
       "      <th>6</th>\n",
       "      <td>If a practicum or clinical experience is requi...</td>\n",
       "      <td>[StudentAid.gov Search Results for: practicum ...</td>\n",
       "      <td>[&lt;1-hop&gt;\\n\\nInclusion of Clinical Work in a St...</td>\n",
       "      <td>The search results indicate that practicum or ...</td>\n",
       "      <td>A practicum or clinical experience required fo...</td>\n",
       "      <td>multi_hop_abstract_query_synthesizer</td>\n",
       "    </tr>\n",
       "    <tr>\n",
       "      <th>7</th>\n",
       "      <td>How do the disbursement timing requirements fo...</td>\n",
       "      <td>[StudentAid.gov Search Results for: disburseme...</td>\n",
       "      <td>[&lt;1-hop&gt;\\n\\nboth the credit or clock hours and...</td>\n",
       "      <td>The disbursement timing requirements for feder...</td>\n",
       "      <td>In clock-hour or non-term credit-hour programs...</td>\n",
       "      <td>multi_hop_abstract_query_synthesizer</td>\n",
       "    </tr>\n",
       "    <tr>\n",
       "      <th>8</th>\n",
       "      <td>Acccording to Volume 8, Chapter 3, how does th...</td>\n",
       "      <td>[]</td>\n",
       "      <td>[&lt;1-hop&gt;\\n\\nInclusion of Clinical Work in a St...</td>\n",
       "      <td>It seems there is a technical issue preventing...</td>\n",
       "      <td>Volume 8, Chapter 3 explains that clinical wor...</td>\n",
       "      <td>multi_hop_specific_query_synthesizer</td>\n",
       "    </tr>\n",
       "    <tr>\n",
       "      <th>9</th>\n",
       "      <td>how do appendix a and appendix b help schools ...</td>\n",
       "      <td>[]</td>\n",
       "      <td>[&lt;1-hop&gt;\\n\\nboth the credit or clock hours and...</td>\n",
       "      <td>It seems there is a technical issue with the q...</td>\n",
       "      <td>appendix a gives examples that illustrate the ...</td>\n",
       "      <td>multi_hop_specific_query_synthesizer</td>\n",
       "    </tr>\n",
       "    <tr>\n",
       "      <th>10</th>\n",
       "      <td>How does the structure of non-term and subscri...</td>\n",
       "      <td>[StudentAid.gov Search Results for: Pell Grant...</td>\n",
       "      <td>[&lt;1-hop&gt;\\n\\nboth the credit or clock hours and...</td>\n",
       "      <td>The structure of non-term and subscription-bas...</td>\n",
       "      <td>The structure of non-term and subscription-bas...</td>\n",
       "      <td>multi_hop_specific_query_synthesizer</td>\n",
       "    </tr>\n",
       "    <tr>\n",
       "      <th>11</th>\n",
       "      <td>According to Volume 8, Chapter 6 and Volume 8,...</td>\n",
       "      <td>[]</td>\n",
       "      <td>[&lt;1-hop&gt;\\n\\nDisbursement Timing in Subscriptio...</td>\n",
       "      <td>It appears there is a technical issue preventi...</td>\n",
       "      <td>In subscription-based programs, as described i...</td>\n",
       "      <td>multi_hop_specific_query_synthesizer</td>\n",
       "    </tr>\n",
       "  </tbody>\n",
       "</table>\n",
       "</div>"
      ],
      "text/plain": [
       "                                           user_input  \\\n",
       "0   How does the structure of an academic calendar...   \n",
       "1   medicine program clinical work, it gotta be in...   \n",
       "2   Wen do Title IV program disbursements need to ...   \n",
       "3   so like if a student gettin a TEACH Grant in a...   \n",
       "4   How does the disbursement timing for federal s...   \n",
       "5   How do the disbursement timing requirements fo...   \n",
       "6   If a practicum or clinical experience is requi...   \n",
       "7   How do the disbursement timing requirements fo...   \n",
       "8   Acccording to Volume 8, Chapter 3, how does th...   \n",
       "9   how do appendix a and appendix b help schools ...   \n",
       "10  How does the structure of non-term and subscri...   \n",
       "11  According to Volume 8, Chapter 6 and Volume 8,...   \n",
       "\n",
       "                                   retrieved_contexts  \\\n",
       "0                                                  []   \n",
       "1                                                  []   \n",
       "2   [StudentAid.gov Search Results for: disburseme...   \n",
       "3   [StudentAid.gov Search Results for: TEACH Gran...   \n",
       "4   [StudentAid.gov Search Results for: disburseme...   \n",
       "5   [StudentAid.gov Search Results for: disburseme...   \n",
       "6   [StudentAid.gov Search Results for: practicum ...   \n",
       "7   [StudentAid.gov Search Results for: disburseme...   \n",
       "8                                                  []   \n",
       "9                                                  []   \n",
       "10  [StudentAid.gov Search Results for: Pell Grant...   \n",
       "11                                                 []   \n",
       "\n",
       "                                   reference_contexts  \\\n",
       "0   [non-term (includes clock-hour calendars), or ...   \n",
       "1   [Inclusion of Clinical Work in a Standard Term...   \n",
       "2   [Non-Term Characteristics A program that measu...   \n",
       "3   [both the credit or clock hours and the weeks ...   \n",
       "4   [<1-hop>\\n\\nboth the credit or clock hours and...   \n",
       "5   [<1-hop>\\n\\nboth the credit or clock hours and...   \n",
       "6   [<1-hop>\\n\\nInclusion of Clinical Work in a St...   \n",
       "7   [<1-hop>\\n\\nboth the credit or clock hours and...   \n",
       "8   [<1-hop>\\n\\nInclusion of Clinical Work in a St...   \n",
       "9   [<1-hop>\\n\\nboth the credit or clock hours and...   \n",
       "10  [<1-hop>\\n\\nboth the credit or clock hours and...   \n",
       "11  [<1-hop>\\n\\nDisbursement Timing in Subscriptio...   \n",
       "\n",
       "                                             response  \\\n",
       "0   It appears there is a technical issue with the...   \n",
       "1   Could you please clarify your question a bit? ...   \n",
       "2   Disbursements for Title IV programs are genera...   \n",
       "3   The disbursement of TEACH Grant funds for cloc...   \n",
       "4   The disbursement timing for federal student ai...   \n",
       "5   The disbursement timing requirements for feder...   \n",
       "6   The search results indicate that practicum or ...   \n",
       "7   The disbursement timing requirements for feder...   \n",
       "8   It seems there is a technical issue preventing...   \n",
       "9   It seems there is a technical issue with the q...   \n",
       "10  The structure of non-term and subscription-bas...   \n",
       "11  It appears there is a technical issue preventi...   \n",
       "\n",
       "                                            reference  \\\n",
       "0   The structure of an academic calendar—whether ...   \n",
       "1   If the clinical work in a medicine program mee...   \n",
       "2   Title IV program disbursements, except for Fed...   \n",
       "3   if a student gettin a TEACH Grant in a clock-h...   \n",
       "4   In clock-hour or non-term credit-hour programs...   \n",
       "5   In clock-hour or non-term credit-hour programs...   \n",
       "6   A practicum or clinical experience required fo...   \n",
       "7   In clock-hour or non-term credit-hour programs...   \n",
       "8   Volume 8, Chapter 3 explains that clinical wor...   \n",
       "9   appendix a gives examples that illustrate the ...   \n",
       "10  The structure of non-term and subscription-bas...   \n",
       "11  In subscription-based programs, as described i...   \n",
       "\n",
       "                        synthesizer_name  \n",
       "0   single_hop_specifc_query_synthesizer  \n",
       "1   single_hop_specifc_query_synthesizer  \n",
       "2   single_hop_specifc_query_synthesizer  \n",
       "3   single_hop_specifc_query_synthesizer  \n",
       "4   multi_hop_abstract_query_synthesizer  \n",
       "5   multi_hop_abstract_query_synthesizer  \n",
       "6   multi_hop_abstract_query_synthesizer  \n",
       "7   multi_hop_abstract_query_synthesizer  \n",
       "8   multi_hop_specific_query_synthesizer  \n",
       "9   multi_hop_specific_query_synthesizer  \n",
       "10  multi_hop_specific_query_synthesizer  \n",
       "11  multi_hop_specific_query_synthesizer  "
      ]
     },
     "execution_count": 151,
     "metadata": {},
     "output_type": "execute_result"
    }
   ],
   "source": [
    "mq_golden_master_dataset.to_pandas().to_csv('golden-masters/mq_golden_master_dataset.csv', index=False)\n",
    "mq_golden_master_dataset.to_pandas()"
   ]
  },
  {
   "cell_type": "code",
   "execution_count": 152,
   "metadata": {},
   "outputs": [],
   "source": [
    "from langchain_openai import OpenAIEmbeddings\n",
    "\n",
    "embeddings = OpenAIEmbeddings(model=\"text-embedding-3-small\")"
   ]
  },
  {
   "cell_type": "code",
   "execution_count": 153,
   "metadata": {
    "scrolled": true
   },
   "outputs": [
    {
     "data": {
      "application/vnd.jupyter.widget-view+json": {
       "model_id": "f762eaa8c961426f8e46e83c3b4298ca",
       "version_major": 2,
       "version_minor": 0
      },
      "text/plain": [
       "Evaluating:   0%|          | 0/72 [00:00<?, ?it/s]"
      ]
     },
     "metadata": {},
     "output_type": "display_data"
    },
    {
     "name": "stderr",
     "output_type": "stream",
     "text": [
      "Exception raised in Job[11]: ValueError(zero-size array to reduction operation maximum which has no identity)\n",
      "Exception raised in Job[5]: ValueError(zero-size array to reduction operation maximum which has no identity)\n",
      "Exception raised in Job[53]: ValueError(zero-size array to reduction operation maximum which has no identity)\n",
      "Exception raised in Job[59]: ValueError(zero-size array to reduction operation maximum which has no identity)\n",
      "Exception raised in Job[71]: ValueError(zero-size array to reduction operation maximum which has no identity)\n",
      "Exception raised in Job[29]: TimeoutError()\n",
      "Exception raised in Job[47]: TimeoutError()\n",
      "Exception raised in Job[65]: TimeoutError()\n"
     ]
    },
    {
     "name": "stdout",
     "output_type": "stream",
     "text": [
      "CPU times: user 13.5 s, sys: 1.83 s, total: 15.3 s\n",
      "Wall time: 9min 22s\n"
     ]
    }
   ],
   "source": [
    "%%time\n",
    "mq_evaluation_dataset = EvaluationDataset.from_pandas(mq_golden_master_dataset.to_pandas())\n",
    "\n",
    "evaluator_llm = LangchainLLMWrapper(\n",
    "    ChatOpenAI(\n",
    "        model=\"gpt-4.1-mini\",\n",
    "        temperature=0, # Lower temperature for more consistent outputs\n",
    "        request_timeout=120   # Longer timeout for complex operations\n",
    "    )\n",
    ")\n",
    "\n",
    "custom_run_config = RunConfig(timeout=360)\n",
    "\n",
    "mq_result = evaluate(\n",
    "    dataset=mq_evaluation_dataset,\n",
    "    metrics=[LLMContextRecall(), Faithfulness(), FactualCorrectness(), ResponseRelevancy(), \n",
    "             ContextEntityRecall(), NoiseSensitivity()],\n",
    "    llm=evaluator_llm,\n",
    "    token_usage_parser=get_token_usage_for_openai,\n",
    "    run_config=custom_run_config\n",
    ")"
   ]
  },
  {
   "cell_type": "code",
   "execution_count": 154,
   "metadata": {},
   "outputs": [],
   "source": [
    "mq_raw_stats_df = pd.DataFrame([extract_ragas_metrics(mq_result, 'gpt-4.1-mini')])\n",
    "record_metrics_from_run('MultiQuery', mq_raw_stats_df)"
   ]
  },
  {
   "cell_type": "code",
   "execution_count": 164,
   "metadata": {},
   "outputs": [],
   "source": [
    "import build_agent_graph\n",
    "importlib.reload(build_agent_graph)\n",
    "\n",
    "from build_agent_graph import get_agent_graph"
   ]
  },
  {
   "cell_type": "code",
   "execution_count": 165,
   "metadata": {},
   "outputs": [],
   "source": [
    "@tool\n",
    "def ask_parent_document_llm_tool(question: str):\n",
    "    \"\"\"Ask this model questions about Student loans, so that we can retrieve documents from the vector store to use as context for the queries\"\"\"\n",
    "    response = parent_document_graph.invoke({\"question\": question})\n",
    "    return {\n",
    "        \"messages\": [HumanMessage(content=response[\"response\"])],\n",
    "        \"context\": response[\"context\"]\n",
    "    }\n",
    "\n",
    "parent_document_graph_agent = get_agent_graph([ask_parent_document_llm_tool])"
   ]
  },
  {
   "cell_type": "code",
   "execution_count": 166,
   "metadata": {},
   "outputs": [
    {
     "data": {
      "application/vnd.jupyter.widget-view+json": {
       "model_id": "a22b9a1d22e04b2e99e9016544dc2b02",
       "version_major": 2,
       "version_minor": 0
      },
      "text/plain": [
       "  0%|          | 0/12 [00:00<?, ?it/s]"
      ]
     },
     "metadata": {},
     "output_type": "display_data"
    },
    {
     "name": "stdout",
     "output_type": "stream",
     "text": [
      "CPU times: user 1.62 s, sys: 259 ms, total: 1.88 s\n",
      "Wall time: 1min 11s\n"
     ]
    }
   ],
   "source": [
    "%%time\n",
    "pd_golden_master_dataset = copy.deepcopy(golden_master_dataset)\n",
    "from tqdm.notebook import tqdm\n",
    "for test_row in tqdm(pd_golden_master_dataset):\n",
    "    inputs = {\"messages\" : [HumanMessage(content=test_row.eval_sample.user_input)]}\n",
    "    response = multi_query_agent_graph.invoke(inputs)\n",
    "\n",
    "    evaluation_contexts = extract_contexts_for_eval(response[\"messages\"])\n",
    "    eval_sample = {\n",
    "        \"user_input\": inputs[\"messages\"][0].content,\n",
    "        \"response\": response[\"messages\"][-1].content,  # Final AI response\n",
    "        \"retrieved_contexts\": evaluation_contexts,\n",
    "        \"tools_used\": parsed_data['summary']['tools'],\n",
    "        \"num_contexts\": len(evaluation_contexts)\n",
    "    }\n",
    "    test_row.eval_sample.response = eval_sample[\"response\"]\n",
    "    test_row.eval_sample.retrieved_contexts = eval_sample[\"retrieved_contexts\"]"
   ]
  },
  {
   "cell_type": "code",
   "execution_count": 167,
   "metadata": {},
   "outputs": [
    {
     "data": {
      "text/html": [
       "<div>\n",
       "<style scoped>\n",
       "    .dataframe tbody tr th:only-of-type {\n",
       "        vertical-align: middle;\n",
       "    }\n",
       "\n",
       "    .dataframe tbody tr th {\n",
       "        vertical-align: top;\n",
       "    }\n",
       "\n",
       "    .dataframe thead th {\n",
       "        text-align: right;\n",
       "    }\n",
       "</style>\n",
       "<table border=\"1\" class=\"dataframe\">\n",
       "  <thead>\n",
       "    <tr style=\"text-align: right;\">\n",
       "      <th></th>\n",
       "      <th>user_input</th>\n",
       "      <th>retrieved_contexts</th>\n",
       "      <th>reference_contexts</th>\n",
       "      <th>response</th>\n",
       "      <th>reference</th>\n",
       "      <th>synthesizer_name</th>\n",
       "    </tr>\n",
       "  </thead>\n",
       "  <tbody>\n",
       "    <tr>\n",
       "      <th>0</th>\n",
       "      <td>How does the structure of an academic calendar...</td>\n",
       "      <td>[]</td>\n",
       "      <td>[non-term (includes clock-hour calendars), or ...</td>\n",
       "      <td>It appears there was an issue with the query e...</td>\n",
       "      <td>The structure of an academic calendar—whether ...</td>\n",
       "      <td>single_hop_specifc_query_synthesizer</td>\n",
       "    </tr>\n",
       "    <tr>\n",
       "      <th>1</th>\n",
       "      <td>medicine program clinical work, it gotta be in...</td>\n",
       "      <td>[]</td>\n",
       "      <td>[Inclusion of Clinical Work in a Standard Term...</td>\n",
       "      <td>Could you please clarify your question a bit? ...</td>\n",
       "      <td>If the clinical work in a medicine program mee...</td>\n",
       "      <td>single_hop_specifc_query_synthesizer</td>\n",
       "    </tr>\n",
       "    <tr>\n",
       "      <th>2</th>\n",
       "      <td>Wen do Title IV program disbursements need to ...</td>\n",
       "      <td>[StudentAid.gov Search Results for: disburseme...</td>\n",
       "      <td>[Non-Term Characteristics A program that measu...</td>\n",
       "      <td>Title IV program disbursements for non-term pr...</td>\n",
       "      <td>Title IV program disbursements, except for Fed...</td>\n",
       "      <td>single_hop_specifc_query_synthesizer</td>\n",
       "    </tr>\n",
       "    <tr>\n",
       "      <th>3</th>\n",
       "      <td>so like if a student gettin a TEACH Grant in a...</td>\n",
       "      <td>[StudentAid.gov Search Results for: TEACH Gran...</td>\n",
       "      <td>[both the credit or clock hours and the weeks ...</td>\n",
       "      <td>The disbursement of TEACH Grant funds for cloc...</td>\n",
       "      <td>if a student gettin a TEACH Grant in a clock-h...</td>\n",
       "      <td>single_hop_specifc_query_synthesizer</td>\n",
       "    </tr>\n",
       "    <tr>\n",
       "      <th>4</th>\n",
       "      <td>How does the disbursement timing for federal s...</td>\n",
       "      <td>[StudentAid.gov Search Results for: disburseme...</td>\n",
       "      <td>[&lt;1-hop&gt;\\n\\nboth the credit or clock hours and...</td>\n",
       "      <td>The disbursement timing for federal student ai...</td>\n",
       "      <td>In clock-hour or non-term credit-hour programs...</td>\n",
       "      <td>multi_hop_abstract_query_synthesizer</td>\n",
       "    </tr>\n",
       "    <tr>\n",
       "      <th>5</th>\n",
       "      <td>How do the disbursement timing requirements fo...</td>\n",
       "      <td>[StudentAid.gov Search Results for: disburseme...</td>\n",
       "      <td>[&lt;1-hop&gt;\\n\\nboth the credit or clock hours and...</td>\n",
       "      <td>The search results provide general information...</td>\n",
       "      <td>In clock-hour or non-term credit-hour programs...</td>\n",
       "      <td>multi_hop_abstract_query_synthesizer</td>\n",
       "    </tr>\n",
       "    <tr>\n",
       "      <th>6</th>\n",
       "      <td>If a practicum or clinical experience is requi...</td>\n",
       "      <td>[StudentAid.gov Search Results for: practicum ...</td>\n",
       "      <td>[&lt;1-hop&gt;\\n\\nInclusion of Clinical Work in a St...</td>\n",
       "      <td>Based on the information from StudentAid.gov, ...</td>\n",
       "      <td>A practicum or clinical experience required fo...</td>\n",
       "      <td>multi_hop_abstract_query_synthesizer</td>\n",
       "    </tr>\n",
       "    <tr>\n",
       "      <th>7</th>\n",
       "      <td>How do the disbursement timing requirements fo...</td>\n",
       "      <td>[StudentAid.gov Search Results for: disburseme...</td>\n",
       "      <td>[&lt;1-hop&gt;\\n\\nboth the credit or clock hours and...</td>\n",
       "      <td>The disbursement timing requirements for feder...</td>\n",
       "      <td>In clock-hour or non-term credit-hour programs...</td>\n",
       "      <td>multi_hop_abstract_query_synthesizer</td>\n",
       "    </tr>\n",
       "    <tr>\n",
       "      <th>8</th>\n",
       "      <td>Acccording to Volume 8, Chapter 3, how does th...</td>\n",
       "      <td>[]</td>\n",
       "      <td>[&lt;1-hop&gt;\\n\\nInclusion of Clinical Work in a St...</td>\n",
       "      <td>It seems there is a technical issue preventing...</td>\n",
       "      <td>Volume 8, Chapter 3 explains that clinical wor...</td>\n",
       "      <td>multi_hop_specific_query_synthesizer</td>\n",
       "    </tr>\n",
       "    <tr>\n",
       "      <th>9</th>\n",
       "      <td>how do appendix a and appendix b help schools ...</td>\n",
       "      <td>[StudentAid.gov Search Results for: Appendix A...</td>\n",
       "      <td>[&lt;1-hop&gt;\\n\\nboth the credit or clock hours and...</td>\n",
       "      <td>Appendix A provides schools with guidance on h...</td>\n",
       "      <td>appendix a gives examples that illustrate the ...</td>\n",
       "      <td>multi_hop_specific_query_synthesizer</td>\n",
       "    </tr>\n",
       "    <tr>\n",
       "      <th>10</th>\n",
       "      <td>How does the structure of non-term and subscri...</td>\n",
       "      <td>[]</td>\n",
       "      <td>[&lt;1-hop&gt;\\n\\nboth the credit or clock hours and...</td>\n",
       "      <td>It seems there is a technical issue with the q...</td>\n",
       "      <td>The structure of non-term and subscription-bas...</td>\n",
       "      <td>multi_hop_specific_query_synthesizer</td>\n",
       "    </tr>\n",
       "    <tr>\n",
       "      <th>11</th>\n",
       "      <td>According to Volume 8, Chapter 6 and Volume 8,...</td>\n",
       "      <td>[]</td>\n",
       "      <td>[&lt;1-hop&gt;\\n\\nDisbursement Timing in Subscriptio...</td>\n",
       "      <td>It appears there is a technical issue with the...</td>\n",
       "      <td>In subscription-based programs, as described i...</td>\n",
       "      <td>multi_hop_specific_query_synthesizer</td>\n",
       "    </tr>\n",
       "  </tbody>\n",
       "</table>\n",
       "</div>"
      ],
      "text/plain": [
       "                                           user_input  \\\n",
       "0   How does the structure of an academic calendar...   \n",
       "1   medicine program clinical work, it gotta be in...   \n",
       "2   Wen do Title IV program disbursements need to ...   \n",
       "3   so like if a student gettin a TEACH Grant in a...   \n",
       "4   How does the disbursement timing for federal s...   \n",
       "5   How do the disbursement timing requirements fo...   \n",
       "6   If a practicum or clinical experience is requi...   \n",
       "7   How do the disbursement timing requirements fo...   \n",
       "8   Acccording to Volume 8, Chapter 3, how does th...   \n",
       "9   how do appendix a and appendix b help schools ...   \n",
       "10  How does the structure of non-term and subscri...   \n",
       "11  According to Volume 8, Chapter 6 and Volume 8,...   \n",
       "\n",
       "                                   retrieved_contexts  \\\n",
       "0                                                  []   \n",
       "1                                                  []   \n",
       "2   [StudentAid.gov Search Results for: disburseme...   \n",
       "3   [StudentAid.gov Search Results for: TEACH Gran...   \n",
       "4   [StudentAid.gov Search Results for: disburseme...   \n",
       "5   [StudentAid.gov Search Results for: disburseme...   \n",
       "6   [StudentAid.gov Search Results for: practicum ...   \n",
       "7   [StudentAid.gov Search Results for: disburseme...   \n",
       "8                                                  []   \n",
       "9   [StudentAid.gov Search Results for: Appendix A...   \n",
       "10                                                 []   \n",
       "11                                                 []   \n",
       "\n",
       "                                   reference_contexts  \\\n",
       "0   [non-term (includes clock-hour calendars), or ...   \n",
       "1   [Inclusion of Clinical Work in a Standard Term...   \n",
       "2   [Non-Term Characteristics A program that measu...   \n",
       "3   [both the credit or clock hours and the weeks ...   \n",
       "4   [<1-hop>\\n\\nboth the credit or clock hours and...   \n",
       "5   [<1-hop>\\n\\nboth the credit or clock hours and...   \n",
       "6   [<1-hop>\\n\\nInclusion of Clinical Work in a St...   \n",
       "7   [<1-hop>\\n\\nboth the credit or clock hours and...   \n",
       "8   [<1-hop>\\n\\nInclusion of Clinical Work in a St...   \n",
       "9   [<1-hop>\\n\\nboth the credit or clock hours and...   \n",
       "10  [<1-hop>\\n\\nboth the credit or clock hours and...   \n",
       "11  [<1-hop>\\n\\nDisbursement Timing in Subscriptio...   \n",
       "\n",
       "                                             response  \\\n",
       "0   It appears there was an issue with the query e...   \n",
       "1   Could you please clarify your question a bit? ...   \n",
       "2   Title IV program disbursements for non-term pr...   \n",
       "3   The disbursement of TEACH Grant funds for cloc...   \n",
       "4   The disbursement timing for federal student ai...   \n",
       "5   The search results provide general information...   \n",
       "6   Based on the information from StudentAid.gov, ...   \n",
       "7   The disbursement timing requirements for feder...   \n",
       "8   It seems there is a technical issue preventing...   \n",
       "9   Appendix A provides schools with guidance on h...   \n",
       "10  It seems there is a technical issue with the q...   \n",
       "11  It appears there is a technical issue with the...   \n",
       "\n",
       "                                            reference  \\\n",
       "0   The structure of an academic calendar—whether ...   \n",
       "1   If the clinical work in a medicine program mee...   \n",
       "2   Title IV program disbursements, except for Fed...   \n",
       "3   if a student gettin a TEACH Grant in a clock-h...   \n",
       "4   In clock-hour or non-term credit-hour programs...   \n",
       "5   In clock-hour or non-term credit-hour programs...   \n",
       "6   A practicum or clinical experience required fo...   \n",
       "7   In clock-hour or non-term credit-hour programs...   \n",
       "8   Volume 8, Chapter 3 explains that clinical wor...   \n",
       "9   appendix a gives examples that illustrate the ...   \n",
       "10  The structure of non-term and subscription-bas...   \n",
       "11  In subscription-based programs, as described i...   \n",
       "\n",
       "                        synthesizer_name  \n",
       "0   single_hop_specifc_query_synthesizer  \n",
       "1   single_hop_specifc_query_synthesizer  \n",
       "2   single_hop_specifc_query_synthesizer  \n",
       "3   single_hop_specifc_query_synthesizer  \n",
       "4   multi_hop_abstract_query_synthesizer  \n",
       "5   multi_hop_abstract_query_synthesizer  \n",
       "6   multi_hop_abstract_query_synthesizer  \n",
       "7   multi_hop_abstract_query_synthesizer  \n",
       "8   multi_hop_specific_query_synthesizer  \n",
       "9   multi_hop_specific_query_synthesizer  \n",
       "10  multi_hop_specific_query_synthesizer  \n",
       "11  multi_hop_specific_query_synthesizer  "
      ]
     },
     "execution_count": 167,
     "metadata": {},
     "output_type": "execute_result"
    }
   ],
   "source": [
    "pd_golden_master_dataset.to_pandas().to_csv('golden-masters/pd_golden_master_dataset.csv', index=False)\n",
    "pd_golden_master_dataset.to_pandas()"
   ]
  },
  {
   "cell_type": "code",
   "execution_count": 168,
   "metadata": {},
   "outputs": [
    {
     "data": {
      "application/vnd.jupyter.widget-view+json": {
       "model_id": "4093bfa2c8ff4ee5a91c3e875474fcb7",
       "version_major": 2,
       "version_minor": 0
      },
      "text/plain": [
       "Evaluating:   0%|          | 0/72 [00:00<?, ?it/s]"
      ]
     },
     "metadata": {},
     "output_type": "display_data"
    },
    {
     "name": "stderr",
     "output_type": "stream",
     "text": [
      "Exception raised in Job[11]: ValueError(zero-size array to reduction operation maximum which has no identity)\n",
      "Exception raised in Job[5]: ValueError(zero-size array to reduction operation maximum which has no identity)\n",
      "Exception raised in Job[53]: ValueError(zero-size array to reduction operation maximum which has no identity)\n",
      "Exception raised in Job[65]: ValueError(zero-size array to reduction operation maximum which has no identity)\n",
      "Exception raised in Job[71]: ValueError(zero-size array to reduction operation maximum which has no identity)\n",
      "Exception raised in Job[29]: TimeoutError()\n",
      "Exception raised in Job[47]: TimeoutError()\n"
     ]
    },
    {
     "name": "stdout",
     "output_type": "stream",
     "text": [
      "CPU times: user 11.6 s, sys: 1.53 s, total: 13.1 s\n",
      "Wall time: 6min 56s\n"
     ]
    }
   ],
   "source": [
    "%%time\n",
    "pd_evaluation_dataset = EvaluationDataset.from_pandas(pd_golden_master_dataset.to_pandas())\n",
    "\n",
    "evaluator_llm = LangchainLLMWrapper(\n",
    "    ChatOpenAI(\n",
    "        model=\"gpt-4.1-mini\",\n",
    "        temperature=0, # Lower temperature for more consistent outputs\n",
    "        request_timeout=120   # Longer timeout for complex operations\n",
    "    )\n",
    ")\n",
    "\n",
    "custom_run_config = RunConfig(timeout=360)\n",
    "\n",
    "pd_result = evaluate(\n",
    "    dataset=pd_evaluation_dataset,\n",
    "    metrics=[LLMContextRecall(), Faithfulness(), FactualCorrectness(), ResponseRelevancy(), \n",
    "             ContextEntityRecall(), NoiseSensitivity()],\n",
    "    llm=evaluator_llm,\n",
    "    token_usage_parser=get_token_usage_for_openai,\n",
    "    run_config=custom_run_config\n",
    ")"
   ]
  },
  {
   "cell_type": "code",
   "execution_count": 169,
   "metadata": {},
   "outputs": [],
   "source": [
    "pd_raw_stats_df = pd.DataFrame([extract_ragas_metrics(pd_result, 'gpt-4.1-mini')])\n",
    "record_metrics_from_run('Parent Document', pd_raw_stats_df)"
   ]
  },
  {
   "cell_type": "code",
   "execution_count": 171,
   "metadata": {
    "scrolled": true
   },
   "outputs": [
    {
     "data": {
      "text/html": [
       "<div>\n",
       "<style scoped>\n",
       "    .dataframe tbody tr th:only-of-type {\n",
       "        vertical-align: middle;\n",
       "    }\n",
       "\n",
       "    .dataframe tbody tr th {\n",
       "        vertical-align: top;\n",
       "    }\n",
       "\n",
       "    .dataframe thead th {\n",
       "        text-align: right;\n",
       "    }\n",
       "</style>\n",
       "<table border=\"1\" class=\"dataframe\">\n",
       "  <thead>\n",
       "    <tr style=\"text-align: right;\">\n",
       "      <th></th>\n",
       "      <th>datetime</th>\n",
       "      <th>retriever</th>\n",
       "      <th>context_recall</th>\n",
       "      <th>faithfulness</th>\n",
       "      <th>factual_correctness</th>\n",
       "      <th>answer_relevancy</th>\n",
       "      <th>context_entity_recall</th>\n",
       "      <th>noise_sensitivity_relevant</th>\n",
       "    </tr>\n",
       "  </thead>\n",
       "  <tbody>\n",
       "    <tr>\n",
       "      <th>0</th>\n",
       "      <td>2025-08-02 02:04:48</td>\n",
       "      <td>Naive</td>\n",
       "      <td>0.350694</td>\n",
       "      <td>0.613633</td>\n",
       "      <td>0.415833</td>\n",
       "      <td>0.549343</td>\n",
       "      <td>0.248621</td>\n",
       "      <td>0.153720</td>\n",
       "    </tr>\n",
       "    <tr>\n",
       "      <th>1</th>\n",
       "      <td>2025-08-02 02:06:59</td>\n",
       "      <td>Naive</td>\n",
       "      <td>0.238095</td>\n",
       "      <td>0.582634</td>\n",
       "      <td>0.372500</td>\n",
       "      <td>0.545608</td>\n",
       "      <td>0.166618</td>\n",
       "      <td>0.144066</td>\n",
       "    </tr>\n",
       "    <tr>\n",
       "      <th>2</th>\n",
       "      <td>2025-08-02 02:16:40</td>\n",
       "      <td>Contextual Compression</td>\n",
       "      <td>0.332837</td>\n",
       "      <td>0.607332</td>\n",
       "      <td>0.399167</td>\n",
       "      <td>0.555507</td>\n",
       "      <td>0.183947</td>\n",
       "      <td>0.178819</td>\n",
       "    </tr>\n",
       "    <tr>\n",
       "      <th>3</th>\n",
       "      <td>2025-08-02 02:18:48</td>\n",
       "      <td>Contextual Compression</td>\n",
       "      <td>0.236111</td>\n",
       "      <td>0.523480</td>\n",
       "      <td>0.371667</td>\n",
       "      <td>0.780958</td>\n",
       "      <td>0.127679</td>\n",
       "      <td>0.258818</td>\n",
       "    </tr>\n",
       "    <tr>\n",
       "      <th>4</th>\n",
       "      <td>2025-08-02 02:20:57</td>\n",
       "      <td>MultiQuery</td>\n",
       "      <td>0.150794</td>\n",
       "      <td>0.358812</td>\n",
       "      <td>0.283333</td>\n",
       "      <td>0.314659</td>\n",
       "      <td>0.094969</td>\n",
       "      <td>0.000000</td>\n",
       "    </tr>\n",
       "    <tr>\n",
       "      <th>5</th>\n",
       "      <td>2025-08-02 02:35:38</td>\n",
       "      <td>MultiQuery</td>\n",
       "      <td>0.154762</td>\n",
       "      <td>0.353284</td>\n",
       "      <td>0.380000</td>\n",
       "      <td>0.234008</td>\n",
       "      <td>0.081878</td>\n",
       "      <td>0.110624</td>\n",
       "    </tr>\n",
       "    <tr>\n",
       "      <th>6</th>\n",
       "      <td>2025-08-02 02:54:31</td>\n",
       "      <td>Parent Document</td>\n",
       "      <td>0.134425</td>\n",
       "      <td>0.371834</td>\n",
       "      <td>0.312500</td>\n",
       "      <td>0.310042</td>\n",
       "      <td>0.085646</td>\n",
       "      <td>0.052857</td>\n",
       "    </tr>\n",
       "  </tbody>\n",
       "</table>\n",
       "</div>"
      ],
      "text/plain": [
       "              datetime               retriever  context_recall  faithfulness  \\\n",
       "0  2025-08-02 02:04:48                   Naive        0.350694      0.613633   \n",
       "1  2025-08-02 02:06:59                   Naive        0.238095      0.582634   \n",
       "2  2025-08-02 02:16:40  Contextual Compression        0.332837      0.607332   \n",
       "3  2025-08-02 02:18:48  Contextual Compression        0.236111      0.523480   \n",
       "4  2025-08-02 02:20:57              MultiQuery        0.150794      0.358812   \n",
       "5  2025-08-02 02:35:38              MultiQuery        0.154762      0.353284   \n",
       "6  2025-08-02 02:54:31         Parent Document        0.134425      0.371834   \n",
       "\n",
       "   factual_correctness  answer_relevancy  context_entity_recall  \\\n",
       "0             0.415833          0.549343               0.248621   \n",
       "1             0.372500          0.545608               0.166618   \n",
       "2             0.399167          0.555507               0.183947   \n",
       "3             0.371667          0.780958               0.127679   \n",
       "4             0.283333          0.314659               0.094969   \n",
       "5             0.380000          0.234008               0.081878   \n",
       "6             0.312500          0.310042               0.085646   \n",
       "\n",
       "   noise_sensitivity_relevant  \n",
       "0                    0.153720  \n",
       "1                    0.144066  \n",
       "2                    0.178819  \n",
       "3                    0.258818  \n",
       "4                    0.000000  \n",
       "5                    0.110624  \n",
       "6                    0.052857  "
      ]
     },
     "execution_count": 171,
     "metadata": {},
     "output_type": "execute_result"
    }
   ],
   "source": [
    "collected_df = pd.read_csv('ragas-evaluation-metrics.csv')\n",
    "collected_df"
   ]
  },
  {
   "cell_type": "code",
   "execution_count": 193,
   "metadata": {},
   "outputs": [
    {
     "name": "stderr",
     "output_type": "stream",
     "text": [
      "/home/AIE7-Cert-Challenge/.venv/lib/python3.13/site-packages/IPython/core/pylabtools.py:170: UserWarning: Glyph 128202 (\\N{BAR CHART}) missing from font(s) DejaVu Sans.\n",
      "  fig.canvas.print_figure(bytes_io, **kw)\n"
     ]
    },
    {
     "data": {
      "image/png": "[encoded data removed]",
      "text/plain": [
       "<Figure size 1000x600 with 2 Axes>"
      ]
     },
     "metadata": {},
     "output_type": "display_data"
    },
    {
     "data": {
      "text/plain": [
       "<module 'visualize_retriever_performance' from '/home/AIE7-Cert-Challenge/visualize_retriever_performance.py'>"
      ]
     },
     "execution_count": 193,
     "metadata": {},
     "output_type": "execute_result"
    }
   ],
   "source": [
    "import visualize_retriever_performance\n",
    "importlib.reload(visualize_retriever_performance)"
   ]
  },
  {
   "cell_type": "code",
   "execution_count": null,
   "metadata": {},
   "outputs": [],
   "source": []
  }
 ],
 "metadata": {
  "colab": {
   "provenance": []
  },
  "kernelspec": {
   "display_name": "Python 3 (ipykernel)",
   "language": "python",
   "name": "python3"
  },
  "language_info": {
   "codemirror_mode": {
    "name": "ipython",
    "version": 3
   },
   "file_extension": ".py",
   "mimetype": "text/x-python",
   "name": "python",
   "nbconvert_exporter": "python",
   "pygments_lexer": "ipython3",
   "version": "3.13.5"
  }
 },
 "nbformat": 4,
 "nbformat_minor": 4
}
